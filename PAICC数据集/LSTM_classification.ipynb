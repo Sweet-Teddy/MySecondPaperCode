{
 "cells": [
  {
   "cell_type": "code",
   "execution_count": 1,
   "id": "pregnant-reward",
   "metadata": {},
   "outputs": [],
   "source": [
    "import pandas as pd\n",
    "import matplotlib.pyplot as plt\n",
    "import numpy as np\n",
    "import tensorflow as tf\n",
    "\n",
    "from tensorflow import keras\n",
    "from numpy import *\n",
    "from math import sqrt\n",
    "from pandas import *\n",
    "from datetime import datetime, timedelta\n",
    "\n",
    "from sklearn.preprocessing import LabelEncoder, MinMaxScaler\n",
    "from sklearn.preprocessing import OneHotEncoder\n",
    "from sklearn.metrics import mean_squared_error\n",
    "from sklearn.metrics import confusion_matrix\n",
    "\n",
    "from tensorflow.keras.models import Sequential\n",
    "from tensorflow.keras.layers import Dense, Dropout, Bidirectional, Activation\n",
    "from tensorflow.keras.layers import BatchNormalization, Embedding, TimeDistributed, LeakyReLU\n",
    "from tensorflow.keras.layers import LSTM, GRU\n",
    "from tensorflow.keras.optimizers import Adam\n",
    "from sklearn.metrics import classification_report\n",
    "from sklearn import metrics as ms\n",
    "from tensorflow.keras import regularizers\n",
    "\n",
    "from matplotlib import pyplot\n",
    "from pickle import load\n",
    "from sklearn import metrics as ms\n",
    "from sklearn.metrics import confusion_matrix,accuracy_score, average_precision_score, f1_score, recall_score\n",
    "\n",
    "# X_train = np.load(\"./saveData/IBM/X_train.npy\", allow_pickle=True)\n",
    "# y_train = np.load(\"./saveData/IBM/y_train.npy\", allow_pickle=True)\n",
    "# X_test = np.load(\"./saveData/IBM/X_test.npy\", allow_pickle=True)\n",
    "# y_test = np.load(\"./saveData/IBM/y_test.npy\", allow_pickle=True)\n",
    "# X_val = np.load(\"./saveData/IBM/X_val.npy\", allow_pickle=True)\n",
    "# y_val = np.load(\"./saveData/IBM/y_val.npy\", allow_pickle=True)\n",
    "\n",
    "# X_train = np.load(\"./saveData/TSLA/X_train.npy\", allow_pickle=True)\n",
    "# y_train = np.load(\"./saveData/TSLA/y_train.npy\", allow_pickle=True)\n",
    "# X_test = np.load(\"./saveData/TSLA/X_test.npy\", allow_pickle=True)\n",
    "# y_test = np.load(\"./saveData/TSLA/y_test.npy\", allow_pickle=True)\n",
    "# X_val = np.load(\"./saveData/TSLA/X_val.npy\", allow_pickle=True)\n",
    "# y_val = np.load(\"./saveData/TSLA/y_val.npy\", allow_pickle=True)\n",
    "\n",
    "# X_train = np.load(\"./saveData/S&P500/X_train.npy\", allow_pickle=True)\n",
    "# y_train = np.load(\"./saveData/S&P500/y_train.npy\", allow_pickle=True)\n",
    "# X_test = np.load(\"./saveData/S&P500/X_test.npy\", allow_pickle=True)\n",
    "# y_test = np.load(\"./saveData/S&P500/y_test.npy\", allow_pickle=True)\n",
    "# X_val = np.load(\"./saveData/S&P500/X_val.npy\", allow_pickle=True)\n",
    "# y_val = np.load(\"./saveData/S&P500/y_val.npy\", allow_pickle=True)\n",
    "\n",
    "X_train = np.load(\"./saveData/PAICC/X_train.npy\", allow_pickle=True)\n",
    "y_train = np.load(\"./saveData/PAICC/y_train.npy\", allow_pickle=True)\n",
    "X_test = np.load(\"./saveData/PAICC/X_test.npy\", allow_pickle=True)\n",
    "y_test = np.load(\"./saveData/PAICC/y_test.npy\", allow_pickle=True)\n",
    "X_val = np.load(\"./saveData/PAICC/X_val.npy\", allow_pickle=True)\n",
    "y_val = np.load(\"./saveData/PAICC/y_val.npy\", allow_pickle=True)\n",
    "\n",
    "# X_train = np.load(\"./saveData/X_train.npy\", allow_pickle=True)\n",
    "# y_train = np.load(\"./saveData/y_train.npy\", allow_pickle=True)\n",
    "# X_test = np.load(\"./saveData/X_test.npy\", allow_pickle=True)\n",
    "# y_test = np.load(\"./saveData/y_test.npy\", allow_pickle=True)\n",
    "# X_val = np.load(\"./saveData/X_val.npy\", allow_pickle=True)\n",
    "# y_val = np.load(\"./saveData/y_val.npy\", allow_pickle=True)\n",
    "\n",
    "\n",
    "# X_train = np.load(\"./saveData/MSFT/X_train.npy\", allow_pickle=True)\n",
    "# y_train = np.load(\"./saveData/MSFT/y_train.npy\", allow_pickle=True)\n",
    "# X_test = np.load(\"./saveData/MSFT/X_test.npy\", allow_pickle=True)\n",
    "# y_test = np.load(\"./saveData/MSFT/y_test.npy\", allow_pickle=True)\n",
    "# X_val = np.load(\"./saveData/MSFT/X_val.npy\", allow_pickle=True)\n",
    "# y_val = np.load(\"./saveData/MSFT/y_val.npy\", allow_pickle=True)\n",
    "\n",
    "# X_train = np.load(\"./saveData/SSE/X_train.npy\", allow_pickle=True)\n",
    "# y_train = np.load(\"./saveData/SSE/y_train.npy\", allow_pickle=True)\n",
    "# X_test = np.load(\"./saveData/SSE/X_test.npy\", allow_pickle=True)\n",
    "# y_test = np.load(\"./saveData/SSE/y_test.npy\", allow_pickle=True)\n",
    "# X_val = np.load(\"./saveData/SSE/X_val.npy\", allow_pickle=True)\n",
    "# y_val = np.load(\"./saveData/SSE/y_val.npy\", allow_pickle=True)\n",
    "\n",
    "# X_train = np.load(\"./saveData/IBM/X_train.npy\", allow_pickle=True)\n",
    "# y_train = np.load(\"./saveData/IBM/y_train.npy\", allow_pickle=True)\n",
    "# X_test = np.load(\"./saveData/IBM/X_test.npy\", allow_pickle=True)\n",
    "# y_test = np.load(\"./saveData/IBM/y_test.npy\", allow_pickle=True)\n",
    "# X_val = np.load(\"./saveData/IBM/X_val.npy\", allow_pickle=True)\n",
    "# y_val = np.load(\"./saveData/IBM/y_val.npy\", allow_pickle=True)\n",
    "# yc_train = np.load(\"./saveData/yc_train.npy\", allow_pickle=True)\n",
    "# yc_test = np.load(\"./saveData/yc_test.npy\", allow_pickle=True)"
   ]
  },
  {
   "cell_type": "code",
   "execution_count": 2,
   "id": "graduate-grade",
   "metadata": {},
   "outputs": [
    {
     "data": {
      "text/plain": [
       "array([[0, 1, 0],\n",
       "       [0, 0, 1],\n",
       "       [0, 1, 0],\n",
       "       ...,\n",
       "       [0, 0, 1],\n",
       "       [1, 0, 0],\n",
       "       [1, 0, 0]])"
      ]
     },
     "execution_count": 2,
     "metadata": {},
     "output_type": "execute_result"
    }
   ],
   "source": [
    "y_train"
   ]
  },
  {
   "cell_type": "code",
   "execution_count": 3,
   "id": "driven-couple",
   "metadata": {},
   "outputs": [
    {
     "name": "stdout",
     "output_type": "stream",
     "text": [
      "{'跌': 1040, '涨': 1040, '平': 607}\n"
     ]
    }
   ],
   "source": [
    "dict_count = {}\n",
    "dict_count['跌']=0\n",
    "dict_count['涨']=0\n",
    "dict_count['平']=0\n",
    "for i in range(len(y_train)):\n",
    "    if(y_train[i][0] ==1):\n",
    "        dict_count['跌'] += 1\n",
    "    if(y_train[i][1] == 1):\n",
    "        dict_count['平'] += 1\n",
    "    if(y_train[i][2] == 1):\n",
    "        dict_count['涨'] += 1\n",
    "print(dict_count)"
   ]
  },
  {
   "cell_type": "code",
   "execution_count": 4,
   "id": "demonstrated-prison",
   "metadata": {},
   "outputs": [
    {
     "name": "stdout",
     "output_type": "stream",
     "text": [
      "{'跌': 114, '涨': 112, '平': 34}\n"
     ]
    }
   ],
   "source": [
    "dict_count = {}\n",
    "dict_count['跌']=0\n",
    "dict_count['涨']=0\n",
    "dict_count['平']=0\n",
    "for i in range(len(y_val)):\n",
    "    if(y_val[i][0] ==1):\n",
    "        dict_count['跌'] += 1\n",
    "    if(y_val[i][1] == 1):\n",
    "        dict_count['平'] += 1\n",
    "    if(y_val[i][2] == 1):\n",
    "        dict_count['涨'] += 1\n",
    "print(dict_count)"
   ]
  },
  {
   "cell_type": "code",
   "execution_count": 5,
   "id": "military-oriental",
   "metadata": {},
   "outputs": [
    {
     "name": "stdout",
     "output_type": "stream",
     "text": [
      "{'跌': 230, '涨': 224, '平': 66}\n"
     ]
    }
   ],
   "source": [
    "dict_count = {}\n",
    "dict_count['跌']=0\n",
    "dict_count['涨']=0\n",
    "dict_count['平']=0\n",
    "for i in range(len(y_test)):\n",
    "    if(y_test[i][0] ==1):\n",
    "        dict_count['跌'] += 1\n",
    "    if(y_test[i][1] == 1):\n",
    "        dict_count['平'] += 1\n",
    "    if(y_test[i][2] == 1):\n",
    "        dict_count['涨'] += 1\n",
    "print(dict_count)"
   ]
  },
  {
   "cell_type": "code",
   "execution_count": null,
   "id": "spectacular-bathroom",
   "metadata": {},
   "outputs": [],
   "source": []
  },
  {
   "cell_type": "code",
   "execution_count": 6,
   "id": "recreational-pension",
   "metadata": {},
   "outputs": [
    {
     "data": {
      "text/plain": [
       "{'跌': 230, '涨': 224, '平': 66}"
      ]
     },
     "execution_count": 6,
     "metadata": {},
     "output_type": "execute_result"
    }
   ],
   "source": [
    "dict_count"
   ]
  },
  {
   "cell_type": "code",
   "execution_count": 7,
   "id": "elegant-bouquet",
   "metadata": {},
   "outputs": [
    {
     "data": {
      "text/plain": [
       "3"
      ]
     },
     "execution_count": 7,
     "metadata": {},
     "output_type": "execute_result"
    }
   ],
   "source": [
    "y_train.shape[1]"
   ]
  },
  {
   "cell_type": "code",
   "execution_count": 8,
   "id": "average-appliance",
   "metadata": {},
   "outputs": [],
   "source": [
    "# X_train = X_train[0:5001]\n",
    "# y_train = y_train[0:5001]\n",
    "# X_test = X_test[0:5001]\n",
    "# y_test = y_test[0:5001]\n",
    "# X_val = X_val[0:5001]\n",
    "# y_val = y_val[0:5001]"
   ]
  },
  {
   "cell_type": "code",
   "execution_count": 9,
   "id": "threatened-neutral",
   "metadata": {},
   "outputs": [],
   "source": [
    "from keras.callbacks import ReduceLROnPlateau, EarlyStopping\n",
    "min_delta_val = 0.0001\n",
    "lr_cb = ReduceLROnPlateau(monitor = 'val_loss',  \n",
    "                          factor = 0.5, min_delta = min_delta_val, patience = 10, verbose = 1)\n",
    "es_cb = EarlyStopping(monitor = 'accuracy', \n",
    "                      min_delta=min_delta_val, patience = 30, verbose = 1, restore_best_weights = True, mode='max')\n",
    "\n",
    "callbacks_model = [lr_cb, es_cb]\n"
   ]
  },
  {
   "cell_type": "code",
   "execution_count": 10,
   "id": "voluntary-emerald",
   "metadata": {},
   "outputs": [],
   "source": [
    "\n",
    "\n",
    "#Parameters\n",
    "LR = 0.001\n",
    "BATCH_SIZE = 60\n",
    "N_EPOCH = 1000\n",
    "dropout = 0.2\n",
    "input_dim = X_train.shape[1]\n",
    "feature_size = X_train.shape[2]\n",
    "#做3分类\n",
    "output_dim = y_train.shape[1]\n",
    "\n",
    "#output_dim = 3\n",
    "\n",
    "# METRICS = [\n",
    "#       keras.metrics.TruePositives(name='tp'),\n",
    "#       keras.metrics.FalsePositives(name='fp'),\n",
    "#       keras.metrics.TrueNegatives(name='tn'),\n",
    "#       keras.metrics.FalseNegatives(name='fn'), \n",
    "#       keras.metrics.CategoricalAccuracy(name='accuracy'),\n",
    "#       keras.metrics.Precision(name='precision'),\n",
    "#       keras.metrics.Recall(name='recall'),\n",
    "#       keras.metrics.AUC(name='auc'),\n",
    "#       keras.metrics.AUC(name='prc', curve='PR'), # precision-recall curve\n",
    "# ]\n",
    "\n",
    "METRICS = [\n",
    "      keras.metrics.TruePositives(name='tp'),\n",
    "      keras.metrics.FalsePositives(name='fp'),\n",
    "      keras.metrics.TrueNegatives(name='tn'),\n",
    "      keras.metrics.FalseNegatives(name='fn'), \n",
    "      keras.metrics.CategoricalAccuracy(name='accuracy'),\n",
    "      keras.metrics.Precision(name='precision'),\n",
    "      keras.metrics.Recall(name='recall'),\n",
    "      keras.metrics.AUC(name='auc'),\n",
    "      keras.metrics.AUC(name='prc', curve='PR'), # precision-recall curve\n",
    "]\n",
    "\n",
    "def basic_lstm(input_dim, feature_size):\n",
    "    print(\"model dim: \", input_dim, output_dim)\n",
    "    model = Sequential()\n",
    "    model.add(LSTM(128, return_sequences=True, input_shape=(input_dim,feature_size), batch_size=None))\n",
    "    #model.add(tf.keras.layers.GaussianNoise(stddev=0.2))\n",
    "    model.add(LSTM(64, return_sequences=True))\n",
    "    model.add(Dropout(dropout))\n",
    "    model.add(LSTM(64))\n",
    "    model.add(Dropout(dropout))\n",
    "    model.add(Dense(output_dim, activation='softmax'))\n",
    "    #model.add(Activation('softmax'))\n",
    "    \n",
    "    model.compile(loss='categorical_crossentropy', optimizer=Adam(lr = LR),metrics=METRICS)\n",
    "#     model = Sequential()\n",
    "#     model.add(Bidirectional(LSTM(units= 128), input_shape=(input_dim, feature_size)))\n",
    "#     model.add(Dense(64))\n",
    "#     model.add(Dense(units=output_dim,activation='softmax'))\n",
    "#     model.compile(optimizer=Adam(lr = LR), loss='mse')\n",
    "    history = model.fit(X_train, y_train, epochs=N_EPOCH, batch_size=BATCH_SIZE, validation_data=(X_val, y_val),\n",
    "                        verbose=1, shuffle=False , callbacks=callbacks_model)\n",
    "    #, callbacks=callbacks_model\n",
    "\n",
    "    pyplot.plot(history.history['loss'], label='train')\n",
    "    pyplot.plot(history.history['val_loss'], label='validation')\n",
    "    pyplot.legend()\n",
    "    pyplot.show()\n",
    "    return model,history\n",
    "\n",
    "\n",
    "\n"
   ]
  },
  {
   "cell_type": "code",
   "execution_count": 11,
   "id": "cooperative-tourism",
   "metadata": {},
   "outputs": [
    {
     "data": {
      "text/plain": [
       "(2687, 30, 12)"
      ]
     },
     "execution_count": 11,
     "metadata": {},
     "output_type": "execute_result"
    }
   ],
   "source": [
    "X_train.shape"
   ]
  },
  {
   "cell_type": "code",
   "execution_count": 12,
   "id": "endangered-awareness",
   "metadata": {},
   "outputs": [
    {
     "data": {
      "text/plain": [
       "(2687, 3)"
      ]
     },
     "execution_count": 12,
     "metadata": {},
     "output_type": "execute_result"
    }
   ],
   "source": [
    "y_train.shape"
   ]
  },
  {
   "cell_type": "code",
   "execution_count": 13,
   "id": "unlike-pleasure",
   "metadata": {},
   "outputs": [
    {
     "data": {
      "text/plain": [
       "(260, 30, 12)"
      ]
     },
     "execution_count": 13,
     "metadata": {},
     "output_type": "execute_result"
    }
   ],
   "source": [
    "X_val.shape"
   ]
  },
  {
   "cell_type": "code",
   "execution_count": 14,
   "id": "engaged-listening",
   "metadata": {},
   "outputs": [
    {
     "data": {
      "text/plain": [
       "(260, 3)"
      ]
     },
     "execution_count": 14,
     "metadata": {},
     "output_type": "execute_result"
    }
   ],
   "source": [
    "y_val.shape"
   ]
  },
  {
   "cell_type": "code",
   "execution_count": 15,
   "id": "wooden-scheme",
   "metadata": {},
   "outputs": [
    {
     "data": {
      "text/plain": [
       "array([[0, 1, 0],\n",
       "       [0, 0, 1],\n",
       "       [0, 1, 0],\n",
       "       ...,\n",
       "       [0, 0, 1],\n",
       "       [1, 0, 0],\n",
       "       [1, 0, 0]])"
      ]
     },
     "execution_count": 15,
     "metadata": {},
     "output_type": "execute_result"
    }
   ],
   "source": [
    "y_train"
   ]
  },
  {
   "cell_type": "code",
   "execution_count": 16,
   "id": "sharing-component",
   "metadata": {},
   "outputs": [
    {
     "data": {
      "text/plain": [
       "array([[[-0.99838188, -0.99893617, -0.9994429 , ..., -0.99343362,\n",
       "         -0.99877139, -0.9991334 ],\n",
       "        [-1.        , -1.        , -1.        , ..., -0.99355887,\n",
       "         -0.9994742 , -0.99950901],\n",
       "        [-0.99892125, -1.        , -1.        , ..., -0.99404034,\n",
       "         -0.99980519, -1.        ],\n",
       "        ...,\n",
       "        [-0.99406688, -0.99414894, -0.99442897, ..., -0.99804901,\n",
       "         -0.99316258, -0.99412391],\n",
       "        [-0.99406688, -0.99148936, -0.99442897, ..., -0.99780903,\n",
       "         -0.99308777, -0.99235234],\n",
       "        [-0.99190939, -0.99095745, -0.99275766, ..., -0.99720233,\n",
       "         -0.99315325, -0.99103024]],\n",
       "\n",
       "       [[-1.        , -1.        , -1.        , ..., -0.99355887,\n",
       "         -0.9994742 , -0.99950901],\n",
       "        [-0.99892125, -1.        , -1.        , ..., -0.99404034,\n",
       "         -0.99980519, -1.        ],\n",
       "        [-1.        , -1.        , -1.        , ..., -0.99483489,\n",
       "         -1.        , -0.99979787],\n",
       "        ...,\n",
       "        [-0.99406688, -0.99148936, -0.99442897, ..., -0.99780903,\n",
       "         -0.99308777, -0.99235234],\n",
       "        [-0.99190939, -0.99095745, -0.99275766, ..., -0.99720233,\n",
       "         -0.99315325, -0.99103024],\n",
       "        [-0.99029126, -0.99148936, -0.99164345, ..., -0.99700628,\n",
       "         -0.99296399, -0.99132112]],\n",
       "\n",
       "       [[-0.99892125, -1.        , -1.        , ..., -0.99404034,\n",
       "         -0.99980519, -1.        ],\n",
       "        [-1.        , -1.        , -1.        , ..., -0.99483489,\n",
       "         -1.        , -0.99979787],\n",
       "        [-0.99946063, -0.99680851, -0.9994429 , ..., -0.99566592,\n",
       "         -0.99972298, -0.99716998],\n",
       "        ...,\n",
       "        [-0.99190939, -0.99095745, -0.99275766, ..., -0.99720233,\n",
       "         -0.99315325, -0.99103024],\n",
       "        [-0.99029126, -0.99148936, -0.99164345, ..., -0.99700628,\n",
       "         -0.99296399, -0.99132112],\n",
       "        [-0.99137001, -0.9856383 , -0.99164345, ..., -0.99494799,\n",
       "         -0.99424386, -0.98702861]],\n",
       "\n",
       "       ...,\n",
       "\n",
       "       [[-0.2837109 , -0.27553186, -0.26573819, ..., -0.18280621,\n",
       "         -0.25325926, -0.26424857],\n",
       "        [-0.26429338, -0.26382975, -0.26016716, ..., -0.19961768,\n",
       "         -0.24589885, -0.26768213],\n",
       "        [-0.27508086, -0.2797872 , -0.27019503, ..., -0.21849462,\n",
       "         -0.2355398 , -0.26663189],\n",
       "        ...,\n",
       "        [-0.17907232, -0.17765956, -0.15320339, ..., -0.15775389,\n",
       "         -0.15520668, -0.15253509],\n",
       "        [-0.15426106, -0.1606383 , -0.13314764, ..., -0.15203241,\n",
       "         -0.15299874, -0.14704438],\n",
       "        [-0.14778859, -0.14255313, -0.12980509, ..., -0.1481965 ,\n",
       "         -0.14801079, -0.14301937]],\n",
       "\n",
       "       [[-0.26429338, -0.26382975, -0.26016716, ..., -0.19961768,\n",
       "         -0.24589885, -0.26768213],\n",
       "        [-0.27508086, -0.2797872 , -0.27019503, ..., -0.21849462,\n",
       "         -0.2355398 , -0.26663189],\n",
       "        [-0.27292341, -0.28297873, -0.264624  , ..., -0.23872062,\n",
       "         -0.22354132, -0.26847657],\n",
       "        ...,\n",
       "        [-0.15426106, -0.1606383 , -0.13314764, ..., -0.15203241,\n",
       "         -0.15299874, -0.14704438],\n",
       "        [-0.14778859, -0.14255313, -0.12980509, ..., -0.1481965 ,\n",
       "         -0.14801079, -0.14301937],\n",
       "        [-0.15749735, -0.15531915, -0.1442897 , ..., -0.14567398,\n",
       "         -0.13910599, -0.13728825]],\n",
       "\n",
       "       [[-0.27508086, -0.2797872 , -0.27019503, ..., -0.21849462,\n",
       "         -0.2355398 , -0.26663189],\n",
       "        [-0.27292341, -0.28297873, -0.264624  , ..., -0.23872062,\n",
       "         -0.22354132, -0.26847657],\n",
       "        [-0.26645094, -0.2585106 , -0.26350982, ..., -0.25253238,\n",
       "         -0.2164062 , -0.25811779],\n",
       "        ...,\n",
       "        [-0.14778859, -0.14255313, -0.12980509, ..., -0.1481965 ,\n",
       "         -0.14801079, -0.14301937],\n",
       "        [-0.15749735, -0.15531915, -0.1442897 , ..., -0.14567398,\n",
       "         -0.13910599, -0.13728825],\n",
       "        [-0.1370011 , -0.15      , -0.13314764, ..., -0.14458008,\n",
       "         -0.12773219, -0.1383042 ]]])"
      ]
     },
     "execution_count": 16,
     "metadata": {},
     "output_type": "execute_result"
    }
   ],
   "source": [
    "X_train\n"
   ]
  },
  {
   "cell_type": "code",
   "execution_count": null,
   "id": "received-swing",
   "metadata": {},
   "outputs": [],
   "source": []
  },
  {
   "cell_type": "code",
   "execution_count": 17,
   "id": "solid-decision",
   "metadata": {
    "scrolled": true
   },
   "outputs": [
    {
     "name": "stdout",
     "output_type": "stream",
     "text": [
      "model dim:  30 3\n",
      "Epoch 1/1000\n",
      "45/45 [==============================] - 6s 134ms/step - loss: 1.0967 - tp: 469.0000 - fp: 624.0000 - tn: 4750.0000 - fn: 2218.0000 - accuracy: 0.4138 - precision: 0.4291 - recall: 0.1745 - auc: 0.6175 - prc: 0.4133 - val_loss: 1.0161 - val_tp: 0.0000e+00 - val_fp: 0.0000e+00 - val_tn: 520.0000 - val_fn: 260.0000 - val_accuracy: 0.4731 - val_precision: 0.0000e+00 - val_recall: 0.0000e+00 - val_auc: 0.6711 - val_prc: 0.4490\n",
      "Epoch 2/1000\n",
      "45/45 [==============================] - 3s 64ms/step - loss: 1.0941 - tp: 200.0000 - fp: 354.0000 - tn: 5020.0000 - fn: 2487.0000 - accuracy: 0.3532 - precision: 0.3610 - recall: 0.0744 - auc: 0.5744 - prc: 0.3718 - val_loss: 0.9978 - val_tp: 0.0000e+00 - val_fp: 0.0000e+00 - val_tn: 520.0000 - val_fn: 260.0000 - val_accuracy: 0.4308 - val_precision: 0.0000e+00 - val_recall: 0.0000e+00 - val_auc: 0.6604 - val_prc: 0.4484\n",
      "Epoch 3/1000\n",
      "45/45 [==============================] - 3s 69ms/step - loss: 1.1144 - tp: 136.0000 - fp: 271.0000 - tn: 5103.0000 - fn: 2551.0000 - accuracy: 0.3435 - precision: 0.3342 - recall: 0.0506 - auc: 0.5456 - prc: 0.3530 - val_loss: 0.9926 - val_tp: 0.0000e+00 - val_fp: 0.0000e+00 - val_tn: 520.0000 - val_fn: 260.0000 - val_accuracy: 0.4308 - val_precision: 0.0000e+00 - val_recall: 0.0000e+00 - val_auc: 0.6615 - val_prc: 0.4453\n",
      "Epoch 4/1000\n",
      "45/45 [==============================] - 3s 70ms/step - loss: 1.1085 - tp: 62.0000 - fp: 108.0000 - tn: 5266.0000 - fn: 2625.0000 - accuracy: 0.3796 - precision: 0.3647 - recall: 0.0231 - auc: 0.5576 - prc: 0.3676 - val_loss: 0.9933 - val_tp: 0.0000e+00 - val_fp: 0.0000e+00 - val_tn: 520.0000 - val_fn: 260.0000 - val_accuracy: 0.4615 - val_precision: 0.0000e+00 - val_recall: 0.0000e+00 - val_auc: 0.6740 - val_prc: 0.4593\n",
      "Epoch 5/1000\n",
      "45/45 [==============================] - 3s 67ms/step - loss: 1.0958 - tp: 51.0000 - fp: 85.0000 - tn: 5289.0000 - fn: 2636.0000 - accuracy: 0.3684 - precision: 0.3750 - recall: 0.0190 - auc: 0.5619 - prc: 0.3689 - val_loss: 0.9924 - val_tp: 0.0000e+00 - val_fp: 0.0000e+00 - val_tn: 520.0000 - val_fn: 260.0000 - val_accuracy: 0.4385 - val_precision: 0.0000e+00 - val_recall: 0.0000e+00 - val_auc: 0.6538 - val_prc: 0.4294\n",
      "Epoch 6/1000\n",
      "45/45 [==============================] - 3s 63ms/step - loss: 1.1214 - tp: 4.0000 - fp: 13.0000 - tn: 5361.0000 - fn: 2683.0000 - accuracy: 0.3960 - precision: 0.2353 - recall: 0.0015 - auc: 0.5396 - prc: 0.3533 - val_loss: 1.0142 - val_tp: 0.0000e+00 - val_fp: 0.0000e+00 - val_tn: 520.0000 - val_fn: 260.0000 - val_accuracy: 0.4385 - val_precision: 0.0000e+00 - val_recall: 0.0000e+00 - val_auc: 0.6582 - val_prc: 0.4412\n",
      "Epoch 7/1000\n",
      "45/45 [==============================] - 3s 65ms/step - loss: 1.0897 - tp: 0.0000e+00 - fp: 0.0000e+00 - tn: 5374.0000 - fn: 2687.0000 - accuracy: 0.3964 - precision: 0.0000e+00 - recall: 0.0000e+00 - auc: 0.5631 - prc: 0.3810 - val_loss: 1.0169 - val_tp: 0.0000e+00 - val_fp: 0.0000e+00 - val_tn: 520.0000 - val_fn: 260.0000 - val_accuracy: 0.4385 - val_precision: 0.0000e+00 - val_recall: 0.0000e+00 - val_auc: 0.6592 - val_prc: 0.4395\n",
      "Epoch 8/1000\n",
      "45/45 [==============================] - 4s 80ms/step - loss: 1.0827 - tp: 0.0000e+00 - fp: 0.0000e+00 - tn: 5374.0000 - fn: 2687.0000 - accuracy: 0.3897 - precision: 0.0000e+00 - recall: 0.0000e+00 - auc: 0.5659 - prc: 0.3766 - val_loss: 1.0095 - val_tp: 0.0000e+00 - val_fp: 0.0000e+00 - val_tn: 520.0000 - val_fn: 260.0000 - val_accuracy: 0.4385 - val_precision: 0.0000e+00 - val_recall: 0.0000e+00 - val_auc: 0.6628 - val_prc: 0.4438\n",
      "Epoch 9/1000\n",
      "45/45 [==============================] - 3s 71ms/step - loss: 1.0832 - tp: 0.0000e+00 - fp: 0.0000e+00 - tn: 5374.0000 - fn: 2687.0000 - accuracy: 0.3956 - precision: 0.0000e+00 - recall: 0.0000e+00 - auc: 0.5601 - prc: 0.3732 - val_loss: 1.0124 - val_tp: 0.0000e+00 - val_fp: 0.0000e+00 - val_tn: 520.0000 - val_fn: 260.0000 - val_accuracy: 0.4385 - val_precision: 0.0000e+00 - val_recall: 0.0000e+00 - val_auc: 0.6644 - val_prc: 0.4467\n",
      "Epoch 10/1000\n",
      "45/45 [==============================] - 3s 73ms/step - loss: 1.0716 - tp: 21.0000 - fp: 18.0000 - tn: 5356.0000 - fn: 2666.0000 - accuracy: 0.3870 - precision: 0.5385 - recall: 0.0078 - auc: 0.5872 - prc: 0.3937 - val_loss: 0.9942 - val_tp: 0.0000e+00 - val_fp: 0.0000e+00 - val_tn: 520.0000 - val_fn: 260.0000 - val_accuracy: 0.4308 - val_precision: 0.0000e+00 - val_recall: 0.0000e+00 - val_auc: 0.6502 - val_prc: 0.4249\n",
      "Epoch 11/1000\n",
      "45/45 [==============================] - 3s 73ms/step - loss: 1.0862 - tp: 2.0000 - fp: 0.0000e+00 - tn: 5374.0000 - fn: 2685.0000 - accuracy: 0.4019 - precision: 1.0000 - recall: 7.4432e-04 - auc: 0.5684 - prc: 0.3731 - val_loss: 1.0086 - val_tp: 0.0000e+00 - val_fp: 0.0000e+00 - val_tn: 520.0000 - val_fn: 260.0000 - val_accuracy: 0.4385 - val_precision: 0.0000e+00 - val_recall: 0.0000e+00 - val_auc: 0.6610 - val_prc: 0.4432\n",
      "Epoch 12/1000\n",
      "45/45 [==============================] - 3s 68ms/step - loss: 1.0576 - tp: 89.0000 - fp: 107.0000 - tn: 5267.0000 - fn: 2598.0000 - accuracy: 0.3781 - precision: 0.4541 - recall: 0.0331 - auc: 0.6053 - prc: 0.4029 - val_loss: 0.9948 - val_tp: 0.0000e+00 - val_fp: 0.0000e+00 - val_tn: 520.0000 - val_fn: 260.0000 - val_accuracy: 0.4385 - val_precision: 0.0000e+00 - val_recall: 0.0000e+00 - val_auc: 0.6636 - val_prc: 0.4428\n",
      "Epoch 13/1000\n",
      "45/45 [==============================] - 3s 70ms/step - loss: 1.0948 - tp: 19.0000 - fp: 19.0000 - tn: 5355.0000 - fn: 2668.0000 - accuracy: 0.4098 - precision: 0.5000 - recall: 0.0071 - auc: 0.5622 - prc: 0.3778 - val_loss: 1.0093 - val_tp: 0.0000e+00 - val_fp: 0.0000e+00 - val_tn: 520.0000 - val_fn: 260.0000 - val_accuracy: 0.4385 - val_precision: 0.0000e+00 - val_recall: 0.0000e+00 - val_auc: 0.6693 - val_prc: 0.4536\n",
      "Epoch 14/1000\n",
      "45/45 [==============================] - 3s 71ms/step - loss: 1.0610 - tp: 88.0000 - fp: 117.0000 - tn: 5257.0000 - fn: 2599.0000 - accuracy: 0.3941 - precision: 0.4293 - recall: 0.0328 - auc: 0.6042 - prc: 0.4019 - val_loss: 0.9980 - val_tp: 0.0000e+00 - val_fp: 0.0000e+00 - val_tn: 520.0000 - val_fn: 260.0000 - val_accuracy: 0.4385 - val_precision: 0.0000e+00 - val_recall: 0.0000e+00 - val_auc: 0.6618 - val_prc: 0.4428\n",
      "Epoch 15/1000\n",
      "45/45 [==============================] - ETA: 0s - loss: 1.0608 - tp: 103.0000 - fp: 120.0000 - tn: 5254.0000 - fn: 2584.0000 - accuracy: 0.4019 - precision: 0.4619 - recall: 0.0383 - auc: 0.6025 - prc: 0.4067\n",
      "Epoch 00015: ReduceLROnPlateau reducing learning rate to 0.0005000000237487257.\n",
      "45/45 [==============================] - 3s 66ms/step - loss: 1.0608 - tp: 103.0000 - fp: 120.0000 - tn: 5254.0000 - fn: 2584.0000 - accuracy: 0.4019 - precision: 0.4619 - recall: 0.0383 - auc: 0.6025 - prc: 0.4067 - val_loss: 0.9941 - val_tp: 0.0000e+00 - val_fp: 0.0000e+00 - val_tn: 520.0000 - val_fn: 260.0000 - val_accuracy: 0.4308 - val_precision: 0.0000e+00 - val_recall: 0.0000e+00 - val_auc: 0.6535 - val_prc: 0.4289\n",
      "Epoch 16/1000\n",
      "45/45 [==============================] - 3s 73ms/step - loss: 1.0285 - tp: 88.0000 - fp: 88.0000 - tn: 5286.0000 - fn: 2599.0000 - accuracy: 0.3971 - precision: 0.5000 - recall: 0.0328 - auc: 0.6352 - prc: 0.4247 - val_loss: 0.9901 - val_tp: 0.0000e+00 - val_fp: 0.0000e+00 - val_tn: 520.0000 - val_fn: 260.0000 - val_accuracy: 0.4385 - val_precision: 0.0000e+00 - val_recall: 0.0000e+00 - val_auc: 0.6646 - val_prc: 0.4474\n",
      "Epoch 17/1000\n",
      "45/45 [==============================] - 3s 67ms/step - loss: 1.0185 - tp: 93.0000 - fp: 108.0000 - tn: 5266.0000 - fn: 2594.0000 - accuracy: 0.3978 - precision: 0.4627 - recall: 0.0346 - auc: 0.6424 - prc: 0.4248 - val_loss: 0.9899 - val_tp: 0.0000e+00 - val_fp: 0.0000e+00 - val_tn: 520.0000 - val_fn: 260.0000 - val_accuracy: 0.4385 - val_precision: 0.0000e+00 - val_recall: 0.0000e+00 - val_auc: 0.6640 - val_prc: 0.4439\n",
      "Epoch 18/1000\n",
      "45/45 [==============================] - 3s 67ms/step - loss: 1.0102 - tp: 99.0000 - fp: 117.0000 - tn: 5257.0000 - fn: 2588.0000 - accuracy: 0.4064 - precision: 0.4583 - recall: 0.0368 - auc: 0.6507 - prc: 0.4350 - val_loss: 0.9894 - val_tp: 0.0000e+00 - val_fp: 0.0000e+00 - val_tn: 520.0000 - val_fn: 260.0000 - val_accuracy: 0.4654 - val_precision: 0.0000e+00 - val_recall: 0.0000e+00 - val_auc: 0.6808 - val_prc: 0.4629\n"
     ]
    },
    {
     "name": "stdout",
     "output_type": "stream",
     "text": [
      "Epoch 19/1000\n",
      "45/45 [==============================] - 3s 68ms/step - loss: 1.0324 - tp: 115.0000 - fp: 136.0000 - tn: 5238.0000 - fn: 2572.0000 - accuracy: 0.4179 - precision: 0.4582 - recall: 0.0428 - auc: 0.6328 - prc: 0.4206 - val_loss: 0.9888 - val_tp: 0.0000e+00 - val_fp: 0.0000e+00 - val_tn: 520.0000 - val_fn: 260.0000 - val_accuracy: 0.4385 - val_precision: 0.0000e+00 - val_recall: 0.0000e+00 - val_auc: 0.6703 - val_prc: 0.4514\n",
      "Epoch 20/1000\n",
      "45/45 [==============================] - 3s 66ms/step - loss: 0.9981 - tp: 148.0000 - fp: 151.0000 - tn: 5223.0000 - fn: 2539.0000 - accuracy: 0.4860 - precision: 0.4950 - recall: 0.0551 - auc: 0.6684 - prc: 0.4482 - val_loss: 0.9891 - val_tp: 0.0000e+00 - val_fp: 0.0000e+00 - val_tn: 520.0000 - val_fn: 260.0000 - val_accuracy: 0.4654 - val_precision: 0.0000e+00 - val_recall: 0.0000e+00 - val_auc: 0.6720 - val_prc: 0.4465\n",
      "Epoch 21/1000\n",
      "45/45 [==============================] - 3s 70ms/step - loss: 0.9846 - tp: 153.0000 - fp: 143.0000 - tn: 5231.0000 - fn: 2534.0000 - accuracy: 0.4834 - precision: 0.5169 - recall: 0.0569 - auc: 0.6845 - prc: 0.4627 - val_loss: 0.9878 - val_tp: 0.0000e+00 - val_fp: 0.0000e+00 - val_tn: 520.0000 - val_fn: 260.0000 - val_accuracy: 0.4654 - val_precision: 0.0000e+00 - val_recall: 0.0000e+00 - val_auc: 0.6804 - val_prc: 0.4601\n",
      "Epoch 22/1000\n",
      "45/45 [==============================] - 3s 69ms/step - loss: 0.9792 - tp: 478.0000 - fp: 378.0000 - tn: 4996.0000 - fn: 2209.0000 - accuracy: 0.4831 - precision: 0.5584 - recall: 0.1779 - auc: 0.6909 - prc: 0.4769 - val_loss: 0.9874 - val_tp: 0.0000e+00 - val_fp: 0.0000e+00 - val_tn: 520.0000 - val_fn: 260.0000 - val_accuracy: 0.5000 - val_precision: 0.0000e+00 - val_recall: 0.0000e+00 - val_auc: 0.6786 - val_prc: 0.4584\n",
      "Epoch 23/1000\n",
      "45/45 [==============================] - 3s 69ms/step - loss: 0.9857 - tp: 410.0000 - fp: 305.0000 - tn: 5069.0000 - fn: 2277.0000 - accuracy: 0.4771 - precision: 0.5734 - recall: 0.1526 - auc: 0.6869 - prc: 0.4853 - val_loss: 0.9874 - val_tp: 0.0000e+00 - val_fp: 0.0000e+00 - val_tn: 520.0000 - val_fn: 260.0000 - val_accuracy: 0.4846 - val_precision: 0.0000e+00 - val_recall: 0.0000e+00 - val_auc: 0.6783 - val_prc: 0.4586\n",
      "Epoch 24/1000\n",
      "45/45 [==============================] - 3s 65ms/step - loss: 1.0023 - tp: 354.0000 - fp: 362.0000 - tn: 5012.0000 - fn: 2333.0000 - accuracy: 0.4522 - precision: 0.4944 - recall: 0.1317 - auc: 0.6720 - prc: 0.4555 - val_loss: 0.9882 - val_tp: 0.0000e+00 - val_fp: 0.0000e+00 - val_tn: 520.0000 - val_fn: 260.0000 - val_accuracy: 0.4538 - val_precision: 0.0000e+00 - val_recall: 0.0000e+00 - val_auc: 0.6783 - val_prc: 0.4612\n",
      "Epoch 25/1000\n",
      "45/45 [==============================] - 3s 63ms/step - loss: 0.9824 - tp: 343.0000 - fp: 203.0000 - tn: 5171.0000 - fn: 2344.0000 - accuracy: 0.4700 - precision: 0.6282 - recall: 0.1277 - auc: 0.6877 - prc: 0.4887 - val_loss: 0.9879 - val_tp: 0.0000e+00 - val_fp: 0.0000e+00 - val_tn: 520.0000 - val_fn: 260.0000 - val_accuracy: 0.4385 - val_precision: 0.0000e+00 - val_recall: 0.0000e+00 - val_auc: 0.6701 - val_prc: 0.4513\n",
      "Epoch 26/1000\n",
      "45/45 [==============================] - 3s 69ms/step - loss: 0.9752 - tp: 462.0000 - fp: 342.0000 - tn: 5032.0000 - fn: 2225.0000 - accuracy: 0.4808 - precision: 0.5746 - recall: 0.1719 - auc: 0.6936 - prc: 0.4883 - val_loss: 0.9875 - val_tp: 0.0000e+00 - val_fp: 0.0000e+00 - val_tn: 520.0000 - val_fn: 260.0000 - val_accuracy: 0.4692 - val_precision: 0.0000e+00 - val_recall: 0.0000e+00 - val_auc: 0.6747 - val_prc: 0.4574\n",
      "Epoch 27/1000\n",
      "45/45 [==============================] - 4s 79ms/step - loss: 0.9740 - tp: 440.0000 - fp: 281.0000 - tn: 5093.0000 - fn: 2247.0000 - accuracy: 0.4790 - precision: 0.6103 - recall: 0.1638 - auc: 0.6956 - prc: 0.5021 - val_loss: 0.9877 - val_tp: 0.0000e+00 - val_fp: 0.0000e+00 - val_tn: 520.0000 - val_fn: 260.0000 - val_accuracy: 0.4500 - val_precision: 0.0000e+00 - val_recall: 0.0000e+00 - val_auc: 0.6718 - val_prc: 0.4542\n",
      "Epoch 28/1000\n",
      "45/45 [==============================] - 3s 72ms/step - loss: 0.9720 - tp: 477.0000 - fp: 337.0000 - tn: 5037.0000 - fn: 2210.0000 - accuracy: 0.4909 - precision: 0.5860 - recall: 0.1775 - auc: 0.6954 - prc: 0.5027 - val_loss: 0.9872 - val_tp: 0.0000e+00 - val_fp: 0.0000e+00 - val_tn: 520.0000 - val_fn: 260.0000 - val_accuracy: 0.4885 - val_precision: 0.0000e+00 - val_recall: 0.0000e+00 - val_auc: 0.6733 - val_prc: 0.4525\n",
      "Epoch 29/1000\n",
      "45/45 [==============================] - 3s 78ms/step - loss: 0.9777 - tp: 331.0000 - fp: 284.0000 - tn: 5090.0000 - fn: 2356.0000 - accuracy: 0.4879 - precision: 0.5382 - recall: 0.1232 - auc: 0.6956 - prc: 0.4805 - val_loss: 0.9876 - val_tp: 0.0000e+00 - val_fp: 0.0000e+00 - val_tn: 520.0000 - val_fn: 260.0000 - val_accuracy: 0.4615 - val_precision: 0.0000e+00 - val_recall: 0.0000e+00 - val_auc: 0.6722 - val_prc: 0.4604\n",
      "Epoch 30/1000\n",
      "45/45 [==============================] - 4s 96ms/step - loss: 0.9675 - tp: 435.0000 - fp: 289.0000 - tn: 5085.0000 - fn: 2252.0000 - accuracy: 0.4879 - precision: 0.6008 - recall: 0.1619 - auc: 0.6972 - prc: 0.5028 - val_loss: 0.9874 - val_tp: 0.0000e+00 - val_fp: 0.0000e+00 - val_tn: 520.0000 - val_fn: 260.0000 - val_accuracy: 0.4885 - val_precision: 0.0000e+00 - val_recall: 0.0000e+00 - val_auc: 0.6751 - val_prc: 0.4623\n",
      "Epoch 31/1000\n",
      "45/45 [==============================] - 3s 71ms/step - loss: 0.9711 - tp: 452.0000 - fp: 283.0000 - tn: 5091.0000 - fn: 2235.0000 - accuracy: 0.4842 - precision: 0.6150 - recall: 0.1682 - auc: 0.6974 - prc: 0.5062 - val_loss: 0.9873 - val_tp: 0.0000e+00 - val_fp: 0.0000e+00 - val_tn: 520.0000 - val_fn: 260.0000 - val_accuracy: 0.4385 - val_precision: 0.0000e+00 - val_recall: 0.0000e+00 - val_auc: 0.6721 - val_prc: 0.4536\n",
      "Epoch 32/1000\n",
      "45/45 [==============================] - 3s 66ms/step - loss: 0.9712 - tp: 472.0000 - fp: 338.0000 - tn: 5036.0000 - fn: 2215.0000 - accuracy: 0.4820 - precision: 0.5827 - recall: 0.1757 - auc: 0.6944 - prc: 0.5016 - val_loss: 0.9883 - val_tp: 0.0000e+00 - val_fp: 0.0000e+00 - val_tn: 520.0000 - val_fn: 260.0000 - val_accuracy: 0.4577 - val_precision: 0.0000e+00 - val_recall: 0.0000e+00 - val_auc: 0.6762 - val_prc: 0.4562\n",
      "Epoch 33/1000\n",
      "45/45 [==============================] - 3s 67ms/step - loss: 0.9737 - tp: 374.0000 - fp: 305.0000 - tn: 5069.0000 - fn: 2313.0000 - accuracy: 0.4946 - precision: 0.5508 - recall: 0.1392 - auc: 0.6990 - prc: 0.4942 - val_loss: 0.9864 - val_tp: 0.0000e+00 - val_fp: 0.0000e+00 - val_tn: 520.0000 - val_fn: 260.0000 - val_accuracy: 0.4731 - val_precision: 0.0000e+00 - val_recall: 0.0000e+00 - val_auc: 0.6796 - val_prc: 0.4626\n",
      "Epoch 34/1000\n",
      "45/45 [==============================] - 3s 73ms/step - loss: 0.9679 - tp: 530.0000 - fp: 372.0000 - tn: 5002.0000 - fn: 2157.0000 - accuracy: 0.4864 - precision: 0.5876 - recall: 0.1972 - auc: 0.6985 - prc: 0.5031 - val_loss: 0.9862 - val_tp: 0.0000e+00 - val_fp: 0.0000e+00 - val_tn: 520.0000 - val_fn: 260.0000 - val_accuracy: 0.4577 - val_precision: 0.0000e+00 - val_recall: 0.0000e+00 - val_auc: 0.6740 - val_prc: 0.4545\n",
      "Epoch 35/1000\n",
      "45/45 [==============================] - 3s 73ms/step - loss: 0.9714 - tp: 431.0000 - fp: 275.0000 - tn: 5099.0000 - fn: 2256.0000 - accuracy: 0.4872 - precision: 0.6105 - recall: 0.1604 - auc: 0.6982 - prc: 0.5079 - val_loss: 0.9866 - val_tp: 0.0000e+00 - val_fp: 0.0000e+00 - val_tn: 520.0000 - val_fn: 260.0000 - val_accuracy: 0.4692 - val_precision: 0.0000e+00 - val_recall: 0.0000e+00 - val_auc: 0.6748 - val_prc: 0.4595\n",
      "Epoch 36/1000\n",
      "45/45 [==============================] - 3s 77ms/step - loss: 0.9692 - tp: 480.0000 - fp: 341.0000 - tn: 5033.0000 - fn: 2207.0000 - accuracy: 0.4879 - precision: 0.5847 - recall: 0.1786 - auc: 0.6952 - prc: 0.4994 - val_loss: 0.9875 - val_tp: 0.0000e+00 - val_fp: 0.0000e+00 - val_tn: 520.0000 - val_fn: 260.0000 - val_accuracy: 0.4615 - val_precision: 0.0000e+00 - val_recall: 0.0000e+00 - val_auc: 0.6721 - val_prc: 0.4577\n",
      "Epoch 37/1000\n",
      "45/45 [==============================] - 3s 66ms/step - loss: 0.9728 - tp: 427.0000 - fp: 258.0000 - tn: 5116.0000 - fn: 2260.0000 - accuracy: 0.4697 - precision: 0.6234 - recall: 0.1589 - auc: 0.6928 - prc: 0.4996 - val_loss: 0.9873 - val_tp: 0.0000e+00 - val_fp: 0.0000e+00 - val_tn: 520.0000 - val_fn: 260.0000 - val_accuracy: 0.4385 - val_precision: 0.0000e+00 - val_recall: 0.0000e+00 - val_auc: 0.6710 - val_prc: 0.4538\n"
     ]
    },
    {
     "name": "stdout",
     "output_type": "stream",
     "text": [
      "Epoch 38/1000\n",
      "45/45 [==============================] - 3s 67ms/step - loss: 0.9696 - tp: 508.0000 - fp: 373.0000 - tn: 5001.0000 - fn: 2179.0000 - accuracy: 0.4872 - precision: 0.5766 - recall: 0.1891 - auc: 0.6960 - prc: 0.4986 - val_loss: 0.9867 - val_tp: 0.0000e+00 - val_fp: 0.0000e+00 - val_tn: 520.0000 - val_fn: 260.0000 - val_accuracy: 0.4615 - val_precision: 0.0000e+00 - val_recall: 0.0000e+00 - val_auc: 0.6802 - val_prc: 0.4627\n",
      "Epoch 39/1000\n",
      "45/45 [==============================] - 3s 66ms/step - loss: 0.9685 - tp: 468.0000 - fp: 296.0000 - tn: 5078.0000 - fn: 2219.0000 - accuracy: 0.4950 - precision: 0.6126 - recall: 0.1742 - auc: 0.7019 - prc: 0.5124 - val_loss: 0.9869 - val_tp: 0.0000e+00 - val_fp: 0.0000e+00 - val_tn: 520.0000 - val_fn: 260.0000 - val_accuracy: 0.4500 - val_precision: 0.0000e+00 - val_recall: 0.0000e+00 - val_auc: 0.6785 - val_prc: 0.4604\n",
      "Epoch 40/1000\n",
      "45/45 [==============================] - 3s 64ms/step - loss: 0.9662 - tp: 507.0000 - fp: 384.0000 - tn: 4990.0000 - fn: 2180.0000 - accuracy: 0.4924 - precision: 0.5690 - recall: 0.1887 - auc: 0.7022 - prc: 0.5109 - val_loss: 0.9871 - val_tp: 0.0000e+00 - val_fp: 0.0000e+00 - val_tn: 520.0000 - val_fn: 260.0000 - val_accuracy: 0.4538 - val_precision: 0.0000e+00 - val_recall: 0.0000e+00 - val_auc: 0.6715 - val_prc: 0.4519\n",
      "Epoch 41/1000\n",
      "45/45 [==============================] - 3s 66ms/step - loss: 0.9645 - tp: 479.0000 - fp: 308.0000 - tn: 5066.0000 - fn: 2208.0000 - accuracy: 0.4834 - precision: 0.6086 - recall: 0.1783 - auc: 0.7022 - prc: 0.5135 - val_loss: 0.9888 - val_tp: 0.0000e+00 - val_fp: 0.0000e+00 - val_tn: 520.0000 - val_fn: 260.0000 - val_accuracy: 0.4346 - val_precision: 0.0000e+00 - val_recall: 0.0000e+00 - val_auc: 0.6664 - val_prc: 0.4486\n",
      "Epoch 42/1000\n",
      "45/45 [==============================] - 3s 67ms/step - loss: 0.9671 - tp: 536.0000 - fp: 407.0000 - tn: 4967.0000 - fn: 2151.0000 - accuracy: 0.4771 - precision: 0.5684 - recall: 0.1995 - auc: 0.6980 - prc: 0.5018 - val_loss: 0.9887 - val_tp: 0.0000e+00 - val_fp: 0.0000e+00 - val_tn: 520.0000 - val_fn: 260.0000 - val_accuracy: 0.4385 - val_precision: 0.0000e+00 - val_recall: 0.0000e+00 - val_auc: 0.6634 - val_prc: 0.4441\n",
      "Epoch 43/1000\n",
      "45/45 [==============================] - 3s 62ms/step - loss: 0.9673 - tp: 491.0000 - fp: 301.0000 - tn: 5073.0000 - fn: 2196.0000 - accuracy: 0.4760 - precision: 0.6199 - recall: 0.1827 - auc: 0.6972 - prc: 0.5088 - val_loss: 0.9885 - val_tp: 0.0000e+00 - val_fp: 0.0000e+00 - val_tn: 520.0000 - val_fn: 260.0000 - val_accuracy: 0.4462 - val_precision: 0.0000e+00 - val_recall: 0.0000e+00 - val_auc: 0.6730 - val_prc: 0.4544\n",
      "Epoch 44/1000\n",
      "45/45 [==============================] - ETA: 0s - loss: 0.9701 - tp: 521.0000 - fp: 387.0000 - tn: 4987.0000 - fn: 2166.0000 - accuracy: 0.4686 - precision: 0.5738 - recall: 0.1939 - auc: 0.6930 - prc: 0.5031\n",
      "Epoch 00044: ReduceLROnPlateau reducing learning rate to 0.0002500000118743628.\n",
      "45/45 [==============================] - 3s 66ms/step - loss: 0.9701 - tp: 521.0000 - fp: 387.0000 - tn: 4987.0000 - fn: 2166.0000 - accuracy: 0.4686 - precision: 0.5738 - recall: 0.1939 - auc: 0.6930 - prc: 0.5031 - val_loss: 0.9906 - val_tp: 0.0000e+00 - val_fp: 0.0000e+00 - val_tn: 520.0000 - val_fn: 260.0000 - val_accuracy: 0.4308 - val_precision: 0.0000e+00 - val_recall: 0.0000e+00 - val_auc: 0.6623 - val_prc: 0.4406\n",
      "Epoch 45/1000\n",
      "45/45 [==============================] - 3s 70ms/step - loss: 0.9679 - tp: 415.0000 - fp: 257.0000 - tn: 5117.0000 - fn: 2272.0000 - accuracy: 0.4767 - precision: 0.6176 - recall: 0.1544 - auc: 0.6999 - prc: 0.5134 - val_loss: 0.9850 - val_tp: 19.0000 - val_fp: 19.0000 - val_tn: 501.0000 - val_fn: 241.0000 - val_accuracy: 0.4385 - val_precision: 0.5000 - val_recall: 0.0731 - val_auc: 0.6672 - val_prc: 0.4542\n",
      "Epoch 46/1000\n",
      "45/45 [==============================] - 3s 69ms/step - loss: 0.9605 - tp: 489.0000 - fp: 339.0000 - tn: 5035.0000 - fn: 2198.0000 - accuracy: 0.4965 - precision: 0.5906 - recall: 0.1820 - auc: 0.7047 - prc: 0.5234 - val_loss: 0.9847 - val_tp: 12.0000 - val_fp: 13.0000 - val_tn: 507.0000 - val_fn: 248.0000 - val_accuracy: 0.4654 - val_precision: 0.4800 - val_recall: 0.0462 - val_auc: 0.6704 - val_prc: 0.4570\n",
      "Epoch 47/1000\n",
      "45/45 [==============================] - 3s 69ms/step - loss: 0.9594 - tp: 445.0000 - fp: 271.0000 - tn: 5103.0000 - fn: 2242.0000 - accuracy: 0.4972 - precision: 0.6215 - recall: 0.1656 - auc: 0.7030 - prc: 0.5180 - val_loss: 0.9847 - val_tp: 9.0000 - val_fp: 9.0000 - val_tn: 511.0000 - val_fn: 251.0000 - val_accuracy: 0.4577 - val_precision: 0.5000 - val_recall: 0.0346 - val_auc: 0.6727 - val_prc: 0.4583\n",
      "Epoch 48/1000\n",
      "45/45 [==============================] - 3s 70ms/step - loss: 0.9572 - tp: 457.0000 - fp: 309.0000 - tn: 5065.0000 - fn: 2230.0000 - accuracy: 0.4820 - precision: 0.5966 - recall: 0.1701 - auc: 0.7032 - prc: 0.5182 - val_loss: 0.9845 - val_tp: 8.0000 - val_fp: 8.0000 - val_tn: 512.0000 - val_fn: 252.0000 - val_accuracy: 0.4692 - val_precision: 0.5000 - val_recall: 0.0308 - val_auc: 0.6701 - val_prc: 0.4525\n",
      "Epoch 49/1000\n",
      "45/45 [==============================] - 3s 67ms/step - loss: 0.9556 - tp: 464.0000 - fp: 280.0000 - tn: 5094.0000 - fn: 2223.0000 - accuracy: 0.4953 - precision: 0.6237 - recall: 0.1727 - auc: 0.7094 - prc: 0.5224 - val_loss: 0.9838 - val_tp: 8.0000 - val_fp: 6.0000 - val_tn: 514.0000 - val_fn: 252.0000 - val_accuracy: 0.4923 - val_precision: 0.5714 - val_recall: 0.0308 - val_auc: 0.6833 - val_prc: 0.4659\n",
      "Epoch 50/1000\n",
      "45/45 [==============================] - 3s 65ms/step - loss: 0.9546 - tp: 467.0000 - fp: 303.0000 - tn: 5071.0000 - fn: 2220.0000 - accuracy: 0.4927 - precision: 0.6065 - recall: 0.1738 - auc: 0.7074 - prc: 0.5273 - val_loss: 0.9839 - val_tp: 8.0000 - val_fp: 8.0000 - val_tn: 512.0000 - val_fn: 252.0000 - val_accuracy: 0.4731 - val_precision: 0.5000 - val_recall: 0.0308 - val_auc: 0.6760 - val_prc: 0.4578\n",
      "Epoch 51/1000\n",
      "45/45 [==============================] - 3s 63ms/step - loss: 0.9572 - tp: 449.0000 - fp: 290.0000 - tn: 5084.0000 - fn: 2238.0000 - accuracy: 0.4875 - precision: 0.6076 - recall: 0.1671 - auc: 0.7045 - prc: 0.5188 - val_loss: 0.9840 - val_tp: 6.0000 - val_fp: 7.0000 - val_tn: 513.0000 - val_fn: 254.0000 - val_accuracy: 0.4769 - val_precision: 0.4615 - val_recall: 0.0231 - val_auc: 0.6785 - val_prc: 0.4613\n",
      "Epoch 52/1000\n",
      "45/45 [==============================] - 3s 64ms/step - loss: 0.9548 - tp: 453.0000 - fp: 278.0000 - tn: 5096.0000 - fn: 2234.0000 - accuracy: 0.4846 - precision: 0.6197 - recall: 0.1686 - auc: 0.7058 - prc: 0.5261 - val_loss: 0.9841 - val_tp: 8.0000 - val_fp: 7.0000 - val_tn: 513.0000 - val_fn: 252.0000 - val_accuracy: 0.4615 - val_precision: 0.5333 - val_recall: 0.0308 - val_auc: 0.6731 - val_prc: 0.4599\n",
      "Epoch 53/1000\n",
      "45/45 [==============================] - 3s 63ms/step - loss: 0.9533 - tp: 470.0000 - fp: 272.0000 - tn: 5102.0000 - fn: 2217.0000 - accuracy: 0.4953 - precision: 0.6334 - recall: 0.1749 - auc: 0.7100 - prc: 0.5286 - val_loss: 0.9842 - val_tp: 6.0000 - val_fp: 6.0000 - val_tn: 514.0000 - val_fn: 254.0000 - val_accuracy: 0.4615 - val_precision: 0.5000 - val_recall: 0.0231 - val_auc: 0.6717 - val_prc: 0.4566\n",
      "Epoch 54/1000\n",
      "45/45 [==============================] - 3s 65ms/step - loss: 0.9511 - tp: 459.0000 - fp: 272.0000 - tn: 5102.0000 - fn: 2228.0000 - accuracy: 0.4920 - precision: 0.6279 - recall: 0.1708 - auc: 0.7079 - prc: 0.5265 - val_loss: 0.9840 - val_tp: 6.0000 - val_fp: 5.0000 - val_tn: 515.0000 - val_fn: 254.0000 - val_accuracy: 0.4615 - val_precision: 0.5455 - val_recall: 0.0231 - val_auc: 0.6712 - val_prc: 0.4563\n",
      "Epoch 55/1000\n",
      "45/45 [==============================] - 3s 68ms/step - loss: 0.9540 - tp: 458.0000 - fp: 261.0000 - tn: 5113.0000 - fn: 2229.0000 - accuracy: 0.4953 - precision: 0.6370 - recall: 0.1705 - auc: 0.7067 - prc: 0.5249 - val_loss: 0.9844 - val_tp: 5.0000 - val_fp: 4.0000 - val_tn: 516.0000 - val_fn: 255.0000 - val_accuracy: 0.4615 - val_precision: 0.5556 - val_recall: 0.0192 - val_auc: 0.6700 - val_prc: 0.4585\n",
      "Epoch 56/1000\n"
     ]
    },
    {
     "name": "stdout",
     "output_type": "stream",
     "text": [
      "45/45 [==============================] - 3s 65ms/step - loss: 0.9592 - tp: 449.0000 - fp: 273.0000 - tn: 5101.0000 - fn: 2238.0000 - accuracy: 0.4953 - precision: 0.6219 - recall: 0.1671 - auc: 0.7028 - prc: 0.5173 - val_loss: 0.9843 - val_tp: 8.0000 - val_fp: 9.0000 - val_tn: 511.0000 - val_fn: 252.0000 - val_accuracy: 0.4385 - val_precision: 0.4706 - val_recall: 0.0308 - val_auc: 0.6671 - val_prc: 0.4536\n",
      "Epoch 57/1000\n",
      "45/45 [==============================] - 3s 65ms/step - loss: 0.9526 - tp: 454.0000 - fp: 270.0000 - tn: 5104.0000 - fn: 2233.0000 - accuracy: 0.4927 - precision: 0.6271 - recall: 0.1690 - auc: 0.7104 - prc: 0.5266 - val_loss: 0.9846 - val_tp: 6.0000 - val_fp: 5.0000 - val_tn: 515.0000 - val_fn: 254.0000 - val_accuracy: 0.4385 - val_precision: 0.5455 - val_recall: 0.0231 - val_auc: 0.6659 - val_prc: 0.4528\n",
      "Epoch 58/1000\n",
      "45/45 [==============================] - 3s 73ms/step - loss: 0.9608 - tp: 461.0000 - fp: 291.0000 - tn: 5083.0000 - fn: 2226.0000 - accuracy: 0.4994 - precision: 0.6130 - recall: 0.1716 - auc: 0.7062 - prc: 0.5149 - val_loss: 0.9844 - val_tp: 5.0000 - val_fp: 5.0000 - val_tn: 515.0000 - val_fn: 255.0000 - val_accuracy: 0.4615 - val_precision: 0.5000 - val_recall: 0.0192 - val_auc: 0.6648 - val_prc: 0.4507\n",
      "Epoch 59/1000\n",
      "44/45 [============================>.] - ETA: 0s - loss: 0.9616 - tp: 461.0000 - fp: 304.0000 - tn: 4976.0000 - fn: 2179.0000 - accuracy: 0.4894 - precision: 0.6026 - recall: 0.1746 - auc: 0.7058 - prc: 0.5176\n",
      "Epoch 00059: ReduceLROnPlateau reducing learning rate to 0.0001250000059371814.\n",
      "45/45 [==============================] - 3s 72ms/step - loss: 0.9597 - tp: 473.0000 - fp: 316.0000 - tn: 5058.0000 - fn: 2214.0000 - accuracy: 0.4890 - precision: 0.5995 - recall: 0.1760 - auc: 0.7065 - prc: 0.5176 - val_loss: 0.9851 - val_tp: 0.0000e+00 - val_fp: 0.0000e+00 - val_tn: 520.0000 - val_fn: 260.0000 - val_accuracy: 0.4577 - val_precision: 0.0000e+00 - val_recall: 0.0000e+00 - val_auc: 0.6693 - val_prc: 0.4549\n",
      "Epoch 60/1000\n",
      "45/45 [==============================] - 3s 64ms/step - loss: 0.9612 - tp: 404.0000 - fp: 225.0000 - tn: 5149.0000 - fn: 2283.0000 - accuracy: 0.4972 - precision: 0.6423 - recall: 0.1504 - auc: 0.7095 - prc: 0.5233 - val_loss: 0.9857 - val_tp: 12.0000 - val_fp: 12.0000 - val_tn: 508.0000 - val_fn: 248.0000 - val_accuracy: 0.4385 - val_precision: 0.5000 - val_recall: 0.0462 - val_auc: 0.6646 - val_prc: 0.4523\n",
      "Epoch 61/1000\n",
      "45/45 [==============================] - 3s 76ms/step - loss: 0.9550 - tp: 476.0000 - fp: 333.0000 - tn: 5041.0000 - fn: 2211.0000 - accuracy: 0.4905 - precision: 0.5884 - recall: 0.1771 - auc: 0.7071 - prc: 0.5206 - val_loss: 0.9847 - val_tp: 11.0000 - val_fp: 11.0000 - val_tn: 509.0000 - val_fn: 249.0000 - val_accuracy: 0.4385 - val_precision: 0.5000 - val_recall: 0.0423 - val_auc: 0.6606 - val_prc: 0.4498\n",
      "Epoch 62/1000\n",
      "45/45 [==============================] - 3s 70ms/step - loss: 0.9516 - tp: 470.0000 - fp: 284.0000 - tn: 5090.0000 - fn: 2217.0000 - accuracy: 0.4849 - precision: 0.6233 - recall: 0.1749 - auc: 0.7089 - prc: 0.5228 - val_loss: 0.9846 - val_tp: 10.0000 - val_fp: 10.0000 - val_tn: 510.0000 - val_fn: 250.0000 - val_accuracy: 0.4385 - val_precision: 0.5000 - val_recall: 0.0385 - val_auc: 0.6659 - val_prc: 0.4517\n",
      "Epoch 63/1000\n",
      "45/45 [==============================] - 3s 70ms/step - loss: 0.9492 - tp: 466.0000 - fp: 271.0000 - tn: 5103.0000 - fn: 2221.0000 - accuracy: 0.4972 - precision: 0.6323 - recall: 0.1734 - auc: 0.7118 - prc: 0.5282 - val_loss: 0.9851 - val_tp: 10.0000 - val_fp: 11.0000 - val_tn: 509.0000 - val_fn: 250.0000 - val_accuracy: 0.4385 - val_precision: 0.4762 - val_recall: 0.0385 - val_auc: 0.6633 - val_prc: 0.4489\n",
      "Epoch 64/1000\n",
      "45/45 [==============================] - 3s 73ms/step - loss: 0.9489 - tp: 470.0000 - fp: 270.0000 - tn: 5104.0000 - fn: 2217.0000 - accuracy: 0.4797 - precision: 0.6351 - recall: 0.1749 - auc: 0.7103 - prc: 0.5276 - val_loss: 0.9853 - val_tp: 11.0000 - val_fp: 11.0000 - val_tn: 509.0000 - val_fn: 249.0000 - val_accuracy: 0.4385 - val_precision: 0.5000 - val_recall: 0.0423 - val_auc: 0.6637 - val_prc: 0.4532\n",
      "Epoch 65/1000\n",
      "45/45 [==============================] - 4s 78ms/step - loss: 0.9485 - tp: 471.0000 - fp: 267.0000 - tn: 5107.0000 - fn: 2216.0000 - accuracy: 0.4827 - precision: 0.6382 - recall: 0.1753 - auc: 0.7101 - prc: 0.5328 - val_loss: 0.9852 - val_tp: 9.0000 - val_fp: 11.0000 - val_tn: 509.0000 - val_fn: 251.0000 - val_accuracy: 0.4385 - val_precision: 0.4500 - val_recall: 0.0346 - val_auc: 0.6649 - val_prc: 0.4522\n",
      "Epoch 66/1000\n",
      "45/45 [==============================] - 4s 80ms/step - loss: 0.9480 - tp: 463.0000 - fp: 286.0000 - tn: 5088.0000 - fn: 2224.0000 - accuracy: 0.4860 - precision: 0.6182 - recall: 0.1723 - auc: 0.7131 - prc: 0.5289 - val_loss: 0.9857 - val_tp: 10.0000 - val_fp: 11.0000 - val_tn: 509.0000 - val_fn: 250.0000 - val_accuracy: 0.4385 - val_precision: 0.4762 - val_recall: 0.0385 - val_auc: 0.6610 - val_prc: 0.4474\n",
      "Epoch 67/1000\n",
      "45/45 [==============================] - 4s 80ms/step - loss: 0.9489 - tp: 471.0000 - fp: 269.0000 - tn: 5105.0000 - fn: 2216.0000 - accuracy: 0.4838 - precision: 0.6365 - recall: 0.1753 - auc: 0.7131 - prc: 0.5279 - val_loss: 0.9860 - val_tp: 9.0000 - val_fp: 11.0000 - val_tn: 509.0000 - val_fn: 251.0000 - val_accuracy: 0.4385 - val_precision: 0.4500 - val_recall: 0.0346 - val_auc: 0.6625 - val_prc: 0.4516\n",
      "Epoch 68/1000\n",
      "45/45 [==============================] - 3s 70ms/step - loss: 0.9463 - tp: 473.0000 - fp: 274.0000 - tn: 5100.0000 - fn: 2214.0000 - accuracy: 0.4909 - precision: 0.6332 - recall: 0.1760 - auc: 0.7144 - prc: 0.5331 - val_loss: 0.9862 - val_tp: 8.0000 - val_fp: 11.0000 - val_tn: 509.0000 - val_fn: 252.0000 - val_accuracy: 0.4385 - val_precision: 0.4211 - val_recall: 0.0308 - val_auc: 0.6642 - val_prc: 0.4515\n",
      "Epoch 69/1000\n",
      "44/45 [============================>.] - ETA: 0s - loss: 0.9501 - tp: 433.0000 - fp: 254.0000 - tn: 5026.0000 - fn: 2207.0000 - accuracy: 0.4905 - precision: 0.6303 - recall: 0.1640 - auc: 0.7122 - prc: 0.5305\n",
      "Epoch 00069: ReduceLROnPlateau reducing learning rate to 6.25000029685907e-05.\n",
      "45/45 [==============================] - 3s 66ms/step - loss: 0.9480 - tp: 453.0000 - fp: 269.0000 - tn: 5105.0000 - fn: 2234.0000 - accuracy: 0.4909 - precision: 0.6274 - recall: 0.1686 - auc: 0.7131 - prc: 0.5310 - val_loss: 0.9860 - val_tp: 7.0000 - val_fp: 9.0000 - val_tn: 511.0000 - val_fn: 253.0000 - val_accuracy: 0.4385 - val_precision: 0.4375 - val_recall: 0.0269 - val_auc: 0.6645 - val_prc: 0.4502\n",
      "Epoch 70/1000\n",
      "45/45 [==============================] - 3s 77ms/step - loss: 0.9444 - tp: 457.0000 - fp: 271.0000 - tn: 5103.0000 - fn: 2230.0000 - accuracy: 0.4976 - precision: 0.6277 - recall: 0.1701 - auc: 0.7179 - prc: 0.5345 - val_loss: 0.9869 - val_tp: 8.0000 - val_fp: 11.0000 - val_tn: 509.0000 - val_fn: 252.0000 - val_accuracy: 0.4385 - val_precision: 0.4211 - val_recall: 0.0308 - val_auc: 0.6643 - val_prc: 0.4533\n",
      "Epoch 71/1000\n",
      "45/45 [==============================] - 3s 71ms/step - loss: 0.9474 - tp: 457.0000 - fp: 264.0000 - tn: 5110.0000 - fn: 2230.0000 - accuracy: 0.4849 - precision: 0.6338 - recall: 0.1701 - auc: 0.7133 - prc: 0.5302 - val_loss: 0.9868 - val_tp: 8.0000 - val_fp: 9.0000 - val_tn: 511.0000 - val_fn: 252.0000 - val_accuracy: 0.4385 - val_precision: 0.4706 - val_recall: 0.0308 - val_auc: 0.6655 - val_prc: 0.4529\n",
      "Epoch 72/1000\n",
      "45/45 [==============================] - 4s 81ms/step - loss: 0.9448 - tp: 474.0000 - fp: 260.0000 - tn: 5114.0000 - fn: 2213.0000 - accuracy: 0.4916 - precision: 0.6458 - recall: 0.1764 - auc: 0.7151 - prc: 0.5364 - val_loss: 0.9868 - val_tp: 8.0000 - val_fp: 9.0000 - val_tn: 511.0000 - val_fn: 252.0000 - val_accuracy: 0.4385 - val_precision: 0.4706 - val_recall: 0.0308 - val_auc: 0.6655 - val_prc: 0.4513\n",
      "Epoch 73/1000\n",
      "45/45 [==============================] - 3s 65ms/step - loss: 0.9451 - tp: 463.0000 - fp: 260.0000 - tn: 5114.0000 - fn: 2224.0000 - accuracy: 0.4857 - precision: 0.6404 - recall: 0.1723 - auc: 0.7141 - prc: 0.5299 - val_loss: 0.9869 - val_tp: 8.0000 - val_fp: 10.0000 - val_tn: 510.0000 - val_fn: 252.0000 - val_accuracy: 0.4385 - val_precision: 0.4444 - val_recall: 0.0308 - val_auc: 0.6644 - val_prc: 0.4516\n"
     ]
    },
    {
     "name": "stdout",
     "output_type": "stream",
     "text": [
      "Epoch 74/1000\n",
      "45/45 [==============================] - 3s 73ms/step - loss: 0.9452 - tp: 475.0000 - fp: 283.0000 - tn: 5091.0000 - fn: 2212.0000 - accuracy: 0.4953 - precision: 0.6266 - recall: 0.1768 - auc: 0.7163 - prc: 0.5359 - val_loss: 0.9872 - val_tp: 8.0000 - val_fp: 10.0000 - val_tn: 510.0000 - val_fn: 252.0000 - val_accuracy: 0.4385 - val_precision: 0.4444 - val_recall: 0.0308 - val_auc: 0.6638 - val_prc: 0.4520\n",
      "Epoch 75/1000\n",
      "45/45 [==============================] - 4s 78ms/step - loss: 0.9450 - tp: 473.0000 - fp: 274.0000 - tn: 5100.0000 - fn: 2214.0000 - accuracy: 0.5006 - precision: 0.6332 - recall: 0.1760 - auc: 0.7169 - prc: 0.5335 - val_loss: 0.9873 - val_tp: 8.0000 - val_fp: 10.0000 - val_tn: 510.0000 - val_fn: 252.0000 - val_accuracy: 0.4385 - val_precision: 0.4444 - val_recall: 0.0308 - val_auc: 0.6629 - val_prc: 0.4518\n",
      "Epoch 76/1000\n",
      "45/45 [==============================] - 3s 74ms/step - loss: 0.9427 - tp: 493.0000 - fp: 283.0000 - tn: 5091.0000 - fn: 2194.0000 - accuracy: 0.4920 - precision: 0.6353 - recall: 0.1835 - auc: 0.7173 - prc: 0.5352 - val_loss: 0.9878 - val_tp: 9.0000 - val_fp: 11.0000 - val_tn: 509.0000 - val_fn: 251.0000 - val_accuracy: 0.4385 - val_precision: 0.4500 - val_recall: 0.0346 - val_auc: 0.6641 - val_prc: 0.4547\n",
      "Epoch 77/1000\n",
      "45/45 [==============================] - 3s 74ms/step - loss: 0.9427 - tp: 468.0000 - fp: 291.0000 - tn: 5083.0000 - fn: 2219.0000 - accuracy: 0.4946 - precision: 0.6166 - recall: 0.1742 - auc: 0.7187 - prc: 0.5374 - val_loss: 0.9880 - val_tp: 9.0000 - val_fp: 10.0000 - val_tn: 510.0000 - val_fn: 251.0000 - val_accuracy: 0.4385 - val_precision: 0.4737 - val_recall: 0.0346 - val_auc: 0.6628 - val_prc: 0.4491\n",
      "Epoch 78/1000\n",
      "45/45 [==============================] - 3s 70ms/step - loss: 0.9453 - tp: 479.0000 - fp: 269.0000 - tn: 5105.0000 - fn: 2208.0000 - accuracy: 0.5020 - precision: 0.6404 - recall: 0.1783 - auc: 0.7170 - prc: 0.5342 - val_loss: 0.9879 - val_tp: 9.0000 - val_fp: 10.0000 - val_tn: 510.0000 - val_fn: 251.0000 - val_accuracy: 0.4385 - val_precision: 0.4737 - val_recall: 0.0346 - val_auc: 0.6624 - val_prc: 0.4523\n",
      "Epoch 79/1000\n",
      "45/45 [==============================] - ETA: 0s - loss: 0.9443 - tp: 479.0000 - fp: 285.0000 - tn: 5089.0000 - fn: 2208.0000 - accuracy: 0.5024 - precision: 0.6270 - recall: 0.1783 - auc: 0.7161 - prc: 0.5327\n",
      "Epoch 00079: ReduceLROnPlateau reducing learning rate to 3.125000148429535e-05.\n",
      "45/45 [==============================] - 3s 71ms/step - loss: 0.9443 - tp: 479.0000 - fp: 285.0000 - tn: 5089.0000 - fn: 2208.0000 - accuracy: 0.5024 - precision: 0.6270 - recall: 0.1783 - auc: 0.7161 - prc: 0.5327 - val_loss: 0.9880 - val_tp: 9.0000 - val_fp: 9.0000 - val_tn: 511.0000 - val_fn: 251.0000 - val_accuracy: 0.4385 - val_precision: 0.5000 - val_recall: 0.0346 - val_auc: 0.6647 - val_prc: 0.4521\n",
      "Epoch 80/1000\n",
      "45/45 [==============================] - 3s 64ms/step - loss: 0.9437 - tp: 482.0000 - fp: 269.0000 - tn: 5105.0000 - fn: 2205.0000 - accuracy: 0.5009 - precision: 0.6418 - recall: 0.1794 - auc: 0.7168 - prc: 0.5358 - val_loss: 0.9882 - val_tp: 8.0000 - val_fp: 9.0000 - val_tn: 511.0000 - val_fn: 252.0000 - val_accuracy: 0.4385 - val_precision: 0.4706 - val_recall: 0.0308 - val_auc: 0.6635 - val_prc: 0.4526\n",
      "Epoch 81/1000\n",
      "45/45 [==============================] - 3s 67ms/step - loss: 0.9429 - tp: 464.0000 - fp: 267.0000 - tn: 5107.0000 - fn: 2223.0000 - accuracy: 0.4931 - precision: 0.6347 - recall: 0.1727 - auc: 0.7184 - prc: 0.5375 - val_loss: 0.9883 - val_tp: 9.0000 - val_fp: 9.0000 - val_tn: 511.0000 - val_fn: 251.0000 - val_accuracy: 0.4385 - val_precision: 0.5000 - val_recall: 0.0346 - val_auc: 0.6636 - val_prc: 0.4514\n",
      "Epoch 82/1000\n",
      "45/45 [==============================] - 3s 67ms/step - loss: 0.9436 - tp: 472.0000 - fp: 287.0000 - tn: 5087.0000 - fn: 2215.0000 - accuracy: 0.4976 - precision: 0.6219 - recall: 0.1757 - auc: 0.7177 - prc: 0.5345 - val_loss: 0.9884 - val_tp: 8.0000 - val_fp: 9.0000 - val_tn: 511.0000 - val_fn: 252.0000 - val_accuracy: 0.4385 - val_precision: 0.4706 - val_recall: 0.0308 - val_auc: 0.6640 - val_prc: 0.4539\n",
      "Epoch 83/1000\n",
      "45/45 [==============================] - 3s 70ms/step - loss: 0.9454 - tp: 451.0000 - fp: 261.0000 - tn: 5113.0000 - fn: 2236.0000 - accuracy: 0.4946 - precision: 0.6334 - recall: 0.1678 - auc: 0.7150 - prc: 0.5310 - val_loss: 0.9885 - val_tp: 8.0000 - val_fp: 9.0000 - val_tn: 511.0000 - val_fn: 252.0000 - val_accuracy: 0.4385 - val_precision: 0.4706 - val_recall: 0.0308 - val_auc: 0.6636 - val_prc: 0.4510\n",
      "Epoch 84/1000\n",
      "45/45 [==============================] - 3s 68ms/step - loss: 0.9440 - tp: 460.0000 - fp: 271.0000 - tn: 5103.0000 - fn: 2227.0000 - accuracy: 0.4950 - precision: 0.6293 - recall: 0.1712 - auc: 0.7170 - prc: 0.5359 - val_loss: 0.9885 - val_tp: 8.0000 - val_fp: 9.0000 - val_tn: 511.0000 - val_fn: 252.0000 - val_accuracy: 0.4385 - val_precision: 0.4706 - val_recall: 0.0308 - val_auc: 0.6640 - val_prc: 0.4523\n",
      "Epoch 85/1000\n",
      "45/45 [==============================] - 3s 71ms/step - loss: 0.9423 - tp: 472.0000 - fp: 279.0000 - tn: 5095.0000 - fn: 2215.0000 - accuracy: 0.4983 - precision: 0.6285 - recall: 0.1757 - auc: 0.7179 - prc: 0.5373 - val_loss: 0.9886 - val_tp: 7.0000 - val_fp: 9.0000 - val_tn: 511.0000 - val_fn: 253.0000 - val_accuracy: 0.4385 - val_precision: 0.4375 - val_recall: 0.0269 - val_auc: 0.6650 - val_prc: 0.4530\n",
      "Epoch 86/1000\n",
      "45/45 [==============================] - 3s 67ms/step - loss: 0.9442 - tp: 463.0000 - fp: 274.0000 - tn: 5100.0000 - fn: 2224.0000 - accuracy: 0.4980 - precision: 0.6282 - recall: 0.1723 - auc: 0.7163 - prc: 0.5318 - val_loss: 0.9886 - val_tp: 8.0000 - val_fp: 9.0000 - val_tn: 511.0000 - val_fn: 252.0000 - val_accuracy: 0.4385 - val_precision: 0.4706 - val_recall: 0.0308 - val_auc: 0.6637 - val_prc: 0.4514\n",
      "Epoch 87/1000\n",
      "45/45 [==============================] - 3s 63ms/step - loss: 0.9430 - tp: 482.0000 - fp: 273.0000 - tn: 5101.0000 - fn: 2205.0000 - accuracy: 0.5009 - precision: 0.6384 - recall: 0.1794 - auc: 0.7175 - prc: 0.5350 - val_loss: 0.9886 - val_tp: 7.0000 - val_fp: 9.0000 - val_tn: 511.0000 - val_fn: 253.0000 - val_accuracy: 0.4385 - val_precision: 0.4375 - val_recall: 0.0269 - val_auc: 0.6645 - val_prc: 0.4555\n",
      "Epoch 88/1000\n",
      "45/45 [==============================] - 3s 62ms/step - loss: 0.9436 - tp: 465.0000 - fp: 265.0000 - tn: 5109.0000 - fn: 2222.0000 - accuracy: 0.4972 - precision: 0.6370 - recall: 0.1731 - auc: 0.7184 - prc: 0.5366 - val_loss: 0.9887 - val_tp: 7.0000 - val_fp: 9.0000 - val_tn: 511.0000 - val_fn: 253.0000 - val_accuracy: 0.4385 - val_precision: 0.4375 - val_recall: 0.0269 - val_auc: 0.6651 - val_prc: 0.4529\n",
      "Epoch 89/1000\n",
      "45/45 [==============================] - ETA: 0s - loss: 0.9439 - tp: 477.0000 - fp: 264.0000 - tn: 5110.0000 - fn: 2210.0000 - accuracy: 0.4935 - precision: 0.6437 - recall: 0.1775 - auc: 0.7179 - prc: 0.5350\n",
      "Epoch 00089: ReduceLROnPlateau reducing learning rate to 1.5625000742147677e-05.\n",
      "45/45 [==============================] - 3s 67ms/step - loss: 0.9439 - tp: 477.0000 - fp: 264.0000 - tn: 5110.0000 - fn: 2210.0000 - accuracy: 0.4935 - precision: 0.6437 - recall: 0.1775 - auc: 0.7179 - prc: 0.5350 - val_loss: 0.9887 - val_tp: 7.0000 - val_fp: 9.0000 - val_tn: 511.0000 - val_fn: 253.0000 - val_accuracy: 0.4385 - val_precision: 0.4375 - val_recall: 0.0269 - val_auc: 0.6646 - val_prc: 0.4555\n",
      "Epoch 90/1000\n",
      "45/45 [==============================] - 3s 63ms/step - loss: 0.9429 - tp: 466.0000 - fp: 249.0000 - tn: 5125.0000 - fn: 2221.0000 - accuracy: 0.5035 - precision: 0.6517 - recall: 0.1734 - auc: 0.7188 - prc: 0.5379 - val_loss: 0.9887 - val_tp: 8.0000 - val_fp: 9.0000 - val_tn: 511.0000 - val_fn: 252.0000 - val_accuracy: 0.4385 - val_precision: 0.4706 - val_recall: 0.0308 - val_auc: 0.6646 - val_prc: 0.4540\n",
      "Epoch 91/1000\n",
      "45/45 [==============================] - 3s 62ms/step - loss: 0.9436 - tp: 481.0000 - fp: 280.0000 - tn: 5094.0000 - fn: 2206.0000 - accuracy: 0.4883 - precision: 0.6321 - recall: 0.1790 - auc: 0.7154 - prc: 0.5325 - val_loss: 0.9887 - val_tp: 8.0000 - val_fp: 9.0000 - val_tn: 511.0000 - val_fn: 252.0000 - val_accuracy: 0.4385 - val_precision: 0.4706 - val_recall: 0.0308 - val_auc: 0.6651 - val_prc: 0.4565\n"
     ]
    },
    {
     "name": "stdout",
     "output_type": "stream",
     "text": [
      "Epoch 92/1000\n",
      "45/45 [==============================] - 3s 63ms/step - loss: 0.9423 - tp: 468.0000 - fp: 279.0000 - tn: 5095.0000 - fn: 2219.0000 - accuracy: 0.4909 - precision: 0.6265 - recall: 0.1742 - auc: 0.7175 - prc: 0.5367 - val_loss: 0.9888 - val_tp: 8.0000 - val_fp: 9.0000 - val_tn: 511.0000 - val_fn: 252.0000 - val_accuracy: 0.4385 - val_precision: 0.4706 - val_recall: 0.0308 - val_auc: 0.6643 - val_prc: 0.4541\n",
      "Epoch 93/1000\n",
      "45/45 [==============================] - 3s 64ms/step - loss: 0.9427 - tp: 456.0000 - fp: 284.0000 - tn: 5090.0000 - fn: 2231.0000 - accuracy: 0.4916 - precision: 0.6162 - recall: 0.1697 - auc: 0.7164 - prc: 0.5327 - val_loss: 0.9888 - val_tp: 7.0000 - val_fp: 9.0000 - val_tn: 511.0000 - val_fn: 253.0000 - val_accuracy: 0.4385 - val_precision: 0.4375 - val_recall: 0.0269 - val_auc: 0.6656 - val_prc: 0.4559\n",
      "Epoch 94/1000\n",
      "45/45 [==============================] - 3s 63ms/step - loss: 0.9435 - tp: 470.0000 - fp: 282.0000 - tn: 5092.0000 - fn: 2217.0000 - accuracy: 0.5002 - precision: 0.6250 - recall: 0.1749 - auc: 0.7165 - prc: 0.5323 - val_loss: 0.9888 - val_tp: 8.0000 - val_fp: 9.0000 - val_tn: 511.0000 - val_fn: 252.0000 - val_accuracy: 0.4385 - val_precision: 0.4706 - val_recall: 0.0308 - val_auc: 0.6654 - val_prc: 0.4556\n",
      "Epoch 95/1000\n",
      "45/45 [==============================] - 3s 61ms/step - loss: 0.9431 - tp: 462.0000 - fp: 263.0000 - tn: 5111.0000 - fn: 2225.0000 - accuracy: 0.4965 - precision: 0.6372 - recall: 0.1719 - auc: 0.7169 - prc: 0.5363 - val_loss: 0.9889 - val_tp: 8.0000 - val_fp: 9.0000 - val_tn: 511.0000 - val_fn: 252.0000 - val_accuracy: 0.4385 - val_precision: 0.4706 - val_recall: 0.0308 - val_auc: 0.6643 - val_prc: 0.4510\n",
      "Epoch 96/1000\n",
      "45/45 [==============================] - 3s 65ms/step - loss: 0.9416 - tp: 475.0000 - fp: 273.0000 - tn: 5101.0000 - fn: 2212.0000 - accuracy: 0.4998 - precision: 0.6350 - recall: 0.1768 - auc: 0.7188 - prc: 0.5378 - val_loss: 0.9889 - val_tp: 8.0000 - val_fp: 9.0000 - val_tn: 511.0000 - val_fn: 252.0000 - val_accuracy: 0.4385 - val_precision: 0.4706 - val_recall: 0.0308 - val_auc: 0.6641 - val_prc: 0.4509\n",
      "Epoch 97/1000\n",
      "45/45 [==============================] - 3s 70ms/step - loss: 0.9435 - tp: 476.0000 - fp: 250.0000 - tn: 5124.0000 - fn: 2211.0000 - accuracy: 0.5009 - precision: 0.6556 - recall: 0.1771 - auc: 0.7209 - prc: 0.5418 - val_loss: 0.9889 - val_tp: 8.0000 - val_fp: 9.0000 - val_tn: 511.0000 - val_fn: 252.0000 - val_accuracy: 0.4385 - val_precision: 0.4706 - val_recall: 0.0308 - val_auc: 0.6651 - val_prc: 0.4560\n",
      "Epoch 98/1000\n",
      "45/45 [==============================] - 3s 72ms/step - loss: 0.9442 - tp: 473.0000 - fp: 267.0000 - tn: 5107.0000 - fn: 2214.0000 - accuracy: 0.4961 - precision: 0.6392 - recall: 0.1760 - auc: 0.7163 - prc: 0.5365 - val_loss: 0.9889 - val_tp: 7.0000 - val_fp: 9.0000 - val_tn: 511.0000 - val_fn: 253.0000 - val_accuracy: 0.4385 - val_precision: 0.4375 - val_recall: 0.0269 - val_auc: 0.6646 - val_prc: 0.4537\n",
      "Epoch 99/1000\n",
      "45/45 [==============================] - ETA: 0s - loss: 0.9449 - tp: 475.0000 - fp: 288.0000 - tn: 5086.0000 - fn: 2212.0000 - accuracy: 0.5017 - precision: 0.6225 - recall: 0.1768 - auc: 0.7171 - prc: 0.5328\n",
      "Epoch 00099: ReduceLROnPlateau reducing learning rate to 7.812500371073838e-06.\n",
      "45/45 [==============================] - 3s 69ms/step - loss: 0.9449 - tp: 475.0000 - fp: 288.0000 - tn: 5086.0000 - fn: 2212.0000 - accuracy: 0.5017 - precision: 0.6225 - recall: 0.1768 - auc: 0.7171 - prc: 0.5328 - val_loss: 0.9890 - val_tp: 8.0000 - val_fp: 9.0000 - val_tn: 511.0000 - val_fn: 252.0000 - val_accuracy: 0.4385 - val_precision: 0.4706 - val_recall: 0.0308 - val_auc: 0.6640 - val_prc: 0.4524\n",
      "Epoch 100/1000\n",
      "45/45 [==============================] - 3s 72ms/step - loss: 0.9414 - tp: 471.0000 - fp: 278.0000 - tn: 5096.0000 - fn: 2216.0000 - accuracy: 0.4976 - precision: 0.6288 - recall: 0.1753 - auc: 0.7203 - prc: 0.5422 - val_loss: 0.9889 - val_tp: 7.0000 - val_fp: 9.0000 - val_tn: 511.0000 - val_fn: 253.0000 - val_accuracy: 0.4385 - val_precision: 0.4375 - val_recall: 0.0269 - val_auc: 0.6650 - val_prc: 0.4548\n",
      "Epoch 101/1000\n",
      "45/45 [==============================] - 3s 73ms/step - loss: 0.9425 - tp: 464.0000 - fp: 269.0000 - tn: 5105.0000 - fn: 2223.0000 - accuracy: 0.5035 - precision: 0.6330 - recall: 0.1727 - auc: 0.7200 - prc: 0.5359 - val_loss: 0.9890 - val_tp: 8.0000 - val_fp: 9.0000 - val_tn: 511.0000 - val_fn: 252.0000 - val_accuracy: 0.4385 - val_precision: 0.4706 - val_recall: 0.0308 - val_auc: 0.6633 - val_prc: 0.4521\n",
      "Epoch 102/1000\n",
      "45/45 [==============================] - 4s 78ms/step - loss: 0.9425 - tp: 470.0000 - fp: 278.0000 - tn: 5096.0000 - fn: 2217.0000 - accuracy: 0.4950 - precision: 0.6283 - recall: 0.1749 - auc: 0.7183 - prc: 0.5383 - val_loss: 0.9890 - val_tp: 8.0000 - val_fp: 9.0000 - val_tn: 511.0000 - val_fn: 252.0000 - val_accuracy: 0.4385 - val_precision: 0.4706 - val_recall: 0.0308 - val_auc: 0.6636 - val_prc: 0.4522\n",
      "Epoch 103/1000\n",
      "45/45 [==============================] - 3s 75ms/step - loss: 0.9413 - tp: 466.0000 - fp: 268.0000 - tn: 5106.0000 - fn: 2221.0000 - accuracy: 0.4980 - precision: 0.6349 - recall: 0.1734 - auc: 0.7183 - prc: 0.5406 - val_loss: 0.9890 - val_tp: 7.0000 - val_fp: 9.0000 - val_tn: 511.0000 - val_fn: 253.0000 - val_accuracy: 0.4385 - val_precision: 0.4375 - val_recall: 0.0269 - val_auc: 0.6645 - val_prc: 0.4531\n",
      "Epoch 104/1000\n",
      "45/45 [==============================] - 3s 72ms/step - loss: 0.9433 - tp: 471.0000 - fp: 261.0000 - tn: 5113.0000 - fn: 2216.0000 - accuracy: 0.5013 - precision: 0.6434 - recall: 0.1753 - auc: 0.7183 - prc: 0.5358 - val_loss: 0.9889 - val_tp: 7.0000 - val_fp: 9.0000 - val_tn: 511.0000 - val_fn: 253.0000 - val_accuracy: 0.4385 - val_precision: 0.4375 - val_recall: 0.0269 - val_auc: 0.6647 - val_prc: 0.4537\n",
      "Epoch 105/1000\n",
      "45/45 [==============================] - 3s 75ms/step - loss: 0.9410 - tp: 476.0000 - fp: 268.0000 - tn: 5106.0000 - fn: 2211.0000 - accuracy: 0.4998 - precision: 0.6398 - recall: 0.1771 - auc: 0.7202 - prc: 0.5391 - val_loss: 0.9889 - val_tp: 8.0000 - val_fp: 9.0000 - val_tn: 511.0000 - val_fn: 252.0000 - val_accuracy: 0.4385 - val_precision: 0.4706 - val_recall: 0.0308 - val_auc: 0.6651 - val_prc: 0.4545\n",
      "Epoch 106/1000\n",
      "45/45 [==============================] - 3s 67ms/step - loss: 0.9432 - tp: 477.0000 - fp: 275.0000 - tn: 5099.0000 - fn: 2210.0000 - accuracy: 0.4957 - precision: 0.6343 - recall: 0.1775 - auc: 0.7184 - prc: 0.5383 - val_loss: 0.9889 - val_tp: 8.0000 - val_fp: 9.0000 - val_tn: 511.0000 - val_fn: 252.0000 - val_accuracy: 0.4385 - val_precision: 0.4706 - val_recall: 0.0308 - val_auc: 0.6645 - val_prc: 0.4536\n",
      "Epoch 107/1000\n",
      "45/45 [==============================] - 3s 72ms/step - loss: 0.9439 - tp: 473.0000 - fp: 279.0000 - tn: 5095.0000 - fn: 2214.0000 - accuracy: 0.4916 - precision: 0.6290 - recall: 0.1760 - auc: 0.7164 - prc: 0.5351 - val_loss: 0.9889 - val_tp: 7.0000 - val_fp: 9.0000 - val_tn: 511.0000 - val_fn: 253.0000 - val_accuracy: 0.4385 - val_precision: 0.4375 - val_recall: 0.0269 - val_auc: 0.6644 - val_prc: 0.4536\n",
      "Epoch 108/1000\n",
      "45/45 [==============================] - 4s 80ms/step - loss: 0.9438 - tp: 483.0000 - fp: 261.0000 - tn: 5113.0000 - fn: 2204.0000 - accuracy: 0.4968 - precision: 0.6492 - recall: 0.1798 - auc: 0.7173 - prc: 0.5343 - val_loss: 0.9890 - val_tp: 7.0000 - val_fp: 9.0000 - val_tn: 511.0000 - val_fn: 253.0000 - val_accuracy: 0.4385 - val_precision: 0.4375 - val_recall: 0.0269 - val_auc: 0.6647 - val_prc: 0.4542\n",
      "Epoch 109/1000\n",
      "45/45 [==============================] - ETA: 0s - loss: 0.9457 - tp: 468.0000 - fp: 288.0000 - tn: 5086.0000 - fn: 2219.0000 - accuracy: 0.4980 - precision: 0.6190 - recall: 0.1742 - auc: 0.7151 - prc: 0.5319\n",
      "Epoch 00109: ReduceLROnPlateau reducing learning rate to 3.906250185536919e-06.\n",
      "45/45 [==============================] - 3s 66ms/step - loss: 0.9457 - tp: 468.0000 - fp: 288.0000 - tn: 5086.0000 - fn: 2219.0000 - accuracy: 0.4980 - precision: 0.6190 - recall: 0.1742 - auc: 0.7151 - prc: 0.5319 - val_loss: 0.9890 - val_tp: 7.0000 - val_fp: 9.0000 - val_tn: 511.0000 - val_fn: 253.0000 - val_accuracy: 0.4385 - val_precision: 0.4375 - val_recall: 0.0269 - val_auc: 0.6644 - val_prc: 0.4536\n"
     ]
    },
    {
     "name": "stdout",
     "output_type": "stream",
     "text": [
      "Epoch 110/1000\n",
      "45/45 [==============================] - 3s 67ms/step - loss: 0.9431 - tp: 461.0000 - fp: 267.0000 - tn: 5107.0000 - fn: 2226.0000 - accuracy: 0.4935 - precision: 0.6332 - recall: 0.1716 - auc: 0.7165 - prc: 0.5332 - val_loss: 0.9890 - val_tp: 7.0000 - val_fp: 9.0000 - val_tn: 511.0000 - val_fn: 253.0000 - val_accuracy: 0.4385 - val_precision: 0.4375 - val_recall: 0.0269 - val_auc: 0.6645 - val_prc: 0.4535\n",
      "Epoch 111/1000\n",
      "45/45 [==============================] - 3s 66ms/step - loss: 0.9442 - tp: 461.0000 - fp: 291.0000 - tn: 5083.0000 - fn: 2226.0000 - accuracy: 0.4931 - precision: 0.6130 - recall: 0.1716 - auc: 0.7154 - prc: 0.5308 - val_loss: 0.9890 - val_tp: 7.0000 - val_fp: 9.0000 - val_tn: 511.0000 - val_fn: 253.0000 - val_accuracy: 0.4385 - val_precision: 0.4375 - val_recall: 0.0269 - val_auc: 0.6641 - val_prc: 0.4529\n",
      "Epoch 112/1000\n",
      "45/45 [==============================] - 3s 69ms/step - loss: 0.9410 - tp: 477.0000 - fp: 271.0000 - tn: 5103.0000 - fn: 2210.0000 - accuracy: 0.4994 - precision: 0.6377 - recall: 0.1775 - auc: 0.7197 - prc: 0.5393 - val_loss: 0.9890 - val_tp: 7.0000 - val_fp: 9.0000 - val_tn: 511.0000 - val_fn: 253.0000 - val_accuracy: 0.4385 - val_precision: 0.4375 - val_recall: 0.0269 - val_auc: 0.6641 - val_prc: 0.4529\n",
      "Epoch 113/1000\n",
      "45/45 [==============================] - 3s 64ms/step - loss: 0.9434 - tp: 482.0000 - fp: 269.0000 - tn: 5105.0000 - fn: 2205.0000 - accuracy: 0.5035 - precision: 0.6418 - recall: 0.1794 - auc: 0.7172 - prc: 0.5363 - val_loss: 0.9890 - val_tp: 7.0000 - val_fp: 9.0000 - val_tn: 511.0000 - val_fn: 253.0000 - val_accuracy: 0.4385 - val_precision: 0.4375 - val_recall: 0.0269 - val_auc: 0.6637 - val_prc: 0.4523\n",
      "Epoch 114/1000\n",
      "45/45 [==============================] - 3s 66ms/step - loss: 0.9432 - tp: 473.0000 - fp: 267.0000 - tn: 5107.0000 - fn: 2214.0000 - accuracy: 0.5006 - precision: 0.6392 - recall: 0.1760 - auc: 0.7173 - prc: 0.5360 - val_loss: 0.9890 - val_tp: 7.0000 - val_fp: 9.0000 - val_tn: 511.0000 - val_fn: 253.0000 - val_accuracy: 0.4385 - val_precision: 0.4375 - val_recall: 0.0269 - val_auc: 0.6640 - val_prc: 0.4528\n",
      "Epoch 115/1000\n",
      "45/45 [==============================] - 3s 62ms/step - loss: 0.9427 - tp: 466.0000 - fp: 276.0000 - tn: 5098.0000 - fn: 2221.0000 - accuracy: 0.5091 - precision: 0.6280 - recall: 0.1734 - auc: 0.7187 - prc: 0.5403 - val_loss: 0.9890 - val_tp: 7.0000 - val_fp: 9.0000 - val_tn: 511.0000 - val_fn: 253.0000 - val_accuracy: 0.4385 - val_precision: 0.4375 - val_recall: 0.0269 - val_auc: 0.6640 - val_prc: 0.4528\n",
      "Epoch 116/1000\n",
      "45/45 [==============================] - 3s 65ms/step - loss: 0.9407 - tp: 470.0000 - fp: 270.0000 - tn: 5104.0000 - fn: 2217.0000 - accuracy: 0.5039 - precision: 0.6351 - recall: 0.1749 - auc: 0.7196 - prc: 0.5435 - val_loss: 0.9890 - val_tp: 7.0000 - val_fp: 9.0000 - val_tn: 511.0000 - val_fn: 253.0000 - val_accuracy: 0.4385 - val_precision: 0.4375 - val_recall: 0.0269 - val_auc: 0.6640 - val_prc: 0.4528\n",
      "Epoch 117/1000\n",
      "45/45 [==============================] - 3s 61ms/step - loss: 0.9429 - tp: 472.0000 - fp: 275.0000 - tn: 5099.0000 - fn: 2215.0000 - accuracy: 0.4983 - precision: 0.6319 - recall: 0.1757 - auc: 0.7174 - prc: 0.5404 - val_loss: 0.9890 - val_tp: 7.0000 - val_fp: 9.0000 - val_tn: 511.0000 - val_fn: 253.0000 - val_accuracy: 0.4385 - val_precision: 0.4375 - val_recall: 0.0269 - val_auc: 0.6639 - val_prc: 0.4529\n",
      "Epoch 118/1000\n",
      "45/45 [==============================] - 3s 61ms/step - loss: 0.9416 - tp: 465.0000 - fp: 278.0000 - tn: 5096.0000 - fn: 2222.0000 - accuracy: 0.4931 - precision: 0.6258 - recall: 0.1731 - auc: 0.7165 - prc: 0.5330 - val_loss: 0.9891 - val_tp: 7.0000 - val_fp: 9.0000 - val_tn: 511.0000 - val_fn: 253.0000 - val_accuracy: 0.4385 - val_precision: 0.4375 - val_recall: 0.0269 - val_auc: 0.6639 - val_prc: 0.4530\n",
      "Epoch 119/1000\n",
      "45/45 [==============================] - ETA: 0s - loss: 0.9431 - tp: 471.0000 - fp: 270.0000 - tn: 5104.0000 - fn: 2216.0000 - accuracy: 0.4953 - precision: 0.6356 - recall: 0.1753 - auc: 0.7172 - prc: 0.5356\n",
      "Epoch 00119: ReduceLROnPlateau reducing learning rate to 1.9531250927684596e-06.\n",
      "45/45 [==============================] - 3s 61ms/step - loss: 0.9431 - tp: 471.0000 - fp: 270.0000 - tn: 5104.0000 - fn: 2216.0000 - accuracy: 0.4953 - precision: 0.6356 - recall: 0.1753 - auc: 0.7172 - prc: 0.5356 - val_loss: 0.9891 - val_tp: 7.0000 - val_fp: 9.0000 - val_tn: 511.0000 - val_fn: 253.0000 - val_accuracy: 0.4385 - val_precision: 0.4375 - val_recall: 0.0269 - val_auc: 0.6638 - val_prc: 0.4529\n",
      "Epoch 120/1000\n",
      "45/45 [==============================] - 3s 65ms/step - loss: 0.9412 - tp: 484.0000 - fp: 259.0000 - tn: 5115.0000 - fn: 2203.0000 - accuracy: 0.5009 - precision: 0.6514 - recall: 0.1801 - auc: 0.7209 - prc: 0.5411 - val_loss: 0.9891 - val_tp: 7.0000 - val_fp: 9.0000 - val_tn: 511.0000 - val_fn: 253.0000 - val_accuracy: 0.4385 - val_precision: 0.4375 - val_recall: 0.0269 - val_auc: 0.6637 - val_prc: 0.4528\n",
      "Epoch 121/1000\n",
      "45/45 [==============================] - 3s 71ms/step - loss: 0.9420 - tp: 502.0000 - fp: 267.0000 - tn: 5107.0000 - fn: 2185.0000 - accuracy: 0.4913 - precision: 0.6528 - recall: 0.1868 - auc: 0.7174 - prc: 0.5363 - val_loss: 0.9891 - val_tp: 7.0000 - val_fp: 9.0000 - val_tn: 511.0000 - val_fn: 253.0000 - val_accuracy: 0.4385 - val_precision: 0.4375 - val_recall: 0.0269 - val_auc: 0.6637 - val_prc: 0.4530\n",
      "Epoch 122/1000\n",
      "45/45 [==============================] - 3s 67ms/step - loss: 0.9409 - tp: 476.0000 - fp: 276.0000 - tn: 5098.0000 - fn: 2211.0000 - accuracy: 0.4991 - precision: 0.6330 - recall: 0.1771 - auc: 0.7192 - prc: 0.5401 - val_loss: 0.9891 - val_tp: 7.0000 - val_fp: 9.0000 - val_tn: 511.0000 - val_fn: 253.0000 - val_accuracy: 0.4385 - val_precision: 0.4375 - val_recall: 0.0269 - val_auc: 0.6639 - val_prc: 0.4529\n",
      "Epoch 123/1000\n",
      "45/45 [==============================] - 3s 67ms/step - loss: 0.9411 - tp: 478.0000 - fp: 263.0000 - tn: 5111.0000 - fn: 2209.0000 - accuracy: 0.5017 - precision: 0.6451 - recall: 0.1779 - auc: 0.7194 - prc: 0.5401 - val_loss: 0.9891 - val_tp: 7.0000 - val_fp: 9.0000 - val_tn: 511.0000 - val_fn: 253.0000 - val_accuracy: 0.4385 - val_precision: 0.4375 - val_recall: 0.0269 - val_auc: 0.6636 - val_prc: 0.4529\n",
      "Epoch 124/1000\n",
      "45/45 [==============================] - 3s 70ms/step - loss: 0.9428 - tp: 489.0000 - fp: 281.0000 - tn: 5093.0000 - fn: 2198.0000 - accuracy: 0.4961 - precision: 0.6351 - recall: 0.1820 - auc: 0.7186 - prc: 0.5343 - val_loss: 0.9891 - val_tp: 7.0000 - val_fp: 9.0000 - val_tn: 511.0000 - val_fn: 253.0000 - val_accuracy: 0.4385 - val_precision: 0.4375 - val_recall: 0.0269 - val_auc: 0.6637 - val_prc: 0.4530\n",
      "Epoch 125/1000\n",
      "45/45 [==============================] - 3s 68ms/step - loss: 0.9426 - tp: 486.0000 - fp: 269.0000 - tn: 5105.0000 - fn: 2201.0000 - accuracy: 0.5020 - precision: 0.6437 - recall: 0.1809 - auc: 0.7195 - prc: 0.5379 - val_loss: 0.9891 - val_tp: 7.0000 - val_fp: 9.0000 - val_tn: 511.0000 - val_fn: 253.0000 - val_accuracy: 0.4385 - val_precision: 0.4375 - val_recall: 0.0269 - val_auc: 0.6635 - val_prc: 0.4528\n",
      "Epoch 126/1000\n",
      "45/45 [==============================] - 3s 68ms/step - loss: 0.9429 - tp: 479.0000 - fp: 281.0000 - tn: 5093.0000 - fn: 2208.0000 - accuracy: 0.4950 - precision: 0.6303 - recall: 0.1783 - auc: 0.7157 - prc: 0.5319 - val_loss: 0.9891 - val_tp: 7.0000 - val_fp: 9.0000 - val_tn: 511.0000 - val_fn: 253.0000 - val_accuracy: 0.4385 - val_precision: 0.4375 - val_recall: 0.0269 - val_auc: 0.6632 - val_prc: 0.4521\n",
      "Epoch 127/1000\n",
      "45/45 [==============================] - 3s 63ms/step - loss: 0.9420 - tp: 480.0000 - fp: 260.0000 - tn: 5114.0000 - fn: 2207.0000 - accuracy: 0.5065 - precision: 0.6486 - recall: 0.1786 - auc: 0.7199 - prc: 0.5395 - val_loss: 0.9891 - val_tp: 7.0000 - val_fp: 9.0000 - val_tn: 511.0000 - val_fn: 253.0000 - val_accuracy: 0.4385 - val_precision: 0.4375 - val_recall: 0.0269 - val_auc: 0.6632 - val_prc: 0.4520\n",
      "Epoch 128/1000\n",
      "45/45 [==============================] - 3s 65ms/step - loss: 0.9428 - tp: 477.0000 - fp: 254.0000 - tn: 5120.0000 - fn: 2210.0000 - accuracy: 0.4901 - precision: 0.6525 - recall: 0.1775 - auc: 0.7174 - prc: 0.5375 - val_loss: 0.9891 - val_tp: 7.0000 - val_fp: 9.0000 - val_tn: 511.0000 - val_fn: 253.0000 - val_accuracy: 0.4385 - val_precision: 0.4375 - val_recall: 0.0269 - val_auc: 0.6631 - val_prc: 0.4518\n"
     ]
    },
    {
     "name": "stdout",
     "output_type": "stream",
     "text": [
      "Epoch 129/1000\n",
      "45/45 [==============================] - ETA: 0s - loss: 0.9420 - tp: 463.0000 - fp: 265.0000 - tn: 5109.0000 - fn: 2224.0000 - accuracy: 0.5032 - precision: 0.6360 - recall: 0.1723 - auc: 0.7182 - prc: 0.5361\n",
      "Epoch 00129: ReduceLROnPlateau reducing learning rate to 9.765625463842298e-07.\n",
      "45/45 [==============================] - 3s 65ms/step - loss: 0.9420 - tp: 463.0000 - fp: 265.0000 - tn: 5109.0000 - fn: 2224.0000 - accuracy: 0.5032 - precision: 0.6360 - recall: 0.1723 - auc: 0.7182 - prc: 0.5361 - val_loss: 0.9891 - val_tp: 7.0000 - val_fp: 9.0000 - val_tn: 511.0000 - val_fn: 253.0000 - val_accuracy: 0.4385 - val_precision: 0.4375 - val_recall: 0.0269 - val_auc: 0.6632 - val_prc: 0.4520\n",
      "Epoch 130/1000\n",
      "45/45 [==============================] - 3s 63ms/step - loss: 0.9430 - tp: 466.0000 - fp: 272.0000 - tn: 5102.0000 - fn: 2221.0000 - accuracy: 0.4961 - precision: 0.6314 - recall: 0.1734 - auc: 0.7166 - prc: 0.5311 - val_loss: 0.9891 - val_tp: 7.0000 - val_fp: 9.0000 - val_tn: 511.0000 - val_fn: 253.0000 - val_accuracy: 0.4385 - val_precision: 0.4375 - val_recall: 0.0269 - val_auc: 0.6633 - val_prc: 0.4520\n",
      "Epoch 131/1000\n",
      "45/45 [==============================] - 3s 69ms/step - loss: 0.9425 - tp: 473.0000 - fp: 275.0000 - tn: 5099.0000 - fn: 2214.0000 - accuracy: 0.4935 - precision: 0.6324 - recall: 0.1760 - auc: 0.7184 - prc: 0.5355 - val_loss: 0.9891 - val_tp: 7.0000 - val_fp: 9.0000 - val_tn: 511.0000 - val_fn: 253.0000 - val_accuracy: 0.4385 - val_precision: 0.4375 - val_recall: 0.0269 - val_auc: 0.6633 - val_prc: 0.4520\n",
      "Epoch 132/1000\n",
      "45/45 [==============================] - 4s 79ms/step - loss: 0.9442 - tp: 474.0000 - fp: 275.0000 - tn: 5099.0000 - fn: 2213.0000 - accuracy: 0.4991 - precision: 0.6328 - recall: 0.1764 - auc: 0.7167 - prc: 0.5343 - val_loss: 0.9891 - val_tp: 7.0000 - val_fp: 9.0000 - val_tn: 511.0000 - val_fn: 253.0000 - val_accuracy: 0.4385 - val_precision: 0.4375 - val_recall: 0.0269 - val_auc: 0.6631 - val_prc: 0.4519\n",
      "Epoch 133/1000\n",
      "45/45 [==============================] - 4s 86ms/step - loss: 0.9413 - tp: 482.0000 - fp: 269.0000 - tn: 5105.0000 - fn: 2205.0000 - accuracy: 0.5125 - precision: 0.6418 - recall: 0.1794 - auc: 0.7208 - prc: 0.5426 - val_loss: 0.9891 - val_tp: 7.0000 - val_fp: 9.0000 - val_tn: 511.0000 - val_fn: 253.0000 - val_accuracy: 0.4385 - val_precision: 0.4375 - val_recall: 0.0269 - val_auc: 0.6631 - val_prc: 0.4519\n",
      "Epoch 134/1000\n",
      "45/45 [==============================] - 4s 79ms/step - loss: 0.9401 - tp: 474.0000 - fp: 259.0000 - tn: 5115.0000 - fn: 2213.0000 - accuracy: 0.5002 - precision: 0.6467 - recall: 0.1764 - auc: 0.7214 - prc: 0.5445 - val_loss: 0.9891 - val_tp: 7.0000 - val_fp: 9.0000 - val_tn: 511.0000 - val_fn: 253.0000 - val_accuracy: 0.4385 - val_precision: 0.4375 - val_recall: 0.0269 - val_auc: 0.6633 - val_prc: 0.4521\n",
      "Epoch 135/1000\n",
      "45/45 [==============================] - 3s 74ms/step - loss: 0.9406 - tp: 487.0000 - fp: 270.0000 - tn: 5104.0000 - fn: 2200.0000 - accuracy: 0.4968 - precision: 0.6433 - recall: 0.1812 - auc: 0.7207 - prc: 0.5388 - val_loss: 0.9891 - val_tp: 7.0000 - val_fp: 9.0000 - val_tn: 511.0000 - val_fn: 253.0000 - val_accuracy: 0.4385 - val_precision: 0.4375 - val_recall: 0.0269 - val_auc: 0.6636 - val_prc: 0.4523\n",
      "Epoch 136/1000\n",
      "45/45 [==============================] - 3s 73ms/step - loss: 0.9425 - tp: 490.0000 - fp: 277.0000 - tn: 5097.0000 - fn: 2197.0000 - accuracy: 0.5043 - precision: 0.6389 - recall: 0.1824 - auc: 0.7195 - prc: 0.5387 - val_loss: 0.9891 - val_tp: 7.0000 - val_fp: 9.0000 - val_tn: 511.0000 - val_fn: 253.0000 - val_accuracy: 0.4385 - val_precision: 0.4375 - val_recall: 0.0269 - val_auc: 0.6636 - val_prc: 0.4523\n",
      "Epoch 137/1000\n",
      "45/45 [==============================] - 3s 69ms/step - loss: 0.9413 - tp: 482.0000 - fp: 276.0000 - tn: 5098.0000 - fn: 2205.0000 - accuracy: 0.5017 - precision: 0.6359 - recall: 0.1794 - auc: 0.7204 - prc: 0.5393 - val_loss: 0.9891 - val_tp: 7.0000 - val_fp: 9.0000 - val_tn: 511.0000 - val_fn: 253.0000 - val_accuracy: 0.4385 - val_precision: 0.4375 - val_recall: 0.0269 - val_auc: 0.6636 - val_prc: 0.4523\n",
      "Epoch 138/1000\n",
      "45/45 [==============================] - 3s 67ms/step - loss: 0.9431 - tp: 473.0000 - fp: 279.0000 - tn: 5095.0000 - fn: 2214.0000 - accuracy: 0.5013 - precision: 0.6290 - recall: 0.1760 - auc: 0.7177 - prc: 0.5341 - val_loss: 0.9891 - val_tp: 7.0000 - val_fp: 9.0000 - val_tn: 511.0000 - val_fn: 253.0000 - val_accuracy: 0.4385 - val_precision: 0.4375 - val_recall: 0.0269 - val_auc: 0.6635 - val_prc: 0.4522\n",
      "Epoch 139/1000\n",
      "45/45 [==============================] - ETA: 0s - loss: 0.9430 - tp: 476.0000 - fp: 267.0000 - tn: 5107.0000 - fn: 2211.0000 - accuracy: 0.4972 - precision: 0.6406 - recall: 0.1771 - auc: 0.7185 - prc: 0.5376\n",
      "Epoch 00139: ReduceLROnPlateau reducing learning rate to 4.882812731921149e-07.\n",
      "45/45 [==============================] - 3s 72ms/step - loss: 0.9430 - tp: 476.0000 - fp: 267.0000 - tn: 5107.0000 - fn: 2211.0000 - accuracy: 0.4972 - precision: 0.6406 - recall: 0.1771 - auc: 0.7185 - prc: 0.5376 - val_loss: 0.9891 - val_tp: 7.0000 - val_fp: 9.0000 - val_tn: 511.0000 - val_fn: 253.0000 - val_accuracy: 0.4385 - val_precision: 0.4375 - val_recall: 0.0269 - val_auc: 0.6635 - val_prc: 0.4522\n",
      "Epoch 140/1000\n",
      "45/45 [==============================] - 3s 77ms/step - loss: 0.9414 - tp: 468.0000 - fp: 266.0000 - tn: 5108.0000 - fn: 2219.0000 - accuracy: 0.4961 - precision: 0.6376 - recall: 0.1742 - auc: 0.7203 - prc: 0.5402 - val_loss: 0.9891 - val_tp: 7.0000 - val_fp: 9.0000 - val_tn: 511.0000 - val_fn: 253.0000 - val_accuracy: 0.4385 - val_precision: 0.4375 - val_recall: 0.0269 - val_auc: 0.6636 - val_prc: 0.4522\n",
      "Epoch 141/1000\n",
      "45/45 [==============================] - 3s 74ms/step - loss: 0.9437 - tp: 468.0000 - fp: 278.0000 - tn: 5096.0000 - fn: 2219.0000 - accuracy: 0.4998 - precision: 0.6273 - recall: 0.1742 - auc: 0.7172 - prc: 0.5360 - val_loss: 0.9891 - val_tp: 7.0000 - val_fp: 9.0000 - val_tn: 511.0000 - val_fn: 253.0000 - val_accuracy: 0.4385 - val_precision: 0.4375 - val_recall: 0.0269 - val_auc: 0.6636 - val_prc: 0.4522\n",
      "Epoch 142/1000\n",
      "45/45 [==============================] - 4s 86ms/step - loss: 0.9416 - tp: 491.0000 - fp: 260.0000 - tn: 5114.0000 - fn: 2196.0000 - accuracy: 0.5043 - precision: 0.6538 - recall: 0.1827 - auc: 0.7212 - prc: 0.5414 - val_loss: 0.9891 - val_tp: 7.0000 - val_fp: 9.0000 - val_tn: 511.0000 - val_fn: 253.0000 - val_accuracy: 0.4385 - val_precision: 0.4375 - val_recall: 0.0269 - val_auc: 0.6635 - val_prc: 0.4521\n",
      "Epoch 143/1000\n",
      "45/45 [==============================] - 3s 69ms/step - loss: 0.9389 - tp: 485.0000 - fp: 269.0000 - tn: 5105.0000 - fn: 2202.0000 - accuracy: 0.5039 - precision: 0.6432 - recall: 0.1805 - auc: 0.7230 - prc: 0.5401 - val_loss: 0.9891 - val_tp: 7.0000 - val_fp: 9.0000 - val_tn: 511.0000 - val_fn: 253.0000 - val_accuracy: 0.4385 - val_precision: 0.4375 - val_recall: 0.0269 - val_auc: 0.6635 - val_prc: 0.4521\n",
      "Epoch 144/1000\n",
      "45/45 [==============================] - 3s 72ms/step - loss: 0.9411 - tp: 485.0000 - fp: 261.0000 - tn: 5113.0000 - fn: 2202.0000 - accuracy: 0.4968 - precision: 0.6501 - recall: 0.1805 - auc: 0.7202 - prc: 0.5415 - val_loss: 0.9891 - val_tp: 8.0000 - val_fp: 9.0000 - val_tn: 511.0000 - val_fn: 252.0000 - val_accuracy: 0.4385 - val_precision: 0.4706 - val_recall: 0.0308 - val_auc: 0.6637 - val_prc: 0.4523\n",
      "Epoch 145/1000\n",
      "45/45 [==============================] - 3s 72ms/step - loss: 0.9416 - tp: 472.0000 - fp: 281.0000 - tn: 5093.0000 - fn: 2215.0000 - accuracy: 0.5002 - precision: 0.6268 - recall: 0.1757 - auc: 0.7189 - prc: 0.5392 - val_loss: 0.9891 - val_tp: 8.0000 - val_fp: 9.0000 - val_tn: 511.0000 - val_fn: 252.0000 - val_accuracy: 0.4385 - val_precision: 0.4706 - val_recall: 0.0308 - val_auc: 0.6637 - val_prc: 0.4523\n",
      "Epoch 146/1000\n",
      "45/45 [==============================] - 3s 67ms/step - loss: 0.9439 - tp: 469.0000 - fp: 272.0000 - tn: 5102.0000 - fn: 2218.0000 - accuracy: 0.5009 - precision: 0.6329 - recall: 0.1745 - auc: 0.7166 - prc: 0.5314 - val_loss: 0.9891 - val_tp: 7.0000 - val_fp: 9.0000 - val_tn: 511.0000 - val_fn: 253.0000 - val_accuracy: 0.4385 - val_precision: 0.4375 - val_recall: 0.0269 - val_auc: 0.6637 - val_prc: 0.4523\n"
     ]
    },
    {
     "name": "stdout",
     "output_type": "stream",
     "text": [
      "Epoch 147/1000\n",
      "45/45 [==============================] - 3s 61ms/step - loss: 0.9411 - tp: 475.0000 - fp: 271.0000 - tn: 5103.0000 - fn: 2212.0000 - accuracy: 0.5013 - precision: 0.6367 - recall: 0.1768 - auc: 0.7202 - prc: 0.5395 - val_loss: 0.9891 - val_tp: 7.0000 - val_fp: 9.0000 - val_tn: 511.0000 - val_fn: 253.0000 - val_accuracy: 0.4385 - val_precision: 0.4375 - val_recall: 0.0269 - val_auc: 0.6637 - val_prc: 0.4523\n",
      "Epoch 148/1000\n",
      "45/45 [==============================] - 3s 65ms/step - loss: 0.9409 - tp: 494.0000 - fp: 272.0000 - tn: 5102.0000 - fn: 2193.0000 - accuracy: 0.5024 - precision: 0.6449 - recall: 0.1838 - auc: 0.7214 - prc: 0.5421 - val_loss: 0.9891 - val_tp: 7.0000 - val_fp: 9.0000 - val_tn: 511.0000 - val_fn: 253.0000 - val_accuracy: 0.4385 - val_precision: 0.4375 - val_recall: 0.0269 - val_auc: 0.6637 - val_prc: 0.4523\n",
      "Epoch 149/1000\n",
      "45/45 [==============================] - ETA: 0s - loss: 0.9419 - tp: 485.0000 - fp: 271.0000 - tn: 5103.0000 - fn: 2202.0000 - accuracy: 0.4901 - precision: 0.6415 - recall: 0.1805 - auc: 0.7193 - prc: 0.5402\n",
      "Epoch 00149: ReduceLROnPlateau reducing learning rate to 2.4414063659605745e-07.\n",
      "45/45 [==============================] - 3s 73ms/step - loss: 0.9419 - tp: 485.0000 - fp: 271.0000 - tn: 5103.0000 - fn: 2202.0000 - accuracy: 0.4901 - precision: 0.6415 - recall: 0.1805 - auc: 0.7193 - prc: 0.5402 - val_loss: 0.9891 - val_tp: 7.0000 - val_fp: 9.0000 - val_tn: 511.0000 - val_fn: 253.0000 - val_accuracy: 0.4385 - val_precision: 0.4375 - val_recall: 0.0269 - val_auc: 0.6637 - val_prc: 0.4523\n",
      "Epoch 150/1000\n",
      "45/45 [==============================] - 3s 68ms/step - loss: 0.9403 - tp: 475.0000 - fp: 258.0000 - tn: 5116.0000 - fn: 2212.0000 - accuracy: 0.5047 - precision: 0.6480 - recall: 0.1768 - auc: 0.7227 - prc: 0.5441 - val_loss: 0.9891 - val_tp: 7.0000 - val_fp: 9.0000 - val_tn: 511.0000 - val_fn: 253.0000 - val_accuracy: 0.4385 - val_precision: 0.4375 - val_recall: 0.0269 - val_auc: 0.6637 - val_prc: 0.4523\n",
      "Epoch 151/1000\n",
      "45/45 [==============================] - 3s 69ms/step - loss: 0.9437 - tp: 483.0000 - fp: 280.0000 - tn: 5094.0000 - fn: 2204.0000 - accuracy: 0.4961 - precision: 0.6330 - recall: 0.1798 - auc: 0.7182 - prc: 0.5360 - val_loss: 0.9891 - val_tp: 7.0000 - val_fp: 9.0000 - val_tn: 511.0000 - val_fn: 253.0000 - val_accuracy: 0.4385 - val_precision: 0.4375 - val_recall: 0.0269 - val_auc: 0.6637 - val_prc: 0.4523\n",
      "Epoch 152/1000\n",
      "45/45 [==============================] - 3s 75ms/step - loss: 0.9411 - tp: 485.0000 - fp: 259.0000 - tn: 5115.0000 - fn: 2202.0000 - accuracy: 0.5032 - precision: 0.6519 - recall: 0.1805 - auc: 0.7189 - prc: 0.5401 - val_loss: 0.9891 - val_tp: 7.0000 - val_fp: 9.0000 - val_tn: 511.0000 - val_fn: 253.0000 - val_accuracy: 0.4385 - val_precision: 0.4375 - val_recall: 0.0269 - val_auc: 0.6637 - val_prc: 0.4523\n",
      "Epoch 153/1000\n",
      "45/45 [==============================] - 3s 64ms/step - loss: 0.9424 - tp: 482.0000 - fp: 274.0000 - tn: 5100.0000 - fn: 2205.0000 - accuracy: 0.4931 - precision: 0.6376 - recall: 0.1794 - auc: 0.7184 - prc: 0.5363 - val_loss: 0.9891 - val_tp: 7.0000 - val_fp: 9.0000 - val_tn: 511.0000 - val_fn: 253.0000 - val_accuracy: 0.4385 - val_precision: 0.4375 - val_recall: 0.0269 - val_auc: 0.6637 - val_prc: 0.4523\n",
      "Epoch 154/1000\n",
      "45/45 [==============================] - 3s 64ms/step - loss: 0.9412 - tp: 465.0000 - fp: 283.0000 - tn: 5091.0000 - fn: 2222.0000 - accuracy: 0.5054 - precision: 0.6217 - recall: 0.1731 - auc: 0.7212 - prc: 0.5405 - val_loss: 0.9891 - val_tp: 7.0000 - val_fp: 9.0000 - val_tn: 511.0000 - val_fn: 253.0000 - val_accuracy: 0.4385 - val_precision: 0.4375 - val_recall: 0.0269 - val_auc: 0.6637 - val_prc: 0.4523\n",
      "Epoch 155/1000\n",
      "45/45 [==============================] - 3s 65ms/step - loss: 0.9425 - tp: 473.0000 - fp: 274.0000 - tn: 5100.0000 - fn: 2214.0000 - accuracy: 0.5024 - precision: 0.6332 - recall: 0.1760 - auc: 0.7196 - prc: 0.5401 - val_loss: 0.9891 - val_tp: 7.0000 - val_fp: 9.0000 - val_tn: 511.0000 - val_fn: 253.0000 - val_accuracy: 0.4385 - val_precision: 0.4375 - val_recall: 0.0269 - val_auc: 0.6638 - val_prc: 0.4524\n",
      "Epoch 156/1000\n",
      "45/45 [==============================] - 3s 62ms/step - loss: 0.9423 - tp: 475.0000 - fp: 269.0000 - tn: 5105.0000 - fn: 2212.0000 - accuracy: 0.4931 - precision: 0.6384 - recall: 0.1768 - auc: 0.7177 - prc: 0.5373 - val_loss: 0.9891 - val_tp: 7.0000 - val_fp: 9.0000 - val_tn: 511.0000 - val_fn: 253.0000 - val_accuracy: 0.4385 - val_precision: 0.4375 - val_recall: 0.0269 - val_auc: 0.6638 - val_prc: 0.4524\n",
      "Epoch 157/1000\n",
      "45/45 [==============================] - 3s 62ms/step - loss: 0.9403 - tp: 477.0000 - fp: 267.0000 - tn: 5107.0000 - fn: 2210.0000 - accuracy: 0.4957 - precision: 0.6411 - recall: 0.1775 - auc: 0.7213 - prc: 0.5446 - val_loss: 0.9892 - val_tp: 7.0000 - val_fp: 9.0000 - val_tn: 511.0000 - val_fn: 253.0000 - val_accuracy: 0.4385 - val_precision: 0.4375 - val_recall: 0.0269 - val_auc: 0.6638 - val_prc: 0.4524\n",
      "Epoch 158/1000\n",
      "45/45 [==============================] - 3s 71ms/step - loss: 0.9408 - tp: 478.0000 - fp: 269.0000 - tn: 5105.0000 - fn: 2209.0000 - accuracy: 0.5061 - precision: 0.6399 - recall: 0.1779 - auc: 0.7192 - prc: 0.5366 - val_loss: 0.9892 - val_tp: 7.0000 - val_fp: 9.0000 - val_tn: 511.0000 - val_fn: 253.0000 - val_accuracy: 0.4385 - val_precision: 0.4375 - val_recall: 0.0269 - val_auc: 0.6638 - val_prc: 0.4524\n",
      "Epoch 159/1000\n",
      "45/45 [==============================] - ETA: 0s - loss: 0.9420 - tp: 473.0000 - fp: 260.0000 - tn: 5114.0000 - fn: 2214.0000 - accuracy: 0.5020 - precision: 0.6453 - recall: 0.1760 - auc: 0.7192 - prc: 0.5388\n",
      "Epoch 00159: ReduceLROnPlateau reducing learning rate to 1.2207031829802872e-07.\n",
      "45/45 [==============================] - 3s 73ms/step - loss: 0.9420 - tp: 473.0000 - fp: 260.0000 - tn: 5114.0000 - fn: 2214.0000 - accuracy: 0.5020 - precision: 0.6453 - recall: 0.1760 - auc: 0.7192 - prc: 0.5388 - val_loss: 0.9892 - val_tp: 7.0000 - val_fp: 9.0000 - val_tn: 511.0000 - val_fn: 253.0000 - val_accuracy: 0.4385 - val_precision: 0.4375 - val_recall: 0.0269 - val_auc: 0.6638 - val_prc: 0.4524\n",
      "Epoch 160/1000\n",
      "45/45 [==============================] - 3s 68ms/step - loss: 0.9425 - tp: 478.0000 - fp: 271.0000 - tn: 5103.0000 - fn: 2209.0000 - accuracy: 0.4942 - precision: 0.6382 - recall: 0.1779 - auc: 0.7190 - prc: 0.5378 - val_loss: 0.9892 - val_tp: 7.0000 - val_fp: 9.0000 - val_tn: 511.0000 - val_fn: 253.0000 - val_accuracy: 0.4385 - val_precision: 0.4375 - val_recall: 0.0269 - val_auc: 0.6638 - val_prc: 0.4524\n",
      "Epoch 161/1000\n",
      "45/45 [==============================] - 3s 72ms/step - loss: 0.9442 - tp: 464.0000 - fp: 281.0000 - tn: 5093.0000 - fn: 2223.0000 - accuracy: 0.4939 - precision: 0.6228 - recall: 0.1727 - auc: 0.7165 - prc: 0.5362 - val_loss: 0.9892 - val_tp: 7.0000 - val_fp: 9.0000 - val_tn: 511.0000 - val_fn: 253.0000 - val_accuracy: 0.4385 - val_precision: 0.4375 - val_recall: 0.0269 - val_auc: 0.6638 - val_prc: 0.4524\n",
      "Epoch 162/1000\n",
      "45/45 [==============================] - 3s 75ms/step - loss: 0.9432 - tp: 472.0000 - fp: 271.0000 - tn: 5103.0000 - fn: 2215.0000 - accuracy: 0.4965 - precision: 0.6353 - recall: 0.1757 - auc: 0.7173 - prc: 0.5339 - val_loss: 0.9892 - val_tp: 7.0000 - val_fp: 9.0000 - val_tn: 511.0000 - val_fn: 253.0000 - val_accuracy: 0.4385 - val_precision: 0.4375 - val_recall: 0.0269 - val_auc: 0.6638 - val_prc: 0.4524\n",
      "Epoch 163/1000\n",
      "45/45 [==============================] - ETA: 0s - loss: 0.9409 - tp: 463.0000 - fp: 257.0000 - tn: 5117.0000 - fn: 2224.0000 - accuracy: 0.5047 - precision: 0.6431 - recall: 0.1723 - auc: 0.7209 - prc: 0.5393Restoring model weights from the end of the best epoch.\n",
      "45/45 [==============================] - 3s 74ms/step - loss: 0.9409 - tp: 463.0000 - fp: 257.0000 - tn: 5117.0000 - fn: 2224.0000 - accuracy: 0.5047 - precision: 0.6431 - recall: 0.1723 - auc: 0.7209 - prc: 0.5393 - val_loss: 0.9892 - val_tp: 7.0000 - val_fp: 9.0000 - val_tn: 511.0000 - val_fn: 253.0000 - val_accuracy: 0.4385 - val_precision: 0.4375 - val_recall: 0.0269 - val_auc: 0.6638 - val_prc: 0.4524\n",
      "Epoch 00163: early stopping\n"
     ]
    },
    {
     "data": {
      "image/png": "[encoded data removed]",
      "text/plain": [
       "<Figure size 432x288 with 1 Axes>"
      ]
     },
     "metadata": {
      "needs_background": "light"
     },
     "output_type": "display_data"
    },
    {
     "name": "stdout",
     "output_type": "stream",
     "text": [
      "Model: \"sequential\"\n",
      "_________________________________________________________________\n",
      "Layer (type)                 Output Shape              Param #   \n",
      "=================================================================\n",
      "lstm (LSTM)                  (None, 30, 128)           72192     \n",
      "_________________________________________________________________\n",
      "lstm_1 (LSTM)                (None, 30, 64)            49408     \n",
      "_________________________________________________________________\n",
      "dropout (Dropout)            (None, 30, 64)            0         \n",
      "_________________________________________________________________\n",
      "lstm_2 (LSTM)                (None, 64)                33024     \n",
      "_________________________________________________________________\n",
      "dropout_1 (Dropout)          (None, 64)                0         \n",
      "_________________________________________________________________\n",
      "dense (Dense)                (None, 3)                 195       \n",
      "=================================================================\n",
      "Total params: 154,819\n",
      "Trainable params: 154,819\n",
      "Non-trainable params: 0\n",
      "_________________________________________________________________\n",
      "None\n"
     ]
    }
   ],
   "source": [
    "model,history= basic_lstm(input_dim, feature_size)\n",
    "model.save('./saveModel/LSTM_3to1.h5')\n",
    "print(model.summary())\n"
   ]
  },
  {
   "cell_type": "code",
   "execution_count": 18,
   "id": "presidential-contributor",
   "metadata": {},
   "outputs": [
    {
     "data": {
      "text/plain": [
       "dict_keys(['loss', 'tp', 'fp', 'tn', 'fn', 'accuracy', 'precision', 'recall', 'auc', 'prc', 'val_loss', 'val_tp', 'val_fp', 'val_tn', 'val_fn', 'val_accuracy', 'val_precision', 'val_recall', 'val_auc', 'val_prc', 'lr'])"
      ]
     },
     "execution_count": 18,
     "metadata": {},
     "output_type": "execute_result"
    }
   ],
   "source": [
    "history_dict = history.history\n",
    "history_dict.keys()\n"
   ]
  },
  {
   "cell_type": "code",
   "execution_count": 19,
   "id": "intense-suggestion",
   "metadata": {},
   "outputs": [],
   "source": [
    "acc = history_dict['accuracy']"
   ]
  },
  {
   "cell_type": "code",
   "execution_count": 20,
   "id": "quick-berry",
   "metadata": {},
   "outputs": [
    {
     "data": {
      "text/plain": [
       "[0.41384443640708923,\n",
       " 0.35318198800086975,\n",
       " 0.34350576996803284,\n",
       " 0.3796055018901825,\n",
       " 0.3684406280517578,\n",
       " 0.3959806561470032,\n",
       " 0.3963527977466583,\n",
       " 0.38965389132499695,\n",
       " 0.39560848474502563,\n",
       " 0.38704875111579895,\n",
       " 0.40193524956703186,\n",
       " 0.3781168460845947,\n",
       " 0.40975064039230347,\n",
       " 0.39411982893943787,\n",
       " 0.40193524956703186,\n",
       " 0.3970971405506134,\n",
       " 0.3978414535522461,\n",
       " 0.4064011871814728,\n",
       " 0.417938232421875,\n",
       " 0.48604390025138855,\n",
       " 0.48343878984451294,\n",
       " 0.4830666184425354,\n",
       " 0.4771120250225067,\n",
       " 0.45217713713645935,\n",
       " 0.4700409471988678,\n",
       " 0.48083364963531494,\n",
       " 0.47897282242774963,\n",
       " 0.4908820390701294,\n",
       " 0.48790472745895386,\n",
       " 0.48790472745895386,\n",
       " 0.48418310284614563,\n",
       " 0.48195013403892517,\n",
       " 0.49460363388061523,\n",
       " 0.4864160716533661,\n",
       " 0.48716041445732117,\n",
       " 0.48790472745895386,\n",
       " 0.46966877579689026,\n",
       " 0.48716041445732117,\n",
       " 0.4949758052825928,\n",
       " 0.4923706650733948,\n",
       " 0.48343878984451294,\n",
       " 0.4771120250225067,\n",
       " 0.4759955406188965,\n",
       " 0.46855229139328003,\n",
       " 0.4767398536205292,\n",
       " 0.49646446108818054,\n",
       " 0.49720877408981323,\n",
       " 0.48195013403892517,\n",
       " 0.4953479766845703,\n",
       " 0.4927428364753723,\n",
       " 0.4875325560569763,\n",
       " 0.48455527424812317,\n",
       " 0.4953479766845703,\n",
       " 0.4919985234737396,\n",
       " 0.4953479766845703,\n",
       " 0.4953479766845703,\n",
       " 0.4927428364753723,\n",
       " 0.4994417428970337,\n",
       " 0.4890212118625641,\n",
       " 0.49720877408981323,\n",
       " 0.49050986766815186,\n",
       " 0.4849274158477783,\n",
       " 0.49720877408981323,\n",
       " 0.4797171652317047,\n",
       " 0.48269444704055786,\n",
       " 0.48604390025138855,\n",
       " 0.4838109314441681,\n",
       " 0.4908820390701294,\n",
       " 0.4908820390701294,\n",
       " 0.49758094549179077,\n",
       " 0.4849274158477783,\n",
       " 0.4916263520717621,\n",
       " 0.4856717586517334,\n",
       " 0.4953479766845703,\n",
       " 0.5005582571029663,\n",
       " 0.4919985234737396,\n",
       " 0.49460363388061523,\n",
       " 0.5020468831062317,\n",
       " 0.5024190545082092,\n",
       " 0.5009304285049438,\n",
       " 0.49311500787734985,\n",
       " 0.49758094549179077,\n",
       " 0.49460363388061523,\n",
       " 0.4949758052825928,\n",
       " 0.49832525849342346,\n",
       " 0.4979531168937683,\n",
       " 0.5009304285049438,\n",
       " 0.49720877408981323,\n",
       " 0.493487149477005,\n",
       " 0.5035355687141418,\n",
       " 0.4882768988609314,\n",
       " 0.4908820390701294,\n",
       " 0.4916263520717621,\n",
       " 0.5001860857009888,\n",
       " 0.49646446108818054,\n",
       " 0.49981391429901123,\n",
       " 0.5009304285049438,\n",
       " 0.496092289686203,\n",
       " 0.5016747117042542,\n",
       " 0.49758094549179077,\n",
       " 0.5035355687141418,\n",
       " 0.4949758052825928,\n",
       " 0.4979531168937683,\n",
       " 0.5013025403022766,\n",
       " 0.49981391429901123,\n",
       " 0.49572014808654785,\n",
       " 0.4916263520717621,\n",
       " 0.4968366324901581,\n",
       " 0.4979531168937683,\n",
       " 0.493487149477005,\n",
       " 0.49311500787734985,\n",
       " 0.4994417428970337,\n",
       " 0.5035355687141418,\n",
       " 0.5005582571029663,\n",
       " 0.5091179609298706,\n",
       " 0.5039076805114746,\n",
       " 0.49832525849342346,\n",
       " 0.49311500787734985,\n",
       " 0.4953479766845703,\n",
       " 0.5009304285049438,\n",
       " 0.49125418066978455,\n",
       " 0.49906960129737854,\n",
       " 0.5016747117042542,\n",
       " 0.496092289686203,\n",
       " 0.5020468831062317,\n",
       " 0.4949758052825928,\n",
       " 0.5065128207206726,\n",
       " 0.4901376962661743,\n",
       " 0.5031633973121643,\n",
       " 0.496092289686203,\n",
       " 0.493487149477005,\n",
       " 0.49906960129737854,\n",
       " 0.5124674439430237,\n",
       " 0.5001860857009888,\n",
       " 0.4968366324901581,\n",
       " 0.5042798519134521,\n",
       " 0.5016747117042542,\n",
       " 0.5013025403022766,\n",
       " 0.49720877408981323,\n",
       " 0.496092289686203,\n",
       " 0.49981391429901123,\n",
       " 0.5042798519134521,\n",
       " 0.5039076805114746,\n",
       " 0.4968366324901581,\n",
       " 0.5001860857009888,\n",
       " 0.5009304285049438,\n",
       " 0.5013025403022766,\n",
       " 0.5024190545082092,\n",
       " 0.4901376962661743,\n",
       " 0.5046520233154297,\n",
       " 0.496092289686203,\n",
       " 0.5031633973121643,\n",
       " 0.49311500787734985,\n",
       " 0.5053963661193848,\n",
       " 0.5024190545082092,\n",
       " 0.49311500787734985,\n",
       " 0.49572014808654785,\n",
       " 0.5061406493186951,\n",
       " 0.5020468831062317,\n",
       " 0.4942314922809601,\n",
       " 0.49385932087898254,\n",
       " 0.49646446108818054,\n",
       " 0.5046520233154297]"
      ]
     },
     "execution_count": 20,
     "metadata": {},
     "output_type": "execute_result"
    }
   ],
   "source": [
    "acc"
   ]
  },
  {
   "cell_type": "code",
   "execution_count": 21,
   "id": "beneficial-method",
   "metadata": {
    "scrolled": false
   },
   "outputs": [
    {
     "data": {
      "image/png": "[encoded data removed]",
      "text/plain": [
       "<Figure size 432x288 with 1 Axes>"
      ]
     },
     "metadata": {
      "needs_background": "light"
     },
     "output_type": "display_data"
    }
   ],
   "source": [
    "import matplotlib.pyplot as plt\n",
    "\n",
    "acc = history_dict['accuracy']\n",
    "val_acc = history_dict['val_accuracy']\n",
    "loss = history_dict['loss']\n",
    "val_loss = history_dict['val_loss']\n",
    "\n",
    "epochs = range(1, len(acc) + 1)\n",
    "\n",
    "# “bo”代表 \"蓝点\"\n",
    "plt.plot(epochs, loss, 'bo', label='Training loss')\n",
    "# b代表“蓝色实线”\n",
    "plt.plot(epochs, val_loss, 'b', label='Validation loss')\n",
    "plt.title('Training and validation loss')\n",
    "plt.xlabel('Epochs')\n",
    "plt.ylabel('Loss')\n",
    "plt.legend()\n",
    "\n",
    "plt.show()"
   ]
  },
  {
   "cell_type": "code",
   "execution_count": 22,
   "id": "flexible-jason",
   "metadata": {},
   "outputs": [
    {
     "data": {
      "image/png": "[encoded data removed]",
      "text/plain": [
       "<Figure size 432x288 with 1 Axes>"
      ]
     },
     "metadata": {
      "needs_background": "light"
     },
     "output_type": "display_data"
    }
   ],
   "source": [
    "plt.clf()   # 清除数字\n",
    "plt.plot(epochs, acc, 'bo', label='Training acc')\n",
    "plt.plot(epochs, val_acc, 'b', label='Validation acc')\n",
    "plt.title('Training and validation accuracy')\n",
    "plt.xlabel('Epochs')\n",
    "plt.ylabel('Accuracy')\n",
    "plt.legend()\n",
    "plt.show()"
   ]
  },
  {
   "cell_type": "code",
   "execution_count": 23,
   "id": "congressional-plant",
   "metadata": {},
   "outputs": [],
   "source": [
    "import matplotlib as mpl\n",
    "mpl.rcParams['figure.figsize'] = (12, 10)\n",
    "colors = plt.rcParams['axes.prop_cycle'].by_key()['color']"
   ]
  },
  {
   "cell_type": "code",
   "execution_count": 24,
   "id": "exceptional-wisdom",
   "metadata": {},
   "outputs": [],
   "source": [
    "def plot_metrics(history):\n",
    "    metrics = ['loss', 'prc', 'precision', 'recall']\n",
    "    for n, metric in enumerate(metrics):\n",
    "        name = metric.replace(\"_\",\" \").capitalize()\n",
    "        plt.subplot(2,2,n+1)\n",
    "        plt.plot(history.epoch, history.history[metric], color=colors[0], label='Train')\n",
    "        plt.plot(history.epoch, history.history['val_'+metric],\n",
    "             color=colors[0], linestyle=\"--\", label='Val')\n",
    "        plt.xlabel('Epoch')\n",
    "        plt.ylabel(name)\n",
    "        if metric == 'loss':\n",
    "            plt.ylim([0, plt.ylim()[1]])\n",
    "        elif metric == 'auc':\n",
    "            plt.ylim([0.8,1])\n",
    "        else:\n",
    "            plt.ylim([0,1])\n",
    "\n",
    "        plt.legend()"
   ]
  },
  {
   "cell_type": "code",
   "execution_count": 25,
   "id": "accompanied-forge",
   "metadata": {},
   "outputs": [
    {
     "data": {
      "image/png": "[encoded data removed]",
      "text/plain": [
       "<Figure size 864x720 with 4 Axes>"
      ]
     },
     "metadata": {
      "needs_background": "light"
     },
     "output_type": "display_data"
    }
   ],
   "source": [
    "plot_metrics(history)"
   ]
  },
  {
   "cell_type": "markdown",
   "id": "controlled-chorus",
   "metadata": {},
   "source": [
    "### Note: That the validation curve generally performs better than the training curve. This is mainly caused by the fact that the dropout layer is not active when evaluating the model."
   ]
  },
  {
   "cell_type": "markdown",
   "id": "expired-couple",
   "metadata": {},
   "source": [
    "\n",
    "### Evaluate metrics \n",
    "### You can use a confusion matrix to summarize the actual vs. predicted labels where the X axis is the predicted label  and the Y axis is the actual label."
   ]
  },
  {
   "cell_type": "code",
   "execution_count": 26,
   "id": "angry-pattern",
   "metadata": {},
   "outputs": [],
   "source": [
    "train_predictions_baseline = model.predict(X_train, batch_size=BATCH_SIZE)\n",
    "test_predictions_baseline = model.predict(X_test, batch_size=BATCH_SIZE)"
   ]
  },
  {
   "cell_type": "code",
   "execution_count": null,
   "id": "broadband-yeast",
   "metadata": {},
   "outputs": [],
   "source": []
  },
  {
   "cell_type": "code",
   "execution_count": null,
   "id": "julian-result",
   "metadata": {},
   "outputs": [],
   "source": []
  },
  {
   "cell_type": "code",
   "execution_count": 27,
   "id": "funny-custody",
   "metadata": {},
   "outputs": [
    {
     "name": "stdout",
     "output_type": "stream",
     "text": [
      "9/9 [==============================] - 0s 20ms/step - loss: 1.0181 - tp: 170.0000 - fp: 187.0000 - tn: 853.0000 - fn: 350.0000 - accuracy: 0.4442 - precision: 0.4762 - recall: 0.3269 - auc: 0.6808 - prc: 0.4605  \n",
      "loss :  1.0180671215057373\n",
      "tp :  170.0\n",
      "fp :  187.0\n",
      "tn :  853.0\n",
      "fn :  350.0\n",
      "accuracy :  0.4442307651042938\n",
      "precision :  0.4761904776096344\n",
      "recall :  0.32692307233810425\n",
      "auc :  0.6807534694671631\n",
      "prc :  0.4604937434196472\n",
      "\n"
     ]
    }
   ],
   "source": [
    "baseline_results = model.evaluate(X_test, y_test,\n",
    "                                  batch_size=BATCH_SIZE, verbose=1)\n",
    "for name, value in zip(model.metrics_names, baseline_results):\n",
    "    print(name, ': ', value)\n",
    "print()\n",
    "\n",
    "#plot_cm(y_test, test_predictions_baseline)"
   ]
  },
  {
   "cell_type": "markdown",
   "id": "committed-window",
   "metadata": {},
   "source": [
    "# 绘制ROC曲线"
   ]
  },
  {
   "cell_type": "code",
   "execution_count": 28,
   "id": "packed-disability",
   "metadata": {},
   "outputs": [],
   "source": [
    "import numpy as np\n",
    "import pandas as pd\n",
    "import matplotlib as mpl\n",
    "import matplotlib.pyplot as plt\n",
    "from sklearn.model_selection import train_test_split\n",
    "from sklearn.linear_model import LogisticRegressionCV\n",
    "from sklearn import metrics\n",
    "from sklearn.preprocessing import label_binarize\n"
   ]
  },
  {
   "cell_type": "code",
   "execution_count": 29,
   "id": "abandoned-england",
   "metadata": {},
   "outputs": [
    {
     "name": "stdout",
     "output_type": "stream",
     "text": [
      "17/17 [==============================] - 0s 15ms/step\n"
     ]
    }
   ],
   "source": [
    "#同时也是分类得分y_score\n",
    "#概率矩阵P和标签矩阵L分别对应代码中的y_score和y_one_hot：\n",
    "yhat = model.predict(X_test, verbose=1)\n"
   ]
  },
  {
   "cell_type": "code",
   "execution_count": 30,
   "id": "lightweight-rolling",
   "metadata": {},
   "outputs": [],
   "source": [
    "from sklearn.preprocessing import label_binarize\n"
   ]
  },
  {
   "cell_type": "code",
   "execution_count": 31,
   "id": "israeli-blank",
   "metadata": {},
   "outputs": [
    {
     "data": {
      "text/plain": [
       "array([[0, 1, 0],\n",
       "       [0, 0, 1],\n",
       "       [0, 0, 1],\n",
       "       ...,\n",
       "       [1, 0, 0],\n",
       "       [1, 0, 0],\n",
       "       [1, 0, 0]])"
      ]
     },
     "execution_count": 31,
     "metadata": {},
     "output_type": "execute_result"
    }
   ],
   "source": [
    "y_test"
   ]
  },
  {
   "cell_type": "code",
   "execution_count": 32,
   "id": "compatible-columbus",
   "metadata": {},
   "outputs": [],
   "source": [
    "dict_count = {}\n",
    "dict_count['跌']=0\n",
    "dict_count['涨']=0\n",
    "dict_count['平']=0\n",
    "for i in range(len(y_test)):\n",
    "    if(y_test[i][0] ==1):\n",
    "        dict_count['跌'] += 1\n",
    "    if(y_test[i][1] == 1):\n",
    "        dict_count['平'] += 1\n",
    "    if(y_test[i][2] == 1):\n",
    "        dict_count['涨'] += 1"
   ]
  },
  {
   "cell_type": "code",
   "execution_count": 33,
   "id": "prompt-syndicate",
   "metadata": {},
   "outputs": [
    {
     "data": {
      "text/plain": [
       "{'跌': 230, '涨': 224, '平': 66}"
      ]
     },
     "execution_count": 33,
     "metadata": {},
     "output_type": "execute_result"
    }
   ],
   "source": [
    "dict_count"
   ]
  },
  {
   "cell_type": "code",
   "execution_count": 34,
   "id": "great-committee",
   "metadata": {},
   "outputs": [
    {
     "data": {
      "text/plain": [
       "array([[0.46452615, 0.1231234 , 0.41235048],\n",
       "       [0.46436042, 0.12338014, 0.41225934],\n",
       "       [0.46424782, 0.12345187, 0.41230035],\n",
       "       ...,\n",
       "       [0.5534611 , 0.02505807, 0.4214809 ],\n",
       "       [0.55297035, 0.02506474, 0.42196497],\n",
       "       [0.55244255, 0.02506463, 0.42249286]], dtype=float32)"
      ]
     },
     "execution_count": 34,
     "metadata": {},
     "output_type": "execute_result"
    }
   ],
   "source": [
    "yhat"
   ]
  },
  {
   "cell_type": "code",
   "execution_count": 35,
   "id": "olympic-projector",
   "metadata": {},
   "outputs": [
    {
     "name": "stdout",
     "output_type": "stream",
     "text": [
      "调用函数auc： 0.679219674556213\n",
      "手动计算auc： 0.679219674556213\n"
     ]
    },
    {
     "data": {
      "image/png": "[encoded data removed]",
      "text/plain": [
       "<Figure size 864x720 with 1 Axes>"
      ]
     },
     "metadata": {
      "needs_background": "light"
     },
     "output_type": "display_data"
    }
   ],
   "source": [
    "# 计算属于各个类别的概率，返回值的shape = [n_samples, n_classes]\n",
    "y_score = model.predict(X_test)\n",
    "# 1、调用函数计算micro类型的AUC\n",
    "print('调用函数auc：', metrics.roc_auc_score(y_test, y_score, average='micro'))\n",
    "# 2、手动计算micro类型的AUC\n",
    "#首先将矩阵y_one_hot和y_score展开，然后计算假正例率FPR和真正例率TPR\n",
    "fpr, tpr, thresholds = metrics.roc_curve(y_test.ravel(),y_score.ravel())\n",
    "auc = metrics.auc(fpr, tpr)\n",
    "print('手动计算auc：', auc)\n",
    "#绘图\n",
    "mpl.rcParams['font.sans-serif'] = u'SimHei'\n",
    "mpl.rcParams['axes.unicode_minus'] = False\n",
    "#FPR就是横坐标,TPR就是纵坐标\n",
    "plt.plot(fpr, tpr, c = 'r', lw = 2, alpha = 0.7, label = u'AUC=%.3f' % auc)\n",
    "plt.plot((0, 1), (0, 1), c = '#808080', lw = 1, ls = '--', alpha = 0.7)\n",
    "plt.xlim((-0.01, 1.02))\n",
    "plt.ylim((-0.01, 1.02))\n",
    "plt.xticks(np.arange(0, 1.1, 0.1))\n",
    "plt.yticks(np.arange(0, 1.1, 0.1))\n",
    "plt.xlabel('False Positive Rate', fontsize=13)\n",
    "plt.ylabel('True Positive Rate', fontsize=13)\n",
    "plt.grid(b=True, ls=':')\n",
    "plt.legend(loc='lower right', fancybox=True, framealpha=0.8, fontsize=12)\n",
    "plt.title(u'mtj_june数据集分类后的ROC和AUC', fontsize=17)\n",
    "plt.show()"
   ]
  },
  {
   "cell_type": "code",
   "execution_count": null,
   "id": "productive-collect",
   "metadata": {},
   "outputs": [],
   "source": []
  },
  {
   "cell_type": "code",
   "execution_count": 36,
   "id": "fallen-mistress",
   "metadata": {},
   "outputs": [
    {
     "data": {
      "text/plain": [
       "array([[0.46452615, 0.1231234 , 0.41235048],\n",
       "       [0.46436042, 0.12338014, 0.41225934],\n",
       "       [0.46424782, 0.12345187, 0.41230035],\n",
       "       ...,\n",
       "       [0.5534611 , 0.02505807, 0.4214809 ],\n",
       "       [0.55297035, 0.02506474, 0.42196497],\n",
       "       [0.55244255, 0.02506463, 0.42249286]], dtype=float32)"
      ]
     },
     "execution_count": 36,
     "metadata": {},
     "output_type": "execute_result"
    }
   ],
   "source": [
    "y_score"
   ]
  },
  {
   "cell_type": "code",
   "execution_count": null,
   "id": "dependent-ottawa",
   "metadata": {},
   "outputs": [],
   "source": []
  },
  {
   "cell_type": "code",
   "execution_count": null,
   "id": "nervous-condition",
   "metadata": {},
   "outputs": [],
   "source": []
  },
  {
   "cell_type": "code",
   "execution_count": null,
   "id": "organic-particle",
   "metadata": {
    "scrolled": false
   },
   "outputs": [],
   "source": []
  },
  {
   "cell_type": "code",
   "execution_count": 37,
   "id": "selected-gender",
   "metadata": {},
   "outputs": [],
   "source": [
    "import numpy as np\n",
    "import seaborn as sns\n",
    "from sklearn.metrics import confusion_matrix\n",
    "import pandas as pd\n",
    "import matplotlib.pyplot as plt\n",
    "from sklearn.metrics import accuracy_score, average_precision_score,precision_score,f1_score,recall_score"
   ]
  },
  {
   "cell_type": "code",
   "execution_count": 38,
   "id": "productive-cooperation",
   "metadata": {},
   "outputs": [
    {
     "data": {
      "text/plain": [
       "array([[0.46452615, 0.1231234 , 0.41235048],\n",
       "       [0.46436042, 0.12338014, 0.41225934],\n",
       "       [0.46424782, 0.12345187, 0.41230035],\n",
       "       ...,\n",
       "       [0.5534611 , 0.02505807, 0.4214809 ],\n",
       "       [0.55297035, 0.02506474, 0.42196497],\n",
       "       [0.55244255, 0.02506463, 0.42249286]], dtype=float32)"
      ]
     },
     "execution_count": 38,
     "metadata": {},
     "output_type": "execute_result"
    }
   ],
   "source": [
    "yhat"
   ]
  },
  {
   "cell_type": "code",
   "execution_count": 39,
   "id": "stuffed-scenario",
   "metadata": {},
   "outputs": [
    {
     "data": {
      "text/plain": [
       "array([[0, 1, 0],\n",
       "       [0, 0, 1],\n",
       "       [0, 0, 1],\n",
       "       ...,\n",
       "       [1, 0, 0],\n",
       "       [1, 0, 0],\n",
       "       [1, 0, 0]])"
      ]
     },
     "execution_count": 39,
     "metadata": {},
     "output_type": "execute_result"
    }
   ],
   "source": [
    "y_test"
   ]
  },
  {
   "cell_type": "code",
   "execution_count": 40,
   "id": "obvious-showcase",
   "metadata": {},
   "outputs": [
    {
     "data": {
      "text/plain": [
       "array([[0.46452615, 0.1231234 , 0.41235048],\n",
       "       [0.46436042, 0.12338014, 0.41225934],\n",
       "       [0.46424782, 0.12345187, 0.41230035],\n",
       "       ...,\n",
       "       [0.5534611 , 0.02505807, 0.4214809 ],\n",
       "       [0.55297035, 0.02506474, 0.42196497],\n",
       "       [0.55244255, 0.02506463, 0.42249286]], dtype=float32)"
      ]
     },
     "execution_count": 40,
     "metadata": {},
     "output_type": "execute_result"
    }
   ],
   "source": [
    "y_score"
   ]
  },
  {
   "cell_type": "code",
   "execution_count": 41,
   "id": "municipal-discovery",
   "metadata": {},
   "outputs": [],
   "source": [
    "def to_0_1(y):\n",
    "    res = []\n",
    "    for i in range(y.shape[0]):\n",
    "        if(y[i][0] > y[i][1] and y[i][0] > y[i][2]):\n",
    "            res.append(-1) #跌\n",
    "        if(y[i][1] > y[i][0] and y[i][1] > y[i][2]):\n",
    "            res.append(0) #平\n",
    "        if(y[i][2] > y[i][0] and y[i][2] > y[i][1]):\n",
    "            res.append(1) #涨\n",
    "    return np.array(res)\n",
    "\n",
    "def result_to_0_1(y):\n",
    "        if(tf.is_tensor(y)):\n",
    "            y = y.numpy()\n",
    "            for i in range(y.shape[0]):\n",
    "                max_index = 0\n",
    "                if(y[i][max_index] < y[i][1]):\n",
    "                    max_index = 1\n",
    "                if(y[i][max_index] < y[i][2]):\n",
    "                    max_index = 2\n",
    "                list_temp = [0,1,2]\n",
    "                list_temp.pop(max_index)\n",
    "                y[i][max_index] = 1\n",
    "                y[i][list_temp[0]] = 0\n",
    "                y[i][list_temp[1]] = 0\n",
    "        else:\n",
    "            for i in range(y.shape[0]):\n",
    "                max_index = 0\n",
    "                if(y[i][max_index] < y[i][1]):\n",
    "                    max_index = 1\n",
    "                if(y[i][max_index] < y[i][2]):\n",
    "                    max_index = 2\n",
    "                list_temp = [0,1,2]\n",
    "                list_temp.pop(max_index)\n",
    "                y[i][max_index] = 1\n",
    "                y[i][list_temp[0]] = 0\n",
    "                y[i][list_temp[1]] = 0\n",
    "        return y\n",
    "    "
   ]
  },
  {
   "cell_type": "code",
   "execution_count": 42,
   "id": "parental-advertiser",
   "metadata": {},
   "outputs": [],
   "source": [
    "y = result_to_0_1(yhat)"
   ]
  },
  {
   "cell_type": "code",
   "execution_count": 43,
   "id": "novel-access",
   "metadata": {},
   "outputs": [
    {
     "data": {
      "text/plain": [
       "array([[1., 0., 0.],\n",
       "       [1., 0., 0.],\n",
       "       [1., 0., 0.],\n",
       "       ...,\n",
       "       [1., 0., 0.],\n",
       "       [1., 0., 0.],\n",
       "       [1., 0., 0.]], dtype=float32)"
      ]
     },
     "execution_count": 43,
     "metadata": {},
     "output_type": "execute_result"
    }
   ],
   "source": [
    "y"
   ]
  },
  {
   "cell_type": "code",
   "execution_count": 44,
   "id": "roman-representative",
   "metadata": {},
   "outputs": [],
   "source": [
    "y_pre = to_0_1(yhat)\n",
    "y_true = to_0_1(y_test)"
   ]
  },
  {
   "cell_type": "code",
   "execution_count": 45,
   "id": "noticed-spelling",
   "metadata": {},
   "outputs": [
    {
     "data": {
      "text/plain": [
       "array([-1, -1, -1, -1, -1, -1, -1, -1, -1, -1, -1, -1, -1, -1, -1, -1, -1,\n",
       "       -1, -1, -1, -1, -1, -1, -1, -1, -1, -1, -1, -1, -1, -1, -1, -1, -1,\n",
       "       -1, -1, -1, -1, -1, -1, -1, -1, -1, -1, -1, -1, -1, -1, -1, -1, -1,\n",
       "       -1, -1, -1, -1, -1, -1, -1, -1, -1, -1, -1, -1, -1, -1, -1, -1, -1,\n",
       "       -1, -1, -1, -1, -1, -1, -1, -1, -1, -1, -1, -1, -1, -1, -1, -1, -1,\n",
       "       -1, -1, -1, -1, -1, -1, -1, -1, -1, -1, -1, -1, -1, -1, -1, -1, -1,\n",
       "       -1, -1, -1, -1, -1, -1, -1, -1, -1, -1, -1, -1, -1, -1, -1, -1, -1,\n",
       "       -1, -1, -1, -1, -1, -1, -1, -1, -1, -1,  1,  1,  1,  1,  1,  1,  1,\n",
       "        1,  1,  1,  1,  1,  1, -1, -1, -1, -1, -1, -1, -1, -1, -1, -1, -1,\n",
       "       -1, -1, -1, -1, -1, -1, -1, -1, -1, -1, -1, -1, -1, -1, -1,  1,  1,\n",
       "        1, -1, -1, -1, -1, -1, -1, -1, -1, -1, -1, -1, -1, -1, -1, -1, -1,\n",
       "       -1, -1, -1, -1, -1, -1, -1, -1, -1, -1, -1, -1, -1, -1, -1, -1, -1,\n",
       "       -1, -1, -1, -1, -1, -1, -1, -1, -1, -1, -1, -1, -1, -1, -1, -1, -1,\n",
       "       -1, -1, -1, -1, -1, -1, -1, -1, -1, -1, -1, -1, -1, -1, -1, -1, -1,\n",
       "       -1, -1, -1, -1, -1, -1, -1, -1, -1, -1, -1, -1, -1, -1, -1, -1, -1,\n",
       "       -1, -1, -1, -1, -1, -1, -1, -1, -1, -1, -1, -1, -1, -1, -1, -1, -1,\n",
       "       -1, -1, -1, -1, -1, -1, -1, -1, -1, -1, -1, -1, -1, -1, -1, -1, -1,\n",
       "       -1, -1, -1, -1, -1, -1, -1, -1, -1, -1, -1, -1, -1, -1, -1, -1, -1,\n",
       "       -1, -1, -1, -1, -1, -1, -1, -1, -1, -1, -1, -1, -1, -1, -1, -1, -1,\n",
       "       -1, -1, -1, -1, -1, -1, -1, -1, -1, -1, -1, -1, -1, -1, -1, -1, -1,\n",
       "       -1, -1, -1, -1, -1, -1, -1, -1, -1, -1, -1, -1, -1, -1, -1, -1, -1,\n",
       "       -1, -1, -1, -1, -1, -1, -1, -1, -1, -1, -1, -1, -1, -1, -1, -1, -1,\n",
       "       -1, -1, -1, -1, -1, -1, -1, -1, -1, -1, -1, -1, -1, -1, -1, -1, -1,\n",
       "       -1, -1, -1, -1, -1, -1, -1, -1, -1, -1, -1, -1, -1, -1, -1, -1, -1,\n",
       "       -1, -1, -1, -1, -1, -1, -1, -1, -1, -1, -1, -1, -1, -1, -1, -1, -1,\n",
       "       -1, -1, -1, -1, -1, -1, -1, -1, -1, -1, -1, -1, -1, -1, -1, -1, -1,\n",
       "       -1, -1, -1, -1, -1, -1, -1, -1, -1, -1, -1, -1, -1, -1, -1, -1, -1,\n",
       "       -1, -1, -1, -1, -1, -1, -1, -1, -1, -1, -1, -1, -1, -1, -1, -1, -1,\n",
       "       -1, -1, -1, -1, -1, -1, -1, -1, -1, -1, -1, -1, -1, -1, -1, -1, -1,\n",
       "       -1, -1, -1, -1, -1, -1, -1, -1, -1, -1, -1, -1, -1, -1, -1, -1, -1,\n",
       "       -1, -1, -1, -1, -1, -1, -1, -1, -1, -1])"
      ]
     },
     "execution_count": 45,
     "metadata": {},
     "output_type": "execute_result"
    }
   ],
   "source": [
    "y_pre"
   ]
  },
  {
   "cell_type": "code",
   "execution_count": 46,
   "id": "hollywood-hunter",
   "metadata": {},
   "outputs": [
    {
     "data": {
      "text/plain": [
       "array([ 0,  1,  1, -1, -1,  1,  0, -1,  0, -1, -1, -1,  0,  1,  1,  1, -1,\n",
       "        1, -1, -1, -1, -1, -1,  0, -1, -1,  0,  1,  0,  1,  0,  1,  0,  0,\n",
       "        0,  1, -1,  1, -1,  0,  1,  1, -1, -1, -1, -1,  1, -1, -1, -1, -1,\n",
       "        1,  0,  0,  1,  0,  1, -1,  1,  0, -1,  0,  1,  1,  0, -1, -1, -1,\n",
       "       -1,  0,  0,  1,  1,  0, -1,  0,  1,  1,  0,  1,  0,  1,  1, -1,  1,\n",
       "        1, -1,  1,  0,  1, -1, -1,  0, -1, -1, -1, -1,  1, -1, -1,  0,  1,\n",
       "        0,  1,  1,  1,  1, -1,  0, -1, -1,  1,  1,  1,  1,  1,  1,  1, -1,\n",
       "       -1,  1,  1,  1,  0,  1, -1,  1, -1,  1,  1, -1,  1,  0,  1,  0, -1,\n",
       "        1, -1, -1,  0,  1, -1,  0,  1,  0,  1, -1, -1,  1, -1,  1, -1,  1,\n",
       "        1, -1,  1,  1, -1,  1,  1,  1,  1,  0,  0, -1,  1, -1,  0,  1, -1,\n",
       "        1,  1, -1, -1, -1,  1,  1, -1, -1, -1,  1,  1,  1,  1,  1,  1,  1,\n",
       "       -1,  0,  0,  1, -1, -1,  0, -1,  1,  0, -1,  1,  0,  1,  1, -1,  1,\n",
       "        1, -1,  1,  1, -1, -1, -1,  1, -1,  1,  1,  1,  1, -1, -1, -1,  1,\n",
       "        0,  1,  1,  1, -1,  1,  0, -1,  1,  1,  1, -1,  1,  1, -1,  1,  1,\n",
       "        1, -1,  1,  1, -1, -1, -1,  1,  1,  1,  1, -1, -1,  1, -1,  0, -1,\n",
       "       -1, -1,  1, -1, -1,  1,  1,  1, -1,  1, -1, -1,  0,  1, -1,  1,  1,\n",
       "       -1,  1, -1,  1, -1,  0, -1,  0,  1, -1,  1,  1,  1,  1, -1,  1,  1,\n",
       "        1,  1, -1, -1,  1, -1, -1,  1, -1, -1, -1, -1, -1,  1, -1,  1,  1,\n",
       "        1,  1, -1,  1, -1,  1,  1, -1, -1,  1, -1, -1,  1, -1,  1,  1,  1,\n",
       "       -1, -1,  1,  1,  1, -1, -1, -1, -1, -1, -1, -1, -1,  1, -1,  1,  1,\n",
       "        1,  1, -1, -1, -1, -1, -1,  1, -1,  1,  1, -1, -1, -1,  1, -1, -1,\n",
       "       -1,  0,  1,  1,  1,  1,  1, -1,  0, -1, -1,  0, -1,  1, -1,  1, -1,\n",
       "       -1,  1,  1,  1,  1, -1,  1, -1,  1,  1, -1,  1,  1, -1, -1, -1, -1,\n",
       "       -1, -1, -1, -1,  1, -1, -1, -1,  1,  1,  1, -1,  1,  0, -1, -1,  1,\n",
       "        0,  1,  0,  1,  1, -1, -1,  0, -1, -1, -1, -1,  0,  1,  0,  1, -1,\n",
       "       -1, -1, -1, -1,  1,  1,  1,  1,  1, -1,  1,  0,  1,  1, -1,  1,  1,\n",
       "       -1, -1, -1, -1, -1, -1,  1,  1, -1,  1,  1,  1,  1, -1,  1, -1,  1,\n",
       "       -1,  0, -1,  0, -1, -1,  1, -1,  1, -1,  0, -1,  1,  1, -1,  0, -1,\n",
       "       -1, -1, -1,  1,  1,  1, -1,  1,  0,  1, -1, -1,  1, -1,  1, -1, -1,\n",
       "       -1,  1, -1, -1,  1,  0,  1, -1, -1,  1,  1, -1, -1, -1, -1, -1,  1,\n",
       "        1, -1, -1,  0, -1, -1, -1, -1, -1, -1])"
      ]
     },
     "execution_count": 46,
     "metadata": {},
     "output_type": "execute_result"
    }
   ],
   "source": [
    "y_true"
   ]
  },
  {
   "cell_type": "code",
   "execution_count": 47,
   "id": "spanish-uzbekistan",
   "metadata": {},
   "outputs": [
    {
     "data": {
      "text/plain": [
       "array([[0, 1, 0],\n",
       "       [0, 0, 1],\n",
       "       [0, 0, 1],\n",
       "       ...,\n",
       "       [1, 0, 0],\n",
       "       [1, 0, 0],\n",
       "       [1, 0, 0]])"
      ]
     },
     "execution_count": 47,
     "metadata": {},
     "output_type": "execute_result"
    }
   ],
   "source": [
    "y_test"
   ]
  },
  {
   "cell_type": "code",
   "execution_count": 48,
   "id": "random-madonna",
   "metadata": {},
   "outputs": [],
   "source": [
    "cm = confusion_matrix(y_true, y_pre)\n",
    "conf_matrix = pd.DataFrame(cm, index=['跌','平','涨'], columns=['跌','平','涨'])\n"
   ]
  },
  {
   "cell_type": "code",
   "execution_count": 49,
   "id": "split-flush",
   "metadata": {},
   "outputs": [
    {
     "data": {
      "text/plain": [
       "array([[224,   0,   6],\n",
       "       [ 63,   0,   3],\n",
       "       [217,   0,   7]], dtype=int64)"
      ]
     },
     "execution_count": 49,
     "metadata": {},
     "output_type": "execute_result"
    }
   ],
   "source": [
    "cm"
   ]
  },
  {
   "cell_type": "code",
   "execution_count": 50,
   "id": "charged-franchise",
   "metadata": {},
   "outputs": [
    {
     "data": {
      "image/png": "[encoded data removed]",
      "text/plain": [
       "<Figure size 648x432 with 2 Axes>"
      ]
     },
     "metadata": {
      "needs_background": "light"
     },
     "output_type": "display_data"
    }
   ],
   "source": [
    "# plot size setting\n",
    "fig, ax = plt.subplots(figsize = (9,6))\n",
    "sns.heatmap(conf_matrix, annot=True, annot_kws={\"size\": 19},fmt='.20g', cmap=\"Blues\")\n",
    "plt.ylabel('True label', fontsize=18)\n",
    "plt.xlabel('Predicted label', fontsize=18)\n",
    "plt.xticks(fontsize=18)\n",
    "plt.yticks(fontsize=18)\n",
    "plt.savefig('confusion.pdf', bbox_inches='tight')\n",
    "plt.show()"
   ]
  },
  {
   "cell_type": "code",
   "execution_count": 51,
   "id": "grand-pound",
   "metadata": {},
   "outputs": [
    {
     "name": "stdout",
     "output_type": "stream",
     "text": [
      "------Weighted------\n",
      "Weighted precision 0.38504273504273506\n",
      "Weighted recall 0.4442307692307692\n",
      "Weighted f1-score 0.29509257318521626\n",
      "------Macro------\n",
      "Macro precision 0.29398148148148145\n",
      "Macro recall 0.335054347826087\n",
      "Macro f1-score 0.2228958522555253\n",
      "------Micro------\n",
      "Micro precision 0.4442307692307692\n",
      "Micro recall 0.4442307692307692\n",
      "Micro f1-score 0.44423076923076915\n"
     ]
    },
    {
     "name": "stderr",
     "output_type": "stream",
     "text": [
      "D:\\Anaconda\\lib\\site-packages\\sklearn\\metrics\\_classification.py:1245: UndefinedMetricWarning: Precision is ill-defined and being set to 0.0 in labels with no predicted samples. Use `zero_division` parameter to control this behavior.\n",
      "  _warn_prf(average, modifier, msg_start, len(result))\n",
      "D:\\Anaconda\\lib\\site-packages\\sklearn\\metrics\\_classification.py:1245: UndefinedMetricWarning: Precision is ill-defined and being set to 0.0 in labels with no predicted samples. Use `zero_division` parameter to control this behavior.\n",
      "  _warn_prf(average, modifier, msg_start, len(result))\n"
     ]
    }
   ],
   "source": [
    "print('------Weighted------')\n",
    "print('Weighted precision', precision_score(y_true, y_pre, average='weighted'))\n",
    "print('Weighted recall', recall_score(y_true, y_pre, average='weighted'))\n",
    "print('Weighted f1-score', f1_score(y_true, y_pre, average='weighted'))\n",
    "print('------Macro------')\n",
    "print('Macro precision', precision_score(y_true, y_pre, average='macro'))\n",
    "print('Macro recall', recall_score(y_true, y_pre, average='macro'))\n",
    "print('Macro f1-score', f1_score(y_true, y_pre, average='macro'))\n",
    "print('------Micro------')\n",
    "print('Micro precision', precision_score(y_true, y_pre, average='micro'))\n",
    "print('Micro recall', recall_score(y_true, y_pre, average='micro'))\n",
    "print('Micro f1-score', f1_score(y_true, y_pre, average='micro'))"
   ]
  },
  {
   "cell_type": "code",
   "execution_count": 52,
   "id": "scientific-institute",
   "metadata": {},
   "outputs": [
    {
     "name": "stderr",
     "output_type": "stream",
     "text": [
      "<ipython-input-52-c2d5f097c586>:29: DeprecationWarning: scipy.interp is deprecated and will be removed in SciPy 2.0.0, use numpy.interp instead\n",
      "  mean_tpr += interp(all_fpr, fpr[i], tpr[i])\n"
     ]
    },
    {
     "data": {
      "image/png": "[encoded data removed]",
      "text/plain": [
       "<Figure size 864x720 with 1 Axes>"
      ]
     },
     "metadata": {
      "needs_background": "light"
     },
     "output_type": "display_data"
    }
   ],
   "source": [
    "from itertools import cycle\n",
    "from sklearn import svm, datasets\n",
    "from sklearn.metrics import roc_curve, auc\n",
    "from sklearn.model_selection import train_test_split\n",
    "from sklearn.preprocessing import label_binarize\n",
    "from sklearn.multiclass import OneVsRestClassifier\n",
    "from scipy import interp\n",
    "\n",
    "# 计算每一类的ROC\n",
    "fpr = dict()\n",
    "tpr = dict()\n",
    "roc_auc = dict()\n",
    "n_classes = 3\n",
    "for i in range(n_classes):\n",
    "    fpr[i], tpr[i], _ = roc_curve(y_test[:, i], y_score[:, i])\n",
    "    roc_auc[i] = metrics.auc(fpr[i], tpr[i])\n",
    "# Compute micro-average ROC curve and ROC area（方法二）\n",
    "fpr[\"weighted\"], tpr[\"weighted\"], _ = roc_curve(\n",
    "    y_test.ravel(), y_score.ravel())\n",
    "roc_auc[\"weighted\"] = metrics.auc(fpr[\"weighted\"], tpr[\"weighted\"])\n",
    "\n",
    "\n",
    "# Compute macro-average ROC curve and ROC area（方法一）\n",
    "# First aggregate all false positive rates\n",
    "all_fpr = np.unique(np.concatenate([fpr[i] for i in range(n_classes)]))\n",
    "# Then interpolate all ROC curves at this points\n",
    "mean_tpr = np.zeros_like(all_fpr)\n",
    "for i in range(n_classes):\n",
    "    mean_tpr += interp(all_fpr, fpr[i], tpr[i])\n",
    "# Finally average it and compute AUC\n",
    "mean_tpr /= n_classes\n",
    "fpr[\"macro\"] = all_fpr\n",
    "tpr[\"macro\"] = mean_tpr\n",
    "roc_auc[\"macro\"] = metrics.auc(fpr[\"macro\"], tpr[\"macro\"])\n",
    "\n",
    "# Plot all ROC curves\n",
    "lw = 2\n",
    "plt.figure()\n",
    "# plt.plot(fpr[\"micro\"], tpr[\"micro\"],\n",
    "#          label='micro-average ROC curve (area = {0:0.4f})'\n",
    "#          ''.format(roc_auc[\"micro\"]),\n",
    "#          color='deeppink', linestyle=':', linewidth=4)\n",
    "\n",
    "plt.plot(fpr[\"macro\"], tpr[\"macro\"],\n",
    "         label='macro-average ROC curve (area = {0:0.4f})'\n",
    "         ''.format(roc_auc[\"macro\"]),\n",
    "         color='navy', linestyle=':', linewidth=4)\n",
    "plt.plot(fpr[\"weighted\"], tpr[\"weighted\"],\n",
    "         label='weighted-average ROC curve (area = {0:0.4f})'\n",
    "         ''.format(roc_auc[\"weighted\"]),\n",
    "         color='deeppink', linestyle=':', linewidth=4)\n",
    "\n",
    "colors = cycle(['aqua', 'darkorange', 'cornflowerblue'])\n",
    "for i, color in zip(range(n_classes), colors):\n",
    "    plt.plot(fpr[i], tpr[i], color=color, lw=lw,\n",
    "             label='ROC curve of class {0} (area = {1:0.4f})'\n",
    "             ''.format(i, roc_auc[i]))\n",
    "\n",
    "plt.plot([0, 1], [0, 1], 'k--', lw=lw)\n",
    "plt.xlim([0.0, 1.0])\n",
    "plt.ylim([0.0, 1.05])\n",
    "plt.xlabel('False Positive Rate')\n",
    "plt.ylabel('True Positive Rate')\n",
    "plt.title('Some extension of Receiver operating characteristic to multi-class')\n",
    "plt.legend(loc=\"lower right\")\n",
    "plt.show()\n",
    "# # 计算每一类的ROC\n",
    "# fpr = dict()\n",
    "# tpr = dict()\n",
    "# roc_auc = dict()\n",
    "# n_classes=3\n",
    "# for i in range(n_classes):\n",
    "#     fpr[i], tpr[i], _ = roc_curve(y_test[:, i], y_score[:, i])\n",
    "#     roc_auc[i] = auc(fpr[i], tpr[i])\n",
    "# # Compute micro-average ROC curve and ROC area（方法二）\n",
    "# fpr[\"micro\"], tpr[\"micro\"], _ = roc_curve(y_test.ravel(), y_score.ravel())\n",
    "# roc_auc[\"micro\"] = auc(fpr[\"micro\"], tpr[\"micro\"])\n",
    "# # Compute macro-average ROC curve and ROC area（方法一）\n",
    "# # First aggregate all false positive rates\n",
    "# all_fpr = np.unique(np.concatenate([fpr[i] for i in range(n_classes)]))\n",
    "# # Then interpolate all ROC curves at this points\n",
    "# mean_tpr = np.zeros_like(all_fpr)\n",
    "# for i in range(n_classes):\n",
    "#     mean_tpr += interp(all_fpr, fpr[i], tpr[i])\n",
    "# # Finally average it and compute AUC\n",
    "# mean_tpr /= n_classes\n",
    "# fpr[\"macro\"] = all_fpr\n",
    "# tpr[\"macro\"] = mean_tpr\n",
    "# roc_auc[\"macro\"] = auc(fpr[\"macro\"], tpr[\"macro\"])\n",
    "\n",
    "# # Plot all ROC curves\n",
    "# lw=2\n",
    "# plt.figure()\n",
    "# plt.plot(fpr[\"micro\"], tpr[\"micro\"],\n",
    "#          label='micro-average ROC curve (area = {0:0.4f})'\n",
    "#                ''.format(roc_auc[\"micro\"]),\n",
    "#          color='deeppink', linestyle=':', linewidth=4)\n",
    "\n",
    "# plt.plot(fpr[\"macro\"], tpr[\"macro\"],\n",
    "#          label='macro-average ROC curve (area = {0:0.4f})'\n",
    "#                ''.format(roc_auc[\"macro\"]),\n",
    "#          color='navy', linestyle=':', linewidth=4)\n",
    "\n",
    "# colors = cycle(['aqua', 'darkorange', 'cornflowerblue'])\n",
    "# for i, color in zip(range(n_classes), colors):\n",
    "#     plt.plot(fpr[i], tpr[i], color=color, lw=lw,\n",
    "#              label='ROC curve of class {0} (area = {1:0.4f})'\n",
    "#              ''.format(i, roc_auc[i]))\n",
    "\n",
    "# plt.plot([0, 1], [0, 1], 'k--', lw=lw)\n",
    "# plt.xlim([0.0, 1.0])\n",
    "# plt.ylim([0.0, 1.05])\n",
    "# plt.xlabel('False Positive Rate')\n",
    "# plt.ylabel('True Positive Rate')\n",
    "# plt.title('Some extension of Receiver operating characteristic to multi-class')\n",
    "# plt.legend(loc=\"lower right\")\n",
    "# plt.show()"
   ]
  },
  {
   "cell_type": "code",
   "execution_count": null,
   "id": "severe-valuation",
   "metadata": {},
   "outputs": [],
   "source": []
  },
  {
   "cell_type": "code",
   "execution_count": 53,
   "id": "medium-twenty",
   "metadata": {},
   "outputs": [
    {
     "data": {
      "text/plain": [
       "array([[0, 1, 0],\n",
       "       [0, 0, 1],\n",
       "       [0, 0, 1],\n",
       "       ...,\n",
       "       [1, 0, 0],\n",
       "       [1, 0, 0],\n",
       "       [1, 0, 0]])"
      ]
     },
     "execution_count": 53,
     "metadata": {},
     "output_type": "execute_result"
    }
   ],
   "source": [
    "y_test"
   ]
  },
  {
   "cell_type": "code",
   "execution_count": 54,
   "id": "covered-bruce",
   "metadata": {},
   "outputs": [
    {
     "data": {
      "text/plain": [
       "array([[1., 0., 0.],\n",
       "       [1., 0., 0.],\n",
       "       [1., 0., 0.],\n",
       "       ...,\n",
       "       [1., 0., 0.],\n",
       "       [1., 0., 0.],\n",
       "       [1., 0., 0.]], dtype=float32)"
      ]
     },
     "execution_count": 54,
     "metadata": {},
     "output_type": "execute_result"
    }
   ],
   "source": [
    "y"
   ]
  },
  {
   "cell_type": "code",
   "execution_count": null,
   "id": "antique-dialogue",
   "metadata": {},
   "outputs": [],
   "source": []
  },
  {
   "cell_type": "code",
   "execution_count": null,
   "id": "sensitive-cisco",
   "metadata": {},
   "outputs": [],
   "source": []
  },
  {
   "cell_type": "code",
   "execution_count": null,
   "id": "convenient-grant",
   "metadata": {},
   "outputs": [],
   "source": []
  },
  {
   "cell_type": "code",
   "execution_count": null,
   "id": "banned-medline",
   "metadata": {},
   "outputs": [],
   "source": []
  }
 ],
 "metadata": {
  "kernelspec": {
   "display_name": "Python 3",
   "language": "python",
   "name": "python3"
  },
  "language_info": {
   "codemirror_mode": {
    "name": "ipython",
    "version": 3
   },
   "file_extension": ".py",
   "mimetype": "text/x-python",
   "name": "python",
   "nbconvert_exporter": "python",
   "pygments_lexer": "ipython3",
   "version": "3.8.8"
  }
 },
 "nbformat": 4,
 "nbformat_minor": 5
}
