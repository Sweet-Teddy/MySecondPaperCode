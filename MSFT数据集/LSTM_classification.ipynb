{
 "cells": [
  {
   "cell_type": "code",
   "execution_count": 879,
   "id": "pregnant-reward",
   "metadata": {},
   "outputs": [],
   "source": [
    "import pandas as pd\n",
    "import matplotlib.pyplot as plt\n",
    "import numpy as np\n",
    "import tensorflow as tf\n",
    "\n",
    "from tensorflow import keras\n",
    "from numpy import *\n",
    "from math import sqrt\n",
    "from pandas import *\n",
    "from datetime import datetime, timedelta\n",
    "\n",
    "from sklearn.preprocessing import LabelEncoder, MinMaxScaler\n",
    "from sklearn.preprocessing import OneHotEncoder\n",
    "from sklearn.metrics import mean_squared_error\n",
    "from sklearn.metrics import confusion_matrix\n",
    "\n",
    "from tensorflow.keras.models import Sequential\n",
    "from tensorflow.keras.layers import Dense, Dropout, Bidirectional, Activation\n",
    "from tensorflow.keras.layers import BatchNormalization, Embedding, TimeDistributed, LeakyReLU\n",
    "from tensorflow.keras.layers import LSTM, GRU\n",
    "from tensorflow.keras.optimizers import Adam\n",
    "from sklearn.metrics import classification_report\n",
    "from sklearn import metrics as ms\n",
    "from tensorflow.keras import regularizers\n",
    "\n",
    "from matplotlib import pyplot\n",
    "from pickle import load\n",
    "from sklearn import metrics as ms\n",
    "from sklearn.metrics import confusion_matrix,accuracy_score, average_precision_score, f1_score, recall_score\n",
    "\n",
    "# X_train = np.load(\"./saveData/IBM/X_train.npy\", allow_pickle=True)\n",
    "# y_train = np.load(\"./saveData/IBM/y_train.npy\", allow_pickle=True)\n",
    "# X_test = np.load(\"./saveData/IBM/X_test.npy\", allow_pickle=True)\n",
    "# y_test = np.load(\"./saveData/IBM/y_test.npy\", allow_pickle=True)\n",
    "# X_val = np.load(\"./saveData/IBM/X_val.npy\", allow_pickle=True)\n",
    "# y_val = np.load(\"./saveData/IBM/y_val.npy\", allow_pickle=True)\n",
    "\n",
    "# X_train = np.load(\"./saveData/TSLA/X_train.npy\", allow_pickle=True)\n",
    "# y_train = np.load(\"./saveData/TSLA/y_train.npy\", allow_pickle=True)\n",
    "# X_test = np.load(\"./saveData/TSLA/X_test.npy\", allow_pickle=True)\n",
    "# y_test = np.load(\"./saveData/TSLA/y_test.npy\", allow_pickle=True)\n",
    "# X_val = np.load(\"./saveData/TSLA/X_val.npy\", allow_pickle=True)\n",
    "# y_val = np.load(\"./saveData/TSLA/y_val.npy\", allow_pickle=True)\n",
    "\n",
    "# X_train = np.load(\"./saveData/S&P500/X_train.npy\", allow_pickle=True)\n",
    "# y_train = np.load(\"./saveData/S&P500/y_train.npy\", allow_pickle=True)\n",
    "# X_test = np.load(\"./saveData/S&P500/X_test.npy\", allow_pickle=True)\n",
    "# y_test = np.load(\"./saveData/S&P500/y_test.npy\", allow_pickle=True)\n",
    "# X_val = np.load(\"./saveData/S&P500/X_val.npy\", allow_pickle=True)\n",
    "# y_val = np.load(\"./saveData/S&P500/y_val.npy\", allow_pickle=True)\n",
    "\n",
    "# X_train = np.load(\"./saveData/PAICC/X_train.npy\", allow_pickle=True)\n",
    "# y_train = np.load(\"./saveData/PAICC/y_train.npy\", allow_pickle=True)\n",
    "# X_test = np.load(\"./saveData/PAICC/X_test.npy\", allow_pickle=True)\n",
    "# y_test = np.load(\"./saveData/PAICC/y_test.npy\", allow_pickle=True)\n",
    "# X_val = np.load(\"./saveData/PAICC/X_val.npy\", allow_pickle=True)\n",
    "# y_val = np.load(\"./saveData/PAICC/y_val.npy\", allow_pickle=True)\n",
    "\n",
    "# X_train = np.load(\"./saveData/X_train.npy\", allow_pickle=True)\n",
    "# y_train = np.load(\"./saveData/y_train.npy\", allow_pickle=True)\n",
    "# X_test = np.load(\"./saveData/X_test.npy\", allow_pickle=True)\n",
    "# y_test = np.load(\"./saveData/y_test.npy\", allow_pickle=True)\n",
    "# X_val = np.load(\"./saveData/X_val.npy\", allow_pickle=True)\n",
    "# y_val = np.load(\"./saveData/y_val.npy\", allow_pickle=True)\n",
    "\n",
    "\n",
    "X_train = np.load(\"./saveData/MSFT/X_train.npy\", allow_pickle=True)\n",
    "y_train = np.load(\"./saveData/MSFT/y_train.npy\", allow_pickle=True)\n",
    "X_test = np.load(\"./saveData/MSFT/X_test.npy\", allow_pickle=True)\n",
    "y_test = np.load(\"./saveData/MSFT/y_test.npy\", allow_pickle=True)\n",
    "X_val = np.load(\"./saveData/MSFT/X_val.npy\", allow_pickle=True)\n",
    "y_val = np.load(\"./saveData/MSFT/y_val.npy\", allow_pickle=True)\n",
    "\n",
    "# X_train = np.load(\"./saveData/SSE/X_train.npy\", allow_pickle=True)\n",
    "# y_train = np.load(\"./saveData/SSE/y_train.npy\", allow_pickle=True)\n",
    "# X_test = np.load(\"./saveData/SSE/X_test.npy\", allow_pickle=True)\n",
    "# y_test = np.load(\"./saveData/SSE/y_test.npy\", allow_pickle=True)\n",
    "# X_val = np.load(\"./saveData/SSE/X_val.npy\", allow_pickle=True)\n",
    "# y_val = np.load(\"./saveData/SSE/y_val.npy\", allow_pickle=True)\n",
    "\n",
    "# X_train = np.load(\"./saveData/IBM/X_train.npy\", allow_pickle=True)\n",
    "# y_train = np.load(\"./saveData/IBM/y_train.npy\", allow_pickle=True)\n",
    "# X_test = np.load(\"./saveData/IBM/X_test.npy\", allow_pickle=True)\n",
    "# y_test = np.load(\"./saveData/IBM/y_test.npy\", allow_pickle=True)\n",
    "# X_val = np.load(\"./saveData/IBM/X_val.npy\", allow_pickle=True)\n",
    "# y_val = np.load(\"./saveData/IBM/y_val.npy\", allow_pickle=True)\n",
    "# yc_train = np.load(\"./saveData/yc_train.npy\", allow_pickle=True)\n",
    "# yc_test = np.load(\"./saveData/yc_test.npy\", allow_pickle=True)"
   ]
  },
  {
   "cell_type": "code",
   "execution_count": 880,
   "id": "graduate-grade",
   "metadata": {},
   "outputs": [
    {
     "data": {
      "text/plain": [
       "array([[1, 0, 0],\n",
       "       [0, 0, 1],\n",
       "       [0, 1, 0],\n",
       "       ...,\n",
       "       [0, 1, 0],\n",
       "       [0, 1, 0],\n",
       "       [1, 0, 0]])"
      ]
     },
     "execution_count": 880,
     "metadata": {},
     "output_type": "execute_result"
    }
   ],
   "source": [
    "y_train"
   ]
  },
  {
   "cell_type": "code",
   "execution_count": 881,
   "id": "driven-couple",
   "metadata": {},
   "outputs": [
    {
     "name": "stdout",
     "output_type": "stream",
     "text": [
      "{'跌': 1168, '涨': 1163, '平': 1519}\n"
     ]
    }
   ],
   "source": [
    "dict_count = {}\n",
    "dict_count['跌']=0\n",
    "dict_count['涨']=0\n",
    "dict_count['平']=0\n",
    "for i in range(len(y_train)):\n",
    "    if(y_train[i][0] ==1):\n",
    "        dict_count['跌'] += 1\n",
    "    if(y_train[i][1] == 1):\n",
    "        dict_count['平'] += 1\n",
    "    if(y_train[i][2] == 1):\n",
    "        dict_count['涨'] += 1\n",
    "print(dict_count)"
   ]
  },
  {
   "cell_type": "code",
   "execution_count": 882,
   "id": "demonstrated-prison",
   "metadata": {},
   "outputs": [
    {
     "name": "stdout",
     "output_type": "stream",
     "text": [
      "{'跌': 130, '涨': 131, '平': 111}\n"
     ]
    }
   ],
   "source": [
    "dict_count = {}\n",
    "dict_count['跌']=0\n",
    "dict_count['涨']=0\n",
    "dict_count['平']=0\n",
    "for i in range(len(y_val)):\n",
    "    if(y_val[i][0] ==1):\n",
    "        dict_count['跌'] += 1\n",
    "    if(y_val[i][1] == 1):\n",
    "        dict_count['平'] += 1\n",
    "    if(y_val[i][2] == 1):\n",
    "        dict_count['涨'] += 1\n",
    "print(dict_count)"
   ]
  },
  {
   "cell_type": "code",
   "execution_count": 883,
   "id": "military-oriental",
   "metadata": {},
   "outputs": [
    {
     "name": "stdout",
     "output_type": "stream",
     "text": [
      "{'跌': 246, '涨': 310, '平': 189}\n"
     ]
    }
   ],
   "source": [
    "dict_count = {}\n",
    "dict_count['跌']=0\n",
    "dict_count['涨']=0\n",
    "dict_count['平']=0\n",
    "for i in range(len(y_test)):\n",
    "    if(y_test[i][0] ==1):\n",
    "        dict_count['跌'] += 1\n",
    "    if(y_test[i][1] == 1):\n",
    "        dict_count['平'] += 1\n",
    "    if(y_test[i][2] == 1):\n",
    "        dict_count['涨'] += 1\n",
    "print(dict_count)"
   ]
  },
  {
   "cell_type": "code",
   "execution_count": null,
   "id": "spectacular-bathroom",
   "metadata": {},
   "outputs": [],
   "source": []
  },
  {
   "cell_type": "code",
   "execution_count": 884,
   "id": "recreational-pension",
   "metadata": {},
   "outputs": [
    {
     "data": {
      "text/plain": [
       "{'跌': 246, '涨': 310, '平': 189}"
      ]
     },
     "execution_count": 884,
     "metadata": {},
     "output_type": "execute_result"
    }
   ],
   "source": [
    "dict_count"
   ]
  },
  {
   "cell_type": "code",
   "execution_count": 885,
   "id": "elegant-bouquet",
   "metadata": {},
   "outputs": [
    {
     "data": {
      "text/plain": [
       "3"
      ]
     },
     "execution_count": 885,
     "metadata": {},
     "output_type": "execute_result"
    }
   ],
   "source": [
    "y_train.shape[1]"
   ]
  },
  {
   "cell_type": "code",
   "execution_count": 886,
   "id": "average-appliance",
   "metadata": {},
   "outputs": [],
   "source": [
    "# X_train = X_train[0:5001]\n",
    "# y_train = y_train[0:5001]\n",
    "# X_test = X_test[0:5001]\n",
    "# y_test = y_test[0:5001]\n",
    "# X_val = X_val[0:5001]\n",
    "# y_val = y_val[0:5001]"
   ]
  },
  {
   "cell_type": "code",
   "execution_count": 887,
   "id": "threatened-neutral",
   "metadata": {},
   "outputs": [],
   "source": [
    "from keras.callbacks import ReduceLROnPlateau, EarlyStopping\n",
    "min_delta_val = 0.0001\n",
    "lr_cb = ReduceLROnPlateau(monitor = 'val_loss',  \n",
    "                          factor = 0.5, min_delta = min_delta_val, patience = 10, verbose = 1)\n",
    "es_cb = EarlyStopping(monitor = 'accuracy', \n",
    "                      min_delta=min_delta_val, patience = 30, verbose = 1, restore_best_weights = True)\n",
    "\n",
    "callbacks_model = [lr_cb, es_cb]\n"
   ]
  },
  {
   "cell_type": "code",
   "execution_count": 888,
   "id": "voluntary-emerald",
   "metadata": {},
   "outputs": [],
   "source": [
    "\n",
    "\n",
    "#Parameters\n",
    "LR = 0.001\n",
    "BATCH_SIZE = 60\n",
    "N_EPOCH = 1000\n",
    "dropout = 0.2\n",
    "input_dim = X_train.shape[1]\n",
    "feature_size = X_train.shape[2]\n",
    "#做3分类\n",
    "output_dim = y_train.shape[1]\n",
    "\n",
    "#output_dim = 3\n",
    "\n",
    "# METRICS = [\n",
    "#       keras.metrics.TruePositives(name='tp'),\n",
    "#       keras.metrics.FalsePositives(name='fp'),\n",
    "#       keras.metrics.TrueNegatives(name='tn'),\n",
    "#       keras.metrics.FalseNegatives(name='fn'), \n",
    "#       keras.metrics.CategoricalAccuracy(name='accuracy'),\n",
    "#       keras.metrics.Precision(name='precision'),\n",
    "#       keras.metrics.Recall(name='recall'),\n",
    "#       keras.metrics.AUC(name='auc'),\n",
    "#       keras.metrics.AUC(name='prc', curve='PR'), # precision-recall curve\n",
    "# ]\n",
    "\n",
    "METRICS = [\n",
    "      keras.metrics.TruePositives(name='tp'),\n",
    "      keras.metrics.FalsePositives(name='fp'),\n",
    "      keras.metrics.TrueNegatives(name='tn'),\n",
    "      keras.metrics.FalseNegatives(name='fn'), \n",
    "      keras.metrics.CategoricalAccuracy(name='accuracy'),\n",
    "      keras.metrics.Precision(name='precision'),\n",
    "      keras.metrics.Recall(name='recall'),\n",
    "      keras.metrics.AUC(name='auc'),\n",
    "      keras.metrics.AUC(name='prc', curve='PR'), # precision-recall curve\n",
    "]\n",
    "\n",
    "def basic_lstm(input_dim, feature_size):\n",
    "    print(\"model dim: \", input_dim, output_dim)\n",
    "    model = Sequential()\n",
    "    model.add(LSTM(128, return_sequences=True, input_shape=(input_dim,feature_size), batch_size=None))\n",
    "    #model.add(tf.keras.layers.GaussianNoise(stddev=0.2))\n",
    "    model.add(LSTM(64, return_sequences=True))\n",
    "    model.add(Dropout(dropout))\n",
    "    model.add(LSTM(64))\n",
    "    model.add(Dropout(dropout))\n",
    "    model.add(Dense(output_dim, activation='softmax'))\n",
    "    #model.add(Activation('softmax'))\n",
    "    \n",
    "    model.compile(loss='categorical_crossentropy', optimizer=Adam(lr = LR),metrics=METRICS)\n",
    "#     model = Sequential()\n",
    "#     model.add(Bidirectional(LSTM(units= 128), input_shape=(input_dim, feature_size)))\n",
    "#     model.add(Dense(64))\n",
    "#     model.add(Dense(units=output_dim,activation='softmax'))\n",
    "#     model.compile(optimizer=Adam(lr = LR), loss='mse')\n",
    "    history = model.fit(X_train, y_train, epochs=N_EPOCH, batch_size=BATCH_SIZE, validation_data=(X_val, y_val),\n",
    "                        verbose=1, shuffle=False , callbacks=callbacks_model)\n",
    "    #, callbacks=callbacks_model\n",
    "\n",
    "    pyplot.plot(history.history['loss'], label='train')\n",
    "    pyplot.plot(history.history['val_loss'], label='validation')\n",
    "    pyplot.legend()\n",
    "    pyplot.show()\n",
    "    return model,history\n",
    "\n",
    "\n",
    "\n"
   ]
  },
  {
   "cell_type": "code",
   "execution_count": 889,
   "id": "cooperative-tourism",
   "metadata": {},
   "outputs": [
    {
     "data": {
      "text/plain": [
       "(3850, 30, 16)"
      ]
     },
     "execution_count": 889,
     "metadata": {},
     "output_type": "execute_result"
    }
   ],
   "source": [
    "X_train.shape"
   ]
  },
  {
   "cell_type": "code",
   "execution_count": 890,
   "id": "endangered-awareness",
   "metadata": {},
   "outputs": [
    {
     "data": {
      "text/plain": [
       "(3850, 3)"
      ]
     },
     "execution_count": 890,
     "metadata": {},
     "output_type": "execute_result"
    }
   ],
   "source": [
    "y_train.shape"
   ]
  },
  {
   "cell_type": "code",
   "execution_count": 891,
   "id": "unlike-pleasure",
   "metadata": {},
   "outputs": [
    {
     "data": {
      "text/plain": [
       "(372, 30, 16)"
      ]
     },
     "execution_count": 891,
     "metadata": {},
     "output_type": "execute_result"
    }
   ],
   "source": [
    "X_val.shape"
   ]
  },
  {
   "cell_type": "code",
   "execution_count": 892,
   "id": "engaged-listening",
   "metadata": {},
   "outputs": [
    {
     "data": {
      "text/plain": [
       "(372, 3)"
      ]
     },
     "execution_count": 892,
     "metadata": {},
     "output_type": "execute_result"
    }
   ],
   "source": [
    "y_val.shape"
   ]
  },
  {
   "cell_type": "code",
   "execution_count": 893,
   "id": "wooden-scheme",
   "metadata": {},
   "outputs": [
    {
     "data": {
      "text/plain": [
       "array([[1, 0, 0],\n",
       "       [0, 0, 1],\n",
       "       [0, 1, 0],\n",
       "       ...,\n",
       "       [0, 1, 0],\n",
       "       [0, 1, 0],\n",
       "       [1, 0, 0]])"
      ]
     },
     "execution_count": 893,
     "metadata": {},
     "output_type": "execute_result"
    }
   ],
   "source": [
    "y_train"
   ]
  },
  {
   "cell_type": "code",
   "execution_count": 894,
   "id": "sharing-component",
   "metadata": {},
   "outputs": [
    {
     "data": {
      "text/plain": [
       "array([[[-0.54032378, -0.53686854, -0.5451729 , ..., -0.03347705,\n",
       "         -0.19959115,  0.61017054],\n",
       "        [-0.52286219, -0.51822295, -0.53392964, ...,  0.03873689,\n",
       "         -0.29396024,  0.5838482 ],\n",
       "        [-0.5431301 , -0.54619133, -0.54954527, ..., -0.04288333,\n",
       "         -0.34417429,  0.61138383],\n",
       "        ...,\n",
       "        [-0.39283575, -0.38708234, -0.39510668, ...,  0.26057995,\n",
       "         -0.21451709,  0.79072663],\n",
       "        [-0.36227798, -0.36579529, -0.36278233, ...,  0.36242716,\n",
       "         -0.21737169,  0.80622084],\n",
       "        [-0.35354718, -0.35973548, -0.36528083, ...,  0.29062825,\n",
       "         -0.20897412,  0.79079421]],\n",
       "\n",
       "       [[-0.52286219, -0.51822295, -0.53392964, ...,  0.03873689,\n",
       "         -0.29396024,  0.5838482 ],\n",
       "        [-0.5431301 , -0.54619133, -0.54954527, ..., -0.04288333,\n",
       "         -0.34417429,  0.61138383],\n",
       "        [-0.5431301 , -0.55240652, -0.5501699 , ..., -0.07973812,\n",
       "         -0.38798172,  0.58833682],\n",
       "        ...,\n",
       "        [-0.36227798, -0.36579529, -0.36278233, ...,  0.36242716,\n",
       "         -0.21737169,  0.80622084],\n",
       "        [-0.35354718, -0.35973548, -0.36528083, ...,  0.29062825,\n",
       "         -0.20897412,  0.79079421],\n",
       "        [-0.35666532, -0.36595068, -0.38526884, ...,  0.18913009,\n",
       "         -0.26598253,  0.77255427]],\n",
       "\n",
       "       [[-0.5431301 , -0.54619133, -0.54954527, ..., -0.04288333,\n",
       "         -0.34417429,  0.61138383],\n",
       "        [-0.5431301 , -0.55240652, -0.5501699 , ..., -0.07973812,\n",
       "         -0.38798172,  0.58833682],\n",
       "        [-0.55716174, -0.55209576, -0.5501699 , ...,  0.00202415,\n",
       "         -0.42843173,  0.61101787],\n",
       "        ...,\n",
       "        [-0.35354718, -0.35973548, -0.36528083, ...,  0.29062825,\n",
       "         -0.20897412,  0.79079421],\n",
       "        [-0.35666532, -0.36595068, -0.38526884, ...,  0.18913009,\n",
       "         -0.26598253,  0.77255427],\n",
       "        [-0.37287965, -0.36967979, -0.38776734, ...,  0.17338099,\n",
       "         -0.32493387,  0.78757737]],\n",
       "\n",
       "       ...,\n",
       "\n",
       "       [[-0.47734984, -0.48568019, -0.47731361, ...,  0.30136374,\n",
       "         -0.71184775, -0.56606914],\n",
       "        [-0.48453403, -0.49204455, -0.48051167, ...,  0.16983423,\n",
       "         -0.71177503, -0.5719473 ],\n",
       "        [-0.48652962, -0.49383453, -0.48231061, ...,  0.06576227,\n",
       "         -0.72548186, -0.57896174],\n",
       "        ...,\n",
       "        [-0.39632805, -0.40155133, -0.41275235, ...,  0.6700854 ,\n",
       "         -0.53826145, -0.45372411],\n",
       "        [-0.4122929 , -0.41885442, -0.41275235, ...,  0.38765944,\n",
       "         -0.35598672, -0.43684611],\n",
       "        [-0.41408897, -0.41249006, -0.41335197, ...,  0.30433764,\n",
       "         -0.18301166, -0.42222451]],\n",
       "\n",
       "       [[-0.48453403, -0.49204455, -0.48051167, ...,  0.16983423,\n",
       "         -0.71177503, -0.5719473 ],\n",
       "        [-0.48652962, -0.49383453, -0.48231061, ...,  0.06576227,\n",
       "         -0.72548186, -0.57896174],\n",
       "        [-0.48892434, -0.49761335, -0.49190484, ..., -0.17037833,\n",
       "         -0.76542701, -0.59055613],\n",
       "        ...,\n",
       "        [-0.4122929 , -0.41885442, -0.41275235, ...,  0.38765944,\n",
       "         -0.35598672, -0.43684611],\n",
       "        [-0.41408897, -0.41249006, -0.41335197, ...,  0.30433764,\n",
       "         -0.18301166, -0.42222451],\n",
       "        [-0.40530831, -0.4126889 , -0.40595643, ...,  0.25652016,\n",
       "         -0.02733411, -0.43898132]],\n",
       "\n",
       "       [[-0.48652962, -0.49383453, -0.48231061, ...,  0.06576227,\n",
       "         -0.72548186, -0.57896174],\n",
       "        [-0.48892434, -0.49761335, -0.49190484, ..., -0.17037833,\n",
       "         -0.76542701, -0.59055613],\n",
       "        [-0.48313713, -0.48389021, -0.48051167, ...,  0.22572821,\n",
       "         -0.76118446, -0.58032609],\n",
       "        ...,\n",
       "        [-0.41408897, -0.41249006, -0.41335197, ...,  0.30433764,\n",
       "         -0.18301166, -0.42222451],\n",
       "        [-0.40530831, -0.4126889 , -0.40595643, ...,  0.25652016,\n",
       "         -0.02733411, -0.43898132],\n",
       "        [-0.39632805, -0.40672233, -0.40535681, ...,  0.23244821,\n",
       "          0.12145824, -0.41862122]]])"
      ]
     },
     "execution_count": 894,
     "metadata": {},
     "output_type": "execute_result"
    }
   ],
   "source": [
    "X_train\n"
   ]
  },
  {
   "cell_type": "code",
   "execution_count": null,
   "id": "received-swing",
   "metadata": {},
   "outputs": [],
   "source": []
  },
  {
   "cell_type": "code",
   "execution_count": 895,
   "id": "solid-decision",
   "metadata": {
    "scrolled": true
   },
   "outputs": [
    {
     "name": "stdout",
     "output_type": "stream",
     "text": [
      "model dim:  30 3\n",
      "Epoch 1/1000\n",
      "65/65 [==============================] - 8s 124ms/step - loss: 1.0727 - tp: 431.0000 - fp: 312.0000 - tn: 7388.0000 - fn: 3419.0000 - accuracy: 0.4119 - precision: 0.5801 - recall: 0.1119 - auc: 0.6020 - prc: 0.4337 - val_loss: 1.1149 - val_tp: 0.0000e+00 - val_fp: 0.0000e+00 - val_tn: 744.0000 - val_fn: 372.0000 - val_accuracy: 0.2984 - val_precision: 0.0000e+00 - val_recall: 0.0000e+00 - val_auc: 0.4868 - val_prc: 0.3242\n",
      "Epoch 2/1000\n",
      "65/65 [==============================] - 6s 91ms/step - loss: 1.1030 - tp: 331.0000 - fp: 310.0000 - tn: 7390.0000 - fn: 3519.0000 - accuracy: 0.3821 - precision: 0.5164 - recall: 0.0860 - auc: 0.5505 - prc: 0.3843 - val_loss: 1.1179 - val_tp: 0.0000e+00 - val_fp: 0.0000e+00 - val_tn: 744.0000 - val_fn: 372.0000 - val_accuracy: 0.2984 - val_precision: 0.0000e+00 - val_recall: 0.0000e+00 - val_auc: 0.4835 - val_prc: 0.3252\n",
      "Epoch 3/1000\n",
      "65/65 [==============================] - 5s 79ms/step - loss: 1.1038 - tp: 30.0000 - fp: 74.0000 - tn: 7626.0000 - fn: 3820.0000 - accuracy: 0.3499 - precision: 0.2885 - recall: 0.0078 - auc: 0.5219 - prc: 0.3429 - val_loss: 1.1169 - val_tp: 0.0000e+00 - val_fp: 0.0000e+00 - val_tn: 744.0000 - val_fn: 372.0000 - val_accuracy: 0.2984 - val_precision: 0.0000e+00 - val_recall: 0.0000e+00 - val_auc: 0.4768 - val_prc: 0.3136\n",
      "Epoch 4/1000\n",
      "65/65 [==============================] - 5s 83ms/step - loss: 1.1032 - tp: 0.0000e+00 - fp: 0.0000e+00 - tn: 7700.0000 - fn: 3850.0000 - accuracy: 0.3577 - precision: 0.0000e+00 - recall: 0.0000e+00 - auc: 0.5076 - prc: 0.3384 - val_loss: 1.1162 - val_tp: 0.0000e+00 - val_fp: 0.0000e+00 - val_tn: 744.0000 - val_fn: 372.0000 - val_accuracy: 0.2984 - val_precision: 0.0000e+00 - val_recall: 0.0000e+00 - val_auc: 0.4838 - val_prc: 0.3190\n",
      "Epoch 5/1000\n",
      "65/65 [==============================] - 6s 86ms/step - loss: 1.0993 - tp: 0.0000e+00 - fp: 2.0000 - tn: 7698.0000 - fn: 3850.0000 - accuracy: 0.3771 - precision: 0.0000e+00 - recall: 0.0000e+00 - auc: 0.5297 - prc: 0.3489 - val_loss: 1.1186 - val_tp: 0.0000e+00 - val_fp: 0.0000e+00 - val_tn: 744.0000 - val_fn: 372.0000 - val_accuracy: 0.2984 - val_precision: 0.0000e+00 - val_recall: 0.0000e+00 - val_auc: 0.4826 - val_prc: 0.3150\n",
      "Epoch 6/1000\n",
      "65/65 [==============================] - 6s 87ms/step - loss: 1.0974 - tp: 0.0000e+00 - fp: 0.0000e+00 - tn: 7700.0000 - fn: 3850.0000 - accuracy: 0.3836 - precision: 0.0000e+00 - recall: 0.0000e+00 - auc: 0.5316 - prc: 0.3474 - val_loss: 1.1178 - val_tp: 0.0000e+00 - val_fp: 0.0000e+00 - val_tn: 744.0000 - val_fn: 372.0000 - val_accuracy: 0.2984 - val_precision: 0.0000e+00 - val_recall: 0.0000e+00 - val_auc: 0.4835 - val_prc: 0.3180\n",
      "Epoch 7/1000\n",
      "65/65 [==============================] - 5s 79ms/step - loss: 1.0966 - tp: 0.0000e+00 - fp: 0.0000e+00 - tn: 7700.0000 - fn: 3850.0000 - accuracy: 0.3917 - precision: 0.0000e+00 - recall: 0.0000e+00 - auc: 0.5352 - prc: 0.3462 - val_loss: 1.1146 - val_tp: 0.0000e+00 - val_fp: 0.0000e+00 - val_tn: 744.0000 - val_fn: 372.0000 - val_accuracy: 0.2984 - val_precision: 0.0000e+00 - val_recall: 0.0000e+00 - val_auc: 0.4829 - val_prc: 0.3199\n",
      "Epoch 8/1000\n",
      "65/65 [==============================] - 6s 86ms/step - loss: 1.0944 - tp: 0.0000e+00 - fp: 0.0000e+00 - tn: 7700.0000 - fn: 3850.0000 - accuracy: 0.3935 - precision: 0.0000e+00 - recall: 0.0000e+00 - auc: 0.5382 - prc: 0.3492 - val_loss: 1.1155 - val_tp: 0.0000e+00 - val_fp: 0.0000e+00 - val_tn: 744.0000 - val_fn: 372.0000 - val_accuracy: 0.2984 - val_precision: 0.0000e+00 - val_recall: 0.0000e+00 - val_auc: 0.4837 - val_prc: 0.3204\n",
      "Epoch 9/1000\n",
      "65/65 [==============================] - 6s 86ms/step - loss: 1.0919 - tp: 0.0000e+00 - fp: 0.0000e+00 - tn: 7700.0000 - fn: 3850.0000 - accuracy: 0.3881 - precision: 0.0000e+00 - recall: 0.0000e+00 - auc: 0.5476 - prc: 0.3631 - val_loss: 1.1164 - val_tp: 0.0000e+00 - val_fp: 0.0000e+00 - val_tn: 744.0000 - val_fn: 372.0000 - val_accuracy: 0.2984 - val_precision: 0.0000e+00 - val_recall: 0.0000e+00 - val_auc: 0.4838 - val_prc: 0.3298\n",
      "Epoch 10/1000\n",
      "65/65 [==============================] - 5s 85ms/step - loss: 1.0928 - tp: 0.0000e+00 - fp: 0.0000e+00 - tn: 7700.0000 - fn: 3850.0000 - accuracy: 0.3906 - precision: 0.0000e+00 - recall: 0.0000e+00 - auc: 0.5439 - prc: 0.3531 - val_loss: 1.1150 - val_tp: 0.0000e+00 - val_fp: 0.0000e+00 - val_tn: 744.0000 - val_fn: 372.0000 - val_accuracy: 0.2984 - val_precision: 0.0000e+00 - val_recall: 0.0000e+00 - val_auc: 0.4836 - val_prc: 0.3206\n",
      "Epoch 11/1000\n",
      "65/65 [==============================] - 5s 81ms/step - loss: 1.0922 - tp: 0.0000e+00 - fp: 0.0000e+00 - tn: 7700.0000 - fn: 3850.0000 - accuracy: 0.3909 - precision: 0.0000e+00 - recall: 0.0000e+00 - auc: 0.5470 - prc: 0.3604 - val_loss: 1.1186 - val_tp: 0.0000e+00 - val_fp: 0.0000e+00 - val_tn: 744.0000 - val_fn: 372.0000 - val_accuracy: 0.2984 - val_precision: 0.0000e+00 - val_recall: 0.0000e+00 - val_auc: 0.4826 - val_prc: 0.3255\n",
      "Epoch 12/1000\n",
      "65/65 [==============================] - 5s 79ms/step - loss: 1.0912 - tp: 0.0000e+00 - fp: 0.0000e+00 - tn: 7700.0000 - fn: 3850.0000 - accuracy: 0.3883 - precision: 0.0000e+00 - recall: 0.0000e+00 - auc: 0.5492 - prc: 0.3573 - val_loss: 1.1180 - val_tp: 0.0000e+00 - val_fp: 0.0000e+00 - val_tn: 744.0000 - val_fn: 372.0000 - val_accuracy: 0.3065 - val_precision: 0.0000e+00 - val_recall: 0.0000e+00 - val_auc: 0.4840 - val_prc: 0.3212\n",
      "Epoch 13/1000\n",
      "65/65 [==============================] - 5s 81ms/step - loss: 1.0921 - tp: 0.0000e+00 - fp: 0.0000e+00 - tn: 7700.0000 - fn: 3850.0000 - accuracy: 0.3849 - precision: 0.0000e+00 - recall: 0.0000e+00 - auc: 0.5506 - prc: 0.3711 - val_loss: 1.1311 - val_tp: 0.0000e+00 - val_fp: 0.0000e+00 - val_tn: 744.0000 - val_fn: 372.0000 - val_accuracy: 0.2984 - val_precision: 0.0000e+00 - val_recall: 0.0000e+00 - val_auc: 0.4793 - val_prc: 0.3193\n",
      "Epoch 14/1000\n",
      "65/65 [==============================] - 5s 78ms/step - loss: 1.0939 - tp: 0.0000e+00 - fp: 0.0000e+00 - tn: 7700.0000 - fn: 3850.0000 - accuracy: 0.3808 - precision: 0.0000e+00 - recall: 0.0000e+00 - auc: 0.5444 - prc: 0.3566 - val_loss: 1.1148 - val_tp: 0.0000e+00 - val_fp: 0.0000e+00 - val_tn: 744.0000 - val_fn: 372.0000 - val_accuracy: 0.3172 - val_precision: 0.0000e+00 - val_recall: 0.0000e+00 - val_auc: 0.4902 - val_prc: 0.3297\n",
      "Epoch 15/1000\n",
      "65/65 [==============================] - 5s 80ms/step - loss: 1.0930 - tp: 0.0000e+00 - fp: 0.0000e+00 - tn: 7700.0000 - fn: 3850.0000 - accuracy: 0.3894 - precision: 0.0000e+00 - recall: 0.0000e+00 - auc: 0.5484 - prc: 0.3636 - val_loss: 1.1245 - val_tp: 0.0000e+00 - val_fp: 0.0000e+00 - val_tn: 744.0000 - val_fn: 372.0000 - val_accuracy: 0.3011 - val_precision: 0.0000e+00 - val_recall: 0.0000e+00 - val_auc: 0.4825 - val_prc: 0.3207\n",
      "Epoch 16/1000\n",
      "65/65 [==============================] - 5s 82ms/step - loss: 1.0920 - tp: 1.0000 - fp: 0.0000e+00 - tn: 7700.0000 - fn: 3849.0000 - accuracy: 0.3792 - precision: 1.0000 - recall: 2.5974e-04 - auc: 0.5500 - prc: 0.3686 - val_loss: 1.1288 - val_tp: 1.0000 - val_fp: 1.0000 - val_tn: 743.0000 - val_fn: 371.0000 - val_accuracy: 0.3118 - val_precision: 0.5000 - val_recall: 0.0027 - val_auc: 0.4853 - val_prc: 0.3287\n",
      "Epoch 17/1000\n",
      "64/65 [============================>.] - ETA: 0s - loss: 1.0923 - tp: 7.0000 - fp: 6.0000 - tn: 7674.0000 - fn: 3833.0000 - accuracy: 0.3844 - precision: 0.5385 - recall: 0.0018 - auc: 0.5500 - prc: 0.3676            \n",
      "Epoch 00017: ReduceLROnPlateau reducing learning rate to 0.0005000000237487257.\n",
      "65/65 [==============================] - 5s 80ms/step - loss: 1.0917 - tp: 12.0000 - fp: 8.0000 - tn: 7692.0000 - fn: 3838.0000 - accuracy: 0.3847 - precision: 0.6000 - recall: 0.0031 - auc: 0.5509 - prc: 0.3688 - val_loss: 1.1375 - val_tp: 3.0000 - val_fp: 1.0000 - val_tn: 743.0000 - val_fn: 369.0000 - val_accuracy: 0.2957 - val_precision: 0.7500 - val_recall: 0.0081 - val_auc: 0.4817 - val_prc: 0.3198\n",
      "Epoch 18/1000\n",
      "65/65 [==============================] - 5s 83ms/step - loss: 1.0872 - tp: 0.0000e+00 - fp: 0.0000e+00 - tn: 7700.0000 - fn: 3850.0000 - accuracy: 0.3953 - precision: 0.0000e+00 - recall: 0.0000e+00 - auc: 0.5637 - prc: 0.3839 - val_loss: 1.1241 - val_tp: 2.0000 - val_fp: 1.0000 - val_tn: 743.0000 - val_fn: 370.0000 - val_accuracy: 0.3091 - val_precision: 0.6667 - val_recall: 0.0054 - val_auc: 0.4910 - val_prc: 0.3296\n"
     ]
    },
    {
     "name": "stdout",
     "output_type": "stream",
     "text": [
      "Epoch 19/1000\n",
      "65/65 [==============================] - 5s 83ms/step - loss: 1.0884 - tp: 11.0000 - fp: 19.0000 - tn: 7681.0000 - fn: 3839.0000 - accuracy: 0.3875 - precision: 0.3667 - recall: 0.0029 - auc: 0.5648 - prc: 0.3816 - val_loss: 1.1411 - val_tp: 2.0000 - val_fp: 1.0000 - val_tn: 743.0000 - val_fn: 370.0000 - val_accuracy: 0.3091 - val_precision: 0.6667 - val_recall: 0.0054 - val_auc: 0.4822 - val_prc: 0.3279\n",
      "Epoch 20/1000\n",
      "65/65 [==============================] - 6s 89ms/step - loss: 1.0856 - tp: 0.0000e+00 - fp: 0.0000e+00 - tn: 7700.0000 - fn: 3850.0000 - accuracy: 0.3979 - precision: 0.0000e+00 - recall: 0.0000e+00 - auc: 0.5680 - prc: 0.3907 - val_loss: 1.1189 - val_tp: 0.0000e+00 - val_fp: 0.0000e+00 - val_tn: 744.0000 - val_fn: 372.0000 - val_accuracy: 0.2984 - val_precision: 0.0000e+00 - val_recall: 0.0000e+00 - val_auc: 0.4863 - val_prc: 0.3149\n",
      "Epoch 21/1000\n",
      "65/65 [==============================] - 6s 87ms/step - loss: 1.0863 - tp: 8.0000 - fp: 9.0000 - tn: 7691.0000 - fn: 3842.0000 - accuracy: 0.4013 - precision: 0.4706 - recall: 0.0021 - auc: 0.5693 - prc: 0.3900 - val_loss: 1.1218 - val_tp: 0.0000e+00 - val_fp: 0.0000e+00 - val_tn: 744.0000 - val_fn: 372.0000 - val_accuracy: 0.2984 - val_precision: 0.0000e+00 - val_recall: 0.0000e+00 - val_auc: 0.4823 - val_prc: 0.3137\n",
      "Epoch 22/1000\n",
      "65/65 [==============================] - 5s 84ms/step - loss: 1.0905 - tp: 5.0000 - fp: 10.0000 - tn: 7690.0000 - fn: 3845.0000 - accuracy: 0.4008 - precision: 0.3333 - recall: 0.0013 - auc: 0.5602 - prc: 0.3838 - val_loss: 1.1212 - val_tp: 0.0000e+00 - val_fp: 0.0000e+00 - val_tn: 744.0000 - val_fn: 372.0000 - val_accuracy: 0.3011 - val_precision: 0.0000e+00 - val_recall: 0.0000e+00 - val_auc: 0.4833 - val_prc: 0.3178\n",
      "Epoch 23/1000\n",
      "65/65 [==============================] - 6s 89ms/step - loss: 1.0851 - tp: 12.0000 - fp: 12.0000 - tn: 7688.0000 - fn: 3838.0000 - accuracy: 0.3927 - precision: 0.5000 - recall: 0.0031 - auc: 0.5720 - prc: 0.3938 - val_loss: 1.1185 - val_tp: 0.0000e+00 - val_fp: 0.0000e+00 - val_tn: 744.0000 - val_fn: 372.0000 - val_accuracy: 0.3038 - val_precision: 0.0000e+00 - val_recall: 0.0000e+00 - val_auc: 0.4851 - val_prc: 0.3190\n",
      "Epoch 24/1000\n",
      "65/65 [==============================] - 6s 85ms/step - loss: 1.0814 - tp: 109.0000 - fp: 110.0000 - tn: 7590.0000 - fn: 3741.0000 - accuracy: 0.4062 - precision: 0.4977 - recall: 0.0283 - auc: 0.5796 - prc: 0.4025 - val_loss: 1.1240 - val_tp: 0.0000e+00 - val_fp: 0.0000e+00 - val_tn: 744.0000 - val_fn: 372.0000 - val_accuracy: 0.2930 - val_precision: 0.0000e+00 - val_recall: 0.0000e+00 - val_auc: 0.4850 - val_prc: 0.3222\n",
      "Epoch 25/1000\n",
      "65/65 [==============================] - 6s 92ms/step - loss: 1.0791 - tp: 91.0000 - fp: 91.0000 - tn: 7609.0000 - fn: 3759.0000 - accuracy: 0.4052 - precision: 0.5000 - recall: 0.0236 - auc: 0.5850 - prc: 0.4028 - val_loss: 1.1415 - val_tp: 5.0000 - val_fp: 6.0000 - val_tn: 738.0000 - val_fn: 367.0000 - val_accuracy: 0.3199 - val_precision: 0.4545 - val_recall: 0.0134 - val_auc: 0.4835 - val_prc: 0.3257\n",
      "Epoch 26/1000\n",
      "65/65 [==============================] - 6s 85ms/step - loss: 1.0725 - tp: 206.0000 - fp: 171.0000 - tn: 7529.0000 - fn: 3644.0000 - accuracy: 0.4197 - precision: 0.5464 - recall: 0.0535 - auc: 0.5967 - prc: 0.4197 - val_loss: 1.1398 - val_tp: 15.0000 - val_fp: 25.0000 - val_tn: 719.0000 - val_fn: 357.0000 - val_accuracy: 0.3253 - val_precision: 0.3750 - val_recall: 0.0403 - val_auc: 0.4985 - val_prc: 0.3437\n",
      "Epoch 27/1000\n",
      "64/65 [============================>.] - ETA: 0s - loss: 1.0672 - tp: 283.0000 - fp: 253.0000 - tn: 7427.0000 - fn: 3557.0000 - accuracy: 0.4346 - precision: 0.5280 - recall: 0.0737 - auc: 0.6081 - prc: 0.4257\n",
      "Epoch 00027: ReduceLROnPlateau reducing learning rate to 0.0002500000118743628.\n",
      "65/65 [==============================] - 6s 90ms/step - loss: 1.0665 - tp: 287.0000 - fp: 254.0000 - tn: 7446.0000 - fn: 3563.0000 - accuracy: 0.4353 - precision: 0.5305 - recall: 0.0745 - auc: 0.6090 - prc: 0.4269 - val_loss: 1.1525 - val_tp: 34.0000 - val_fp: 61.0000 - val_tn: 683.0000 - val_fn: 338.0000 - val_accuracy: 0.3360 - val_precision: 0.3579 - val_recall: 0.0914 - val_auc: 0.5063 - val_prc: 0.3468\n",
      "Epoch 28/1000\n",
      "65/65 [==============================] - 6s 87ms/step - loss: 1.0619 - tp: 216.0000 - fp: 195.0000 - tn: 7505.0000 - fn: 3634.0000 - accuracy: 0.4345 - precision: 0.5255 - recall: 0.0561 - auc: 0.6173 - prc: 0.4342 - val_loss: 1.2146 - val_tp: 32.0000 - val_fp: 79.0000 - val_tn: 665.0000 - val_fn: 340.0000 - val_accuracy: 0.3091 - val_precision: 0.2883 - val_recall: 0.0860 - val_auc: 0.4659 - val_prc: 0.3147\n",
      "Epoch 29/1000\n",
      "65/65 [==============================] - 6s 91ms/step - loss: 1.0566 - tp: 352.0000 - fp: 256.0000 - tn: 7444.0000 - fn: 3498.0000 - accuracy: 0.4405 - precision: 0.5789 - recall: 0.0914 - auc: 0.6223 - prc: 0.4469 - val_loss: 1.1500 - val_tp: 37.0000 - val_fp: 57.0000 - val_tn: 687.0000 - val_fn: 335.0000 - val_accuracy: 0.3522 - val_precision: 0.3936 - val_recall: 0.0995 - val_auc: 0.5171 - val_prc: 0.3515\n",
      "Epoch 30/1000\n",
      "65/65 [==============================] - 7s 100ms/step - loss: 1.0519 - tp: 403.0000 - fp: 292.0000 - tn: 7408.0000 - fn: 3447.0000 - accuracy: 0.4434 - precision: 0.5799 - recall: 0.1047 - auc: 0.6284 - prc: 0.4539 - val_loss: 1.1853 - val_tp: 40.0000 - val_fp: 64.0000 - val_tn: 680.0000 - val_fn: 332.0000 - val_accuracy: 0.3360 - val_precision: 0.3846 - val_recall: 0.1075 - val_auc: 0.5023 - val_prc: 0.3436\n",
      "Epoch 31/1000\n",
      "65/65 [==============================] - 6s 92ms/step - loss: 1.0495 - tp: 387.0000 - fp: 280.0000 - tn: 7420.0000 - fn: 3463.0000 - accuracy: 0.4558 - precision: 0.5802 - recall: 0.1005 - auc: 0.6311 - prc: 0.4615 - val_loss: 1.1690 - val_tp: 38.0000 - val_fp: 65.0000 - val_tn: 679.0000 - val_fn: 334.0000 - val_accuracy: 0.3548 - val_precision: 0.3689 - val_recall: 0.1022 - val_auc: 0.5157 - val_prc: 0.3503\n",
      "Epoch 32/1000\n",
      "65/65 [==============================] - 5s 85ms/step - loss: 1.0470 - tp: 457.0000 - fp: 311.0000 - tn: 7389.0000 - fn: 3393.0000 - accuracy: 0.4532 - precision: 0.5951 - recall: 0.1187 - auc: 0.6345 - prc: 0.4644 - val_loss: 1.1809 - val_tp: 49.0000 - val_fp: 68.0000 - val_tn: 676.0000 - val_fn: 323.0000 - val_accuracy: 0.3548 - val_precision: 0.4188 - val_recall: 0.1317 - val_auc: 0.5151 - val_prc: 0.3527\n",
      "Epoch 33/1000\n",
      "65/65 [==============================] - 6s 92ms/step - loss: 1.0465 - tp: 415.0000 - fp: 289.0000 - tn: 7411.0000 - fn: 3435.0000 - accuracy: 0.4553 - precision: 0.5895 - recall: 0.1078 - auc: 0.6344 - prc: 0.4612 - val_loss: 1.1645 - val_tp: 36.0000 - val_fp: 68.0000 - val_tn: 676.0000 - val_fn: 336.0000 - val_accuracy: 0.3548 - val_precision: 0.3462 - val_recall: 0.0968 - val_auc: 0.5196 - val_prc: 0.3499\n",
      "Epoch 34/1000\n",
      "65/65 [==============================] - 5s 84ms/step - loss: 1.0426 - tp: 433.0000 - fp: 313.0000 - tn: 7387.0000 - fn: 3417.0000 - accuracy: 0.4517 - precision: 0.5804 - recall: 0.1125 - auc: 0.6392 - prc: 0.4670 - val_loss: 1.1826 - val_tp: 46.0000 - val_fp: 71.0000 - val_tn: 673.0000 - val_fn: 326.0000 - val_accuracy: 0.3468 - val_precision: 0.3932 - val_recall: 0.1237 - val_auc: 0.5073 - val_prc: 0.3468\n",
      "Epoch 35/1000\n",
      "65/65 [==============================] - 5s 80ms/step - loss: 1.0413 - tp: 447.0000 - fp: 298.0000 - tn: 7402.0000 - fn: 3403.0000 - accuracy: 0.4603 - precision: 0.6000 - recall: 0.1161 - auc: 0.6422 - prc: 0.4701 - val_loss: 1.1693 - val_tp: 51.0000 - val_fp: 71.0000 - val_tn: 673.0000 - val_fn: 321.0000 - val_accuracy: 0.3737 - val_precision: 0.4180 - val_recall: 0.1371 - val_auc: 0.5281 - val_prc: 0.3558\n",
      "Epoch 36/1000\n",
      "65/65 [==============================] - 6s 89ms/step - loss: 1.0365 - tp: 476.0000 - fp: 301.0000 - tn: 7399.0000 - fn: 3374.0000 - accuracy: 0.4582 - precision: 0.6126 - recall: 0.1236 - auc: 0.6452 - prc: 0.4767 - val_loss: 1.1985 - val_tp: 57.0000 - val_fp: 91.0000 - val_tn: 653.0000 - val_fn: 315.0000 - val_accuracy: 0.3602 - val_precision: 0.3851 - val_recall: 0.1532 - val_auc: 0.5184 - val_prc: 0.3499\n",
      "Epoch 37/1000\n"
     ]
    },
    {
     "name": "stdout",
     "output_type": "stream",
     "text": [
      "64/65 [============================>.] - ETA: 0s - loss: 1.0389 - tp: 458.0000 - fp: 324.0000 - tn: 7356.0000 - fn: 3382.0000 - accuracy: 0.4607 - precision: 0.5857 - recall: 0.1193 - auc: 0.6449 - prc: 0.4747\n",
      "Epoch 00037: ReduceLROnPlateau reducing learning rate to 0.0001250000059371814.\n",
      "65/65 [==============================] - 5s 84ms/step - loss: 1.0381 - tp: 462.0000 - fp: 326.0000 - tn: 7374.0000 - fn: 3388.0000 - accuracy: 0.4616 - precision: 0.5863 - recall: 0.1200 - auc: 0.6456 - prc: 0.4755 - val_loss: 1.1794 - val_tp: 61.0000 - val_fp: 90.0000 - val_tn: 654.0000 - val_fn: 311.0000 - val_accuracy: 0.3683 - val_precision: 0.4040 - val_recall: 0.1640 - val_auc: 0.5290 - val_prc: 0.3564\n",
      "Epoch 38/1000\n",
      "65/65 [==============================] - 6s 86ms/step - loss: 1.0339 - tp: 498.0000 - fp: 314.0000 - tn: 7386.0000 - fn: 3352.0000 - accuracy: 0.4623 - precision: 0.6133 - recall: 0.1294 - auc: 0.6490 - prc: 0.4812 - val_loss: 1.2039 - val_tp: 71.0000 - val_fp: 116.0000 - val_tn: 628.0000 - val_fn: 301.0000 - val_accuracy: 0.3737 - val_precision: 0.3797 - val_recall: 0.1909 - val_auc: 0.5285 - val_prc: 0.3559\n",
      "Epoch 39/1000\n",
      "65/65 [==============================] - 6s 90ms/step - loss: 1.0290 - tp: 528.0000 - fp: 328.0000 - tn: 7372.0000 - fn: 3322.0000 - accuracy: 0.4688 - precision: 0.6168 - recall: 0.1371 - auc: 0.6539 - prc: 0.4903 - val_loss: 1.2030 - val_tp: 70.0000 - val_fp: 115.0000 - val_tn: 629.0000 - val_fn: 302.0000 - val_accuracy: 0.3683 - val_precision: 0.3784 - val_recall: 0.1882 - val_auc: 0.5301 - val_prc: 0.3571\n",
      "Epoch 40/1000\n",
      "65/65 [==============================] - 6s 89ms/step - loss: 1.0260 - tp: 560.0000 - fp: 356.0000 - tn: 7344.0000 - fn: 3290.0000 - accuracy: 0.4704 - precision: 0.6114 - recall: 0.1455 - auc: 0.6572 - prc: 0.4922 - val_loss: 1.2193 - val_tp: 77.0000 - val_fp: 119.0000 - val_tn: 625.0000 - val_fn: 295.0000 - val_accuracy: 0.3629 - val_precision: 0.3929 - val_recall: 0.2070 - val_auc: 0.5283 - val_prc: 0.3570\n",
      "Epoch 41/1000\n",
      "65/65 [==============================] - 6s 91ms/step - loss: 1.0273 - tp: 540.0000 - fp: 341.0000 - tn: 7359.0000 - fn: 3310.0000 - accuracy: 0.4678 - precision: 0.6129 - recall: 0.1403 - auc: 0.6559 - prc: 0.4894 - val_loss: 1.2025 - val_tp: 77.0000 - val_fp: 127.0000 - val_tn: 617.0000 - val_fn: 295.0000 - val_accuracy: 0.3790 - val_precision: 0.3775 - val_recall: 0.2070 - val_auc: 0.5372 - val_prc: 0.3631\n",
      "Epoch 42/1000\n",
      "65/65 [==============================] - 5s 84ms/step - loss: 1.0249 - tp: 578.0000 - fp: 367.0000 - tn: 7333.0000 - fn: 3272.0000 - accuracy: 0.4681 - precision: 0.6116 - recall: 0.1501 - auc: 0.6589 - prc: 0.4928 - val_loss: 1.2425 - val_tp: 84.0000 - val_fp: 130.0000 - val_tn: 614.0000 - val_fn: 288.0000 - val_accuracy: 0.3737 - val_precision: 0.3925 - val_recall: 0.2258 - val_auc: 0.5294 - val_prc: 0.3606\n",
      "Epoch 43/1000\n",
      "65/65 [==============================] - 6s 87ms/step - loss: 1.0253 - tp: 577.0000 - fp: 364.0000 - tn: 7336.0000 - fn: 3273.0000 - accuracy: 0.4696 - precision: 0.6132 - recall: 0.1499 - auc: 0.6584 - prc: 0.4931 - val_loss: 1.2053 - val_tp: 79.0000 - val_fp: 123.0000 - val_tn: 621.0000 - val_fn: 293.0000 - val_accuracy: 0.3763 - val_precision: 0.3911 - val_recall: 0.2124 - val_auc: 0.5394 - val_prc: 0.3662\n",
      "Epoch 44/1000\n",
      "65/65 [==============================] - 6s 88ms/step - loss: 1.0216 - tp: 617.0000 - fp: 390.0000 - tn: 7310.0000 - fn: 3233.0000 - accuracy: 0.4696 - precision: 0.6127 - recall: 0.1603 - auc: 0.6611 - prc: 0.4979 - val_loss: 1.2442 - val_tp: 85.0000 - val_fp: 138.0000 - val_tn: 606.0000 - val_fn: 287.0000 - val_accuracy: 0.3656 - val_precision: 0.3812 - val_recall: 0.2285 - val_auc: 0.5320 - val_prc: 0.3629\n",
      "Epoch 45/1000\n",
      "65/65 [==============================] - 6s 85ms/step - loss: 1.0222 - tp: 616.0000 - fp: 393.0000 - tn: 7307.0000 - fn: 3234.0000 - accuracy: 0.4764 - precision: 0.6105 - recall: 0.1600 - auc: 0.6635 - prc: 0.4971 - val_loss: 1.2149 - val_tp: 80.0000 - val_fp: 136.0000 - val_tn: 608.0000 - val_fn: 292.0000 - val_accuracy: 0.3763 - val_precision: 0.3704 - val_recall: 0.2151 - val_auc: 0.5391 - val_prc: 0.3666\n",
      "Epoch 46/1000\n",
      "65/65 [==============================] - 6s 86ms/step - loss: 1.0191 - tp: 677.0000 - fp: 432.0000 - tn: 7268.0000 - fn: 3173.0000 - accuracy: 0.4740 - precision: 0.6105 - recall: 0.1758 - auc: 0.6659 - prc: 0.5034 - val_loss: 1.2625 - val_tp: 87.0000 - val_fp: 146.0000 - val_tn: 598.0000 - val_fn: 285.0000 - val_accuracy: 0.3683 - val_precision: 0.3734 - val_recall: 0.2339 - val_auc: 0.5301 - val_prc: 0.3630\n",
      "Epoch 47/1000\n",
      "65/65 [==============================] - ETA: 0s - loss: 1.0211 - tp: 625.0000 - fp: 396.0000 - tn: 7284.0000 - fn: 3215.0000 - accuracy: 0.4768 - precision: 0.6121 - recall: 0.1628 - auc: 0.6637 - prc: 0.498 - ETA: 0s - loss: 1.0197 - tp: 634.0000 - fp: 397.0000 - tn: 7303.0000 - fn: 3216.0000 - accuracy: 0.4779 - precision: 0.6149 - recall: 0.1647 - auc: 0.6648 - prc: 0.5004\n",
      "Epoch 00047: ReduceLROnPlateau reducing learning rate to 6.25000029685907e-05.\n",
      "65/65 [==============================] - 5s 83ms/step - loss: 1.0197 - tp: 634.0000 - fp: 397.0000 - tn: 7303.0000 - fn: 3216.0000 - accuracy: 0.4779 - precision: 0.6149 - recall: 0.1647 - auc: 0.6648 - prc: 0.5004 - val_loss: 1.2211 - val_tp: 77.0000 - val_fp: 132.0000 - val_tn: 612.0000 - val_fn: 295.0000 - val_accuracy: 0.3683 - val_precision: 0.3684 - val_recall: 0.2070 - val_auc: 0.5390 - val_prc: 0.3674\n",
      "Epoch 48/1000\n",
      "65/65 [==============================] - 5s 85ms/step - loss: 1.0170 - tp: 667.0000 - fp: 415.0000 - tn: 7285.0000 - fn: 3183.0000 - accuracy: 0.4868 - precision: 0.6165 - recall: 0.1732 - auc: 0.6677 - prc: 0.5050 - val_loss: 1.2544 - val_tp: 88.0000 - val_fp: 146.0000 - val_tn: 598.0000 - val_fn: 284.0000 - val_accuracy: 0.3763 - val_precision: 0.3761 - val_recall: 0.2366 - val_auc: 0.5351 - val_prc: 0.3639\n",
      "Epoch 49/1000\n",
      "65/65 [==============================] - 5s 83ms/step - loss: 1.0141 - tp: 705.0000 - fp: 442.0000 - tn: 7258.0000 - fn: 3145.0000 - accuracy: 0.4860 - precision: 0.6146 - recall: 0.1831 - auc: 0.6708 - prc: 0.5076 - val_loss: 1.2533 - val_tp: 86.0000 - val_fp: 144.0000 - val_tn: 600.0000 - val_fn: 286.0000 - val_accuracy: 0.3737 - val_precision: 0.3739 - val_recall: 0.2312 - val_auc: 0.5361 - val_prc: 0.3658\n",
      "Epoch 50/1000\n",
      "65/65 [==============================] - 5s 82ms/step - loss: 1.0115 - tp: 724.0000 - fp: 440.0000 - tn: 7260.0000 - fn: 3126.0000 - accuracy: 0.4901 - precision: 0.6220 - recall: 0.1881 - auc: 0.6732 - prc: 0.5121 - val_loss: 1.2567 - val_tp: 87.0000 - val_fp: 142.0000 - val_tn: 602.0000 - val_fn: 285.0000 - val_accuracy: 0.3790 - val_precision: 0.3799 - val_recall: 0.2339 - val_auc: 0.5392 - val_prc: 0.3693\n",
      "Epoch 51/1000\n",
      "65/65 [==============================] - 6s 94ms/step - loss: 1.0107 - tp: 727.0000 - fp: 460.0000 - tn: 7240.0000 - fn: 3123.0000 - accuracy: 0.4839 - precision: 0.6125 - recall: 0.1888 - auc: 0.6744 - prc: 0.5110 - val_loss: 1.2593 - val_tp: 89.0000 - val_fp: 144.0000 - val_tn: 600.0000 - val_fn: 283.0000 - val_accuracy: 0.3790 - val_precision: 0.3820 - val_recall: 0.2392 - val_auc: 0.5392 - val_prc: 0.3694\n",
      "Epoch 52/1000\n",
      "65/65 [==============================] - 6s 93ms/step - loss: 1.0108 - tp: 746.0000 - fp: 478.0000 - tn: 7222.0000 - fn: 3104.0000 - accuracy: 0.4925 - precision: 0.6095 - recall: 0.1938 - auc: 0.6740 - prc: 0.5135 - val_loss: 1.2727 - val_tp: 91.0000 - val_fp: 149.0000 - val_tn: 595.0000 - val_fn: 281.0000 - val_accuracy: 0.3817 - val_precision: 0.3792 - val_recall: 0.2446 - val_auc: 0.5362 - val_prc: 0.3673\n",
      "Epoch 53/1000\n",
      "65/65 [==============================] - 6s 85ms/step - loss: 1.0099 - tp: 743.0000 - fp: 454.0000 - tn: 7246.0000 - fn: 3107.0000 - accuracy: 0.4852 - precision: 0.6207 - recall: 0.1930 - auc: 0.6751 - prc: 0.5127 - val_loss: 1.2709 - val_tp: 90.0000 - val_fp: 146.0000 - val_tn: 598.0000 - val_fn: 282.0000 - val_accuracy: 0.3737 - val_precision: 0.3814 - val_recall: 0.2419 - val_auc: 0.5361 - val_prc: 0.3672\n",
      "Epoch 54/1000\n"
     ]
    },
    {
     "name": "stdout",
     "output_type": "stream",
     "text": [
      "65/65 [==============================] - 5s 83ms/step - loss: 1.0073 - tp: 757.0000 - fp: 469.0000 - tn: 7231.0000 - fn: 3093.0000 - accuracy: 0.4894 - precision: 0.6175 - recall: 0.1966 - auc: 0.6766 - prc: 0.5176 - val_loss: 1.2806 - val_tp: 95.0000 - val_fp: 148.0000 - val_tn: 596.0000 - val_fn: 277.0000 - val_accuracy: 0.3656 - val_precision: 0.3909 - val_recall: 0.2554 - val_auc: 0.5349 - val_prc: 0.3672\n",
      "Epoch 55/1000\n",
      "65/65 [==============================] - 7s 102ms/step - loss: 1.0081 - tp: 755.0000 - fp: 490.0000 - tn: 7210.0000 - fn: 3095.0000 - accuracy: 0.4904 - precision: 0.6064 - recall: 0.1961 - auc: 0.6770 - prc: 0.5152 - val_loss: 1.2844 - val_tp: 95.0000 - val_fp: 150.0000 - val_tn: 594.0000 - val_fn: 277.0000 - val_accuracy: 0.3737 - val_precision: 0.3878 - val_recall: 0.2554 - val_auc: 0.5351 - val_prc: 0.3687\n",
      "Epoch 56/1000\n",
      "65/65 [==============================] - 7s 113ms/step - loss: 1.0091 - tp: 740.0000 - fp: 475.0000 - tn: 7225.0000 - fn: 3110.0000 - accuracy: 0.4842 - precision: 0.6091 - recall: 0.1922 - auc: 0.6751 - prc: 0.5132 - val_loss: 1.2824 - val_tp: 96.0000 - val_fp: 146.0000 - val_tn: 598.0000 - val_fn: 276.0000 - val_accuracy: 0.3629 - val_precision: 0.3967 - val_recall: 0.2581 - val_auc: 0.5365 - val_prc: 0.3704\n",
      "Epoch 57/1000\n",
      "64/65 [============================>.] - ETA: 0s - loss: 1.0083 - tp: 783.0000 - fp: 515.0000 - tn: 7165.0000 - fn: 3057.0000 - accuracy: 0.4901 - precision: 0.6032 - recall: 0.2039 - auc: 0.6768 - prc: 0.5150- ETA: 1s - loss: 1.0068 - tp: 692.0000 - fp: 453.0000 - tn: 6027.0000 - fn: 2548.0000 - accuracy: 0.4889 - precision: 0.6044 - recall: 0.2136 - auc: 0.6781 - p\n",
      "Epoch 00057: ReduceLROnPlateau reducing learning rate to 3.125000148429535e-05.\n",
      "65/65 [==============================] - 7s 110ms/step - loss: 1.0069 - tp: 790.0000 - fp: 518.0000 - tn: 7182.0000 - fn: 3060.0000 - accuracy: 0.4906 - precision: 0.6040 - recall: 0.2052 - auc: 0.6778 - prc: 0.5166 - val_loss: 1.2831 - val_tp: 93.0000 - val_fp: 150.0000 - val_tn: 594.0000 - val_fn: 279.0000 - val_accuracy: 0.3629 - val_precision: 0.3827 - val_recall: 0.2500 - val_auc: 0.5352 - val_prc: 0.3678\n",
      "Epoch 58/1000\n",
      "65/65 [==============================] - 7s 102ms/step - loss: 1.0061 - tp: 801.0000 - fp: 501.0000 - tn: 7199.0000 - fn: 3049.0000 - accuracy: 0.4935 - precision: 0.6152 - recall: 0.2081 - auc: 0.6792 - prc: 0.5162 - val_loss: 1.2933 - val_tp: 99.0000 - val_fp: 152.0000 - val_tn: 592.0000 - val_fn: 273.0000 - val_accuracy: 0.3656 - val_precision: 0.3944 - val_recall: 0.2661 - val_auc: 0.5333 - val_prc: 0.3666\n",
      "Epoch 59/1000\n",
      "65/65 [==============================] - 6s 91ms/step - loss: 1.0048 - tp: 786.0000 - fp: 503.0000 - tn: 7197.0000 - fn: 3064.0000 - accuracy: 0.4922 - precision: 0.6098 - recall: 0.2042 - auc: 0.6809 - prc: 0.5180 - val_loss: 1.2948 - val_tp: 97.0000 - val_fp: 152.0000 - val_tn: 592.0000 - val_fn: 275.0000 - val_accuracy: 0.3763 - val_precision: 0.3896 - val_recall: 0.2608 - val_auc: 0.5330 - val_prc: 0.3680\n",
      "Epoch 60/1000\n",
      "65/65 [==============================] - 6s 90ms/step - loss: 1.0031 - tp: 804.0000 - fp: 524.0000 - tn: 7176.0000 - fn: 3046.0000 - accuracy: 0.4979 - precision: 0.6054 - recall: 0.2088 - auc: 0.6815 - prc: 0.5211 - val_loss: 1.2983 - val_tp: 98.0000 - val_fp: 153.0000 - val_tn: 591.0000 - val_fn: 274.0000 - val_accuracy: 0.3683 - val_precision: 0.3904 - val_recall: 0.2634 - val_auc: 0.5332 - val_prc: 0.3687\n",
      "Epoch 61/1000\n",
      "65/65 [==============================] - 7s 100ms/step - loss: 1.0004 - tp: 824.0000 - fp: 513.0000 - tn: 7187.0000 - fn: 3026.0000 - accuracy: 0.4956 - precision: 0.6163 - recall: 0.2140 - auc: 0.6837 - prc: 0.5234 - val_loss: 1.3009 - val_tp: 101.0000 - val_fp: 155.0000 - val_tn: 589.0000 - val_fn: 271.0000 - val_accuracy: 0.3710 - val_precision: 0.3945 - val_recall: 0.2715 - val_auc: 0.5348 - val_prc: 0.3700\n",
      "Epoch 62/1000\n",
      "65/65 [==============================] - 6s 92ms/step - loss: 1.0025 - tp: 824.0000 - fp: 528.0000 - tn: 7172.0000 - fn: 3026.0000 - accuracy: 0.4956 - precision: 0.6095 - recall: 0.2140 - auc: 0.6824 - prc: 0.5214 - val_loss: 1.3019 - val_tp: 100.0000 - val_fp: 156.0000 - val_tn: 588.0000 - val_fn: 272.0000 - val_accuracy: 0.3683 - val_precision: 0.3906 - val_recall: 0.2688 - val_auc: 0.5335 - val_prc: 0.3692\n",
      "Epoch 63/1000\n",
      "65/65 [==============================] - 5s 83ms/step - loss: 1.0029 - tp: 796.0000 - fp: 522.0000 - tn: 7178.0000 - fn: 3054.0000 - accuracy: 0.4966 - precision: 0.6039 - recall: 0.2068 - auc: 0.6807 - prc: 0.5214 - val_loss: 1.2991 - val_tp: 100.0000 - val_fp: 154.0000 - val_tn: 590.0000 - val_fn: 272.0000 - val_accuracy: 0.3629 - val_precision: 0.3937 - val_recall: 0.2688 - val_auc: 0.5335 - val_prc: 0.3697\n",
      "Epoch 64/1000\n",
      "65/65 [==============================] - 6s 90ms/step - loss: 1.0014 - tp: 831.0000 - fp: 525.0000 - tn: 7175.0000 - fn: 3019.0000 - accuracy: 0.4930 - precision: 0.6128 - recall: 0.2158 - auc: 0.6828 - prc: 0.5233 - val_loss: 1.3065 - val_tp: 101.0000 - val_fp: 157.0000 - val_tn: 587.0000 - val_fn: 271.0000 - val_accuracy: 0.3737 - val_precision: 0.3915 - val_recall: 0.2715 - val_auc: 0.5336 - val_prc: 0.3692\n",
      "Epoch 65/1000\n",
      "65/65 [==============================] - 6s 92ms/step - loss: 1.0011 - tp: 854.0000 - fp: 516.0000 - tn: 7184.0000 - fn: 2996.0000 - accuracy: 0.4945 - precision: 0.6234 - recall: 0.2218 - auc: 0.6844 - prc: 0.5254 - val_loss: 1.3062 - val_tp: 101.0000 - val_fp: 158.0000 - val_tn: 586.0000 - val_fn: 271.0000 - val_accuracy: 0.3737 - val_precision: 0.3900 - val_recall: 0.2715 - val_auc: 0.5318 - val_prc: 0.3687\n",
      "Epoch 66/1000\n",
      "65/65 [==============================] - 6s 89ms/step - loss: 1.0009 - tp: 841.0000 - fp: 560.0000 - tn: 7140.0000 - fn: 3009.0000 - accuracy: 0.4992 - precision: 0.6003 - recall: 0.2184 - auc: 0.6843 - prc: 0.5230 - val_loss: 1.3111 - val_tp: 99.0000 - val_fp: 162.0000 - val_tn: 582.0000 - val_fn: 273.0000 - val_accuracy: 0.3844 - val_precision: 0.3793 - val_recall: 0.2661 - val_auc: 0.5331 - val_prc: 0.3691\n",
      "Epoch 67/1000\n",
      "64/65 [============================>.] - ETA: 0s - loss: 1.0022 - tp: 815.0000 - fp: 520.0000 - tn: 7160.0000 - fn: 3025.0000 - accuracy: 0.4956 - precision: 0.6105 - recall: 0.2122 - auc: 0.6834 - prc: 0.5214\n",
      "Epoch 00067: ReduceLROnPlateau reducing learning rate to 1.5625000742147677e-05.\n",
      "65/65 [==============================] - 6s 85ms/step - loss: 1.0007 - tp: 823.0000 - fp: 522.0000 - tn: 7178.0000 - fn: 3027.0000 - accuracy: 0.4964 - precision: 0.6119 - recall: 0.2138 - auc: 0.6846 - prc: 0.5233 - val_loss: 1.3040 - val_tp: 102.0000 - val_fp: 160.0000 - val_tn: 584.0000 - val_fn: 270.0000 - val_accuracy: 0.3629 - val_precision: 0.3893 - val_recall: 0.2742 - val_auc: 0.5317 - val_prc: 0.3687\n",
      "Epoch 68/1000\n",
      "65/65 [==============================] - 6s 86ms/step - loss: 0.9994 - tp: 847.0000 - fp: 533.0000 - tn: 7167.0000 - fn: 3003.0000 - accuracy: 0.4971 - precision: 0.6138 - recall: 0.2200 - auc: 0.6851 - prc: 0.5254 - val_loss: 1.3102 - val_tp: 102.0000 - val_fp: 161.0000 - val_tn: 583.0000 - val_fn: 270.0000 - val_accuracy: 0.3763 - val_precision: 0.3878 - val_recall: 0.2742 - val_auc: 0.5312 - val_prc: 0.3684\n",
      "Epoch 69/1000\n",
      "65/65 [==============================] - 5s 81ms/step - loss: 1.0002 - tp: 859.0000 - fp: 538.0000 - tn: 7162.0000 - fn: 2991.0000 - accuracy: 0.4951 - precision: 0.6149 - recall: 0.2231 - auc: 0.6842 - prc: 0.5251 - val_loss: 1.3145 - val_tp: 101.0000 - val_fp: 161.0000 - val_tn: 583.0000 - val_fn: 271.0000 - val_accuracy: 0.3817 - val_precision: 0.3855 - val_recall: 0.2715 - val_auc: 0.5311 - val_prc: 0.3677\n",
      "Epoch 70/1000\n",
      "65/65 [==============================] - 5s 85ms/step - loss: 0.9989 - tp: 855.0000 - fp: 549.0000 - tn: 7151.0000 - fn: 2995.0000 - accuracy: 0.4974 - precision: 0.6090 - recall: 0.2221 - auc: 0.6860 - prc: 0.5247 - val_loss: 1.3158 - val_tp: 100.0000 - val_fp: 161.0000 - val_tn: 583.0000 - val_fn: 272.0000 - val_accuracy: 0.3817 - val_precision: 0.3831 - val_recall: 0.2688 - val_auc: 0.5309 - val_prc: 0.3675\n",
      "Epoch 71/1000\n"
     ]
    },
    {
     "name": "stdout",
     "output_type": "stream",
     "text": [
      "65/65 [==============================] - 6s 91ms/step - loss: 0.9984 - tp: 869.0000 - fp: 533.0000 - tn: 7167.0000 - fn: 2981.0000 - accuracy: 0.4971 - precision: 0.6198 - recall: 0.2257 - auc: 0.6857 - prc: 0.5279 - val_loss: 1.3165 - val_tp: 100.0000 - val_fp: 163.0000 - val_tn: 581.0000 - val_fn: 272.0000 - val_accuracy: 0.3737 - val_precision: 0.3802 - val_recall: 0.2688 - val_auc: 0.5292 - val_prc: 0.3662\n",
      "Epoch 72/1000\n",
      "65/65 [==============================] - 6s 89ms/step - loss: 0.9980 - tp: 844.0000 - fp: 548.0000 - tn: 7152.0000 - fn: 3006.0000 - accuracy: 0.4956 - precision: 0.6063 - recall: 0.2192 - auc: 0.6865 - prc: 0.5273 - val_loss: 1.3168 - val_tp: 99.0000 - val_fp: 164.0000 - val_tn: 580.0000 - val_fn: 273.0000 - val_accuracy: 0.3790 - val_precision: 0.3764 - val_recall: 0.2661 - val_auc: 0.5304 - val_prc: 0.3672\n",
      "Epoch 73/1000\n",
      "65/65 [==============================] - 5s 84ms/step - loss: 0.9976 - tp: 884.0000 - fp: 553.0000 - tn: 7147.0000 - fn: 2966.0000 - accuracy: 0.5000 - precision: 0.6152 - recall: 0.2296 - auc: 0.6874 - prc: 0.5267 - val_loss: 1.3178 - val_tp: 100.0000 - val_fp: 165.0000 - val_tn: 579.0000 - val_fn: 272.0000 - val_accuracy: 0.3763 - val_precision: 0.3774 - val_recall: 0.2688 - val_auc: 0.5307 - val_prc: 0.3675\n",
      "Epoch 74/1000\n",
      "65/65 [==============================] - 5s 80ms/step - loss: 0.9983 - tp: 868.0000 - fp: 551.0000 - tn: 7149.0000 - fn: 2982.0000 - accuracy: 0.4997 - precision: 0.6117 - recall: 0.2255 - auc: 0.6853 - prc: 0.5258 - val_loss: 1.3212 - val_tp: 101.0000 - val_fp: 168.0000 - val_tn: 576.0000 - val_fn: 271.0000 - val_accuracy: 0.3763 - val_precision: 0.3755 - val_recall: 0.2715 - val_auc: 0.5293 - val_prc: 0.3666\n",
      "Epoch 75/1000\n",
      "65/65 [==============================] - 5s 85ms/step - loss: 1.0003 - tp: 865.0000 - fp: 558.0000 - tn: 7142.0000 - fn: 2985.0000 - accuracy: 0.4956 - precision: 0.6079 - recall: 0.2247 - auc: 0.6847 - prc: 0.5235 - val_loss: 1.3216 - val_tp: 103.0000 - val_fp: 166.0000 - val_tn: 578.0000 - val_fn: 269.0000 - val_accuracy: 0.3790 - val_precision: 0.3829 - val_recall: 0.2769 - val_auc: 0.5290 - val_prc: 0.3665\n",
      "Epoch 76/1000\n",
      "65/65 [==============================] - 6s 89ms/step - loss: 0.9938 - tp: 880.0000 - fp: 552.0000 - tn: 7148.0000 - fn: 2970.0000 - accuracy: 0.5016 - precision: 0.6145 - recall: 0.2286 - auc: 0.6904 - prc: 0.5316 - val_loss: 1.3255 - val_tp: 101.0000 - val_fp: 167.0000 - val_tn: 577.0000 - val_fn: 271.0000 - val_accuracy: 0.3710 - val_precision: 0.3769 - val_recall: 0.2715 - val_auc: 0.5280 - val_prc: 0.3661\n",
      "Epoch 77/1000\n",
      "64/65 [============================>.] - ETA: 0s - loss: 0.9972 - tp: 871.0000 - fp: 554.0000 - tn: 7126.0000 - fn: 2969.0000 - accuracy: 0.4997 - precision: 0.6112 - recall: 0.2268 - auc: 0.6871 - prc: 0.5273ETA: 3s - loss: 1.0118 - tp: 229.0000 - fp: 162.0000 - tn: 2238.0000 - fn: 971.0000 - accuracy: 0.4708 - precision: 0.5857\n",
      "Epoch 00077: ReduceLROnPlateau reducing learning rate to 7.812500371073838e-06.\n",
      "65/65 [==============================] - 6s 87ms/step - loss: 0.9956 - tp: 879.0000 - fp: 556.0000 - tn: 7144.0000 - fn: 2971.0000 - accuracy: 0.5005 - precision: 0.6125 - recall: 0.2283 - auc: 0.6882 - prc: 0.5294 - val_loss: 1.3288 - val_tp: 100.0000 - val_fp: 166.0000 - val_tn: 578.0000 - val_fn: 272.0000 - val_accuracy: 0.3683 - val_precision: 0.3759 - val_recall: 0.2688 - val_auc: 0.5275 - val_prc: 0.3652\n",
      "Epoch 78/1000\n",
      "65/65 [==============================] - 6s 87ms/step - loss: 0.9977 - tp: 884.0000 - fp: 541.0000 - tn: 7159.0000 - fn: 2966.0000 - accuracy: 0.5000 - precision: 0.6204 - recall: 0.2296 - auc: 0.6870 - prc: 0.5303 - val_loss: 1.3284 - val_tp: 102.0000 - val_fp: 165.0000 - val_tn: 579.0000 - val_fn: 270.0000 - val_accuracy: 0.3683 - val_precision: 0.3820 - val_recall: 0.2742 - val_auc: 0.5277 - val_prc: 0.3654\n",
      "Epoch 79/1000\n",
      "65/65 [==============================] - 6s 87ms/step - loss: 0.9966 - tp: 892.0000 - fp: 567.0000 - tn: 7133.0000 - fn: 2958.0000 - accuracy: 0.5010 - precision: 0.6114 - recall: 0.2317 - auc: 0.6877 - prc: 0.5288 - val_loss: 1.3275 - val_tp: 103.0000 - val_fp: 165.0000 - val_tn: 579.0000 - val_fn: 269.0000 - val_accuracy: 0.3737 - val_precision: 0.3843 - val_recall: 0.2769 - val_auc: 0.5280 - val_prc: 0.3659\n",
      "Epoch 80/1000\n",
      "65/65 [==============================] - 6s 86ms/step - loss: 0.9956 - tp: 880.0000 - fp: 562.0000 - tn: 7138.0000 - fn: 2970.0000 - accuracy: 0.5013 - precision: 0.6103 - recall: 0.2286 - auc: 0.6892 - prc: 0.5302 - val_loss: 1.3286 - val_tp: 104.0000 - val_fp: 165.0000 - val_tn: 579.0000 - val_fn: 268.0000 - val_accuracy: 0.3737 - val_precision: 0.3866 - val_recall: 0.2796 - val_auc: 0.5285 - val_prc: 0.3661\n",
      "Epoch 81/1000\n",
      "65/65 [==============================] - 6s 88ms/step - loss: 0.9942 - tp: 886.0000 - fp: 549.0000 - tn: 7151.0000 - fn: 2964.0000 - accuracy: 0.5018 - precision: 0.6174 - recall: 0.2301 - auc: 0.6902 - prc: 0.5319 - val_loss: 1.3289 - val_tp: 102.0000 - val_fp: 166.0000 - val_tn: 578.0000 - val_fn: 270.0000 - val_accuracy: 0.3737 - val_precision: 0.3806 - val_recall: 0.2742 - val_auc: 0.5274 - val_prc: 0.3655\n",
      "Epoch 82/1000\n",
      "65/65 [==============================] - 6s 98ms/step - loss: 0.9951 - tp: 889.0000 - fp: 575.0000 - tn: 7125.0000 - fn: 2961.0000 - accuracy: 0.5021 - precision: 0.6072 - recall: 0.2309 - auc: 0.6891 - prc: 0.5307 - val_loss: 1.3293 - val_tp: 102.0000 - val_fp: 165.0000 - val_tn: 579.0000 - val_fn: 270.0000 - val_accuracy: 0.3656 - val_precision: 0.3820 - val_recall: 0.2742 - val_auc: 0.5273 - val_prc: 0.3653\n",
      "Epoch 83/1000\n",
      "65/65 [==============================] - 6s 93ms/step - loss: 0.9953 - tp: 881.0000 - fp: 558.0000 - tn: 7142.0000 - fn: 2969.0000 - accuracy: 0.5029 - precision: 0.6122 - recall: 0.2288 - auc: 0.6891 - prc: 0.5298 - val_loss: 1.3284 - val_tp: 101.0000 - val_fp: 168.0000 - val_tn: 576.0000 - val_fn: 271.0000 - val_accuracy: 0.3683 - val_precision: 0.3755 - val_recall: 0.2715 - val_auc: 0.5277 - val_prc: 0.3666\n",
      "Epoch 84/1000\n",
      "65/65 [==============================] - 6s 85ms/step - loss: 0.9969 - tp: 895.0000 - fp: 571.0000 - tn: 7129.0000 - fn: 2955.0000 - accuracy: 0.5008 - precision: 0.6105 - recall: 0.2325 - auc: 0.6875 - prc: 0.5276 - val_loss: 1.3295 - val_tp: 100.0000 - val_fp: 165.0000 - val_tn: 579.0000 - val_fn: 272.0000 - val_accuracy: 0.3656 - val_precision: 0.3774 - val_recall: 0.2688 - val_auc: 0.5271 - val_prc: 0.3655\n",
      "Epoch 85/1000\n",
      "65/65 [==============================] - 6s 93ms/step - loss: 0.9968 - tp: 900.0000 - fp: 545.0000 - tn: 7155.0000 - fn: 2950.0000 - accuracy: 0.5031 - precision: 0.6228 - recall: 0.2338 - auc: 0.6878 - prc: 0.5284 - val_loss: 1.3291 - val_tp: 101.0000 - val_fp: 165.0000 - val_tn: 579.0000 - val_fn: 271.0000 - val_accuracy: 0.3683 - val_precision: 0.3797 - val_recall: 0.2715 - val_auc: 0.5276 - val_prc: 0.3663\n",
      "Epoch 86/1000\n",
      "65/65 [==============================] - 5s 82ms/step - loss: 0.9965 - tp: 904.0000 - fp: 555.0000 - tn: 7145.0000 - fn: 2946.0000 - accuracy: 0.4984 - precision: 0.6196 - recall: 0.2348 - auc: 0.6865 - prc: 0.5288 - val_loss: 1.3293 - val_tp: 103.0000 - val_fp: 168.0000 - val_tn: 576.0000 - val_fn: 269.0000 - val_accuracy: 0.3656 - val_precision: 0.3801 - val_recall: 0.2769 - val_auc: 0.5280 - val_prc: 0.3664\n",
      "Epoch 87/1000\n",
      "64/65 [============================>.] - ETA: 0s - loss: 0.9963 - tp: 902.0000 - fp: 566.0000 - tn: 7114.0000 - fn: 2938.0000 - accuracy: 0.5000 - precision: 0.6144 - recall: 0.2349 - auc: 0.6879 - prc: 0.5280\n",
      "Epoch 00087: ReduceLROnPlateau reducing learning rate to 3.906250185536919e-06.\n",
      "65/65 [==============================] - 5s 80ms/step - loss: 0.9948 - tp: 910.0000 - fp: 568.0000 - tn: 7132.0000 - fn: 2940.0000 - accuracy: 0.5008 - precision: 0.6157 - recall: 0.2364 - auc: 0.6890 - prc: 0.5298 - val_loss: 1.3300 - val_tp: 102.0000 - val_fp: 167.0000 - val_tn: 577.0000 - val_fn: 270.0000 - val_accuracy: 0.3656 - val_precision: 0.3792 - val_recall: 0.2742 - val_auc: 0.5277 - val_prc: 0.3664\n",
      "Epoch 88/1000\n",
      "65/65 [==============================] - 5s 79ms/step - loss: 0.9959 - tp: 894.0000 - fp: 566.0000 - tn: 7134.0000 - fn: 2956.0000 - accuracy: 0.5010 - precision: 0.6123 - recall: 0.2322 - auc: 0.6879 - prc: 0.5305 - val_loss: 1.3309 - val_tp: 102.0000 - val_fp: 167.0000 - val_tn: 577.0000 - val_fn: 270.0000 - val_accuracy: 0.3629 - val_precision: 0.3792 - val_recall: 0.2742 - val_auc: 0.5277 - val_prc: 0.3665\n"
     ]
    },
    {
     "name": "stdout",
     "output_type": "stream",
     "text": [
      "Epoch 89/1000\n",
      "65/65 [==============================] - 5s 81ms/step - loss: 0.9950 - tp: 883.0000 - fp: 570.0000 - tn: 7130.0000 - fn: 2967.0000 - accuracy: 0.5042 - precision: 0.6077 - recall: 0.2294 - auc: 0.6886 - prc: 0.5316 - val_loss: 1.3309 - val_tp: 102.0000 - val_fp: 167.0000 - val_tn: 577.0000 - val_fn: 270.0000 - val_accuracy: 0.3629 - val_precision: 0.3792 - val_recall: 0.2742 - val_auc: 0.5280 - val_prc: 0.3665\n",
      "Epoch 90/1000\n",
      "65/65 [==============================] - 5s 81ms/step - loss: 0.9972 - tp: 906.0000 - fp: 568.0000 - tn: 7132.0000 - fn: 2944.0000 - accuracy: 0.4974 - precision: 0.6147 - recall: 0.2353 - auc: 0.6874 - prc: 0.5289 - val_loss: 1.3311 - val_tp: 102.0000 - val_fp: 167.0000 - val_tn: 577.0000 - val_fn: 270.0000 - val_accuracy: 0.3656 - val_precision: 0.3792 - val_recall: 0.2742 - val_auc: 0.5275 - val_prc: 0.3662\n",
      "Epoch 91/1000\n",
      "65/65 [==============================] - 6s 87ms/step - loss: 0.9945 - tp: 907.0000 - fp: 566.0000 - tn: 7134.0000 - fn: 2943.0000 - accuracy: 0.5068 - precision: 0.6158 - recall: 0.2356 - auc: 0.6893 - prc: 0.5315 - val_loss: 1.3323 - val_tp: 102.0000 - val_fp: 168.0000 - val_tn: 576.0000 - val_fn: 270.0000 - val_accuracy: 0.3602 - val_precision: 0.3778 - val_recall: 0.2742 - val_auc: 0.5275 - val_prc: 0.3659\n",
      "Epoch 92/1000\n",
      "65/65 [==============================] - 7s 104ms/step - loss: 0.9936 - tp: 881.0000 - fp: 566.0000 - tn: 7134.0000 - fn: 2969.0000 - accuracy: 0.5031 - precision: 0.6088 - recall: 0.2288 - auc: 0.6900 - prc: 0.5313 - val_loss: 1.3325 - val_tp: 102.0000 - val_fp: 168.0000 - val_tn: 576.0000 - val_fn: 270.0000 - val_accuracy: 0.3602 - val_precision: 0.3778 - val_recall: 0.2742 - val_auc: 0.5273 - val_prc: 0.3662\n",
      "Epoch 93/1000\n",
      "65/65 [==============================] - 6s 100ms/step - loss: 0.9958 - tp: 903.0000 - fp: 565.0000 - tn: 7135.0000 - fn: 2947.0000 - accuracy: 0.4987 - precision: 0.6151 - recall: 0.2345 - auc: 0.6881 - prc: 0.5293 - val_loss: 1.3327 - val_tp: 103.0000 - val_fp: 169.0000 - val_tn: 575.0000 - val_fn: 269.0000 - val_accuracy: 0.3629 - val_precision: 0.3787 - val_recall: 0.2769 - val_auc: 0.5273 - val_prc: 0.3658\n",
      "Epoch 94/1000\n",
      "65/65 [==============================] - 6s 91ms/step - loss: 0.9949 - tp: 889.0000 - fp: 547.0000 - tn: 7153.0000 - fn: 2961.0000 - accuracy: 0.5023 - precision: 0.6191 - recall: 0.2309 - auc: 0.6879 - prc: 0.5308 - val_loss: 1.3322 - val_tp: 102.0000 - val_fp: 168.0000 - val_tn: 576.0000 - val_fn: 270.0000 - val_accuracy: 0.3629 - val_precision: 0.3778 - val_recall: 0.2742 - val_auc: 0.5271 - val_prc: 0.3662\n",
      "Epoch 95/1000\n",
      "65/65 [==============================] - 5s 82ms/step - loss: 0.9949 - tp: 891.0000 - fp: 562.0000 - tn: 7138.0000 - fn: 2959.0000 - accuracy: 0.5021 - precision: 0.6132 - recall: 0.2314 - auc: 0.6895 - prc: 0.5290 - val_loss: 1.3318 - val_tp: 101.0000 - val_fp: 167.0000 - val_tn: 577.0000 - val_fn: 271.0000 - val_accuracy: 0.3629 - val_precision: 0.3769 - val_recall: 0.2715 - val_auc: 0.5274 - val_prc: 0.3661\n",
      "Epoch 96/1000\n",
      "65/65 [==============================] - 6s 88ms/step - loss: 0.9939 - tp: 910.0000 - fp: 558.0000 - tn: 7142.0000 - fn: 2940.0000 - accuracy: 0.5039 - precision: 0.6199 - recall: 0.2364 - auc: 0.6907 - prc: 0.5332 - val_loss: 1.3323 - val_tp: 102.0000 - val_fp: 167.0000 - val_tn: 577.0000 - val_fn: 270.0000 - val_accuracy: 0.3629 - val_precision: 0.3792 - val_recall: 0.2742 - val_auc: 0.5273 - val_prc: 0.3660\n",
      "Epoch 97/1000\n",
      "65/65 [==============================] - ETA: 0s - loss: 0.9919 - tp: 905.0000 - fp: 571.0000 - tn: 7129.0000 - fn: 2945.0000 - accuracy: 0.5062 - precision: 0.6131 - recall: 0.2351 - auc: 0.6910 - prc: 0.5328\n",
      "Epoch 00097: ReduceLROnPlateau reducing learning rate to 1.9531250927684596e-06.\n",
      "65/65 [==============================] - 6s 87ms/step - loss: 0.9919 - tp: 905.0000 - fp: 571.0000 - tn: 7129.0000 - fn: 2945.0000 - accuracy: 0.5062 - precision: 0.6131 - recall: 0.2351 - auc: 0.6910 - prc: 0.5328 - val_loss: 1.3326 - val_tp: 102.0000 - val_fp: 167.0000 - val_tn: 577.0000 - val_fn: 270.0000 - val_accuracy: 0.3629 - val_precision: 0.3792 - val_recall: 0.2742 - val_auc: 0.5273 - val_prc: 0.3654\n",
      "Epoch 98/1000\n",
      "65/65 [==============================] - 6s 85ms/step - loss: 0.9948 - tp: 915.0000 - fp: 577.0000 - tn: 7123.0000 - fn: 2935.0000 - accuracy: 0.5003 - precision: 0.6133 - recall: 0.2377 - auc: 0.6896 - prc: 0.5306 - val_loss: 1.3331 - val_tp: 101.0000 - val_fp: 167.0000 - val_tn: 577.0000 - val_fn: 271.0000 - val_accuracy: 0.3629 - val_precision: 0.3769 - val_recall: 0.2715 - val_auc: 0.5270 - val_prc: 0.3654\n",
      "Epoch 99/1000\n",
      "65/65 [==============================] - 5s 83ms/step - loss: 0.9953 - tp: 896.0000 - fp: 561.0000 - tn: 7139.0000 - fn: 2954.0000 - accuracy: 0.5062 - precision: 0.6150 - recall: 0.2327 - auc: 0.6888 - prc: 0.5288 - val_loss: 1.3335 - val_tp: 101.0000 - val_fp: 168.0000 - val_tn: 576.0000 - val_fn: 271.0000 - val_accuracy: 0.3629 - val_precision: 0.3755 - val_recall: 0.2715 - val_auc: 0.5269 - val_prc: 0.3655\n",
      "Epoch 100/1000\n",
      "65/65 [==============================] - 6s 87ms/step - loss: 0.9969 - tp: 896.0000 - fp: 574.0000 - tn: 7126.0000 - fn: 2954.0000 - accuracy: 0.4987 - precision: 0.6095 - recall: 0.2327 - auc: 0.6886 - prc: 0.5275 - val_loss: 1.3337 - val_tp: 101.0000 - val_fp: 170.0000 - val_tn: 574.0000 - val_fn: 271.0000 - val_accuracy: 0.3602 - val_precision: 0.3727 - val_recall: 0.2715 - val_auc: 0.5267 - val_prc: 0.3655\n",
      "Epoch 101/1000\n",
      "65/65 [==============================] - 6s 87ms/step - loss: 0.9935 - tp: 903.0000 - fp: 567.0000 - tn: 7133.0000 - fn: 2947.0000 - accuracy: 0.5044 - precision: 0.6143 - recall: 0.2345 - auc: 0.6910 - prc: 0.5316 - val_loss: 1.3341 - val_tp: 101.0000 - val_fp: 169.0000 - val_tn: 575.0000 - val_fn: 271.0000 - val_accuracy: 0.3602 - val_precision: 0.3741 - val_recall: 0.2715 - val_auc: 0.5268 - val_prc: 0.3655\n",
      "Epoch 102/1000\n",
      "65/65 [==============================] - 6s 91ms/step - loss: 0.9925 - tp: 923.0000 - fp: 559.0000 - tn: 7141.0000 - fn: 2927.0000 - accuracy: 0.5039 - precision: 0.6228 - recall: 0.2397 - auc: 0.6910 - prc: 0.5341 - val_loss: 1.3345 - val_tp: 101.0000 - val_fp: 170.0000 - val_tn: 574.0000 - val_fn: 271.0000 - val_accuracy: 0.3602 - val_precision: 0.3727 - val_recall: 0.2715 - val_auc: 0.5267 - val_prc: 0.3655\n",
      "Epoch 103/1000\n",
      "65/65 [==============================] - 6s 93ms/step - loss: 0.9935 - tp: 899.0000 - fp: 582.0000 - tn: 7118.0000 - fn: 2951.0000 - accuracy: 0.5052 - precision: 0.6070 - recall: 0.2335 - auc: 0.6901 - prc: 0.5314 - val_loss: 1.3348 - val_tp: 102.0000 - val_fp: 169.0000 - val_tn: 575.0000 - val_fn: 270.0000 - val_accuracy: 0.3602 - val_precision: 0.3764 - val_recall: 0.2742 - val_auc: 0.5266 - val_prc: 0.3653\n",
      "Epoch 104/1000\n",
      "65/65 [==============================] - 6s 88ms/step - loss: 0.9931 - tp: 907.0000 - fp: 543.0000 - tn: 7157.0000 - fn: 2943.0000 - accuracy: 0.5039 - precision: 0.6255 - recall: 0.2356 - auc: 0.6912 - prc: 0.5336 - val_loss: 1.3355 - val_tp: 102.0000 - val_fp: 169.0000 - val_tn: 575.0000 - val_fn: 270.0000 - val_accuracy: 0.3602 - val_precision: 0.3764 - val_recall: 0.2742 - val_auc: 0.5263 - val_prc: 0.3652\n",
      "Epoch 105/1000\n",
      "65/65 [==============================] - 6s 85ms/step - loss: 0.9940 - tp: 894.0000 - fp: 562.0000 - tn: 7138.0000 - fn: 2956.0000 - accuracy: 0.5010 - precision: 0.6140 - recall: 0.2322 - auc: 0.6904 - prc: 0.5321 - val_loss: 1.3357 - val_tp: 102.0000 - val_fp: 169.0000 - val_tn: 575.0000 - val_fn: 270.0000 - val_accuracy: 0.3602 - val_precision: 0.3764 - val_recall: 0.2742 - val_auc: 0.5264 - val_prc: 0.3652\n",
      "Epoch 106/1000\n",
      "65/65 [==============================] - 6s 86ms/step - loss: 0.9929 - tp: 903.0000 - fp: 562.0000 - tn: 7138.0000 - fn: 2947.0000 - accuracy: 0.5049 - precision: 0.6164 - recall: 0.2345 - auc: 0.6908 - prc: 0.5330 - val_loss: 1.3357 - val_tp: 102.0000 - val_fp: 169.0000 - val_tn: 575.0000 - val_fn: 270.0000 - val_accuracy: 0.3602 - val_precision: 0.3764 - val_recall: 0.2742 - val_auc: 0.5265 - val_prc: 0.3653\n",
      "Epoch 107/1000\n"
     ]
    },
    {
     "name": "stdout",
     "output_type": "stream",
     "text": [
      "64/65 [============================>.] - ETA: 0s - loss: 0.9965 - tp: 890.0000 - fp: 561.0000 - tn: 7119.0000 - fn: 2950.0000 - accuracy: 0.5073 - precision: 0.6134 - recall: 0.2318 - auc: 0.6892 - prc: 0.5299\n",
      "Epoch 00107: ReduceLROnPlateau reducing learning rate to 9.765625463842298e-07.\n",
      "65/65 [==============================] - 5s 84ms/step - loss: 0.9949 - tp: 898.0000 - fp: 563.0000 - tn: 7137.0000 - fn: 2952.0000 - accuracy: 0.5081 - precision: 0.6146 - recall: 0.2332 - auc: 0.6904 - prc: 0.5318 - val_loss: 1.3355 - val_tp: 102.0000 - val_fp: 170.0000 - val_tn: 574.0000 - val_fn: 270.0000 - val_accuracy: 0.3602 - val_precision: 0.3750 - val_recall: 0.2742 - val_auc: 0.5266 - val_prc: 0.3653\n",
      "Epoch 108/1000\n",
      "65/65 [==============================] - 6s 86ms/step - loss: 0.9966 - tp: 888.0000 - fp: 586.0000 - tn: 7114.0000 - fn: 2962.0000 - accuracy: 0.4995 - precision: 0.6024 - recall: 0.2306 - auc: 0.6893 - prc: 0.5268 - val_loss: 1.3357 - val_tp: 102.0000 - val_fp: 170.0000 - val_tn: 574.0000 - val_fn: 270.0000 - val_accuracy: 0.3602 - val_precision: 0.3750 - val_recall: 0.2742 - val_auc: 0.5266 - val_prc: 0.3652\n",
      "Epoch 109/1000\n",
      "65/65 [==============================] - 5s 83ms/step - loss: 0.9938 - tp: 898.0000 - fp: 579.0000 - tn: 7121.0000 - fn: 2952.0000 - accuracy: 0.5039 - precision: 0.6080 - recall: 0.2332 - auc: 0.6898 - prc: 0.5308 - val_loss: 1.3357 - val_tp: 102.0000 - val_fp: 169.0000 - val_tn: 575.0000 - val_fn: 270.0000 - val_accuracy: 0.3602 - val_precision: 0.3764 - val_recall: 0.2742 - val_auc: 0.5266 - val_prc: 0.3654\n",
      "Epoch 110/1000\n",
      "65/65 [==============================] - 6s 88ms/step - loss: 0.9935 - tp: 896.0000 - fp: 575.0000 - tn: 7125.0000 - fn: 2954.0000 - accuracy: 0.4990 - precision: 0.6091 - recall: 0.2327 - auc: 0.6902 - prc: 0.5324 - val_loss: 1.3356 - val_tp: 102.0000 - val_fp: 168.0000 - val_tn: 576.0000 - val_fn: 270.0000 - val_accuracy: 0.3602 - val_precision: 0.3778 - val_recall: 0.2742 - val_auc: 0.5265 - val_prc: 0.3654\n",
      "Epoch 111/1000\n",
      "65/65 [==============================] - 5s 84ms/step - loss: 0.9920 - tp: 906.0000 - fp: 575.0000 - tn: 7125.0000 - fn: 2944.0000 - accuracy: 0.5026 - precision: 0.6117 - recall: 0.2353 - auc: 0.6918 - prc: 0.5336 - val_loss: 1.3355 - val_tp: 102.0000 - val_fp: 169.0000 - val_tn: 575.0000 - val_fn: 270.0000 - val_accuracy: 0.3602 - val_precision: 0.3764 - val_recall: 0.2742 - val_auc: 0.5265 - val_prc: 0.3653\n",
      "Epoch 112/1000\n",
      "65/65 [==============================] - 6s 92ms/step - loss: 0.9943 - tp: 916.0000 - fp: 582.0000 - tn: 7118.0000 - fn: 2934.0000 - accuracy: 0.5021 - precision: 0.6115 - recall: 0.2379 - auc: 0.6893 - prc: 0.5315 - val_loss: 1.3357 - val_tp: 101.0000 - val_fp: 169.0000 - val_tn: 575.0000 - val_fn: 271.0000 - val_accuracy: 0.3602 - val_precision: 0.3741 - val_recall: 0.2715 - val_auc: 0.5266 - val_prc: 0.3655\n",
      "Epoch 113/1000\n",
      "65/65 [==============================] - 6s 95ms/step - loss: 0.9954 - tp: 921.0000 - fp: 603.0000 - tn: 7097.0000 - fn: 2929.0000 - accuracy: 0.5075 - precision: 0.6043 - recall: 0.2392 - auc: 0.6881 - prc: 0.5301 - val_loss: 1.3358 - val_tp: 101.0000 - val_fp: 169.0000 - val_tn: 575.0000 - val_fn: 271.0000 - val_accuracy: 0.3602 - val_precision: 0.3741 - val_recall: 0.2715 - val_auc: 0.5266 - val_prc: 0.3654\n",
      "Epoch 114/1000\n",
      "65/65 [==============================] - 6s 94ms/step - loss: 0.9926 - tp: 913.0000 - fp: 579.0000 - tn: 7121.0000 - fn: 2937.0000 - accuracy: 0.5060 - precision: 0.6119 - recall: 0.2371 - auc: 0.6909 - prc: 0.5343 - val_loss: 1.3360 - val_tp: 102.0000 - val_fp: 168.0000 - val_tn: 576.0000 - val_fn: 270.0000 - val_accuracy: 0.3602 - val_precision: 0.3778 - val_recall: 0.2742 - val_auc: 0.5266 - val_prc: 0.3654\n",
      "Epoch 115/1000\n",
      "65/65 [==============================] - 6s 86ms/step - loss: 0.9918 - tp: 908.0000 - fp: 583.0000 - tn: 7117.0000 - fn: 2942.0000 - accuracy: 0.5026 - precision: 0.6090 - recall: 0.2358 - auc: 0.6912 - prc: 0.5343 - val_loss: 1.3362 - val_tp: 102.0000 - val_fp: 169.0000 - val_tn: 575.0000 - val_fn: 270.0000 - val_accuracy: 0.3602 - val_precision: 0.3764 - val_recall: 0.2742 - val_auc: 0.5267 - val_prc: 0.3652\n",
      "Epoch 116/1000\n",
      "65/65 [==============================] - 5s 83ms/step - loss: 0.9955 - tp: 898.0000 - fp: 577.0000 - tn: 7123.0000 - fn: 2952.0000 - accuracy: 0.5023 - precision: 0.6088 - recall: 0.2332 - auc: 0.6892 - prc: 0.5313 - val_loss: 1.3362 - val_tp: 102.0000 - val_fp: 168.0000 - val_tn: 576.0000 - val_fn: 270.0000 - val_accuracy: 0.3602 - val_precision: 0.3778 - val_recall: 0.2742 - val_auc: 0.5265 - val_prc: 0.3653\n",
      "Epoch 117/1000\n",
      "64/65 [============================>.] - ETA: 0s - loss: 0.9949 - tp: 897.0000 - fp: 578.0000 - tn: 7102.0000 - fn: 2943.0000 - accuracy: 0.5057 - precision: 0.6081 - recall: 0.2336 - auc: 0.6890 - prc: 0.5295\n",
      "Epoch 00117: ReduceLROnPlateau reducing learning rate to 4.882812731921149e-07.\n",
      "65/65 [==============================] - 5s 85ms/step - loss: 0.9931 - tp: 906.0000 - fp: 579.0000 - tn: 7121.0000 - fn: 2944.0000 - accuracy: 0.5068 - precision: 0.6101 - recall: 0.2353 - auc: 0.6903 - prc: 0.5320 - val_loss: 1.3361 - val_tp: 102.0000 - val_fp: 169.0000 - val_tn: 575.0000 - val_fn: 270.0000 - val_accuracy: 0.3602 - val_precision: 0.3764 - val_recall: 0.2742 - val_auc: 0.5268 - val_prc: 0.3655\n",
      "Epoch 118/1000\n",
      "65/65 [==============================] - 6s 89ms/step - loss: 0.9924 - tp: 908.0000 - fp: 582.0000 - tn: 7118.0000 - fn: 2942.0000 - accuracy: 0.5055 - precision: 0.6094 - recall: 0.2358 - auc: 0.6918 - prc: 0.5345 - val_loss: 1.3361 - val_tp: 102.0000 - val_fp: 169.0000 - val_tn: 575.0000 - val_fn: 270.0000 - val_accuracy: 0.3602 - val_precision: 0.3764 - val_recall: 0.2742 - val_auc: 0.5267 - val_prc: 0.3655\n",
      "Epoch 119/1000\n",
      "65/65 [==============================] - 6s 85ms/step - loss: 0.9918 - tp: 914.0000 - fp: 578.0000 - tn: 7122.0000 - fn: 2936.0000 - accuracy: 0.5016 - precision: 0.6126 - recall: 0.2374 - auc: 0.6917 - prc: 0.5344 - val_loss: 1.3362 - val_tp: 102.0000 - val_fp: 169.0000 - val_tn: 575.0000 - val_fn: 270.0000 - val_accuracy: 0.3602 - val_precision: 0.3764 - val_recall: 0.2742 - val_auc: 0.5267 - val_prc: 0.3656\n",
      "Epoch 120/1000\n",
      "65/65 [==============================] - 5s 81ms/step - loss: 0.9952 - tp: 908.0000 - fp: 566.0000 - tn: 7134.0000 - fn: 2942.0000 - accuracy: 0.5018 - precision: 0.6160 - recall: 0.2358 - auc: 0.6900 - prc: 0.5311 - val_loss: 1.3362 - val_tp: 102.0000 - val_fp: 169.0000 - val_tn: 575.0000 - val_fn: 270.0000 - val_accuracy: 0.3602 - val_precision: 0.3764 - val_recall: 0.2742 - val_auc: 0.5268 - val_prc: 0.3656\n",
      "Epoch 121/1000\n",
      "65/65 [==============================] - 5s 78ms/step - loss: 0.9953 - tp: 910.0000 - fp: 581.0000 - tn: 7119.0000 - fn: 2940.0000 - accuracy: 0.4971 - precision: 0.6103 - recall: 0.2364 - auc: 0.6895 - prc: 0.5301 - val_loss: 1.3362 - val_tp: 102.0000 - val_fp: 168.0000 - val_tn: 576.0000 - val_fn: 270.0000 - val_accuracy: 0.3602 - val_precision: 0.3778 - val_recall: 0.2742 - val_auc: 0.5266 - val_prc: 0.3654\n",
      "Epoch 122/1000\n",
      "65/65 [==============================] - 5s 82ms/step - loss: 0.9921 - tp: 914.0000 - fp: 572.0000 - tn: 7128.0000 - fn: 2936.0000 - accuracy: 0.5047 - precision: 0.6151 - recall: 0.2374 - auc: 0.6912 - prc: 0.5347 - val_loss: 1.3363 - val_tp: 102.0000 - val_fp: 168.0000 - val_tn: 576.0000 - val_fn: 270.0000 - val_accuracy: 0.3602 - val_precision: 0.3778 - val_recall: 0.2742 - val_auc: 0.5265 - val_prc: 0.3654\n",
      "Epoch 123/1000\n",
      "65/65 [==============================] - 6s 88ms/step - loss: 0.9929 - tp: 915.0000 - fp: 549.0000 - tn: 7151.0000 - fn: 2935.0000 - accuracy: 0.5039 - precision: 0.6250 - recall: 0.2377 - auc: 0.6909 - prc: 0.5341 - val_loss: 1.3364 - val_tp: 102.0000 - val_fp: 168.0000 - val_tn: 576.0000 - val_fn: 270.0000 - val_accuracy: 0.3602 - val_precision: 0.3778 - val_recall: 0.2742 - val_auc: 0.5265 - val_prc: 0.3654\n",
      "Epoch 124/1000\n"
     ]
    },
    {
     "name": "stdout",
     "output_type": "stream",
     "text": [
      "65/65 [==============================] - 6s 93ms/step - loss: 0.9948 - tp: 903.0000 - fp: 560.0000 - tn: 7140.0000 - fn: 2947.0000 - accuracy: 0.5042 - precision: 0.6172 - recall: 0.2345 - auc: 0.6896 - prc: 0.5317 - val_loss: 1.3364 - val_tp: 102.0000 - val_fp: 168.0000 - val_tn: 576.0000 - val_fn: 270.0000 - val_accuracy: 0.3602 - val_precision: 0.3778 - val_recall: 0.2742 - val_auc: 0.5266 - val_prc: 0.3654\n",
      "Epoch 125/1000\n",
      "65/65 [==============================] - 6s 87ms/step - loss: 0.9936 - tp: 921.0000 - fp: 555.0000 - tn: 7145.0000 - fn: 2929.0000 - accuracy: 0.5023 - precision: 0.6240 - recall: 0.2392 - auc: 0.6900 - prc: 0.5324 - val_loss: 1.3363 - val_tp: 102.0000 - val_fp: 168.0000 - val_tn: 576.0000 - val_fn: 270.0000 - val_accuracy: 0.3602 - val_precision: 0.3778 - val_recall: 0.2742 - val_auc: 0.5266 - val_prc: 0.3653\n",
      "Epoch 126/1000\n",
      "65/65 [==============================] - 6s 87ms/step - loss: 0.9957 - tp: 909.0000 - fp: 576.0000 - tn: 7124.0000 - fn: 2941.0000 - accuracy: 0.4958 - precision: 0.6121 - recall: 0.2361 - auc: 0.6885 - prc: 0.5286 - val_loss: 1.3363 - val_tp: 101.0000 - val_fp: 169.0000 - val_tn: 575.0000 - val_fn: 271.0000 - val_accuracy: 0.3602 - val_precision: 0.3741 - val_recall: 0.2715 - val_auc: 0.5265 - val_prc: 0.3653\n",
      "Epoch 127/1000\n",
      "65/65 [==============================] - ETA: 0s - loss: 0.9935 - tp: 898.0000 - fp: 571.0000 - tn: 7129.0000 - fn: 2952.0000 - accuracy: 0.5039 - precision: 0.6113 - recall: 0.2332 - auc: 0.6905 - prc: 0.5316\n",
      "Epoch 00127: ReduceLROnPlateau reducing learning rate to 2.4414063659605745e-07.\n",
      "65/65 [==============================] - 5s 82ms/step - loss: 0.9935 - tp: 898.0000 - fp: 571.0000 - tn: 7129.0000 - fn: 2952.0000 - accuracy: 0.5039 - precision: 0.6113 - recall: 0.2332 - auc: 0.6905 - prc: 0.5316 - val_loss: 1.3363 - val_tp: 101.0000 - val_fp: 168.0000 - val_tn: 576.0000 - val_fn: 271.0000 - val_accuracy: 0.3602 - val_precision: 0.3755 - val_recall: 0.2715 - val_auc: 0.5265 - val_prc: 0.3652\n",
      "Epoch 128/1000\n",
      "65/65 [==============================] - 5s 83ms/step - loss: 0.9932 - tp: 925.0000 - fp: 591.0000 - tn: 7109.0000 - fn: 2925.0000 - accuracy: 0.5036 - precision: 0.6102 - recall: 0.2403 - auc: 0.6906 - prc: 0.5326 - val_loss: 1.3363 - val_tp: 101.0000 - val_fp: 169.0000 - val_tn: 575.0000 - val_fn: 271.0000 - val_accuracy: 0.3602 - val_precision: 0.3741 - val_recall: 0.2715 - val_auc: 0.5266 - val_prc: 0.3653\n",
      "Epoch 129/1000\n",
      "65/65 [==============================] - 5s 83ms/step - loss: 0.9946 - tp: 901.0000 - fp: 551.0000 - tn: 7149.0000 - fn: 2949.0000 - accuracy: 0.5081 - precision: 0.6205 - recall: 0.2340 - auc: 0.6901 - prc: 0.5339 - val_loss: 1.3363 - val_tp: 101.0000 - val_fp: 169.0000 - val_tn: 575.0000 - val_fn: 271.0000 - val_accuracy: 0.3602 - val_precision: 0.3741 - val_recall: 0.2715 - val_auc: 0.5266 - val_prc: 0.3654\n",
      "Epoch 130/1000\n",
      "65/65 [==============================] - 5s 83ms/step - loss: 0.9927 - tp: 918.0000 - fp: 555.0000 - tn: 7145.0000 - fn: 2932.0000 - accuracy: 0.5086 - precision: 0.6232 - recall: 0.2384 - auc: 0.6908 - prc: 0.5333 - val_loss: 1.3363 - val_tp: 101.0000 - val_fp: 169.0000 - val_tn: 575.0000 - val_fn: 271.0000 - val_accuracy: 0.3602 - val_precision: 0.3741 - val_recall: 0.2715 - val_auc: 0.5266 - val_prc: 0.3655\n",
      "Epoch 131/1000\n",
      "65/65 [==============================] - 6s 85ms/step - loss: 0.9933 - tp: 907.0000 - fp: 580.0000 - tn: 7120.0000 - fn: 2943.0000 - accuracy: 0.5018 - precision: 0.6100 - recall: 0.2356 - auc: 0.6903 - prc: 0.5308 - val_loss: 1.3363 - val_tp: 101.0000 - val_fp: 169.0000 - val_tn: 575.0000 - val_fn: 271.0000 - val_accuracy: 0.3602 - val_precision: 0.3741 - val_recall: 0.2715 - val_auc: 0.5267 - val_prc: 0.3655\n",
      "Epoch 132/1000\n",
      "65/65 [==============================] - 6s 87ms/step - loss: 0.9950 - tp: 912.0000 - fp: 565.0000 - tn: 7135.0000 - fn: 2938.0000 - accuracy: 0.5044 - precision: 0.6175 - recall: 0.2369 - auc: 0.6893 - prc: 0.5311 - val_loss: 1.3364 - val_tp: 101.0000 - val_fp: 169.0000 - val_tn: 575.0000 - val_fn: 271.0000 - val_accuracy: 0.3602 - val_precision: 0.3741 - val_recall: 0.2715 - val_auc: 0.5266 - val_prc: 0.3654\n",
      "Epoch 133/1000\n",
      "65/65 [==============================] - 6s 92ms/step - loss: 0.9916 - tp: 906.0000 - fp: 577.0000 - tn: 7123.0000 - fn: 2944.0000 - accuracy: 0.5044 - precision: 0.6109 - recall: 0.2353 - auc: 0.6922 - prc: 0.5349 - val_loss: 1.3364 - val_tp: 101.0000 - val_fp: 169.0000 - val_tn: 575.0000 - val_fn: 271.0000 - val_accuracy: 0.3602 - val_precision: 0.3741 - val_recall: 0.2715 - val_auc: 0.5267 - val_prc: 0.3655\n",
      "Epoch 134/1000\n",
      "65/65 [==============================] - 6s 91ms/step - loss: 0.9943 - tp: 931.0000 - fp: 582.0000 - tn: 7118.0000 - fn: 2919.0000 - accuracy: 0.5039 - precision: 0.6153 - recall: 0.2418 - auc: 0.6905 - prc: 0.5334 - val_loss: 1.3364 - val_tp: 101.0000 - val_fp: 169.0000 - val_tn: 575.0000 - val_fn: 271.0000 - val_accuracy: 0.3602 - val_precision: 0.3741 - val_recall: 0.2715 - val_auc: 0.5267 - val_prc: 0.3654\n",
      "Epoch 135/1000\n",
      "65/65 [==============================] - 6s 93ms/step - loss: 0.9942 - tp: 905.0000 - fp: 572.0000 - tn: 7128.0000 - fn: 2945.0000 - accuracy: 0.5065 - precision: 0.6127 - recall: 0.2351 - auc: 0.6909 - prc: 0.5300 - val_loss: 1.3364 - val_tp: 101.0000 - val_fp: 169.0000 - val_tn: 575.0000 - val_fn: 271.0000 - val_accuracy: 0.3602 - val_precision: 0.3741 - val_recall: 0.2715 - val_auc: 0.5267 - val_prc: 0.3655\n",
      "Epoch 136/1000\n",
      "65/65 [==============================] - 6s 92ms/step - loss: 0.9932 - tp: 902.0000 - fp: 579.0000 - tn: 7121.0000 - fn: 2948.0000 - accuracy: 0.5018 - precision: 0.6090 - recall: 0.2343 - auc: 0.6907 - prc: 0.5316 - val_loss: 1.3364 - val_tp: 101.0000 - val_fp: 169.0000 - val_tn: 575.0000 - val_fn: 271.0000 - val_accuracy: 0.3602 - val_precision: 0.3741 - val_recall: 0.2715 - val_auc: 0.5266 - val_prc: 0.3654\n",
      "Epoch 137/1000\n",
      "64/65 [============================>.] - ETA: 0s - loss: 0.9971 - tp: 874.0000 - fp: 564.0000 - tn: 7116.0000 - fn: 2966.0000 - accuracy: 0.4992 - precision: 0.6078 - recall: 0.2276 - auc: 0.6872 - prc: 0.5260\n",
      "Epoch 00137: ReduceLROnPlateau reducing learning rate to 1.2207031829802872e-07.\n",
      "65/65 [==============================] - 6s 88ms/step - loss: 0.9953 - tp: 883.0000 - fp: 565.0000 - tn: 7135.0000 - fn: 2967.0000 - accuracy: 0.5003 - precision: 0.6098 - recall: 0.2294 - auc: 0.6885 - prc: 0.5285 - val_loss: 1.3364 - val_tp: 101.0000 - val_fp: 169.0000 - val_tn: 575.0000 - val_fn: 271.0000 - val_accuracy: 0.3602 - val_precision: 0.3741 - val_recall: 0.2715 - val_auc: 0.5267 - val_prc: 0.3655\n",
      "Epoch 138/1000\n",
      "65/65 [==============================] - 6s 87ms/step - loss: 0.9949 - tp: 903.0000 - fp: 577.0000 - tn: 7123.0000 - fn: 2947.0000 - accuracy: 0.4977 - precision: 0.6101 - recall: 0.2345 - auc: 0.6890 - prc: 0.5297 - val_loss: 1.3364 - val_tp: 101.0000 - val_fp: 169.0000 - val_tn: 575.0000 - val_fn: 271.0000 - val_accuracy: 0.3602 - val_precision: 0.3741 - val_recall: 0.2715 - val_auc: 0.5267 - val_prc: 0.3655\n",
      "Epoch 139/1000\n",
      "65/65 [==============================] - 5s 84ms/step - loss: 0.9933 - tp: 911.0000 - fp: 579.0000 - tn: 7121.0000 - fn: 2939.0000 - accuracy: 0.5034 - precision: 0.6114 - recall: 0.2366 - auc: 0.6897 - prc: 0.5325 - val_loss: 1.3364 - val_tp: 101.0000 - val_fp: 169.0000 - val_tn: 575.0000 - val_fn: 271.0000 - val_accuracy: 0.3602 - val_precision: 0.3741 - val_recall: 0.2715 - val_auc: 0.5266 - val_prc: 0.3654\n",
      "Epoch 140/1000\n",
      "65/65 [==============================] - 5s 83ms/step - loss: 0.9936 - tp: 906.0000 - fp: 576.0000 - tn: 7124.0000 - fn: 2944.0000 - accuracy: 0.5070 - precision: 0.6113 - recall: 0.2353 - auc: 0.6904 - prc: 0.5306 - val_loss: 1.3364 - val_tp: 101.0000 - val_fp: 169.0000 - val_tn: 575.0000 - val_fn: 271.0000 - val_accuracy: 0.3602 - val_precision: 0.3741 - val_recall: 0.2715 - val_auc: 0.5267 - val_prc: 0.3655\n",
      "Epoch 141/1000\n",
      "65/65 [==============================] - 5s 83ms/step - loss: 0.9934 - tp: 897.0000 - fp: 585.0000 - tn: 7115.0000 - fn: 2953.0000 - accuracy: 0.5057 - precision: 0.6053 - recall: 0.2330 - auc: 0.6901 - prc: 0.5324 - val_loss: 1.3364 - val_tp: 101.0000 - val_fp: 169.0000 - val_tn: 575.0000 - val_fn: 271.0000 - val_accuracy: 0.3602 - val_precision: 0.3741 - val_recall: 0.2715 - val_auc: 0.5266 - val_prc: 0.3654\n"
     ]
    },
    {
     "name": "stdout",
     "output_type": "stream",
     "text": [
      "Epoch 142/1000\n",
      "65/65 [==============================] - 5s 81ms/step - loss: 0.9950 - tp: 908.0000 - fp: 575.0000 - tn: 7125.0000 - fn: 2942.0000 - accuracy: 0.4995 - precision: 0.6123 - recall: 0.2358 - auc: 0.6890 - prc: 0.5294 - val_loss: 1.3364 - val_tp: 101.0000 - val_fp: 169.0000 - val_tn: 575.0000 - val_fn: 271.0000 - val_accuracy: 0.3602 - val_precision: 0.3741 - val_recall: 0.2715 - val_auc: 0.5267 - val_prc: 0.3655\n",
      "Epoch 143/1000\n",
      "65/65 [==============================] - 5s 83ms/step - loss: 0.9928 - tp: 920.0000 - fp: 568.0000 - tn: 7132.0000 - fn: 2930.0000 - accuracy: 0.5057 - precision: 0.6183 - recall: 0.2390 - auc: 0.6919 - prc: 0.5318 - val_loss: 1.3365 - val_tp: 101.0000 - val_fp: 168.0000 - val_tn: 576.0000 - val_fn: 271.0000 - val_accuracy: 0.3602 - val_precision: 0.3755 - val_recall: 0.2715 - val_auc: 0.5266 - val_prc: 0.3654\n",
      "Epoch 144/1000\n",
      "65/65 [==============================] - 6s 89ms/step - loss: 0.9922 - tp: 898.0000 - fp: 569.0000 - tn: 7131.0000 - fn: 2952.0000 - accuracy: 0.5031 - precision: 0.6121 - recall: 0.2332 - auc: 0.6913 - prc: 0.5334 - val_loss: 1.3365 - val_tp: 101.0000 - val_fp: 168.0000 - val_tn: 576.0000 - val_fn: 271.0000 - val_accuracy: 0.3602 - val_precision: 0.3755 - val_recall: 0.2715 - val_auc: 0.5265 - val_prc: 0.3654\n",
      "Epoch 145/1000\n",
      "65/65 [==============================] - 6s 91ms/step - loss: 0.9959 - tp: 901.0000 - fp: 571.0000 - tn: 7129.0000 - fn: 2949.0000 - accuracy: 0.5000 - precision: 0.6121 - recall: 0.2340 - auc: 0.6886 - prc: 0.5294 - val_loss: 1.3365 - val_tp: 101.0000 - val_fp: 168.0000 - val_tn: 576.0000 - val_fn: 271.0000 - val_accuracy: 0.3602 - val_precision: 0.3755 - val_recall: 0.2715 - val_auc: 0.5265 - val_prc: 0.3654\n",
      "Epoch 146/1000\n",
      "65/65 [==============================] - 6s 88ms/step - loss: 0.9959 - tp: 910.0000 - fp: 572.0000 - tn: 7128.0000 - fn: 2940.0000 - accuracy: 0.4997 - precision: 0.6140 - recall: 0.2364 - auc: 0.6890 - prc: 0.5300 - val_loss: 1.3365 - val_tp: 101.0000 - val_fp: 168.0000 - val_tn: 576.0000 - val_fn: 271.0000 - val_accuracy: 0.3602 - val_precision: 0.3755 - val_recall: 0.2715 - val_auc: 0.5265 - val_prc: 0.3654\n",
      "Epoch 147/1000\n",
      "64/65 [============================>.] - ETA: 0s - loss: 0.9971 - tp: 885.0000 - fp: 575.0000 - tn: 7105.0000 - fn: 2955.0000 - accuracy: 0.5016 - precision: 0.6062 - recall: 0.2305 - auc: 0.6877 - prc: 0.5264\n",
      "Epoch 00147: ReduceLROnPlateau reducing learning rate to 6.103515914901436e-08.\n",
      "65/65 [==============================] - 6s 91ms/step - loss: 0.9955 - tp: 893.0000 - fp: 577.0000 - tn: 7123.0000 - fn: 2957.0000 - accuracy: 0.5023 - precision: 0.6075 - recall: 0.2319 - auc: 0.6888 - prc: 0.5286 - val_loss: 1.3365 - val_tp: 101.0000 - val_fp: 168.0000 - val_tn: 576.0000 - val_fn: 271.0000 - val_accuracy: 0.3602 - val_precision: 0.3755 - val_recall: 0.2715 - val_auc: 0.5265 - val_prc: 0.3654\n",
      "Epoch 148/1000\n",
      "65/65 [==============================] - 5s 84ms/step - loss: 0.9924 - tp: 921.0000 - fp: 569.0000 - tn: 7131.0000 - fn: 2929.0000 - accuracy: 0.5086 - precision: 0.6181 - recall: 0.2392 - auc: 0.6917 - prc: 0.5347 - val_loss: 1.3365 - val_tp: 101.0000 - val_fp: 168.0000 - val_tn: 576.0000 - val_fn: 271.0000 - val_accuracy: 0.3602 - val_precision: 0.3755 - val_recall: 0.2715 - val_auc: 0.5265 - val_prc: 0.3654\n",
      "Epoch 149/1000\n",
      "65/65 [==============================] - 5s 80ms/step - loss: 0.9943 - tp: 913.0000 - fp: 598.0000 - tn: 7102.0000 - fn: 2937.0000 - accuracy: 0.5047 - precision: 0.6042 - recall: 0.2371 - auc: 0.6903 - prc: 0.5299 - val_loss: 1.3365 - val_tp: 101.0000 - val_fp: 168.0000 - val_tn: 576.0000 - val_fn: 271.0000 - val_accuracy: 0.3602 - val_precision: 0.3755 - val_recall: 0.2715 - val_auc: 0.5265 - val_prc: 0.3654\n",
      "Epoch 150/1000\n",
      "65/65 [==============================] - 5s 80ms/step - loss: 0.9928 - tp: 893.0000 - fp: 559.0000 - tn: 7141.0000 - fn: 2957.0000 - accuracy: 0.4995 - precision: 0.6150 - recall: 0.2319 - auc: 0.6901 - prc: 0.5333 - val_loss: 1.3365 - val_tp: 101.0000 - val_fp: 168.0000 - val_tn: 576.0000 - val_fn: 271.0000 - val_accuracy: 0.3602 - val_precision: 0.3755 - val_recall: 0.2715 - val_auc: 0.5264 - val_prc: 0.3654\n",
      "Epoch 151/1000\n",
      "65/65 [==============================] - 5s 79ms/step - loss: 0.9954 - tp: 908.0000 - fp: 597.0000 - tn: 7103.0000 - fn: 2942.0000 - accuracy: 0.4990 - precision: 0.6033 - recall: 0.2358 - auc: 0.6891 - prc: 0.5299 - val_loss: 1.3365 - val_tp: 101.0000 - val_fp: 168.0000 - val_tn: 576.0000 - val_fn: 271.0000 - val_accuracy: 0.3602 - val_precision: 0.3755 - val_recall: 0.2715 - val_auc: 0.5264 - val_prc: 0.3654\n",
      "Epoch 152/1000\n",
      "65/65 [==============================] - 6s 86ms/step - loss: 0.9949 - tp: 915.0000 - fp: 595.0000 - tn: 7105.0000 - fn: 2935.0000 - accuracy: 0.5065 - precision: 0.6060 - recall: 0.2377 - auc: 0.6898 - prc: 0.5305 - val_loss: 1.3365 - val_tp: 101.0000 - val_fp: 168.0000 - val_tn: 576.0000 - val_fn: 271.0000 - val_accuracy: 0.3602 - val_precision: 0.3755 - val_recall: 0.2715 - val_auc: 0.5265 - val_prc: 0.3654\n",
      "Epoch 153/1000\n",
      "65/65 [==============================] - 5s 80ms/step - loss: 0.9938 - tp: 915.0000 - fp: 573.0000 - tn: 7127.0000 - fn: 2935.0000 - accuracy: 0.5062 - precision: 0.6149 - recall: 0.2377 - auc: 0.6905 - prc: 0.5327 - val_loss: 1.3365 - val_tp: 101.0000 - val_fp: 168.0000 - val_tn: 576.0000 - val_fn: 271.0000 - val_accuracy: 0.3602 - val_precision: 0.3755 - val_recall: 0.2715 - val_auc: 0.5264 - val_prc: 0.3653\n",
      "Epoch 154/1000\n",
      "65/65 [==============================] - 5s 81ms/step - loss: 0.9933 - tp: 913.0000 - fp: 581.0000 - tn: 7119.0000 - fn: 2937.0000 - accuracy: 0.4984 - precision: 0.6111 - recall: 0.2371 - auc: 0.6909 - prc: 0.5328 - val_loss: 1.3365 - val_tp: 101.0000 - val_fp: 168.0000 - val_tn: 576.0000 - val_fn: 271.0000 - val_accuracy: 0.3602 - val_precision: 0.3755 - val_recall: 0.2715 - val_auc: 0.5264 - val_prc: 0.3652\n",
      "Epoch 155/1000\n",
      "65/65 [==============================] - 6s 86ms/step - loss: 0.9959 - tp: 918.0000 - fp: 577.0000 - tn: 7123.0000 - fn: 2932.0000 - accuracy: 0.5005 - precision: 0.6140 - recall: 0.2384 - auc: 0.6894 - prc: 0.5281 - val_loss: 1.3365 - val_tp: 101.0000 - val_fp: 168.0000 - val_tn: 576.0000 - val_fn: 271.0000 - val_accuracy: 0.3602 - val_precision: 0.3755 - val_recall: 0.2715 - val_auc: 0.5264 - val_prc: 0.3654\n",
      "Epoch 156/1000\n",
      "65/65 [==============================] - 6s 89ms/step - loss: 0.9943 - tp: 913.0000 - fp: 562.0000 - tn: 7138.0000 - fn: 2937.0000 - accuracy: 0.5039 - precision: 0.6190 - recall: 0.2371 - auc: 0.6903 - prc: 0.5315 - val_loss: 1.3365 - val_tp: 101.0000 - val_fp: 168.0000 - val_tn: 576.0000 - val_fn: 271.0000 - val_accuracy: 0.3602 - val_precision: 0.3755 - val_recall: 0.2715 - val_auc: 0.5265 - val_prc: 0.3654\n",
      "Epoch 157/1000\n",
      "64/65 [============================>.] - ETA: 0s - loss: 0.9952 - tp: 883.0000 - fp: 566.0000 - tn: 7114.0000 - fn: 2957.0000 - accuracy: 0.5013 - precision: 0.6094 - recall: 0.2299 - auc: 0.6892 - prc: 0.5300\n",
      "Epoch 00157: ReduceLROnPlateau reducing learning rate to 3.051757957450718e-08.\n",
      "65/65 [==============================] - 5s 81ms/step - loss: 0.9936 - tp: 891.0000 - fp: 567.0000 - tn: 7133.0000 - fn: 2959.0000 - accuracy: 0.5021 - precision: 0.6111 - recall: 0.2314 - auc: 0.6903 - prc: 0.5323 - val_loss: 1.3365 - val_tp: 101.0000 - val_fp: 168.0000 - val_tn: 576.0000 - val_fn: 271.0000 - val_accuracy: 0.3602 - val_precision: 0.3755 - val_recall: 0.2715 - val_auc: 0.5265 - val_prc: 0.3654\n",
      "Epoch 158/1000\n",
      "65/65 [==============================] - 5s 81ms/step - loss: 0.9942 - tp: 917.0000 - fp: 584.0000 - tn: 7116.0000 - fn: 2933.0000 - accuracy: 0.4974 - precision: 0.6109 - recall: 0.2382 - auc: 0.6898 - prc: 0.5294 - val_loss: 1.3366 - val_tp: 101.0000 - val_fp: 168.0000 - val_tn: 576.0000 - val_fn: 271.0000 - val_accuracy: 0.3602 - val_precision: 0.3755 - val_recall: 0.2715 - val_auc: 0.5265 - val_prc: 0.3654\n",
      "Epoch 159/1000\n",
      "65/65 [==============================] - 5s 82ms/step - loss: 0.9942 - tp: 917.0000 - fp: 595.0000 - tn: 7105.0000 - fn: 2933.0000 - accuracy: 0.5010 - precision: 0.6065 - recall: 0.2382 - auc: 0.6903 - prc: 0.5311 - val_loss: 1.3366 - val_tp: 101.0000 - val_fp: 168.0000 - val_tn: 576.0000 - val_fn: 271.0000 - val_accuracy: 0.3602 - val_precision: 0.3755 - val_recall: 0.2715 - val_auc: 0.5264 - val_prc: 0.3654\n"
     ]
    },
    {
     "name": "stdout",
     "output_type": "stream",
     "text": [
      "Epoch 160/1000\n",
      "64/65 [============================>.] - ETA: 0s - loss: 0.9940 - tp: 897.0000 - fp: 566.0000 - tn: 7114.0000 - fn: 2943.0000 - accuracy: 0.5021 - precision: 0.6131 - recall: 0.2336 - auc: 0.6903 - prc: 0.5319Restoring model weights from the end of the best epoch.\n",
      "65/65 [==============================] - 5s 79ms/step - loss: 0.9925 - tp: 905.0000 - fp: 568.0000 - tn: 7132.0000 - fn: 2945.0000 - accuracy: 0.5029 - precision: 0.6144 - recall: 0.2351 - auc: 0.6914 - prc: 0.5337 - val_loss: 1.3366 - val_tp: 101.0000 - val_fp: 168.0000 - val_tn: 576.0000 - val_fn: 271.0000 - val_accuracy: 0.3602 - val_precision: 0.3755 - val_recall: 0.2715 - val_auc: 0.5265 - val_prc: 0.3654\n",
      "Epoch 00160: early stopping\n"
     ]
    },
    {
     "data": {
      "image/png": "[encoded data removed]",
      "text/plain": [
       "<Figure size 864x720 with 1 Axes>"
      ]
     },
     "metadata": {
      "needs_background": "light"
     },
     "output_type": "display_data"
    },
    {
     "name": "stdout",
     "output_type": "stream",
     "text": [
      "Model: \"sequential_16\"\n",
      "_________________________________________________________________\n",
      "Layer (type)                 Output Shape              Param #   \n",
      "=================================================================\n",
      "lstm_48 (LSTM)               (None, 30, 128)           74240     \n",
      "_________________________________________________________________\n",
      "lstm_49 (LSTM)               (None, 30, 64)            49408     \n",
      "_________________________________________________________________\n",
      "dropout_32 (Dropout)         (None, 30, 64)            0         \n",
      "_________________________________________________________________\n",
      "lstm_50 (LSTM)               (None, 64)                33024     \n",
      "_________________________________________________________________\n",
      "dropout_33 (Dropout)         (None, 64)                0         \n",
      "_________________________________________________________________\n",
      "dense_16 (Dense)             (None, 3)                 195       \n",
      "=================================================================\n",
      "Total params: 156,867\n",
      "Trainable params: 156,867\n",
      "Non-trainable params: 0\n",
      "_________________________________________________________________\n",
      "None\n"
     ]
    }
   ],
   "source": [
    "model,history= basic_lstm(input_dim, feature_size)\n",
    "model.save('./saveModel/LSTM_3to1.h5')\n",
    "print(model.summary())\n"
   ]
  },
  {
   "cell_type": "code",
   "execution_count": 896,
   "id": "presidential-contributor",
   "metadata": {},
   "outputs": [
    {
     "data": {
      "text/plain": [
       "dict_keys(['loss', 'tp', 'fp', 'tn', 'fn', 'accuracy', 'precision', 'recall', 'auc', 'prc', 'val_loss', 'val_tp', 'val_fp', 'val_tn', 'val_fn', 'val_accuracy', 'val_precision', 'val_recall', 'val_auc', 'val_prc', 'lr'])"
      ]
     },
     "execution_count": 896,
     "metadata": {},
     "output_type": "execute_result"
    }
   ],
   "source": [
    "history_dict = history.history\n",
    "history_dict.keys()\n"
   ]
  },
  {
   "cell_type": "code",
   "execution_count": 897,
   "id": "intense-suggestion",
   "metadata": {},
   "outputs": [],
   "source": [
    "acc = history_dict['accuracy']"
   ]
  },
  {
   "cell_type": "code",
   "execution_count": 898,
   "id": "quick-berry",
   "metadata": {},
   "outputs": [
    {
     "data": {
      "text/plain": [
       "[0.4119480550289154,\n",
       " 0.3820779323577881,\n",
       " 0.34987011551856995,\n",
       " 0.3576623499393463,\n",
       " 0.37714284658432007,\n",
       " 0.38363635540008545,\n",
       " 0.3916883170604706,\n",
       " 0.3935064971446991,\n",
       " 0.38805195689201355,\n",
       " 0.39064934849739075,\n",
       " 0.3909091055393219,\n",
       " 0.3883116841316223,\n",
       " 0.38493505120277405,\n",
       " 0.3807792067527771,\n",
       " 0.38935065269470215,\n",
       " 0.37922078371047974,\n",
       " 0.3846753239631653,\n",
       " 0.3953246772289276,\n",
       " 0.38753247261047363,\n",
       " 0.3979220688343048,\n",
       " 0.4012987017631531,\n",
       " 0.40077921748161316,\n",
       " 0.3927272856235504,\n",
       " 0.4062337577342987,\n",
       " 0.40519481897354126,\n",
       " 0.4197402596473694,\n",
       " 0.43532466888427734,\n",
       " 0.43454545736312866,\n",
       " 0.4405194818973541,\n",
       " 0.4433766305446625,\n",
       " 0.4558441638946533,\n",
       " 0.45324674248695374,\n",
       " 0.4553246796131134,\n",
       " 0.45168831944465637,\n",
       " 0.46025973558425903,\n",
       " 0.45818182826042175,\n",
       " 0.46155843138694763,\n",
       " 0.4623376727104187,\n",
       " 0.4688311815261841,\n",
       " 0.47038960456848145,\n",
       " 0.46779221296310425,\n",
       " 0.468051940202713,\n",
       " 0.46961039304733276,\n",
       " 0.46961039304733276,\n",
       " 0.4763636291027069,\n",
       " 0.4740259647369385,\n",
       " 0.47792208194732666,\n",
       " 0.4867532551288605,\n",
       " 0.4859740138053894,\n",
       " 0.49012985825538635,\n",
       " 0.4838961064815521,\n",
       " 0.4924675226211548,\n",
       " 0.4851948022842407,\n",
       " 0.48935064673423767,\n",
       " 0.4903896152973175,\n",
       " 0.4841558337211609,\n",
       " 0.49064934253692627,\n",
       " 0.4935064911842346,\n",
       " 0.492207795381546,\n",
       " 0.4979220926761627,\n",
       " 0.4955844283103943,\n",
       " 0.4955844283103943,\n",
       " 0.49662336707115173,\n",
       " 0.4929870069026947,\n",
       " 0.49454545974731445,\n",
       " 0.4992207884788513,\n",
       " 0.49636363983154297,\n",
       " 0.49714285135269165,\n",
       " 0.49506494402885437,\n",
       " 0.4974026083946228,\n",
       " 0.49714285135269165,\n",
       " 0.4955844283103943,\n",
       " 0.5,\n",
       " 0.49974027276039124,\n",
       " 0.4955844283103943,\n",
       " 0.5015584230422974,\n",
       " 0.5005194544792175,\n",
       " 0.5,\n",
       " 0.5010389685630798,\n",
       " 0.501298725605011,\n",
       " 0.5018181800842285,\n",
       " 0.5020779371261597,\n",
       " 0.5028571486473083,\n",
       " 0.5007792115211487,\n",
       " 0.5031169056892395,\n",
       " 0.49844154715538025,\n",
       " 0.5007792115211487,\n",
       " 0.5010389685630798,\n",
       " 0.5041558146476746,\n",
       " 0.4974026083946228,\n",
       " 0.5067532658576965,\n",
       " 0.5031169056892395,\n",
       " 0.4987013041973114,\n",
       " 0.502337634563446,\n",
       " 0.5020779371261597,\n",
       " 0.5038961172103882,\n",
       " 0.5062337517738342,\n",
       " 0.5002597570419312,\n",
       " 0.5062337517738342,\n",
       " 0.4987013041973114,\n",
       " 0.5044155716896057,\n",
       " 0.5038961172103882,\n",
       " 0.5051947832107544,\n",
       " 0.5038961172103882,\n",
       " 0.5010389685630798,\n",
       " 0.504935085773468,\n",
       " 0.5080519318580627,\n",
       " 0.4994805157184601,\n",
       " 0.5038961172103882,\n",
       " 0.49896103143692017,\n",
       " 0.5025973916053772,\n",
       " 0.5020779371261597,\n",
       " 0.5075324773788452,\n",
       " 0.5059740543365479,\n",
       " 0.5025973916053772,\n",
       " 0.502337634563446,\n",
       " 0.5067532658576965,\n",
       " 0.5054545402526855,\n",
       " 0.5015584230422974,\n",
       " 0.5018181800842285,\n",
       " 0.49714285135269165,\n",
       " 0.5046753287315369,\n",
       " 0.5038961172103882,\n",
       " 0.5041558146476746,\n",
       " 0.502337634563446,\n",
       " 0.49584415555000305,\n",
       " 0.5038961172103882,\n",
       " 0.503636360168457,\n",
       " 0.5080519318580627,\n",
       " 0.508571445941925,\n",
       " 0.5018181800842285,\n",
       " 0.5044155716896057,\n",
       " 0.5044155716896057,\n",
       " 0.5038961172103882,\n",
       " 0.5064935088157654,\n",
       " 0.5018181800842285,\n",
       " 0.5002597570419312,\n",
       " 0.49766233563423157,\n",
       " 0.5033766031265259,\n",
       " 0.5070129632949829,\n",
       " 0.5057142972946167,\n",
       " 0.4994805157184601,\n",
       " 0.5057142972946167,\n",
       " 0.5031169056892395,\n",
       " 0.5,\n",
       " 0.49974027276039124,\n",
       " 0.502337634563446,\n",
       " 0.508571445941925,\n",
       " 0.5046753287315369,\n",
       " 0.4994805157184601,\n",
       " 0.49896103143692017,\n",
       " 0.5064935088157654,\n",
       " 0.5062337517738342,\n",
       " 0.49844154715538025,\n",
       " 0.5005194544792175,\n",
       " 0.5038961172103882,\n",
       " 0.5020779371261597,\n",
       " 0.4974026083946228,\n",
       " 0.5010389685630798,\n",
       " 0.5028571486473083]"
      ]
     },
     "execution_count": 898,
     "metadata": {},
     "output_type": "execute_result"
    }
   ],
   "source": [
    "acc"
   ]
  },
  {
   "cell_type": "code",
   "execution_count": 899,
   "id": "beneficial-method",
   "metadata": {
    "scrolled": false
   },
   "outputs": [
    {
     "data": {
      "image/png": "[encoded data removed]",
      "text/plain": [
       "<Figure size 864x720 with 1 Axes>"
      ]
     },
     "metadata": {
      "needs_background": "light"
     },
     "output_type": "display_data"
    }
   ],
   "source": [
    "import matplotlib.pyplot as plt\n",
    "\n",
    "acc = history_dict['accuracy']\n",
    "val_acc = history_dict['val_accuracy']\n",
    "loss = history_dict['loss']\n",
    "val_loss = history_dict['val_loss']\n",
    "\n",
    "epochs = range(1, len(acc) + 1)\n",
    "\n",
    "# “bo”代表 \"蓝点\"\n",
    "plt.plot(epochs, loss, 'bo', label='Training loss')\n",
    "# b代表“蓝色实线”\n",
    "plt.plot(epochs, val_loss, 'b', label='Validation loss')\n",
    "plt.title('Training and validation loss')\n",
    "plt.xlabel('Epochs')\n",
    "plt.ylabel('Loss')\n",
    "plt.legend()\n",
    "\n",
    "plt.show()"
   ]
  },
  {
   "cell_type": "code",
   "execution_count": 900,
   "id": "flexible-jason",
   "metadata": {},
   "outputs": [
    {
     "data": {
      "image/png": "[encoded data removed]",
      "text/plain": [
       "<Figure size 864x720 with 1 Axes>"
      ]
     },
     "metadata": {
      "needs_background": "light"
     },
     "output_type": "display_data"
    }
   ],
   "source": [
    "plt.clf()   # 清除数字\n",
    "plt.plot(epochs, acc, 'bo', label='Training acc')\n",
    "plt.plot(epochs, val_acc, 'b', label='Validation acc')\n",
    "plt.title('Training and validation accuracy')\n",
    "plt.xlabel('Epochs')\n",
    "plt.ylabel('Accuracy')\n",
    "plt.legend()\n",
    "plt.show()"
   ]
  },
  {
   "cell_type": "code",
   "execution_count": 901,
   "id": "congressional-plant",
   "metadata": {},
   "outputs": [],
   "source": [
    "import matplotlib as mpl\n",
    "mpl.rcParams['figure.figsize'] = (12, 10)\n",
    "colors = plt.rcParams['axes.prop_cycle'].by_key()['color']"
   ]
  },
  {
   "cell_type": "code",
   "execution_count": 902,
   "id": "exceptional-wisdom",
   "metadata": {},
   "outputs": [],
   "source": [
    "def plot_metrics(history):\n",
    "    metrics = ['loss', 'prc', 'precision', 'recall']\n",
    "    for n, metric in enumerate(metrics):\n",
    "        name = metric.replace(\"_\",\" \").capitalize()\n",
    "        plt.subplot(2,2,n+1)\n",
    "        plt.plot(history.epoch, history.history[metric], color=colors[0], label='Train')\n",
    "        plt.plot(history.epoch, history.history['val_'+metric],\n",
    "             color=colors[0], linestyle=\"--\", label='Val')\n",
    "        plt.xlabel('Epoch')\n",
    "        plt.ylabel(name)\n",
    "        if metric == 'loss':\n",
    "            plt.ylim([0, plt.ylim()[1]])\n",
    "        elif metric == 'auc':\n",
    "            plt.ylim([0.8,1])\n",
    "        else:\n",
    "            plt.ylim([0,1])\n",
    "\n",
    "        plt.legend()"
   ]
  },
  {
   "cell_type": "code",
   "execution_count": 903,
   "id": "accompanied-forge",
   "metadata": {},
   "outputs": [
    {
     "data": {
      "image/png": "[encoded data removed]",
      "text/plain": [
       "<Figure size 864x720 with 4 Axes>"
      ]
     },
     "metadata": {
      "needs_background": "light"
     },
     "output_type": "display_data"
    }
   ],
   "source": [
    "plot_metrics(history)"
   ]
  },
  {
   "cell_type": "markdown",
   "id": "controlled-chorus",
   "metadata": {},
   "source": [
    "### Note: That the validation curve generally performs better than the training curve. This is mainly caused by the fact that the dropout layer is not active when evaluating the model."
   ]
  },
  {
   "cell_type": "markdown",
   "id": "expired-couple",
   "metadata": {},
   "source": [
    "\n",
    "### Evaluate metrics \n",
    "### You can use a confusion matrix to summarize the actual vs. predicted labels where the X axis is the predicted label  and the Y axis is the actual label."
   ]
  },
  {
   "cell_type": "code",
   "execution_count": 904,
   "id": "angry-pattern",
   "metadata": {},
   "outputs": [],
   "source": [
    "train_predictions_baseline = model.predict(X_train, batch_size=BATCH_SIZE)\n",
    "test_predictions_baseline = model.predict(X_test, batch_size=BATCH_SIZE)"
   ]
  },
  {
   "cell_type": "code",
   "execution_count": null,
   "id": "broadband-yeast",
   "metadata": {},
   "outputs": [],
   "source": []
  },
  {
   "cell_type": "code",
   "execution_count": null,
   "id": "julian-result",
   "metadata": {},
   "outputs": [],
   "source": []
  },
  {
   "cell_type": "code",
   "execution_count": 905,
   "id": "funny-custody",
   "metadata": {},
   "outputs": [
    {
     "name": "stdout",
     "output_type": "stream",
     "text": [
      "13/13 [==============================] - 0s 27ms/step - loss: 1.6176 - tp: 244.0000 - fp: 411.0000 - tn: 1079.0000 - fn: 501.0000 - accuracy: 0.3664 - precision: 0.3725 - recall: 0.3275 - auc: 0.5274 - prc: 0.3459\n",
      "loss :  1.6176490783691406\n",
      "tp :  244.0\n",
      "fp :  411.0\n",
      "tn :  1079.0\n",
      "fn :  501.0\n",
      "accuracy :  0.3664429485797882\n",
      "precision :  0.3725190758705139\n",
      "recall :  0.3275167644023895\n",
      "auc :  0.5274010300636292\n",
      "prc :  0.3459392786026001\n",
      "\n"
     ]
    }
   ],
   "source": [
    "baseline_results = model.evaluate(X_test, y_test,\n",
    "                                  batch_size=BATCH_SIZE, verbose=1)\n",
    "for name, value in zip(model.metrics_names, baseline_results):\n",
    "    print(name, ': ', value)\n",
    "print()\n",
    "\n",
    "#plot_cm(y_test, test_predictions_baseline)"
   ]
  },
  {
   "cell_type": "markdown",
   "id": "committed-window",
   "metadata": {},
   "source": [
    "# 绘制ROC曲线"
   ]
  },
  {
   "cell_type": "code",
   "execution_count": 906,
   "id": "packed-disability",
   "metadata": {},
   "outputs": [],
   "source": [
    "import numpy as np\n",
    "import pandas as pd\n",
    "import matplotlib as mpl\n",
    "import matplotlib.pyplot as plt\n",
    "from sklearn.model_selection import train_test_split\n",
    "from sklearn.linear_model import LogisticRegressionCV\n",
    "from sklearn import metrics\n",
    "from sklearn.preprocessing import label_binarize\n"
   ]
  },
  {
   "cell_type": "code",
   "execution_count": 907,
   "id": "abandoned-england",
   "metadata": {},
   "outputs": [
    {
     "name": "stdout",
     "output_type": "stream",
     "text": [
      "24/24 [==============================] - 1s 21ms/step\n"
     ]
    }
   ],
   "source": [
    "#同时也是分类得分y_score\n",
    "#概率矩阵P和标签矩阵L分别对应代码中的y_score和y_one_hot：\n",
    "yhat = model.predict(X_test, verbose=1)\n"
   ]
  },
  {
   "cell_type": "code",
   "execution_count": 908,
   "id": "lightweight-rolling",
   "metadata": {},
   "outputs": [],
   "source": [
    "from sklearn.preprocessing import label_binarize\n"
   ]
  },
  {
   "cell_type": "code",
   "execution_count": 909,
   "id": "israeli-blank",
   "metadata": {},
   "outputs": [
    {
     "data": {
      "text/plain": [
       "array([[1, 0, 0],\n",
       "       [1, 0, 0],\n",
       "       [0, 0, 1],\n",
       "       ...,\n",
       "       [0, 0, 1],\n",
       "       [1, 0, 0],\n",
       "       [0, 0, 1]])"
      ]
     },
     "execution_count": 909,
     "metadata": {},
     "output_type": "execute_result"
    }
   ],
   "source": [
    "y_test"
   ]
  },
  {
   "cell_type": "code",
   "execution_count": 910,
   "id": "compatible-columbus",
   "metadata": {},
   "outputs": [],
   "source": [
    "dict_count = {}\n",
    "dict_count['跌']=0\n",
    "dict_count['涨']=0\n",
    "dict_count['平']=0\n",
    "for i in range(len(y_test)):\n",
    "    if(y_test[i][0] ==1):\n",
    "        dict_count['跌'] += 1\n",
    "    if(y_test[i][1] == 1):\n",
    "        dict_count['平'] += 1\n",
    "    if(y_test[i][2] == 1):\n",
    "        dict_count['涨'] += 1"
   ]
  },
  {
   "cell_type": "code",
   "execution_count": 911,
   "id": "prompt-syndicate",
   "metadata": {},
   "outputs": [
    {
     "data": {
      "text/plain": [
       "{'跌': 246, '涨': 310, '平': 189}"
      ]
     },
     "execution_count": 911,
     "metadata": {},
     "output_type": "execute_result"
    }
   ],
   "source": [
    "dict_count"
   ]
  },
  {
   "cell_type": "code",
   "execution_count": 912,
   "id": "great-committee",
   "metadata": {},
   "outputs": [
    {
     "data": {
      "text/plain": [
       "array([[0.01820523, 0.24302526, 0.7387695 ],\n",
       "       [0.00814755, 0.15505761, 0.83679485],\n",
       "       [0.00575009, 0.14311823, 0.8511317 ],\n",
       "       ...,\n",
       "       [0.03255618, 0.04945974, 0.91798407],\n",
       "       [0.02434009, 0.05516242, 0.92049754],\n",
       "       [0.02212131, 0.07016589, 0.9077128 ]], dtype=float32)"
      ]
     },
     "execution_count": 912,
     "metadata": {},
     "output_type": "execute_result"
    }
   ],
   "source": [
    "yhat"
   ]
  },
  {
   "cell_type": "code",
   "execution_count": 913,
   "id": "olympic-projector",
   "metadata": {},
   "outputs": [
    {
     "name": "stdout",
     "output_type": "stream",
     "text": [
      "调用函数auc： 0.5273429124814197\n",
      "手动计算auc： 0.5273429124814197\n"
     ]
    },
    {
     "data": {
      "image/png": "[encoded data removed]",
      "text/plain": [
       "<Figure size 864x720 with 1 Axes>"
      ]
     },
     "metadata": {
      "needs_background": "light"
     },
     "output_type": "display_data"
    }
   ],
   "source": [
    "# 计算属于各个类别的概率，返回值的shape = [n_samples, n_classes]\n",
    "y_score = model.predict(X_test)\n",
    "# 1、调用函数计算micro类型的AUC\n",
    "print('调用函数auc：', metrics.roc_auc_score(y_test, y_score, average='micro'))\n",
    "# 2、手动计算micro类型的AUC\n",
    "#首先将矩阵y_one_hot和y_score展开，然后计算假正例率FPR和真正例率TPR\n",
    "fpr, tpr, thresholds = metrics.roc_curve(y_test.ravel(),y_score.ravel())\n",
    "auc = metrics.auc(fpr, tpr)\n",
    "print('手动计算auc：', auc)\n",
    "#绘图\n",
    "mpl.rcParams['font.sans-serif'] = u'SimHei'\n",
    "mpl.rcParams['axes.unicode_minus'] = False\n",
    "#FPR就是横坐标,TPR就是纵坐标\n",
    "plt.plot(fpr, tpr, c = 'r', lw = 2, alpha = 0.7, label = u'AUC=%.3f' % auc)\n",
    "plt.plot((0, 1), (0, 1), c = '#808080', lw = 1, ls = '--', alpha = 0.7)\n",
    "plt.xlim((-0.01, 1.02))\n",
    "plt.ylim((-0.01, 1.02))\n",
    "plt.xticks(np.arange(0, 1.1, 0.1))\n",
    "plt.yticks(np.arange(0, 1.1, 0.1))\n",
    "plt.xlabel('False Positive Rate', fontsize=13)\n",
    "plt.ylabel('True Positive Rate', fontsize=13)\n",
    "plt.grid(b=True, ls=':')\n",
    "plt.legend(loc='lower right', fancybox=True, framealpha=0.8, fontsize=12)\n",
    "plt.title(u'mtj_june数据集分类后的ROC和AUC', fontsize=17)\n",
    "plt.show()"
   ]
  },
  {
   "cell_type": "code",
   "execution_count": null,
   "id": "productive-collect",
   "metadata": {},
   "outputs": [],
   "source": []
  },
  {
   "cell_type": "code",
   "execution_count": 914,
   "id": "fallen-mistress",
   "metadata": {},
   "outputs": [
    {
     "data": {
      "text/plain": [
       "array([[0.01820523, 0.24302526, 0.7387695 ],\n",
       "       [0.00814755, 0.15505761, 0.83679485],\n",
       "       [0.00575009, 0.14311823, 0.8511317 ],\n",
       "       ...,\n",
       "       [0.03255618, 0.04945974, 0.91798407],\n",
       "       [0.02434009, 0.05516242, 0.92049754],\n",
       "       [0.02212131, 0.07016589, 0.9077128 ]], dtype=float32)"
      ]
     },
     "execution_count": 914,
     "metadata": {},
     "output_type": "execute_result"
    }
   ],
   "source": [
    "y_score"
   ]
  },
  {
   "cell_type": "code",
   "execution_count": null,
   "id": "dependent-ottawa",
   "metadata": {},
   "outputs": [],
   "source": []
  },
  {
   "cell_type": "code",
   "execution_count": null,
   "id": "nervous-condition",
   "metadata": {},
   "outputs": [],
   "source": []
  },
  {
   "cell_type": "code",
   "execution_count": null,
   "id": "organic-particle",
   "metadata": {
    "scrolled": false
   },
   "outputs": [],
   "source": []
  },
  {
   "cell_type": "code",
   "execution_count": 915,
   "id": "selected-gender",
   "metadata": {},
   "outputs": [],
   "source": [
    "import numpy as np\n",
    "import seaborn as sns\n",
    "from sklearn.metrics import confusion_matrix\n",
    "import pandas as pd\n",
    "import matplotlib.pyplot as plt\n",
    "from sklearn.metrics import accuracy_score, average_precision_score,precision_score,f1_score,recall_score"
   ]
  },
  {
   "cell_type": "code",
   "execution_count": 916,
   "id": "productive-cooperation",
   "metadata": {},
   "outputs": [
    {
     "data": {
      "text/plain": [
       "array([[0.01820523, 0.24302526, 0.7387695 ],\n",
       "       [0.00814755, 0.15505761, 0.83679485],\n",
       "       [0.00575009, 0.14311823, 0.8511317 ],\n",
       "       ...,\n",
       "       [0.03255618, 0.04945974, 0.91798407],\n",
       "       [0.02434009, 0.05516242, 0.92049754],\n",
       "       [0.02212131, 0.07016589, 0.9077128 ]], dtype=float32)"
      ]
     },
     "execution_count": 916,
     "metadata": {},
     "output_type": "execute_result"
    }
   ],
   "source": [
    "yhat"
   ]
  },
  {
   "cell_type": "code",
   "execution_count": 917,
   "id": "stuffed-scenario",
   "metadata": {},
   "outputs": [
    {
     "data": {
      "text/plain": [
       "array([[1, 0, 0],\n",
       "       [1, 0, 0],\n",
       "       [0, 0, 1],\n",
       "       ...,\n",
       "       [0, 0, 1],\n",
       "       [1, 0, 0],\n",
       "       [0, 0, 1]])"
      ]
     },
     "execution_count": 917,
     "metadata": {},
     "output_type": "execute_result"
    }
   ],
   "source": [
    "y_test"
   ]
  },
  {
   "cell_type": "code",
   "execution_count": 918,
   "id": "obvious-showcase",
   "metadata": {},
   "outputs": [
    {
     "data": {
      "text/plain": [
       "array([[0.01820523, 0.24302526, 0.7387695 ],\n",
       "       [0.00814755, 0.15505761, 0.83679485],\n",
       "       [0.00575009, 0.14311823, 0.8511317 ],\n",
       "       ...,\n",
       "       [0.03255618, 0.04945974, 0.91798407],\n",
       "       [0.02434009, 0.05516242, 0.92049754],\n",
       "       [0.02212131, 0.07016589, 0.9077128 ]], dtype=float32)"
      ]
     },
     "execution_count": 918,
     "metadata": {},
     "output_type": "execute_result"
    }
   ],
   "source": [
    "y_score"
   ]
  },
  {
   "cell_type": "code",
   "execution_count": 919,
   "id": "municipal-discovery",
   "metadata": {},
   "outputs": [],
   "source": [
    "def to_0_1(y):\n",
    "    res = []\n",
    "    for i in range(y.shape[0]):\n",
    "        if(y[i][0] > y[i][1] and y[i][0] > y[i][2]):\n",
    "            res.append(-1) #跌\n",
    "        if(y[i][1] > y[i][0] and y[i][1] > y[i][2]):\n",
    "            res.append(0) #平\n",
    "        if(y[i][2] > y[i][0] and y[i][2] > y[i][1]):\n",
    "            res.append(1) #涨\n",
    "    return np.array(res)\n",
    "\n",
    "def result_to_0_1(y):\n",
    "        if(tf.is_tensor(y)):\n",
    "            y = y.numpy()\n",
    "            for i in range(y.shape[0]):\n",
    "                max_index = 0\n",
    "                if(y[i][max_index] < y[i][1]):\n",
    "                    max_index = 1\n",
    "                if(y[i][max_index] < y[i][2]):\n",
    "                    max_index = 2\n",
    "                list_temp = [0,1,2]\n",
    "                list_temp.pop(max_index)\n",
    "                y[i][max_index] = 1\n",
    "                y[i][list_temp[0]] = 0\n",
    "                y[i][list_temp[1]] = 0\n",
    "        else:\n",
    "            for i in range(y.shape[0]):\n",
    "                max_index = 0\n",
    "                if(y[i][max_index] < y[i][1]):\n",
    "                    max_index = 1\n",
    "                if(y[i][max_index] < y[i][2]):\n",
    "                    max_index = 2\n",
    "                list_temp = [0,1,2]\n",
    "                list_temp.pop(max_index)\n",
    "                y[i][max_index] = 1\n",
    "                y[i][list_temp[0]] = 0\n",
    "                y[i][list_temp[1]] = 0\n",
    "        return y\n",
    "    "
   ]
  },
  {
   "cell_type": "code",
   "execution_count": 920,
   "id": "parental-advertiser",
   "metadata": {},
   "outputs": [],
   "source": [
    "y = result_to_0_1(yhat)"
   ]
  },
  {
   "cell_type": "code",
   "execution_count": 921,
   "id": "novel-access",
   "metadata": {},
   "outputs": [
    {
     "data": {
      "text/plain": [
       "array([[0., 0., 1.],\n",
       "       [0., 0., 1.],\n",
       "       [0., 0., 1.],\n",
       "       ...,\n",
       "       [0., 0., 1.],\n",
       "       [0., 0., 1.],\n",
       "       [0., 0., 1.]], dtype=float32)"
      ]
     },
     "execution_count": 921,
     "metadata": {},
     "output_type": "execute_result"
    }
   ],
   "source": [
    "y"
   ]
  },
  {
   "cell_type": "code",
   "execution_count": 922,
   "id": "roman-representative",
   "metadata": {},
   "outputs": [],
   "source": [
    "y_pre = to_0_1(yhat)\n",
    "y_true = to_0_1(y_test)"
   ]
  },
  {
   "cell_type": "code",
   "execution_count": 923,
   "id": "noticed-spelling",
   "metadata": {},
   "outputs": [
    {
     "data": {
      "text/plain": [
       "array([ 1,  1,  1,  1,  1,  0,  0, -1, -1, -1, -1, -1, -1, -1, -1, -1, -1,\n",
       "        1,  1,  1,  1, -1, -1, -1, -1, -1, -1, -1, -1,  1,  1,  1,  1,  1,\n",
       "        1, -1, -1, -1, -1, -1, -1, -1, -1, -1, -1, -1, -1, -1, -1,  0,  0,\n",
       "        0,  0,  0,  0,  1,  1,  1,  1,  1,  1,  1,  1,  1,  0, -1, -1, -1,\n",
       "       -1, -1, -1, -1, -1, -1,  0,  0,  1,  1,  1,  1,  1,  1,  0,  0, -1,\n",
       "       -1, -1, -1, -1, -1, -1, -1, -1, -1, -1, -1, -1, -1, -1, -1, -1,  1,\n",
       "        1,  1,  1,  1,  1,  1,  1,  1,  1,  0, -1, -1, -1, -1, -1, -1, -1,\n",
       "       -1, -1, -1, -1, -1, -1, -1, -1, -1, -1, -1, -1, -1, -1, -1, -1, -1,\n",
       "       -1, -1,  1,  1,  1,  1,  1,  1,  0,  0, -1, -1, -1, -1, -1, -1,  0,\n",
       "        0,  0,  1,  1,  1,  1,  1,  1,  1,  0, -1, -1, -1, -1, -1, -1, -1,\n",
       "        1,  1,  1,  1,  0, -1, -1, -1, -1, -1, -1, -1, -1, -1,  1,  1,  1,\n",
       "        1,  1,  1,  1,  1,  1,  1,  0,  0, -1, -1, -1, -1, -1, -1, -1, -1,\n",
       "       -1, -1,  0,  0,  1,  1,  1,  1,  1,  1,  0, -1, -1, -1, -1, -1, -1,\n",
       "       -1, -1, -1,  0,  0,  1,  1,  1,  1,  1,  1,  0,  0, -1, -1, -1, -1,\n",
       "       -1, -1, -1, -1, -1, -1,  0,  0,  0,  1,  1,  1,  1,  1,  1,  0,  0,\n",
       "        0, -1, -1, -1, -1, -1, -1, -1, -1, -1, -1, -1,  0,  1,  1,  1,  1,\n",
       "        1,  1,  1,  1,  1,  0,  0,  0, -1, -1, -1, -1, -1, -1, -1, -1,  0,\n",
       "        1,  1,  1,  0,  0, -1, -1, -1, -1, -1, -1, -1, -1, -1, -1, -1, -1,\n",
       "       -1, -1, -1, -1, -1, -1, -1, -1, -1, -1, -1,  0,  1,  1,  1,  1,  1,\n",
       "        0,  0,  0, -1, -1, -1, -1, -1, -1, -1, -1, -1,  0,  0,  1,  1,  1,\n",
       "        1,  1,  1,  1,  1,  0,  0,  0, -1, -1, -1, -1, -1, -1, -1, -1, -1,\n",
       "       -1, -1,  0,  0,  1,  1,  1,  1,  1,  1,  0,  0,  0, -1, -1, -1, -1,\n",
       "       -1, -1, -1, -1, -1, -1, -1, -1, -1, -1, -1, -1, -1, -1, -1, -1, -1,\n",
       "        0,  1,  1,  1,  1,  1,  1,  1,  1,  0,  0,  0, -1, -1, -1, -1, -1,\n",
       "       -1, -1, -1, -1, -1, -1, -1, -1, -1, -1, -1, -1, -1, -1, -1, -1, -1,\n",
       "       -1, -1, -1,  0,  1,  1,  1,  1,  1,  1,  1,  0,  0, -1, -1, -1, -1,\n",
       "       -1, -1, -1, -1, -1, -1, -1, -1, -1, -1, -1, -1, -1, -1, -1,  0,  0,\n",
       "        0,  0,  1,  1,  1,  1,  1,  1,  1,  1,  1,  1,  1,  1, -1, -1, -1,\n",
       "       -1, -1, -1, -1, -1, -1, -1, -1, -1, -1, -1, -1, -1, -1, -1, -1, -1,\n",
       "       -1, -1, -1, -1, -1, -1, -1, -1, -1, -1, -1, -1, -1, -1, -1, -1, -1,\n",
       "       -1, -1, -1, -1, -1, -1, -1, -1, -1, -1,  1,  1,  1,  1,  1,  1,  1,\n",
       "        1, -1, -1, -1, -1, -1, -1, -1, -1, -1, -1, -1, -1, -1, -1, -1, -1,\n",
       "       -1, -1, -1,  1,  1,  1, -1, -1, -1, -1, -1, -1, -1, -1, -1,  1,  1,\n",
       "        1, -1, -1, -1, -1, -1, -1, -1, -1, -1, -1, -1, -1, -1, -1,  1,  1,\n",
       "        1,  1,  1,  1,  1,  1,  1, -1, -1, -1, -1, -1, -1, -1, -1, -1, -1,\n",
       "       -1, -1, -1, -1, -1, -1, -1, -1, -1, -1, -1, -1, -1, -1, -1, -1, -1,\n",
       "       -1, -1, -1,  1,  1,  1,  1, -1, -1, -1, -1, -1, -1, -1, -1, -1, -1,\n",
       "       -1, -1, -1, -1, -1, -1, -1, -1, -1, -1, -1, -1, -1, -1, -1,  1,  1,\n",
       "        1,  1,  1,  1, -1, -1, -1, -1, -1, -1, -1, -1, -1, -1, -1, -1, -1,\n",
       "       -1, -1, -1, -1, -1, -1, -1, -1, -1, -1, -1, -1, -1, -1, -1, -1, -1,\n",
       "       -1, -1, -1, -1, -1, -1, -1, -1, -1, -1, -1, -1, -1,  1,  1,  1,  1,\n",
       "       -1, -1, -1, -1, -1, -1, -1, -1, -1, -1, -1, -1, -1, -1, -1, -1, -1,\n",
       "       -1, -1, -1, -1, -1,  1,  1,  1,  1,  1, -1, -1, -1, -1, -1, -1, -1,\n",
       "       -1, -1, -1, -1, -1, -1, -1, -1, -1,  1,  1,  1,  1,  1])"
      ]
     },
     "execution_count": 923,
     "metadata": {},
     "output_type": "execute_result"
    }
   ],
   "source": [
    "y_pre"
   ]
  },
  {
   "cell_type": "code",
   "execution_count": 924,
   "id": "hollywood-hunter",
   "metadata": {},
   "outputs": [
    {
     "data": {
      "text/plain": [
       "array([-1, -1,  1, -1,  1, -1,  1, -1,  1,  1, -1, -1, -1,  0, -1, -1,  0,\n",
       "        1,  0,  1,  1,  1, -1, -1,  1, -1,  0,  1, -1, -1,  1,  1, -1, -1,\n",
       "       -1,  1,  1, -1,  1,  0,  1,  1,  1, -1,  1,  1,  0,  1, -1,  1,  1,\n",
       "        0,  1,  0, -1,  1, -1,  0,  0,  1,  1,  0,  1,  1,  0, -1,  0, -1,\n",
       "        1, -1, -1, -1,  0,  1, -1,  0,  0,  1, -1,  1,  0,  1, -1,  1, -1,\n",
       "        1, -1,  1, -1,  1,  1, -1,  1,  1,  0, -1, -1,  1,  0,  0, -1,  0,\n",
       "       -1, -1,  0,  1, -1,  0,  1,  0,  1, -1, -1,  1,  1,  1,  0,  0,  1,\n",
       "        0,  1,  1,  1,  1,  1,  0,  1, -1,  1,  0,  1,  0,  0, -1,  0,  1,\n",
       "        0,  0,  1,  1,  1,  0,  0,  0,  1, -1,  0, -1,  0,  0,  0,  0,  1,\n",
       "        0,  1,  0,  0, -1, -1,  0,  0,  0,  0, -1, -1,  1, -1, -1,  1,  0,\n",
       "       -1,  0,  1,  0, -1, -1,  1,  0, -1,  0,  0,  0,  1,  0,  0,  1, -1,\n",
       "        0,  0,  1,  0,  1,  0, -1,  1,  1,  0, -1, -1, -1,  0,  0, -1, -1,\n",
       "       -1,  1,  0, -1, -1,  1, -1,  1,  1,  1, -1,  1,  1, -1,  0,  0,  1,\n",
       "       -1, -1,  0,  1, -1,  1, -1,  1,  0,  1, -1,  0, -1,  1,  0,  0,  0,\n",
       "       -1,  0, -1,  0, -1,  1, -1,  0,  1, -1,  0,  1, -1,  0,  0,  0, -1,\n",
       "        1,  1,  1,  0,  1,  1, -1, -1, -1, -1,  1,  0, -1,  0,  1,  0,  1,\n",
       "        0,  0,  0,  0,  0,  0,  1,  0, -1, -1,  1, -1,  1,  0,  0,  1, -1,\n",
       "        0, -1, -1,  1,  0,  1,  0, -1,  1,  0,  0,  0,  0,  0,  1,  0, -1,\n",
       "        0,  0,  0,  0,  0,  0, -1, -1,  1,  0, -1,  1,  1,  1,  1,  0,  1,\n",
       "        0,  1,  0, -1, -1,  0,  0,  0,  1, -1,  0,  0,  1, -1,  1,  0,  1,\n",
       "        1,  0,  1,  1,  1, -1,  1,  1,  1,  1,  0, -1, -1, -1,  1, -1, -1,\n",
       "        0,  1, -1,  1,  0,  1, -1, -1,  1, -1,  1, -1,  1, -1,  1,  1,  0,\n",
       "        1,  1,  1,  1,  0,  1,  1, -1,  0,  1,  0, -1,  0, -1,  0, -1,  0,\n",
       "        1, -1,  1, -1, -1,  1,  1, -1,  1, -1,  0, -1,  1, -1,  0,  0,  0,\n",
       "        1,  1,  1, -1, -1, -1,  1, -1,  1,  0,  1, -1,  1,  0,  1, -1, -1,\n",
       "        1, -1,  0,  1,  0,  1,  0, -1,  1,  1,  0,  1,  0,  0,  1,  1,  0,\n",
       "        0,  0,  1,  1,  0,  0, -1,  0,  1,  0, -1,  0,  1,  0,  1, -1,  1,\n",
       "       -1, -1,  0,  0, -1,  1, -1,  0,  1, -1,  0,  1,  1, -1,  1,  0, -1,\n",
       "        1,  1, -1,  1,  1,  1, -1, -1,  1, -1, -1, -1,  0,  0,  0,  1,  0,\n",
       "        0,  1,  1,  1,  1,  0,  0, -1,  1,  1, -1,  1,  0,  0,  1,  1,  0,\n",
       "        1,  1,  0, -1,  1, -1, -1, -1,  1, -1, -1,  1,  1,  1,  1,  1, -1,\n",
       "        1, -1,  1,  1,  1, -1, -1, -1,  1,  1, -1,  1,  1,  1,  1, -1, -1,\n",
       "        1,  1, -1,  1, -1, -1, -1,  1, -1,  0,  1, -1,  1,  1,  0, -1,  1,\n",
       "        1, -1,  1, -1,  1,  1,  1, -1, -1,  1, -1, -1,  1,  1, -1,  1, -1,\n",
       "        1,  1,  1, -1,  1,  1, -1,  1, -1,  0, -1,  0,  1,  0,  1, -1,  0,\n",
       "       -1,  1,  0,  1,  1,  1,  1, -1,  1, -1,  1, -1,  1, -1,  1,  0,  1,\n",
       "       -1, -1, -1,  1, -1,  1,  0,  1, -1,  1,  1,  1,  1,  0,  1,  1, -1,\n",
       "        1, -1, -1,  1,  1, -1,  1, -1, -1, -1,  1,  0,  1,  1,  0,  1,  1,\n",
       "        0, -1, -1,  1, -1,  0,  0, -1, -1,  1,  1,  1,  1,  1,  1,  0,  1,\n",
       "       -1, -1,  1, -1,  1,  1,  1,  1,  1, -1,  1, -1,  1,  1,  1, -1, -1,\n",
       "        1,  0,  1, -1,  0, -1, -1, -1,  1, -1, -1,  1, -1,  1, -1, -1,  0,\n",
       "        1, -1, -1,  1, -1, -1,  0,  1, -1,  1,  1,  1,  1, -1, -1, -1,  0,\n",
       "       -1,  1,  1, -1, -1,  1,  0,  1,  1,  1, -1,  1,  1, -1,  1, -1,  1,\n",
       "        1,  1,  1, -1, -1,  1, -1, -1, -1, -1,  1,  1, -1,  1])"
      ]
     },
     "execution_count": 924,
     "metadata": {},
     "output_type": "execute_result"
    }
   ],
   "source": [
    "y_true"
   ]
  },
  {
   "cell_type": "code",
   "execution_count": 925,
   "id": "spanish-uzbekistan",
   "metadata": {},
   "outputs": [
    {
     "data": {
      "text/plain": [
       "array([[1, 0, 0],\n",
       "       [1, 0, 0],\n",
       "       [0, 0, 1],\n",
       "       ...,\n",
       "       [0, 0, 1],\n",
       "       [1, 0, 0],\n",
       "       [0, 0, 1]])"
      ]
     },
     "execution_count": 925,
     "metadata": {},
     "output_type": "execute_result"
    }
   ],
   "source": [
    "y_test"
   ]
  },
  {
   "cell_type": "code",
   "execution_count": 926,
   "id": "random-madonna",
   "metadata": {},
   "outputs": [],
   "source": [
    "cm = confusion_matrix(y_true, y_pre)\n",
    "conf_matrix = pd.DataFrame(cm, index=['跌','平','涨'], columns=['跌','平','涨'])\n"
   ]
  },
  {
   "cell_type": "code",
   "execution_count": 927,
   "id": "split-flush",
   "metadata": {},
   "outputs": [
    {
     "data": {
      "text/plain": [
       "array([[170,  24,  52],\n",
       "       [120,  17,  52],\n",
       "       [197,  27,  86]], dtype=int64)"
      ]
     },
     "execution_count": 927,
     "metadata": {},
     "output_type": "execute_result"
    }
   ],
   "source": [
    "cm"
   ]
  },
  {
   "cell_type": "code",
   "execution_count": 928,
   "id": "charged-franchise",
   "metadata": {},
   "outputs": [
    {
     "data": {
      "image/png": "[encoded data removed]",
      "text/plain": [
       "<Figure size 648x432 with 2 Axes>"
      ]
     },
     "metadata": {
      "needs_background": "light"
     },
     "output_type": "display_data"
    }
   ],
   "source": [
    "# plot size setting\n",
    "fig, ax = plt.subplots(figsize = (9,6))\n",
    "sns.heatmap(conf_matrix, annot=True, annot_kws={\"size\": 19},fmt='.20g', cmap=\"Blues\")\n",
    "plt.ylabel('True label', fontsize=18)\n",
    "plt.xlabel('Predicted label', fontsize=18)\n",
    "plt.xticks(fontsize=18)\n",
    "plt.yticks(fontsize=18)\n",
    "plt.savefig('confusion.pdf', bbox_inches='tight')\n",
    "plt.show()"
   ]
  },
  {
   "cell_type": "code",
   "execution_count": 929,
   "id": "grand-pound",
   "metadata": {},
   "outputs": [
    {
     "name": "stdout",
     "output_type": "stream",
     "text": [
      "------Weighted------\n",
      "Weighted precision 0.3670315159893726\n",
      "Weighted recall 0.36644295302013424\n",
      "Weighted f1-score 0.3298661785987123\n",
      "------Macro------\n",
      "Macro precision 0.3505691847689038\n",
      "Macro recall 0.35280778511830174\n",
      "Macro f1-score 0.31338097437285783\n",
      "------Micro------\n",
      "Micro precision 0.36644295302013424\n",
      "Micro recall 0.36644295302013424\n",
      "Micro f1-score 0.3664429530201342\n"
     ]
    }
   ],
   "source": [
    "print('------Weighted------')\n",
    "print('Weighted precision', precision_score(y_true, y_pre, average='weighted'))\n",
    "print('Weighted recall', recall_score(y_true, y_pre, average='weighted'))\n",
    "print('Weighted f1-score', f1_score(y_true, y_pre, average='weighted'))\n",
    "print('------Macro------')\n",
    "print('Macro precision', precision_score(y_true, y_pre, average='macro'))\n",
    "print('Macro recall', recall_score(y_true, y_pre, average='macro'))\n",
    "print('Macro f1-score', f1_score(y_true, y_pre, average='macro'))\n",
    "print('------Micro------')\n",
    "print('Micro precision', precision_score(y_true, y_pre, average='micro'))\n",
    "print('Micro recall', recall_score(y_true, y_pre, average='micro'))\n",
    "print('Micro f1-score', f1_score(y_true, y_pre, average='micro'))"
   ]
  },
  {
   "cell_type": "code",
   "execution_count": 930,
   "id": "scientific-institute",
   "metadata": {},
   "outputs": [
    {
     "name": "stderr",
     "output_type": "stream",
     "text": [
      "<ipython-input-930-c2d5f097c586>:29: DeprecationWarning: scipy.interp is deprecated and will be removed in SciPy 2.0.0, use numpy.interp instead\n",
      "  mean_tpr += interp(all_fpr, fpr[i], tpr[i])\n"
     ]
    },
    {
     "data": {
      "image/png": "[encoded data removed]",
      "text/plain": [
       "<Figure size 864x720 with 1 Axes>"
      ]
     },
     "metadata": {
      "needs_background": "light"
     },
     "output_type": "display_data"
    }
   ],
   "source": [
    "from itertools import cycle\n",
    "from sklearn import svm, datasets\n",
    "from sklearn.metrics import roc_curve, auc\n",
    "from sklearn.model_selection import train_test_split\n",
    "from sklearn.preprocessing import label_binarize\n",
    "from sklearn.multiclass import OneVsRestClassifier\n",
    "from scipy import interp\n",
    "\n",
    "# 计算每一类的ROC\n",
    "fpr = dict()\n",
    "tpr = dict()\n",
    "roc_auc = dict()\n",
    "n_classes = 3\n",
    "for i in range(n_classes):\n",
    "    fpr[i], tpr[i], _ = roc_curve(y_test[:, i], y_score[:, i])\n",
    "    roc_auc[i] = metrics.auc(fpr[i], tpr[i])\n",
    "# Compute micro-average ROC curve and ROC area（方法二）\n",
    "fpr[\"weighted\"], tpr[\"weighted\"], _ = roc_curve(\n",
    "    y_test.ravel(), y_score.ravel())\n",
    "roc_auc[\"weighted\"] = metrics.auc(fpr[\"weighted\"], tpr[\"weighted\"])\n",
    "\n",
    "\n",
    "# Compute macro-average ROC curve and ROC area（方法一）\n",
    "# First aggregate all false positive rates\n",
    "all_fpr = np.unique(np.concatenate([fpr[i] for i in range(n_classes)]))\n",
    "# Then interpolate all ROC curves at this points\n",
    "mean_tpr = np.zeros_like(all_fpr)\n",
    "for i in range(n_classes):\n",
    "    mean_tpr += interp(all_fpr, fpr[i], tpr[i])\n",
    "# Finally average it and compute AUC\n",
    "mean_tpr /= n_classes\n",
    "fpr[\"macro\"] = all_fpr\n",
    "tpr[\"macro\"] = mean_tpr\n",
    "roc_auc[\"macro\"] = metrics.auc(fpr[\"macro\"], tpr[\"macro\"])\n",
    "\n",
    "# Plot all ROC curves\n",
    "lw = 2\n",
    "plt.figure()\n",
    "# plt.plot(fpr[\"micro\"], tpr[\"micro\"],\n",
    "#          label='micro-average ROC curve (area = {0:0.4f})'\n",
    "#          ''.format(roc_auc[\"micro\"]),\n",
    "#          color='deeppink', linestyle=':', linewidth=4)\n",
    "\n",
    "plt.plot(fpr[\"macro\"], tpr[\"macro\"],\n",
    "         label='macro-average ROC curve (area = {0:0.4f})'\n",
    "         ''.format(roc_auc[\"macro\"]),\n",
    "         color='navy', linestyle=':', linewidth=4)\n",
    "plt.plot(fpr[\"weighted\"], tpr[\"weighted\"],\n",
    "         label='weighted-average ROC curve (area = {0:0.4f})'\n",
    "         ''.format(roc_auc[\"weighted\"]),\n",
    "         color='deeppink', linestyle=':', linewidth=4)\n",
    "\n",
    "colors = cycle(['aqua', 'darkorange', 'cornflowerblue'])\n",
    "for i, color in zip(range(n_classes), colors):\n",
    "    plt.plot(fpr[i], tpr[i], color=color, lw=lw,\n",
    "             label='ROC curve of class {0} (area = {1:0.4f})'\n",
    "             ''.format(i, roc_auc[i]))\n",
    "\n",
    "plt.plot([0, 1], [0, 1], 'k--', lw=lw)\n",
    "plt.xlim([0.0, 1.0])\n",
    "plt.ylim([0.0, 1.05])\n",
    "plt.xlabel('False Positive Rate')\n",
    "plt.ylabel('True Positive Rate')\n",
    "plt.title('Some extension of Receiver operating characteristic to multi-class')\n",
    "plt.legend(loc=\"lower right\")\n",
    "plt.show()\n",
    "# # 计算每一类的ROC\n",
    "# fpr = dict()\n",
    "# tpr = dict()\n",
    "# roc_auc = dict()\n",
    "# n_classes=3\n",
    "# for i in range(n_classes):\n",
    "#     fpr[i], tpr[i], _ = roc_curve(y_test[:, i], y_score[:, i])\n",
    "#     roc_auc[i] = auc(fpr[i], tpr[i])\n",
    "# # Compute micro-average ROC curve and ROC area（方法二）\n",
    "# fpr[\"micro\"], tpr[\"micro\"], _ = roc_curve(y_test.ravel(), y_score.ravel())\n",
    "# roc_auc[\"micro\"] = auc(fpr[\"micro\"], tpr[\"micro\"])\n",
    "# # Compute macro-average ROC curve and ROC area（方法一）\n",
    "# # First aggregate all false positive rates\n",
    "# all_fpr = np.unique(np.concatenate([fpr[i] for i in range(n_classes)]))\n",
    "# # Then interpolate all ROC curves at this points\n",
    "# mean_tpr = np.zeros_like(all_fpr)\n",
    "# for i in range(n_classes):\n",
    "#     mean_tpr += interp(all_fpr, fpr[i], tpr[i])\n",
    "# # Finally average it and compute AUC\n",
    "# mean_tpr /= n_classes\n",
    "# fpr[\"macro\"] = all_fpr\n",
    "# tpr[\"macro\"] = mean_tpr\n",
    "# roc_auc[\"macro\"] = auc(fpr[\"macro\"], tpr[\"macro\"])\n",
    "\n",
    "# # Plot all ROC curves\n",
    "# lw=2\n",
    "# plt.figure()\n",
    "# plt.plot(fpr[\"micro\"], tpr[\"micro\"],\n",
    "#          label='micro-average ROC curve (area = {0:0.4f})'\n",
    "#                ''.format(roc_auc[\"micro\"]),\n",
    "#          color='deeppink', linestyle=':', linewidth=4)\n",
    "\n",
    "# plt.plot(fpr[\"macro\"], tpr[\"macro\"],\n",
    "#          label='macro-average ROC curve (area = {0:0.4f})'\n",
    "#                ''.format(roc_auc[\"macro\"]),\n",
    "#          color='navy', linestyle=':', linewidth=4)\n",
    "\n",
    "# colors = cycle(['aqua', 'darkorange', 'cornflowerblue'])\n",
    "# for i, color in zip(range(n_classes), colors):\n",
    "#     plt.plot(fpr[i], tpr[i], color=color, lw=lw,\n",
    "#              label='ROC curve of class {0} (area = {1:0.4f})'\n",
    "#              ''.format(i, roc_auc[i]))\n",
    "\n",
    "# plt.plot([0, 1], [0, 1], 'k--', lw=lw)\n",
    "# plt.xlim([0.0, 1.0])\n",
    "# plt.ylim([0.0, 1.05])\n",
    "# plt.xlabel('False Positive Rate')\n",
    "# plt.ylabel('True Positive Rate')\n",
    "# plt.title('Some extension of Receiver operating characteristic to multi-class')\n",
    "# plt.legend(loc=\"lower right\")\n",
    "# plt.show()"
   ]
  },
  {
   "cell_type": "code",
   "execution_count": null,
   "id": "severe-valuation",
   "metadata": {},
   "outputs": [],
   "source": []
  },
  {
   "cell_type": "code",
   "execution_count": 931,
   "id": "medium-twenty",
   "metadata": {},
   "outputs": [
    {
     "data": {
      "text/plain": [
       "array([[1, 0, 0],\n",
       "       [1, 0, 0],\n",
       "       [0, 0, 1],\n",
       "       ...,\n",
       "       [0, 0, 1],\n",
       "       [1, 0, 0],\n",
       "       [0, 0, 1]])"
      ]
     },
     "execution_count": 931,
     "metadata": {},
     "output_type": "execute_result"
    }
   ],
   "source": [
    "y_test"
   ]
  },
  {
   "cell_type": "code",
   "execution_count": 932,
   "id": "covered-bruce",
   "metadata": {},
   "outputs": [
    {
     "data": {
      "text/plain": [
       "array([[0., 0., 1.],\n",
       "       [0., 0., 1.],\n",
       "       [0., 0., 1.],\n",
       "       ...,\n",
       "       [0., 0., 1.],\n",
       "       [0., 0., 1.],\n",
       "       [0., 0., 1.]], dtype=float32)"
      ]
     },
     "execution_count": 932,
     "metadata": {},
     "output_type": "execute_result"
    }
   ],
   "source": [
    "y"
   ]
  },
  {
   "cell_type": "code",
   "execution_count": null,
   "id": "antique-dialogue",
   "metadata": {},
   "outputs": [],
   "source": []
  },
  {
   "cell_type": "code",
   "execution_count": null,
   "id": "sensitive-cisco",
   "metadata": {},
   "outputs": [],
   "source": []
  },
  {
   "cell_type": "code",
   "execution_count": null,
   "id": "convenient-grant",
   "metadata": {},
   "outputs": [],
   "source": []
  },
  {
   "cell_type": "code",
   "execution_count": null,
   "id": "banned-medline",
   "metadata": {},
   "outputs": [],
   "source": []
  }
 ],
 "metadata": {
  "kernelspec": {
   "display_name": "Python 3",
   "language": "python",
   "name": "python3"
  },
  "language_info": {
   "codemirror_mode": {
    "name": "ipython",
    "version": 3
   },
   "file_extension": ".py",
   "mimetype": "text/x-python",
   "name": "python",
   "nbconvert_exporter": "python",
   "pygments_lexer": "ipython3",
   "version": "3.8.8"
  }
 },
 "nbformat": 4,
 "nbformat_minor": 5
}
