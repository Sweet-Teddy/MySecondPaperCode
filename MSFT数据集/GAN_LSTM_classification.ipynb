{
 "cells": [
  {
   "cell_type": "markdown",
   "id": "organized-outdoors",
   "metadata": {},
   "source": [
    "# 单变量测试\n",
    "# 该程序由 4部分组成\n",
    "## 1.数据加载\n",
    "## 2.数据处理\n",
    "## 3.模型编写训练(该部分)\n",
    "## 4.模型预测并可视化"
   ]
  },
  {
   "cell_type": "code",
   "execution_count": 1,
   "id": "crucial-roots",
   "metadata": {},
   "outputs": [
    {
     "name": "stdout",
     "output_type": "stream",
     "text": [
      "F:\\jupyter\\Deep_Learning\\Classification\\GAN\\saveModel\\文件夹已存在，无需创建\n",
      "F:\\jupyter\\Deep_Learning\\Classification\\GAN\\saveData\\文件夹已存在，无需创建\n",
      "F:\\jupyter\\Deep_Learning\\Classification\\GAN\\saveData\\oneInput\\文件夹已存在，无需创建\n",
      "F:\\jupyter\\Deep_Learning\\Classification\\GAN\\saveImage\\文件夹已存在，无需创建\n"
     ]
    }
   ],
   "source": [
    "import os\n",
    "File_Path = []\n",
    "File_Path.append(os.getcwd()[:] +'\\\\saveModel\\\\')      #获取到当前文件的目录，并检查是否有对应文件夹，如果不存在则自动新建文件\n",
    "File_Path.append(os.getcwd()[:] +'\\\\saveData\\\\')\n",
    "File_Path.append(os.getcwd()[:] +'\\\\saveData\\\\oneInput\\\\')\n",
    "File_Path.append(os.getcwd()[:] +'\\\\saveImage\\\\')\n",
    "for str in File_Path:\n",
    "    if not os.path.exists(str):\n",
    "        os.makedirs(str)\n",
    "    else:\n",
    "        print(str + \"文件夹已存在，无需创建\")\n"
   ]
  },
  {
   "cell_type": "markdown",
   "id": "primary-pension",
   "metadata": {},
   "source": [
    "# GAN模型编写并在训练集上进行训练"
   ]
  },
  {
   "cell_type": "code",
   "execution_count": 2,
   "id": "hollow-handy",
   "metadata": {},
   "outputs": [
    {
     "name": "stdout",
     "output_type": "stream",
     "text": [
      "WARNING:tensorflow:From <ipython-input-2-6b9c98fc4b11>:16: experimental_run_functions_eagerly (from tensorflow.python.eager.def_function) is deprecated and will be removed in a future version.\n",
      "Instructions for updating:\n",
      "Use `tf.config.run_functions_eagerly` instead of the experimental version.\n"
     ]
    }
   ],
   "source": [
    "import time\n",
    "import os\n",
    "import pandas as pd\n",
    "import matplotlib.pyplot as plt\n",
    "import tensorflow as tf\n",
    "import numpy as np\n",
    "#from main.feature import get_all_features\n",
    "from tensorflow.keras.layers import GRU, LSTM, Bidirectional, Dense, Flatten, Conv1D, BatchNormalization, LeakyReLU, Dropout\n",
    "from tensorflow.keras import Sequential,Input,Model\n",
    "from pickle import load\n",
    "from tensorflow import keras\n",
    "from sklearn.metrics import mean_squared_error\n",
    "from tensorflow.keras.optimizers import Adam\n",
    "from sklearn import metrics\n",
    "import tensorflow as tf\n",
    "tf.config.experimental_run_functions_eagerly(True)\n",
    "import warnings\n",
    "warnings.filterwarnings('ignore')\n",
    "\n",
    "X_train = np.load(\"./saveData/X_train.npy\", allow_pickle=True)\n",
    "y_train = np.load(\"./saveData/y_train.npy\", allow_pickle=True)\n",
    "X_test = np.load(\"./saveData/X_test.npy\", allow_pickle=True)\n",
    "y_test = np.load(\"./saveData/y_test.npy\", allow_pickle=True)\n",
    "X_val = np.load(\"./saveData/X_val.npy\", allow_pickle=True)\n",
    "y_val = np.load(\"./saveData/y_val.npy\", allow_pickle=True)\n",
    "yc_train = np.load(\"./saveData/yc_train.npy\", allow_pickle=True)\n",
    "yc_test = np.load(\"./saveData/yc_test.npy\", allow_pickle=True)"
   ]
  },
  {
   "cell_type": "code",
   "execution_count": 3,
   "id": "according-satellite",
   "metadata": {},
   "outputs": [
    {
     "data": {
      "text/plain": [
       "(31068, 3, 2)"
      ]
     },
     "execution_count": 3,
     "metadata": {},
     "output_type": "execute_result"
    }
   ],
   "source": [
    "X_train.shape"
   ]
  },
  {
   "cell_type": "code",
   "execution_count": 4,
   "id": "divided-objective",
   "metadata": {},
   "outputs": [
    {
     "data": {
      "text/plain": [
       "(31068, 3)"
      ]
     },
     "execution_count": 4,
     "metadata": {},
     "output_type": "execute_result"
    }
   ],
   "source": [
    "y_train.shape"
   ]
  },
  {
   "cell_type": "code",
   "execution_count": 5,
   "id": "scheduled-perspective",
   "metadata": {},
   "outputs": [
    {
     "data": {
      "text/plain": [
       "(3884, 3, 2)"
      ]
     },
     "execution_count": 5,
     "metadata": {},
     "output_type": "execute_result"
    }
   ],
   "source": [
    "X_test.shape"
   ]
  },
  {
   "cell_type": "code",
   "execution_count": 6,
   "id": "identical-circulation",
   "metadata": {},
   "outputs": [
    {
     "data": {
      "text/plain": [
       "(3884, 3)"
      ]
     },
     "execution_count": 6,
     "metadata": {},
     "output_type": "execute_result"
    }
   ],
   "source": [
    "y_test.shape"
   ]
  },
  {
   "cell_type": "code",
   "execution_count": 7,
   "id": "impressed-policy",
   "metadata": {},
   "outputs": [
    {
     "data": {
      "text/plain": [
       "(31068, 3, 1)"
      ]
     },
     "execution_count": 7,
     "metadata": {},
     "output_type": "execute_result"
    }
   ],
   "source": [
    "yc_train.shape"
   ]
  },
  {
   "cell_type": "code",
   "execution_count": 8,
   "id": "modern-structure",
   "metadata": {},
   "outputs": [
    {
     "data": {
      "text/plain": [
       "array([[[-0.42760943, -0.66237942],\n",
       "        [-0.49494949, -0.67202572],\n",
       "        [-0.50841751, -0.66237942]],\n",
       "\n",
       "       [[-0.49494949, -0.67202572],\n",
       "        [-0.50841751, -0.66237942],\n",
       "        [-0.44107744, -0.66237942]],\n",
       "\n",
       "       [[-0.50841751, -0.66237942],\n",
       "        [-0.44107744, -0.66237942],\n",
       "        [-0.45454545, -0.67524116]],\n",
       "\n",
       "       ...,\n",
       "\n",
       "       [[-0.82491582, -0.89710611],\n",
       "        [-0.81818182, -0.89710611],\n",
       "        [-0.82491582, -0.89067524]],\n",
       "\n",
       "       [[-0.81818182, -0.89710611],\n",
       "        [-0.82491582, -0.89067524],\n",
       "        [-0.82491582, -0.89389068]],\n",
       "\n",
       "       [[-0.82491582, -0.89067524],\n",
       "        [-0.82491582, -0.89389068],\n",
       "        [-0.82491582, -0.88424437]]])"
      ]
     },
     "execution_count": 8,
     "metadata": {},
     "output_type": "execute_result"
    }
   ],
   "source": [
    "X_train"
   ]
  },
  {
   "cell_type": "code",
   "execution_count": 9,
   "id": "substantial-anthony",
   "metadata": {},
   "outputs": [
    {
     "data": {
      "text/plain": [
       "array([[0, 0, 1],\n",
       "       [1, 0, 0],\n",
       "       [1, 0, 0],\n",
       "       ...,\n",
       "       [0, 1, 0],\n",
       "       [0, 1, 0],\n",
       "       [1, 0, 0]])"
      ]
     },
     "execution_count": 9,
     "metadata": {},
     "output_type": "execute_result"
    }
   ],
   "source": [
    "y_train"
   ]
  },
  {
   "cell_type": "code",
   "execution_count": null,
   "id": "peripheral-easter",
   "metadata": {},
   "outputs": [],
   "source": []
  },
  {
   "cell_type": "code",
   "execution_count": 19,
   "id": "enhanced-camcorder",
   "metadata": {},
   "outputs": [],
   "source": [
    "#生成器\n",
    "#def make_generator_model(input_dim, output_dim, feature_size) -> tf.keras.models.Model:\n",
    "n_sequence = X_train.shape[1]\n",
    "n_features = X_train.shape[2]\n",
    "g_output_dim = y_train.shape[1] \n",
    "\n",
    "#Parameters\n",
    "LR = 0.00016\n",
    "BATCH_SIZE = 64\n",
    "N_EPOCH = 20\n",
    "dropout = 0.2\n",
    "\n",
    "\n",
    "\n",
    "METRICS = [\n",
    "      keras.metrics.TruePositives(name='tp'),\n",
    "      keras.metrics.FalsePositives(name='fp'),\n",
    "      keras.metrics.TrueNegatives(name='tn'),\n",
    "      keras.metrics.FalseNegatives(name='fn'), \n",
    "      keras.metrics.BinaryAccuracy(name='accuracy'),\n",
    "      keras.metrics.Precision(name='precision'),\n",
    "      keras.metrics.Recall(name='recall'),\n",
    "      keras.metrics.AUC(name='auc'),\n",
    "      keras.metrics.AUC(name='prc', curve='PR'), # precision-recall curve\n",
    "]\n",
    "def make_generator_model():\n",
    "    print(\"model dim: \", input_dim, output_dim)\n",
    "    model = Sequential()\n",
    "    model.add(LSTM(256, return_sequences=True, input_shape=(n_sequence,n_features), batch_size=None))\n",
    "    model.add(Dropout(dropout))\n",
    "    model.add(LSTM(128, return_sequences=True))\n",
    "    model.add(Dropout(dropout))\n",
    "    model.add(LSTM(64))\n",
    "    model.add(Dropout(dropout))\n",
    "    model.add(Dense(g_output_dim, activation='softmax'))\n",
    "    #model.add(Activation('softmax'))\n",
    "    #model.compile(loss='categorical_crossentropy', optimizer=Adam(lr = LR),metrics=METRICS)\n",
    "\n",
    "#     history = model.fit(X_train, y_train, epochs=N_EPOCH, batch_size=BATCH_SIZE, validation_data=(X_val, y_val),\n",
    "#                         verbose=1, shuffle=False)\n",
    "\n",
    "#     pyplot.plot(history.history['loss'], label='train')\n",
    "#     pyplot.plot(history.history['val_loss'], label='validation')\n",
    "#     pyplot.legend()\n",
    "#     pyplot.show()\n",
    "    return model\n",
    "\n",
    "#     model = Sequential()\n",
    "#     model.add(GRU(units=1024, return_sequences = True, input_shape=(input_dim, feature_size),\n",
    "#                   recurrent_dropout=0.2))\n",
    "#     model.add(GRU(units=512, return_sequences = True, recurrent_dropout=0.2)) # 256, return_sequences = True\n",
    "#     model.add(GRU(units=256, recurrent_dropout=0.2)) #, recurrent_dropout=0.1\n",
    "#     # , recurrent_dropout = 0.2\n",
    "#     model.add(Dense(128))\n",
    "#     # model.add(Dense(128))\n",
    "#     model.add(Dense(64))\n",
    "#     #model.add(Dense(16))\n",
    "#     model.add(Dense(units=output_dim))\n",
    "#     return model\n",
    "\n",
    "\n",
    "#判别器\n",
    "def make_discriminator_model():\n",
    "    model = Sequential()\n",
    "    model.add(Flatten())\n",
    "    model.add(Dense(units=128, input_shape=((n_sequence+1) * n_features,), activation=None, kernel_initializer='random_normal'))\n",
    "    #model.add(tf.keras.layers.LeakyReLU(alpha=0.3))\n",
    "    model.add(tf.keras.layers.GaussianNoise(stddev=0.2))\n",
    "    model.add(Dropout(0.3))\n",
    "    model.add(Dense(units=100, activation=None, kernel_initializer='random_normal'))\n",
    "    #model.add(tf.keras.layers.LeakyReLU(alpha=0.3))\n",
    "    model.add(Dropout(0.3))\n",
    "    model.add(Dense(units=10, activation=None, kernel_initializer='random_normal'))\n",
    "    #model.add(tf.keras.layers.LeakyReLU(alpha=0.3))\n",
    "    model.add(Dropout(0.3))\n",
    "    #model.add(Dense(1 ,activation='softmax'))\n",
    "    model.add(Dense(g_output_dim ,activation='softmax'))\n",
    "    #model.compile(loss='discriminator_loss', optimizer=Adam(lr = LR),metrics=METRICS)\n",
    "    #model.compile(loss=discriminator_loss)\n",
    "    #model.summary()\n",
    "    #history = model.fit(data_gen_train, validation_data=data_gen_test, epochs = 100, \n",
    "    #                   callbacks = tf.keras.callbacks.EarlyStopping(monitor='val_loss', patience=5))\n",
    "    return model"
   ]
  },
  {
   "cell_type": "code",
   "execution_count": 11,
   "id": "circular-question",
   "metadata": {},
   "outputs": [],
   "source": [
    "def result_to_0_1(y):\n",
    "        if(tf.is_tensor(y)):\n",
    "            y = y.numpy()\n",
    "            for i in range(y.shape[0]):\n",
    "                max_index = 0\n",
    "                if(y[i][max_index] < y[i][1]):\n",
    "                    max_index = 1\n",
    "                if(y[i][max_index] < y[i][2]):\n",
    "                    max_index = 2\n",
    "                list_temp = [0,1,2]\n",
    "                list_temp.pop(max_index)\n",
    "                y[i][max_index] = 1\n",
    "                y[i][list_temp[0]] = 0\n",
    "                y[i][list_temp[1]] = 0\n",
    "        else:\n",
    "            for i in range(y.shape[0]):\n",
    "                max_index = 0\n",
    "                if(y[i][max_index] < y[i][1]):\n",
    "                    max_index = 1\n",
    "                if(y[i][max_index] < y[i][2]):\n",
    "                    max_index = 2\n",
    "                list_temp = [0,1,2]\n",
    "                list_temp.pop(max_index)\n",
    "                y[i][max_index] = 1\n",
    "                y[i][list_temp[0]] = 0\n",
    "                y[i][list_temp[1]] = 0\n",
    "        return y\n",
    "    \n",
    "\n",
    "# 将yc转化为float64\n",
    "yc_train = yc_train.astype(np.float32)\n",
    "yc_test = yc_test.astype(np.float32)\n",
    "\n"
   ]
  },
  {
   "cell_type": "code",
   "execution_count": null,
   "id": "permanent-ability",
   "metadata": {},
   "outputs": [],
   "source": []
  },
  {
   "cell_type": "code",
   "execution_count": 12,
   "id": "western-richards",
   "metadata": {},
   "outputs": [
    {
     "data": {
      "text/plain": [
       "8"
      ]
     },
     "execution_count": 12,
     "metadata": {},
     "output_type": "execute_result"
    }
   ],
   "source": [
    "(n_sequence+1) * n_features"
   ]
  },
  {
   "cell_type": "code",
   "execution_count": 13,
   "id": "sticky-listening",
   "metadata": {},
   "outputs": [
    {
     "data": {
      "text/plain": [
       "array([[[0.],\n",
       "        [0.],\n",
       "        [1.]],\n",
       "\n",
       "       [[1.],\n",
       "        [0.],\n",
       "        [0.]],\n",
       "\n",
       "       [[1.],\n",
       "        [0.],\n",
       "        [0.]],\n",
       "\n",
       "       ...,\n",
       "\n",
       "       [[1.],\n",
       "        [0.],\n",
       "        [0.]],\n",
       "\n",
       "       [[0.],\n",
       "        [0.],\n",
       "        [1.]],\n",
       "\n",
       "       [[0.],\n",
       "        [1.],\n",
       "        [0.]]], dtype=float32)"
      ]
     },
     "execution_count": 13,
     "metadata": {},
     "output_type": "execute_result"
    }
   ],
   "source": [
    "yc_test"
   ]
  },
  {
   "cell_type": "code",
   "execution_count": 14,
   "id": "civilian-mission",
   "metadata": {},
   "outputs": [
    {
     "data": {
      "text/plain": [
       "numpy.float32"
      ]
     },
     "execution_count": 14,
     "metadata": {},
     "output_type": "execute_result"
    }
   ],
   "source": [
    "type(yc_train[0][0][0])"
   ]
  },
  {
   "cell_type": "code",
   "execution_count": 15,
   "id": "failing-louis",
   "metadata": {},
   "outputs": [
    {
     "data": {
      "text/plain": [
       "0.0"
      ]
     },
     "execution_count": 15,
     "metadata": {},
     "output_type": "execute_result"
    }
   ],
   "source": [
    "yc_train[0][0][0]"
   ]
  },
  {
   "cell_type": "code",
   "execution_count": 16,
   "id": "human-prevention",
   "metadata": {},
   "outputs": [],
   "source": [
    "class GAN:\n",
    "    #opt为参数，比如学习率等\n",
    "    #generator生成器\n",
    "    #discriminator判别器\n",
    "    def __init__(self, generator, discriminator, opt):\n",
    "        self.opt = opt\n",
    "        self.lr = opt[\"lr\"]\n",
    "        self.generator = generator\n",
    "        self.discriminator = discriminator\n",
    "        #二进制交叉熵\n",
    "        #self.cross_entropy = tf.keras.losses.BinaryCrossentropy(from_logits=True)\n",
    "        #self.cross_entropy = tf.keras.backend.categorical_crossentropy(from_logits=True)\n",
    "        #生成器即模型的训练优化器 adam\n",
    "        self.generator_optimizer = tf.keras.optimizers.Adam(lr=self.lr)\n",
    "        #判别器的优化器\n",
    "        self.discriminator_optimizer = tf.keras.optimizers.Adam(lr=self.lr)\n",
    "        self.batch_size = self.opt['bs']\n",
    "        self.checkpoint_dir = '../training_checkpoints'\n",
    "        self.checkpoint_prefix = os.path.join(self.checkpoint_dir, \"ckpt\")\n",
    "        self.checkpoint = tf.train.Checkpoint(generator_optimizer=self.generator_optimizer,\n",
    "                                              discriminator_optimizer=self.discriminator_optimizer,\n",
    "                                              generator=self.generator,\n",
    "                                              discriminator=self.discriminator)\n",
    "\n",
    "    #判别器损失函数\n",
    "    #多分类器，需要使用softmax_cross_entropy_with_logits,计算logits和lable之间的softmax交叉熵\n",
    "    def discriminator_loss(self, y_true,real_output, fake_output):\n",
    "        #real_loss = self.cross_entropy(tf.ones_like(real_output), real_output)\n",
    "        #fake_loss = self.cross_entropy(tf.zeros_like(fake_output), fake_output)\n",
    "        real_loss = tf.reduce_mean(tf.keras.backend.categorical_crossentropy(y_true, real_output,from_logits=False))\n",
    "        fake_loss = tf.reduce_mean(tf.keras.backend.categorical_crossentropy(tf.zeros_like(fake_output), fake_output,from_logits=False))\n",
    "        total_loss = tf.add(real_loss,fake_loss)\n",
    "        return total_loss\n",
    "    #生成器损失函数\n",
    "    def generator_loss(self,y_true ,fake_output):\n",
    "        #return self.cross_entropy(tf.ones_like(fake_output), fake_output)\n",
    "        return tf.reduce_mean(tf.keras.backend.categorical_crossentropy(y_true, fake_output,from_logits=False))\n",
    "    \n",
    "    # 获取评价指标\n",
    "\n",
    "    # %%----------generator生成器的获取评价指标方法----------\n",
    "    def get_metrics_gen(self, y_true,y_predicted):\n",
    "        # y_true = y_true.numpy()\n",
    "        # y_predicted = y_predicted.numpy()\n",
    "        # print(y_true.shape)\n",
    "        # print(y_predicted.shape)\n",
    "        # print(y_true)\n",
    "        # print(y_predicted)\n",
    "        y_predicted = y_predicted.numpy()\n",
    "        #需要把预测的结果转化，即按概率大小把y_predicted转化成0,1\n",
    "        for i in range(y_predicted.shape[0]):\n",
    "            max_index = 0\n",
    "            if(y_predicted[i][max_index] < y_predicted[i][1]):\n",
    "                max_index = 1\n",
    "            if(y_predicted[i][max_index] < y_predicted[i][2]):\n",
    "                max_index = 2\n",
    "            list_temp = [0,1,2]\n",
    "            list_temp.pop(max_index)\n",
    "            y_predicted[i][max_index] = 1\n",
    "            y_predicted[i][list_temp[0]] = 0\n",
    "            y_predicted[i][list_temp[1]] = 0\n",
    "        #y_true = y_true.numpy()\n",
    "        y_predicted = y_predicted.astype(np.int32)\n",
    "        METRIC={'tp':0,'fp':0,'tn':0,'fn':0,'accuracy':0,'precision':0,'recall':0,'auc':0,'prc':0}\n",
    "        tp = tf.keras.metrics.TruePositives()\n",
    "        tp.update_state(y_true,y_predicted)\n",
    "        METRIC['tp'] = tp.result().numpy()\n",
    "        #print(METRIC['tp'])\n",
    "        \n",
    " \n",
    "        fp = tf.keras.metrics.FalsePositives()\n",
    "        fp.update_state(y_true, y_predicted)\n",
    "        METRIC['fp'] = fp.result().numpy()\n",
    "        \n",
    "\n",
    "        tn = tf.keras.metrics.TrueNegatives()\n",
    "        tn.update_state(y_true,y_predicted)\n",
    "        METRIC['tn'] = tn.result().numpy()\n",
    "        \n",
    "   \n",
    "        fn = tf.keras.metrics.FalseNegatives()\n",
    "        fn.update_state(y_true,y_predicted)\n",
    "        METRIC['fn'] = fn.result().numpy()\n",
    "        \n",
    "  \n",
    "        accuracy = tf.keras.metrics.Accuracy()\n",
    "        accuracy.update_state(y_true,y_predicted)\n",
    "        METRIC['accuracy'] = accuracy.result().numpy()\n",
    "        \n",
    "        precision = tf.keras.metrics.Precision()\n",
    "        precision.update_state(y_true,y_predicted)\n",
    "        METRIC['precision'] = precision.result().numpy()\n",
    "        \n",
    "        recall = tf.keras.metrics.Recall()\n",
    "        recall.update_state(y_true,y_predicted)\n",
    "        METRIC['recall'] = recall.result().numpy()\n",
    "        \n",
    "        auc = tf.keras.metrics.AUC()\n",
    "        auc.update_state(y_true,y_predicted)\n",
    "        METRIC['auc'] = auc.result().numpy()\n",
    "        \n",
    "        prc = tf.keras.metrics.AUC(curve='PR')\n",
    "        prc.update_state(y_true,y_predicted)\n",
    "        METRIC['prc'] = prc.result().numpy()\n",
    "        return METRIC,y_true\n",
    "        \n",
    "    # %%----------discriminator生成器的获取评价指标方法----------\n",
    "    def get_metrics_disc(self, y_true,y_predicted):\n",
    "        # y_true = y_true.numpy()\n",
    "        # y_predicted = y_predicted.numpy()\n",
    "        # print(y_true.shape)\n",
    "        # print(y_predicted.shape)\n",
    "        # print(y_true)\n",
    "        # print(y_predicted)\n",
    "        if(tf.is_tensor(y_predicted)):\n",
    "            y_predicted = y_predicted.numpy()\n",
    "        #y_true = y_true.numpy()\n",
    "        #y_predicted = y_predicted.astype(np.int32)\n",
    "                #需要把预测的结果转化，即按概率大小把y_predicted转化成0,1\n",
    "        for i in range(y_predicted.shape[0]):\n",
    "            max_index = 0\n",
    "            if(y_predicted[i][max_index] < y_predicted[i][1]):\n",
    "                max_index = 1\n",
    "            if(y_predicted[i][max_index] < y_predicted[i][2]):\n",
    "                max_index = 2\n",
    "            list_temp = [0,1,2]\n",
    "            list_temp.pop(max_index)\n",
    "            y_predicted[i][max_index] = 1\n",
    "            y_predicted[i][list_temp[0]] = 0\n",
    "            y_predicted[i][list_temp[1]] = 0\n",
    "        if(tf.is_tensor(y_true)):    \n",
    "            y_true = y_true.numpy()\n",
    "        #y_true = y_true.numpy()\n",
    "        #y_true = y_true.astype(np.int32)\n",
    "                #需要把预测的结果转化，即按概率大小把y_predicted转化成0,1\n",
    "        for i in range(y_true.shape[0]):\n",
    "            max_index = 0\n",
    "            if(y_true[i][max_index] < y_true[i][1]):\n",
    "                max_index = 1\n",
    "            if(y_true[i][max_index] < y_true[i][2]):\n",
    "                max_index = 2\n",
    "            list_temp = [0,1,2]\n",
    "            list_temp.pop(max_index)\n",
    "            y_true[i][max_index] = 1\n",
    "            y_true[i][list_temp[0]] = 0\n",
    "            y_true[i][list_temp[1]] = 0\n",
    "            \n",
    "        METRIC={'tp':0,'fp':0,'tn':0,'fn':0,'accuracy':0,'precision':0,'recall':0,'auc':0,'prc':0}\n",
    "        tp = tf.keras.metrics.TruePositives()\n",
    "        tp.update_state(y_true,y_predicted)\n",
    "        METRIC['tp'] = tp.result().numpy()\n",
    "        #print(METRIC['tp'])\n",
    "        \n",
    " \n",
    "        fp = tf.keras.metrics.FalsePositives()\n",
    "        fp.update_state(y_true, y_predicted)\n",
    "        METRIC['fp'] = fp.result().numpy()\n",
    "        \n",
    "\n",
    "        tn = tf.keras.metrics.TrueNegatives()\n",
    "        tn.update_state(y_true,y_predicted)\n",
    "        METRIC['tn'] = tn.result().numpy()\n",
    "        \n",
    "   \n",
    "        fn = tf.keras.metrics.FalseNegatives()\n",
    "        fn.update_state(y_true,y_predicted)\n",
    "        METRIC['fn'] = fn.result().numpy()\n",
    "        \n",
    "  \n",
    "        accuracy = tf.keras.metrics.Accuracy()\n",
    "        accuracy.update_state(y_true,y_predicted)\n",
    "        METRIC['accuracy'] = accuracy.result().numpy()\n",
    "        \n",
    "        precision = tf.keras.metrics.Precision()\n",
    "        precision.update_state(y_true,y_predicted)\n",
    "        METRIC['precision'] = precision.result().numpy()\n",
    "        \n",
    "        recall = tf.keras.metrics.Recall()\n",
    "        recall.update_state(y_true,y_predicted)\n",
    "        METRIC['recall'] = recall.result().numpy()\n",
    "        \n",
    "        auc = tf.keras.metrics.AUC()\n",
    "        auc.update_state(y_true,y_predicted)\n",
    "        METRIC['auc'] = auc.result().numpy()\n",
    "        \n",
    "        prc = tf.keras.metrics.AUC(curve='PR')\n",
    "        prc.update_state(y_true,y_predicted)\n",
    "        METRIC['prc'] = prc.result().numpy()\n",
    "        return METRIC\n",
    "        \n",
    "    \n",
    "    \n",
    "    @tf.function\n",
    "    def train_step(self, real_x, real_y, yc):\n",
    "        with tf.GradientTape() as gen_tape, tf.GradientTape() as disc_tape:\n",
    "            #缺少一个打乱数据real_x的操作，即同时打乱real_x,real_y,yc\n",
    "            \n",
    "            generated_data = self.generator(real_x, training=True)\n",
    "            generated_data_reshape = tf.reshape(generated_data, [generated_data.shape[0], generated_data.shape[1], 1])\n",
    "            d_fake_input = tf.concat([tf.cast(generated_data_reshape, tf.float32), yc], axis=1)\n",
    "            real_y_reshape = tf.reshape(real_y, [real_y.shape[0], real_y.shape[1], 1])\n",
    "            d_real_input = tf.concat([tf.cast(real_y_reshape, tf.float32), yc], axis=1)\n",
    "\n",
    "            # Reshape for MLP\n",
    "            # d_fake_input = tf.reshape(d_fake_input, [d_fake_input.shape[0], d_fake_input.shape[1]])\n",
    "            # d_real_input = tf.reshape(d_real_input, [d_real_input.shape[0], d_real_input.shape[1]])\n",
    "\n",
    "            real_output = self.discriminator(d_real_input, training=True)\n",
    "            fake_output = self.discriminator(d_fake_input, training=True)\n",
    "            \n",
    "            # #将结果转化成0,1\n",
    "            # real_output = result_to_0_1(real_output)\n",
    "            # fake_output = result_to_0_1(fake_output)\n",
    "            \n",
    "            #gen_loss = self.generator_loss(fake_output)\n",
    "            gen_loss = self.generator_loss(real_y.astype(np.float32), fake_output)\n",
    "            disc_loss = self.discriminator_loss(real_y.astype(np.float32), real_output, fake_output)\n",
    "            \n",
    "           \n",
    "           # gen_metric,y_true_gen = self.get_metrics_gen(real_y,generated_data)\n",
    "            gen_metric,y_true_gen = self.get_metrics_gen(real_y,fake_output)\n",
    "            disc_metric1 = self.get_metrics_disc(real_y,real_output)\n",
    "            disc_metric2 = self.get_metrics_disc(tf.zeros_like(fake_output),fake_output)\n",
    "            disc_metric = {}\n",
    "            \n",
    "            for key,value in disc_metric2.items():\n",
    "                disc_metric[key] = (disc_metric1[key]+disc_metric2[key])/2\n",
    "            #disc_metric2 = self.get_metrics_disc(,fake_output)\n",
    "            #disc_metric = self.get_metrics_disc(y_true_gen,fake_output)\n",
    "            print(\"1\")\n",
    "            \n",
    "        gradients_of_generator = gen_tape.gradient(gen_loss, self.generator.trainable_variables)\n",
    "        gradients_of_discriminator = disc_tape.gradient(disc_loss, self.discriminator.trainable_variables)\n",
    "\n",
    "        self.generator_optimizer.apply_gradients(zip(gradients_of_generator, self.generator.trainable_variables))\n",
    "        self.discriminator_optimizer.apply_gradients(\n",
    "            zip(gradients_of_discriminator, self.discriminator.trainable_variables))\n",
    "        return real_y, generated_data, {'d_loss': disc_loss, 'g_loss': gen_loss},gen_metric, disc_metric\n",
    "    \n",
    "\n",
    "\n",
    "    def train(self, real_x, real_y, yc, opt):\n",
    "        train_hist = {}\n",
    "        train_hist['D_losses'] = []\n",
    "        train_hist['G_losses'] = []\n",
    "        train_hist['per_epoch_times'] = []\n",
    "        train_hist['total_ptime'] = []\n",
    "        train_hist['D_tp'] = []\n",
    "        train_hist['G_tp'] = []\n",
    "        train_hist['D_fp'] = []\n",
    "        train_hist['G_fp'] = []\n",
    "        \n",
    "        train_hist['D_tn'] = []\n",
    "        train_hist['G_tn'] = []\n",
    "        \n",
    "        train_hist['D_fn'] = []\n",
    "        train_hist['G_fn'] = []\n",
    "        \n",
    "        train_hist['D_accuracy'] = []\n",
    "        train_hist['G_accuracy'] = []\n",
    "        \n",
    "        train_hist['D_precision'] = []\n",
    "        train_hist['G_precision'] = []\n",
    "        train_hist['D_recall'] = []\n",
    "        train_hist['G_recall'] = []\n",
    "        train_hist['D_auc'] = []\n",
    "        train_hist['G_auc'] = []\n",
    "        train_hist['D_prc'] = []\n",
    "        train_hist['G_prc'] = []\n",
    "        \n",
    "        \n",
    "        #加入分类任务指标\n",
    "        #1.tp\n",
    "        #2.fp\n",
    "        #3.tn \n",
    "        #4.fn  \n",
    "        #5.accuracy  \n",
    "        #6.precision  \n",
    "        #7.recall  \n",
    "        #8.auc \n",
    "        #9.prc\n",
    "        \n",
    "        \n",
    "        epochs = opt[\"epoch\"]\n",
    "        for epoch in range(epochs):\n",
    "            start = time.time()\n",
    "\n",
    "            real_price, fake_price, loss, gen_metric, disc_metric = self.train_step(real_x, real_y, yc)\n",
    "\n",
    "            G_losses = []\n",
    "            D_losses = []\n",
    "\n",
    "            Real_price = []\n",
    "            Predicted_price = []\n",
    "            \n",
    "            D_losses.append(loss['d_loss'].numpy())\n",
    "            G_losses.append(loss['g_loss'].numpy())\n",
    "\n",
    "            Predicted_price.append(fake_price.numpy())\n",
    "            #Real_price.append(real_price.numpy())\n",
    "            Real_price.append(real_price)\n",
    "            # Save the model every 15 epochs\n",
    "            if (epoch + 1) % 15 == 0:\n",
    "                tf.keras.models.save_model(generator, './saveModel/gen_model_3_1_%d.h5' % epoch)\n",
    "                self.checkpoint.save(file_prefix=self.checkpoint_prefix + f'-{epoch}')\n",
    "                #print('epoch', epoch + 1, 'd_loss:', loss['d_loss'].numpy(), 'g_loss', loss['g_loss'].numpy())\n",
    "            print('epoch:', epoch + 1, '-d_loss:', loss['d_loss'].numpy(), '-d_tp:',disc_metric['tp'], '-d_fp:',disc_metric['fp'],\n",
    "                  '-d_tn:',disc_metric['tn'] ,'-d_fn:',disc_metric['fn'],'-d_accuracy:',disc_metric['accuracy'],'-d_precision:',disc_metric['precision'],\n",
    "                  '-d_recall:',disc_metric['recall'],'-d_auc:',disc_metric['auc'], '-d_prc:',disc_metric['prc'],\n",
    "                  '-g_loss:', loss['g_loss'].numpy(), '-g_tp:',gen_metric['tp'], '-g_fp:',gen_metric['fp'],\n",
    "                  '-g_tn:',gen_metric['tn'] ,'-g_fn:',gen_metric['fn'],'-g_accuracy:',gen_metric['accuracy'],'-g_precision:',gen_metric['precision'],\n",
    "                  '-g_recall:',gen_metric['recall'],'-g_auc:',gen_metric['auc'], '-g_prc:',gen_metric['prc'])\n",
    "            # print('Time for epoch {} is {} sec'.format(epoch + 1, time.time() - start))\n",
    "            # For printing loss\n",
    "            epoch_end_time = time.time()\n",
    "            per_epoch_ptime = epoch_end_time - start\n",
    "            train_hist['D_losses'].append(D_losses)\n",
    "            train_hist['G_losses'].append(G_losses)\n",
    "            train_hist['per_epoch_times'].append(per_epoch_ptime)\n",
    "            \n",
    "            train_hist['D_tp'].append(disc_metric['tp'])\n",
    "            train_hist['G_tp'].append(gen_metric['tp'])\n",
    "            train_hist['D_fp'].append(disc_metric['fp'])\n",
    "            train_hist['G_fp'].append(gen_metric['fp'])\n",
    "\n",
    "            train_hist['D_tn'].append(disc_metric['tn'])\n",
    "            train_hist['G_tn'].append(gen_metric['tn'])\n",
    "\n",
    "            train_hist['D_fn'].append(disc_metric['fn'])\n",
    "            train_hist['G_fn'].append(gen_metric['fn'])\n",
    "\n",
    "            train_hist['D_accuracy'].append(disc_metric['accuracy'])\n",
    "            train_hist['G_accuracy'].append(gen_metric['accuracy'])\n",
    "\n",
    "            train_hist['D_precision'].append(disc_metric['precision'])\n",
    "            train_hist['G_precision'].append(gen_metric['precision'])\n",
    "            train_hist['D_recall'].append(disc_metric['recall'])\n",
    "            train_hist['G_recall'].append(gen_metric['recall'])\n",
    "            train_hist['D_auc'].append(disc_metric['auc'])\n",
    "            train_hist['G_auc'].append(gen_metric['auc'])\n",
    "            train_hist['D_prc'].append(disc_metric['prc'])\n",
    "            train_hist['G_prc'].append(gen_metric['prc'])\n",
    "\n",
    "        # Reshape the predicted result & real\n",
    "        Predicted_price = np.array(Predicted_price)\n",
    "        Predicted_price = Predicted_price.reshape(Predicted_price.shape[1], Predicted_price.shape[2])\n",
    "        Real_price = np.array(Real_price)\n",
    "        Real_price = Real_price.reshape(Real_price.shape[1], Real_price.shape[2])\n",
    "        \n",
    "        plt.figure()\n",
    "        plt.plot(train_hist['D_losses'], label='D_loss')\n",
    "        plt.plot(train_hist['G_losses'], label='G_loss')\n",
    "        plt.xlabel('Epoch')\n",
    "        plt.ylabel('Loss')\n",
    "        plt.legend()\n",
    "        plt.savefig('./saveImage/train_G_D_loss.png',dpi=300)\n",
    "        #plt.show()\n",
    "\n",
    "        return Predicted_price, Real_price, np.sqrt(mean_squared_error(Real_price, Predicted_price)) / np.mean(\n",
    "            Real_price),train_hist"
   ]
  },
  {
   "cell_type": "code",
   "execution_count": 17,
   "id": "another-dynamics",
   "metadata": {},
   "outputs": [],
   "source": [
    "class GAN1:\n",
    "    #opt为参数，比如学习率等\n",
    "    #generator生成器\n",
    "    #discriminator判别器\n",
    "    def __init__(self, generator, discriminator, opt):\n",
    "        self.opt = opt\n",
    "        self.lr = opt[\"lr\"]\n",
    "        self.generator = generator\n",
    "        self.discriminator = discriminator\n",
    "        #二进制交叉熵\n",
    "        self.cross_entropy = tf.keras.losses.BinaryCrossentropy(from_logits=True)\n",
    "        #生成器即模型的训练优化器 adam\n",
    "        self.generator_optimizer = tf.keras.optimizers.Adam(lr=self.lr)\n",
    "        #判别器的优化器\n",
    "        self.discriminator_optimizer = tf.keras.optimizers.Adam(lr=self.lr)\n",
    "        self.batch_size = self.opt['bs']\n",
    "        self.checkpoint_dir = '../training_checkpoints'\n",
    "        self.checkpoint_prefix = os.path.join(self.checkpoint_dir, \"ckpt\")\n",
    "        self.checkpoint = tf.train.Checkpoint(generator_optimizer=self.generator_optimizer,\n",
    "                                              discriminator_optimizer=self.discriminator_optimizer,\n",
    "                                              generator=self.generator,\n",
    "                                              discriminator=self.discriminator)\n",
    "\n",
    "    #判别器损失函数\n",
    "    #多分类器，需要使用\n",
    "    def discriminator_loss(self, real_output, fake_output):\n",
    "        real_loss = self.cross_entropy(tf.ones_like(real_output), real_output)\n",
    "        fake_loss = self.cross_entropy(tf.zeros_like(fake_output), fake_output)\n",
    "        total_loss = real_loss + fake_loss\n",
    "        return total_loss\n",
    "    #生成器损失函数\n",
    "    def generator_loss(self, fake_output):\n",
    "        return self.cross_entropy(tf.ones_like(fake_output), fake_output)\n",
    "    \n",
    "    # 获取评价指标\n",
    "\n",
    "    # %%----------generator生成器的获取评价指标方法----------\n",
    "    def get_metrics_gen(self, y_true,y_predicted):\n",
    "        # y_true = y_true.numpy()\n",
    "        # y_predicted = y_predicted.numpy()\n",
    "        # print(y_true.shape)\n",
    "        # print(y_predicted.shape)\n",
    "        # print(y_true)\n",
    "        # print(y_predicted)\n",
    "        y_predicted = y_predicted.numpy()\n",
    "        #需要把预测的结果转化，即按概率大小把y_predicted转化成0,1\n",
    "        for i in range(y_predicted.shape[0]):\n",
    "            max_index = 0\n",
    "            if(y_predicted[i][max_index] < y_predicted[i][1]):\n",
    "                max_index = 1\n",
    "            if(y_predicted[i][max_index] < y_predicted[i][2]):\n",
    "                max_index = 2\n",
    "            list_temp = [0,1,2]\n",
    "            list_temp.pop(max_index)\n",
    "            y_predicted[i][max_index] = 1\n",
    "            y_predicted[i][list_temp[0]] = 0\n",
    "            y_predicted[i][list_temp[1]] = 0\n",
    "        #y_true = y_true.numpy()\n",
    "        y_predicted = y_predicted.astype(np.int32)\n",
    "        METRIC={'tp':0,'fp':0,'tn':0,'fn':0,'accuracy':0,'precision':0,'recall':0,'auc':0,'prc':0}\n",
    "        tp = tf.keras.metrics.TruePositives()\n",
    "        tp.update_state(y_true,y_predicted)\n",
    "        METRIC['tp'] = tp.result().numpy()\n",
    "        #print(METRIC['tp'])\n",
    "        \n",
    " \n",
    "        fp = tf.keras.metrics.FalsePositives()\n",
    "        fp.update_state(y_true, y_predicted)\n",
    "        METRIC['fp'] = fp.result().numpy()\n",
    "        \n",
    "\n",
    "        tn = tf.keras.metrics.TrueNegatives()\n",
    "        tn.update_state(y_true,y_predicted)\n",
    "        METRIC['tn'] = tn.result().numpy()\n",
    "        \n",
    "   \n",
    "        fn = tf.keras.metrics.FalseNegatives()\n",
    "        fn.update_state(y_true,y_predicted)\n",
    "        METRIC['fn'] = fn.result().numpy()\n",
    "        \n",
    "  \n",
    "        accuracy = tf.keras.metrics.Accuracy()\n",
    "        accuracy.update_state(y_true,y_predicted)\n",
    "        METRIC['accuracy'] = accuracy.result().numpy()\n",
    "        \n",
    "        precision = tf.keras.metrics.Precision()\n",
    "        precision.update_state(y_true,y_predicted)\n",
    "        METRIC['precision'] = precision.result().numpy()\n",
    "        \n",
    "        recall = tf.keras.metrics.Recall()\n",
    "        recall.update_state(y_true,y_predicted)\n",
    "        METRIC['recall'] = recall.result().numpy()\n",
    "        \n",
    "        auc = tf.keras.metrics.AUC()\n",
    "        auc.update_state(y_true,y_predicted)\n",
    "        METRIC['auc'] = auc.result().numpy()\n",
    "        \n",
    "        prc = tf.keras.metrics.AUC(curve='PR')\n",
    "        prc.update_state(y_true,y_predicted)\n",
    "        METRIC['prc'] = prc.result().numpy()\n",
    "        return METRIC,y_true\n",
    "        \n",
    "    # %%----------discriminator生成器的获取评价指标方法----------\n",
    "    def get_metrics_disc(self, y_true,y_predicted):\n",
    "        # y_true = y_true.numpy()\n",
    "        # y_predicted = y_predicted.numpy()\n",
    "        # print(y_true.shape)\n",
    "        # print(y_predicted.shape)\n",
    "        # print(y_true)\n",
    "        # print(y_predicted)\n",
    "        if(tf.is_tensor(y_predicted)):\n",
    "            y_predicted = y_predicted.numpy()\n",
    "        #y_true = y_true.numpy()\n",
    "        #y_predicted = y_predicted.astype(np.int32)\n",
    "                #需要把预测的结果转化，即按概率大小把y_predicted转化成0,1\n",
    "        for i in range(y_predicted.shape[0]):\n",
    "            max_index = 0\n",
    "            if(y_predicted[i][max_index] < y_predicted[i][1]):\n",
    "                max_index = 1\n",
    "            if(y_predicted[i][max_index] < y_predicted[i][2]):\n",
    "                max_index = 2\n",
    "            list_temp = [0,1,2]\n",
    "            list_temp.pop(max_index)\n",
    "            y_predicted[i][max_index] = 1\n",
    "            y_predicted[i][list_temp[0]] = 0\n",
    "            y_predicted[i][list_temp[1]] = 0\n",
    "        if(tf.is_tensor(y_true)):    \n",
    "            y_true = y_true.numpy()\n",
    "        #y_true = y_true.numpy()\n",
    "        #y_true = y_true.astype(np.int32)\n",
    "                #需要把预测的结果转化，即按概率大小把y_predicted转化成0,1\n",
    "        for i in range(y_true.shape[0]):\n",
    "            max_index = 0\n",
    "            if(y_true[i][max_index] < y_true[i][1]):\n",
    "                max_index = 1\n",
    "            if(y_true[i][max_index] < y_true[i][2]):\n",
    "                max_index = 2\n",
    "            list_temp = [0,1,2]\n",
    "            list_temp.pop(max_index)\n",
    "            y_true[i][max_index] = 1\n",
    "            y_true[i][list_temp[0]] = 0\n",
    "            y_true[i][list_temp[1]] = 0\n",
    "            \n",
    "        METRIC={'tp':0,'fp':0,'tn':0,'fn':0,'accuracy':0,'precision':0,'recall':0,'auc':0,'prc':0}\n",
    "        tp = tf.keras.metrics.TruePositives()\n",
    "        tp.update_state(y_true,y_predicted)\n",
    "        METRIC['tp'] = tp.result().numpy()\n",
    "        #print(METRIC['tp'])\n",
    "        \n",
    " \n",
    "        fp = tf.keras.metrics.FalsePositives()\n",
    "        fp.update_state(y_true, y_predicted)\n",
    "        METRIC['fp'] = fp.result().numpy()\n",
    "        \n",
    "\n",
    "        tn = tf.keras.metrics.TrueNegatives()\n",
    "        tn.update_state(y_true,y_predicted)\n",
    "        METRIC['tn'] = tn.result().numpy()\n",
    "        \n",
    "   \n",
    "        fn = tf.keras.metrics.FalseNegatives()\n",
    "        fn.update_state(y_true,y_predicted)\n",
    "        METRIC['fn'] = fn.result().numpy()\n",
    "        \n",
    "  \n",
    "        accuracy = tf.keras.metrics.Accuracy()\n",
    "        accuracy.update_state(y_true,y_predicted)\n",
    "        METRIC['accuracy'] = accuracy.result().numpy()\n",
    "        \n",
    "        precision = tf.keras.metrics.Precision()\n",
    "        precision.update_state(y_true,y_predicted)\n",
    "        METRIC['precision'] = precision.result().numpy()\n",
    "        \n",
    "        recall = tf.keras.metrics.Recall()\n",
    "        recall.update_state(y_true,y_predicted)\n",
    "        METRIC['recall'] = recall.result().numpy()\n",
    "        \n",
    "        auc = tf.keras.metrics.AUC()\n",
    "        auc.update_state(y_true,y_predicted)\n",
    "        METRIC['auc'] = auc.result().numpy()\n",
    "        \n",
    "        prc = tf.keras.metrics.AUC(curve='PR')\n",
    "        prc.update_state(y_true,y_predicted)\n",
    "        METRIC['prc'] = prc.result().numpy()\n",
    "        return METRIC\n",
    "        \n",
    "    \n",
    "    \n",
    "    @tf.function\n",
    "    def train_step(self, real_x, real_y, yc):\n",
    "        with tf.GradientTape() as gen_tape, tf.GradientTape() as disc_tape:\n",
    "            generated_data = self.generator(real_x, training=True)\n",
    "            generated_data_reshape = tf.reshape(generated_data, [generated_data.shape[0], generated_data.shape[1], 1])\n",
    "            d_fake_input = tf.concat([tf.cast(generated_data_reshape, tf.float32), yc], axis=1)\n",
    "            real_y_reshape = tf.reshape(real_y, [real_y.shape[0], real_y.shape[1], 1])\n",
    "            d_real_input = tf.concat([tf.cast(real_y_reshape, tf.float32), yc], axis=1)\n",
    "\n",
    "            # Reshape for MLP\n",
    "            # d_fake_input = tf.reshape(d_fake_input, [d_fake_input.shape[0], d_fake_input.shape[1]])\n",
    "            # d_real_input = tf.reshape(d_real_input, [d_real_input.shape[0], d_real_input.shape[1]])\n",
    "\n",
    "            real_output = self.discriminator(d_real_input, training=True)\n",
    "            fake_output = self.discriminator(d_fake_input, training=True)\n",
    "            \n",
    "            # #将结果转化成0,1\n",
    "            # real_output = result_to_0_1(real_output)\n",
    "            # fake_output = result_to_0_1(fake_output)\n",
    "            \n",
    "            gen_loss = self.generator_loss(fake_output)\n",
    "            disc_loss = self.discriminator_loss(real_output, fake_output)\n",
    "            \n",
    "           # gen_metric,y_true_gen = self.get_metrics_gen(real_y,generated_data)\n",
    "            gen_metric,y_true_gen = self.get_metrics_gen(real_y,generated_data)\n",
    "            disc_metric = self.get_metrics_disc(real_output,fake_output)\n",
    "            #disc_metric = self.get_metrics_disc(y_true_gen,fake_output)\n",
    "            print(\"1\")\n",
    "            \n",
    "        gradients_of_generator = gen_tape.gradient(gen_loss, self.generator.trainable_variables)\n",
    "        gradients_of_discriminator = disc_tape.gradient(disc_loss, self.discriminator.trainable_variables)\n",
    "\n",
    "        self.generator_optimizer.apply_gradients(zip(gradients_of_generator, self.generator.trainable_variables))\n",
    "        self.discriminator_optimizer.apply_gradients(\n",
    "            zip(gradients_of_discriminator, self.discriminator.trainable_variables))\n",
    "        return real_y, generated_data, {'d_loss': disc_loss, 'g_loss': gen_loss},gen_metric, disc_metric\n",
    "    \n",
    "\n",
    "\n",
    "    def train(self, real_x, real_y, yc, opt):\n",
    "        train_hist = {}\n",
    "        train_hist['D_losses'] = []\n",
    "        train_hist['G_losses'] = []\n",
    "        train_hist['per_epoch_times'] = []\n",
    "        train_hist['total_ptime'] = []\n",
    "        train_hist['D_tp'] = []\n",
    "        train_hist['G_tp'] = []\n",
    "        train_hist['D_fp'] = []\n",
    "        train_hist['G_fp'] = []\n",
    "        \n",
    "        train_hist['D_tn'] = []\n",
    "        train_hist['G_tn'] = []\n",
    "        \n",
    "        train_hist['D_fn'] = []\n",
    "        train_hist['G_fn'] = []\n",
    "        \n",
    "        train_hist['D_accuracy'] = []\n",
    "        train_hist['G_accuracy'] = []\n",
    "        \n",
    "        train_hist['D_precision'] = []\n",
    "        train_hist['G_precision'] = []\n",
    "        train_hist['D_recall'] = []\n",
    "        train_hist['G_recall'] = []\n",
    "        train_hist['D_auc'] = []\n",
    "        train_hist['G_auc'] = []\n",
    "        train_hist['D_prc'] = []\n",
    "        train_hist['G_prc'] = []\n",
    "        \n",
    "        \n",
    "        #加入分类任务指标\n",
    "        #1.tp\n",
    "        #2.fp\n",
    "        #3.tn \n",
    "        #4.fn  \n",
    "        #5.accuracy  \n",
    "        #6.precision  \n",
    "        #7.recall  \n",
    "        #8.auc \n",
    "        #9.prc\n",
    "        \n",
    "        \n",
    "        epochs = opt[\"epoch\"]\n",
    "        for epoch in range(epochs):\n",
    "            start = time.time()\n",
    "\n",
    "            real_price, fake_price, loss, gen_metric, disc_metric = self.train_step(real_x, real_y, yc)\n",
    "\n",
    "            G_losses = []\n",
    "            D_losses = []\n",
    "\n",
    "            Real_price = []\n",
    "            Predicted_price = []\n",
    "            \n",
    "            D_losses.append(loss['d_loss'].numpy())\n",
    "            G_losses.append(loss['g_loss'].numpy())\n",
    "\n",
    "            Predicted_price.append(fake_price.numpy())\n",
    "            #Real_price.append(real_price.numpy())\n",
    "            Real_price.append(real_price)\n",
    "            # Save the model every 15 epochs\n",
    "            if (epoch + 1) % 15 == 0:\n",
    "                tf.keras.models.save_model(generator, './saveModel/gen_model_3_1_%d.h5' % epoch)\n",
    "                self.checkpoint.save(file_prefix=self.checkpoint_prefix + f'-{epoch}')\n",
    "                #print('epoch', epoch + 1, 'd_loss:', loss['d_loss'].numpy(), 'g_loss', loss['g_loss'].numpy())\n",
    "            print('epoch:', epoch + 1, '-d_loss:', loss['d_loss'].numpy(), '-d_tp:',disc_metric['tp'], '-d_fp:',disc_metric['fp'],\n",
    "                  '-d_tn:',disc_metric['tn'] ,'-d_fn:',disc_metric['fn'],'-d_accuracy:',disc_metric['accuracy'],'-d_precision:',disc_metric['precision'],\n",
    "                  '-d_recall:',disc_metric['recall'],'-d_auc:',disc_metric['auc'], '-d_prc:',disc_metric['prc'],\n",
    "                  '-g_loss:', loss['g_loss'].numpy(), '-g_tp:',gen_metric['tp'], '-g_fp:',gen_metric['fp'],\n",
    "                  '-g_tn:',gen_metric['tn'] ,'-g_fn:',gen_metric['fn'],'-g_accuracy:',gen_metric['accuracy'],'-g_precision:',gen_metric['precision'],\n",
    "                  '-g_recall:',gen_metric['recall'],'-g_auc:',gen_metric['auc'], '-g_prc:',gen_metric['prc'])\n",
    "            # print('Time for epoch {} is {} sec'.format(epoch + 1, time.time() - start))\n",
    "            # For printing loss\n",
    "            epoch_end_time = time.time()\n",
    "            per_epoch_ptime = epoch_end_time - start\n",
    "            train_hist['D_losses'].append(D_losses)\n",
    "            train_hist['G_losses'].append(G_losses)\n",
    "            train_hist['per_epoch_times'].append(per_epoch_ptime)\n",
    "            \n",
    "            train_hist['D_tp'].append(disc_metric['tp'])\n",
    "            train_hist['G_tp'].append(gen_metric['tp'])\n",
    "            train_hist['D_fp'].append(disc_metric['fp'])\n",
    "            train_hist['G_fp'].append(gen_metric['fp'])\n",
    "\n",
    "            train_hist['D_tn'].append(disc_metric['tn'])\n",
    "            train_hist['G_tn'].append(gen_metric['tn'])\n",
    "\n",
    "            train_hist['D_fn'].append(disc_metric['fn'])\n",
    "            train_hist['G_fn'].append(gen_metric['fn'])\n",
    "\n",
    "            train_hist['D_accuracy'].append(disc_metric['accuracy'])\n",
    "            train_hist['G_accuracy'].append(gen_metric['accuracy'])\n",
    "\n",
    "            train_hist['D_precision'].append(disc_metric['precision'])\n",
    "            train_hist['G_precision'].append(gen_metric['precision'])\n",
    "            train_hist['D_recall'].append(disc_metric['recall'])\n",
    "            train_hist['G_recall'].append(gen_metric['recall'])\n",
    "            train_hist['D_auc'].append(disc_metric['auc'])\n",
    "            train_hist['G_auc'].append(gen_metric['auc'])\n",
    "            train_hist['D_prc'].append(disc_metric['prc'])\n",
    "            train_hist['G_prc'].append(gen_metric['prc'])\n",
    "\n",
    "        # Reshape the predicted result & real\n",
    "        Predicted_price = np.array(Predicted_price)\n",
    "        Predicted_price = Predicted_price.reshape(Predicted_price.shape[1], Predicted_price.shape[2])\n",
    "        Real_price = np.array(Real_price)\n",
    "        Real_price = Real_price.reshape(Real_price.shape[1], Real_price.shape[2])\n",
    "        \n",
    "        plt.figure()\n",
    "        plt.plot(train_hist['D_losses'], label='D_loss')\n",
    "        #plt.plot(train_hist['G_losses'], label='G_loss')\n",
    "        plt.xlabel('Epoch')\n",
    "        plt.ylabel('Loss')\n",
    "        plt.legend()\n",
    "        plt.savefig('./saveImage/train_D_loss.png',dpi=300)\n",
    "        #plt.show()\n",
    "        plt.figure()\n",
    "        plt.plot(train_hist['G_losses'], label='G_loss')\n",
    "        #plt.plot(train_hist['G_losses'], label='G_loss')\n",
    "        plt.xlabel('Epoch')\n",
    "        plt.ylabel('Loss')\n",
    "        plt.legend()\n",
    "        plt.savefig('./saveImage/train_G_loss.png',dpi=300)\n",
    "        #plt.show()\n",
    "        plt.figure()\n",
    "        plt.plot(train_hist['D_losses'], label='D_loss')\n",
    "        plt.plot(train_hist['G_losses'], label='G_loss')\n",
    "        plt.xlabel('Epoch')\n",
    "        plt.ylabel('Loss')\n",
    "        plt.legend()\n",
    "        plt.savefig('./saveImage/train_G_D_loss.png',dpi=300)\n",
    "        #plt.show()\n",
    "\n",
    "        return Predicted_price, Real_price, np.sqrt(mean_squared_error(Real_price, Predicted_price)) / np.mean(\n",
    "            Real_price),train_hist"
   ]
  },
  {
   "cell_type": "code",
   "execution_count": 41,
   "id": "sorted-purse",
   "metadata": {
    "scrolled": true
   },
   "outputs": [
    {
     "name": "stdout",
     "output_type": "stream",
     "text": [
      "model dim:  3 3\n",
      "1\n",
      "epoch: 1 -d_loss: 1.0992196 -d_tp: 11603.0 -d_fp: 19465.0 -d_tn: 42671.0 -d_fn: 19465.0 -d_accuracy: 0.5823140144348145 -d_precision: 0.37347108125686646 -d_recall: 0.37347108125686646 -d_auc: 0.530103325843811 -d_prc: 0.35666343569755554 -g_loss: 1.1050018 -g_tp: 10546.0 -g_fp: 20522.0 -g_tn: 41614.0 -g_fn: 20522.0 -g_accuracy: 0.55963266 -g_precision: 0.33944896 -g_recall: 0.33944896 -g_auc: 0.5045867 -g_prc: 0.336718\n",
      "1\n",
      "epoch: 2 -d_loss: 1.0957509 -d_tp: 11888.0 -d_fp: 19180.0 -d_tn: 42956.0 -d_fn: 19180.0 -d_accuracy: 0.5884296894073486 -d_precision: 0.38264453411102295 -d_recall: 0.38264453411102295 -d_auc: 0.5369833707809448 -d_prc: 0.36214274168014526 -g_loss: 1.1047639 -g_tp: 10690.0 -g_fp: 20378.0 -g_tn: 41758.0 -g_fn: 20378.0 -g_accuracy: 0.5627226 -g_precision: 0.34408394 -g_recall: 0.34408394 -g_auc: 0.50806296 -g_prc: 0.33931684\n",
      "1\n",
      "epoch: 3 -d_loss: 1.0922912 -d_tp: 12261.5 -d_fp: 18806.5 -d_tn: 43329.5 -d_fn: 18806.5 -d_accuracy: 0.5964443683624268 -d_precision: 0.39466655254364014 -d_recall: 0.39466655254364014 -d_auc: 0.5459998846054077 -d_prc: 0.36961179971694946 -g_loss: 1.103691 -g_tp: 10694.0 -g_fp: 20374.0 -g_tn: 41762.0 -g_fn: 20374.0 -g_accuracy: 0.56280845 -g_precision: 0.34421268 -g_recall: 0.34421268 -g_auc: 0.5081595 -g_prc: 0.33938944\n",
      "1\n",
      "epoch: 4 -d_loss: 1.0893998 -d_tp: 12444.0 -d_fp: 18624.0 -d_tn: 43512.0 -d_fn: 18624.0 -d_accuracy: 0.6003605127334595 -d_precision: 0.4005407691001892 -d_recall: 0.4005407691001892 -d_auc: 0.5504055619239807 -d_prc: 0.3733569383621216 -g_loss: 1.1032052 -g_tp: 10854.0 -g_fp: 20214.0 -g_tn: 41922.0 -g_fn: 20214.0 -g_accuracy: 0.5662418 -g_precision: 0.3493627 -g_recall: 0.3493627 -g_auc: 0.512022 -g_prc: 0.34231207\n",
      "1\n",
      "epoch: 5 -d_loss: 1.0847106 -d_tp: 12973.0 -d_fp: 18095.0 -d_tn: 44041.0 -d_fn: 18095.0 -d_accuracy: 0.6117119789123535 -d_precision: 0.4175679087638855 -d_recall: 0.4175679087638855 -d_auc: 0.5631759166717529 -d_prc: 0.3844025731086731 -g_loss: 1.1008234 -g_tp: 11237.0 -g_fp: 19831.0 -g_tn: 42305.0 -g_fn: 19831.0 -g_accuracy: 0.5744603 -g_precision: 0.3616905 -g_recall: 0.3616905 -g_auc: 0.5212679 -g_prc: 0.34945372\n",
      "1\n",
      "epoch: 6 -d_loss: 1.0812376 -d_tp: 13314.0 -d_fp: 17754.0 -d_tn: 44382.0 -d_fn: 17754.0 -d_accuracy: 0.6190292239189148 -d_precision: 0.4285438358783722 -d_recall: 0.4285438358783722 -d_auc: 0.5714078545570374 -d_prc: 0.39176145195961 -g_loss: 1.1003433 -g_tp: 11305.0 -g_fp: 19763.0 -g_tn: 42373.0 -g_fn: 19763.0 -g_accuracy: 0.5759195 -g_precision: 0.36387923 -g_recall: 0.36387923 -g_auc: 0.5229094 -g_prc: 0.35074317\n",
      "1\n",
      "epoch: 7 -d_loss: 1.0769733 -d_tp: 13535.0 -d_fp: 17533.0 -d_tn: 44603.0 -d_fn: 17533.0 -d_accuracy: 0.6237714886665344 -d_precision: 0.435657262802124 -d_recall: 0.435657262802124 -d_auc: 0.576742947101593 -d_prc: 0.39667174220085144 -g_loss: 1.0976181 -g_tp: 11487.0 -g_fp: 19581.0 -g_tn: 42555.0 -g_fn: 19581.0 -g_accuracy: 0.5798249 -g_precision: 0.36973736 -g_recall: 0.36973736 -g_auc: 0.52730304 -g_prc: 0.3542262\n",
      "1\n",
      "epoch: 8 -d_loss: 1.0734711 -d_tp: 13905.5 -d_fp: 17162.5 -d_tn: 44973.5 -d_fn: 17162.5 -d_accuracy: 0.6317218542098999 -d_precision: 0.4475827217102051 -d_recall: 0.4475827217102051 -d_auc: 0.5856870412826538 -d_prc: 0.40499770641326904 -g_loss: 1.0979902 -g_tp: 11570.0 -g_fp: 19498.0 -g_tn: 42638.0 -g_fn: 19498.0 -g_accuracy: 0.5816059 -g_precision: 0.3724089 -g_recall: 0.3724089 -g_auc: 0.52930665 -g_prc: 0.35583\n",
      "1\n",
      "epoch: 9 -d_loss: 1.0695194 -d_tp: 14254.5 -d_fp: 16813.5 -d_tn: 45322.5 -d_fn: 16813.5 -d_accuracy: 0.6392107605934143 -d_precision: 0.45881614089012146 -d_recall: 0.45881614089012146 -d_auc: 0.5941120982170105 -d_prc: 0.41303470730781555 -g_loss: 1.096478 -g_tp: 11842.0 -g_fp: 19226.0 -g_tn: 42910.0 -g_fn: 19226.0 -g_accuracy: 0.5874426 -g_precision: 0.3811639 -g_recall: 0.3811639 -g_auc: 0.5358729 -g_prc: 0.36115357\n",
      "1\n",
      "epoch: 10 -d_loss: 1.0640856 -d_tp: 14583.0 -d_fp: 16485.0 -d_tn: 45651.0 -d_fn: 16485.0 -d_accuracy: 0.6462597846984863 -d_precision: 0.46938973665237427 -d_recall: 0.46938973665237427 -d_auc: 0.6020422577857971 -d_prc: 0.42097413539886475 -g_loss: 1.0953169 -g_tp: 11896.0 -g_fp: 19172.0 -g_tn: 42964.0 -g_fn: 19172.0 -g_accuracy: 0.58860135 -g_precision: 0.38290203 -g_recall: 0.38290203 -g_auc: 0.5371765 -g_prc: 0.3622228\n",
      "1\n",
      "epoch: 11 -d_loss: 1.0630537 -d_tp: 14797.5 -d_fp: 16270.5 -d_tn: 45865.5 -d_fn: 16270.5 -d_accuracy: 0.6508626341819763 -d_precision: 0.4762939214706421 -d_recall: 0.4762939214706421 -d_auc: 0.607220470905304 -d_prc: 0.4259701371192932 -g_loss: 1.0942296 -g_tp: 11996.0 -g_fp: 19072.0 -g_tn: 43064.0 -g_fn: 19072.0 -g_accuracy: 0.5907472 -g_precision: 0.38612077 -g_recall: 0.38612077 -g_auc: 0.5395906 -g_prc: 0.3642136\n",
      "1\n",
      "epoch: 12 -d_loss: 1.058304 -d_tp: 15115.5 -d_fp: 15952.5 -d_tn: 46183.5 -d_fn: 15952.5 -d_accuracy: 0.6576863527297974 -d_precision: 0.48652952909469604 -d_recall: 0.48652952909469604 -d_auc: 0.6148971319198608 -d_prc: 0.4338213801383972 -g_loss: 1.0947943 -g_tp: 11882.0 -g_fp: 19186.0 -g_tn: 42950.0 -g_fn: 19186.0 -g_accuracy: 0.58830094 -g_precision: 0.3824514 -g_recall: 0.3824514 -g_auc: 0.53683853 -g_prc: 0.36194518\n",
      "1\n",
      "epoch: 13 -d_loss: 1.054474 -d_tp: 15482.0 -d_fp: 15586.0 -d_tn: 46550.0 -d_fn: 15586.0 -d_accuracy: 0.6655508279800415 -d_precision: 0.49832624197006226 -d_recall: 0.49832624197006226 -d_auc: 0.6237447261810303 -d_prc: 0.4430844783782959 -g_loss: 1.093348 -g_tp: 12154.0 -g_fp: 18914.0 -g_tn: 43222.0 -g_fn: 18914.0 -g_accuracy: 0.5941376 -g_precision: 0.39120638 -g_recall: 0.39120638 -g_auc: 0.5434048 -g_prc: 0.3673876\n",
      "1\n",
      "epoch: 14 -d_loss: 1.0510366 -d_tp: 15786.5 -d_fp: 15281.5 -d_tn: 46854.5 -d_fn: 15281.5 -d_accuracy: 0.6720849275588989 -d_precision: 0.5081273317337036 -d_recall: 0.5081273317337036 -d_auc: 0.6310955286026001 -d_prc: 0.4509164094924927 -g_loss: 1.091803 -g_tp: 12295.0 -g_fp: 18773.0 -g_tn: 43363.0 -g_fn: 18773.0 -g_accuracy: 0.5971632 -g_precision: 0.39574483 -g_recall: 0.39574483 -g_auc: 0.5468086 -g_prc: 0.37024966\n",
      "1\n",
      "epoch: 15 -d_loss: 1.0465381 -d_tp: 16110.5 -d_fp: 14957.5 -d_tn: 47178.5 -d_fn: 14957.5 -d_accuracy: 0.67903733253479 -d_precision: 0.5185560584068298 -d_recall: 0.5185560584068298 -d_auc: 0.638917088508606 -d_prc: 0.4592268764972687 -g_loss: 1.0903952 -g_tp: 12415.0 -g_fp: 18653.0 -g_tn: 43483.0 -g_fn: 18653.0 -g_accuracy: 0.5997382 -g_precision: 0.3996073 -g_recall: 0.3996073 -g_auc: 0.54970545 -g_prc: 0.37270737\n"
     ]
    },
    {
     "data": {
      "image/png": "[encoded data removed]",
      "text/plain": [
       "<Figure size 432x288 with 1 Axes>"
      ]
     },
     "metadata": {
      "needs_background": "light"
     },
     "output_type": "display_data"
    }
   ],
   "source": [
    "#主函数部分\n",
    "if __name__ == '__main__':\n",
    "    input_dim = X_train.shape[1]\n",
    "    feature_size = X_train.shape[2]\n",
    "    output_dim = y_train.shape[1]\n",
    "    \n",
    "    ## For Bayesian\n",
    "    opt = {\"lr\": 0.00016, \"epoch\": 15, 'bs': 64}\n",
    "\n",
    "    #generator = make_generator_model(X_train.shape[1], output_dim, X_train.shape[2])\n",
    "    generator = make_generator_model()\n",
    "    discriminator = make_discriminator_model()\n",
    "    gan = GAN(generator, discriminator, opt)\n",
    "    Predicted_price, Real_price, RMSPE ,history= gan.train(X_train, y_train, yc_train, opt)\n",
    "\n"
   ]
  },
  {
   "cell_type": "code",
   "execution_count": 42,
   "id": "downtown-weekly",
   "metadata": {},
   "outputs": [
    {
     "data": {
      "text/plain": [
       "dict_keys(['D_losses', 'G_losses', 'per_epoch_times', 'total_ptime', 'D_tp', 'G_tp', 'D_fp', 'G_fp', 'D_tn', 'G_tn', 'D_fn', 'G_fn', 'D_accuracy', 'G_accuracy', 'D_precision', 'G_precision', 'D_recall', 'G_recall', 'D_auc', 'G_auc', 'D_prc', 'G_prc'])"
      ]
     },
     "execution_count": 42,
     "metadata": {},
     "output_type": "execute_result"
    }
   ],
   "source": [
    "history_dict = history\n",
    "history_dict.keys()"
   ]
  },
  {
   "cell_type": "code",
   "execution_count": 43,
   "id": "decimal-guess",
   "metadata": {},
   "outputs": [
    {
     "data": {
      "image/png": "[encoded data removed]",
      "text/plain": [
       "<Figure size 432x288 with 1 Axes>"
      ]
     },
     "metadata": {
      "needs_background": "light"
     },
     "output_type": "display_data"
    }
   ],
   "source": [
    "import matplotlib.pyplot as plt\n",
    "\n",
    "G_acc = history_dict['G_accuracy']\n",
    "D_acc = history_dict['D_accuracy']\n",
    "G_loss = history_dict['G_losses']\n",
    "D_loss = history_dict['D_losses']\n",
    "\n",
    "epochs = range(1, len(G_acc) + 1)\n",
    "\n",
    "# “bo”代表 \"蓝点\"\n",
    "plt.plot(epochs, G_loss, 'bo', label='GAN_Training loss')\n",
    "# b代表“蓝色实线”\n",
    "plt.plot(epochs, D_loss, 'b',  label='Dis_Training loss')\n",
    "plt.title('Gen and Disc Training loss')\n",
    "plt.xlabel('Epochs')\n",
    "plt.ylabel('Loss')\n",
    "plt.legend()\n",
    "\n",
    "plt.show()"
   ]
  },
  {
   "cell_type": "code",
   "execution_count": null,
   "id": "charming-contact",
   "metadata": {},
   "outputs": [],
   "source": []
  },
  {
   "cell_type": "code",
   "execution_count": 44,
   "id": "treated-government",
   "metadata": {},
   "outputs": [
    {
     "data": {
      "text/plain": [
       "(3884, 3, 2)"
      ]
     },
     "execution_count": 44,
     "metadata": {},
     "output_type": "execute_result"
    }
   ],
   "source": [
    "X_test.shape"
   ]
  },
  {
   "cell_type": "markdown",
   "id": "periodic-presence",
   "metadata": {},
   "source": [
    "# 画出ROC出现和其他的指标"
   ]
  },
  {
   "cell_type": "code",
   "execution_count": 45,
   "id": "outstanding-apache",
   "metadata": {},
   "outputs": [
    {
     "name": "stdout",
     "output_type": "stream",
     "text": [
      "WARNING:tensorflow:No training configuration found in the save file, so the model was *not* compiled. Compile it manually.\n"
     ]
    }
   ],
   "source": [
    "# 在测试集上进行测试\n",
    "G_model = tf.keras.models.load_model('./saveModel/gen_model_3_1_14.h5')\n",
    "y_predicted = G_model(X_test)"
   ]
  },
  {
   "cell_type": "code",
   "execution_count": 46,
   "id": "joint-yellow",
   "metadata": {},
   "outputs": [
    {
     "data": {
      "text/plain": [
       "<tf.Tensor: shape=(3884, 3), dtype=float32, numpy=\n",
       "array([[0.33989516, 0.3353859 , 0.32471886],\n",
       "       [0.34026095, 0.33559906, 0.32413995],\n",
       "       [0.34059832, 0.33577678, 0.32362497],\n",
       "       ...,\n",
       "       [0.34216964, 0.33596128, 0.32186905],\n",
       "       [0.34211197, 0.33590525, 0.3219828 ],\n",
       "       [0.34202477, 0.335892  , 0.32208326]], dtype=float32)>"
      ]
     },
     "execution_count": 46,
     "metadata": {},
     "output_type": "execute_result"
    }
   ],
   "source": [
    "y_predicted"
   ]
  },
  {
   "cell_type": "code",
   "execution_count": 47,
   "id": "revolutionary-tenant",
   "metadata": {},
   "outputs": [],
   "source": [
    "import numpy as np\n",
    "import pandas as pd\n",
    "import matplotlib as mpl\n",
    "import matplotlib.pyplot as plt\n",
    "from sklearn.model_selection import train_test_split\n",
    "from sklearn.linear_model import LogisticRegressionCV\n",
    "from sklearn import metrics\n",
    "from sklearn.preprocessing import label_binarize"
   ]
  },
  {
   "cell_type": "code",
   "execution_count": 48,
   "id": "alpha-increase",
   "metadata": {},
   "outputs": [],
   "source": [
    "y_hat = G_model(X_test)"
   ]
  },
  {
   "cell_type": "code",
   "execution_count": 49,
   "id": "musical-petersburg",
   "metadata": {},
   "outputs": [
    {
     "data": {
      "text/plain": [
       "array([[1, 0, 0],\n",
       "       [0, 0, 1],\n",
       "       [1, 0, 0],\n",
       "       ...,\n",
       "       [0, 0, 1],\n",
       "       [1, 0, 0],\n",
       "       [1, 0, 0]])"
      ]
     },
     "execution_count": 49,
     "metadata": {},
     "output_type": "execute_result"
    }
   ],
   "source": [
    "from sklearn.preprocessing import label_binarize\n",
    "y_test"
   ]
  },
  {
   "cell_type": "code",
   "execution_count": 50,
   "id": "engaging-interstate",
   "metadata": {},
   "outputs": [
    {
     "data": {
      "text/plain": [
       "<tf.Tensor: shape=(3884, 3), dtype=float32, numpy=\n",
       "array([[0.33989516, 0.3353859 , 0.32471886],\n",
       "       [0.34026095, 0.33559906, 0.32413995],\n",
       "       [0.34059832, 0.33577678, 0.32362497],\n",
       "       ...,\n",
       "       [0.34216964, 0.33596128, 0.32186905],\n",
       "       [0.34211197, 0.33590525, 0.3219828 ],\n",
       "       [0.34202477, 0.335892  , 0.32208326]], dtype=float32)>"
      ]
     },
     "execution_count": 50,
     "metadata": {},
     "output_type": "execute_result"
    }
   ],
   "source": [
    "y_hat"
   ]
  },
  {
   "cell_type": "code",
   "execution_count": 51,
   "id": "preceding-theater",
   "metadata": {},
   "outputs": [
    {
     "name": "stdout",
     "output_type": "stream",
     "text": [
      "调用函数auc： 0.4881583460254698\n",
      "手动计算auc： 0.4881583460254698\n"
     ]
    },
    {
     "data": {
      "image/png": "[encoded data removed]",
      "text/plain": [
       "<Figure size 432x288 with 1 Axes>"
      ]
     },
     "metadata": {
      "needs_background": "light"
     },
     "output_type": "display_data"
    }
   ],
   "source": [
    "# 计算属于各个类别的概率，返回值的shape = [n_samples, n_classes]\n",
    "y_score = G_model(X_test).numpy()\n",
    "# 1、调用函数计算micro类型的AUC\n",
    "print('调用函数auc：', metrics.roc_auc_score(y_test, y_score, average='micro'))\n",
    "# 2、手动计算micro类型的AUC\n",
    "#首先将矩阵y_one_hot和y_score展开，然后计算假正例率FPR和真正例率TPR\n",
    "fpr, tpr, thresholds = metrics.roc_curve(y_test.ravel(),y_score.ravel())\n",
    "auc = metrics.auc(fpr, tpr)\n",
    "print('手动计算auc：', auc)\n",
    "#绘图\n",
    "mpl.rcParams['font.sans-serif'] = u'SimHei'\n",
    "mpl.rcParams['axes.unicode_minus'] = False\n",
    "#FPR就是横坐标,TPR就是纵坐标\n",
    "plt.plot(fpr, tpr, c = 'r', lw = 2, alpha = 0.7, label = u'AUC=%.3f' % auc)\n",
    "plt.plot((0, 1), (0, 1), c = '#808080', lw = 1, ls = '--', alpha = 0.7)\n",
    "plt.xlim((-0.01, 1.02))\n",
    "plt.ylim((-0.01, 1.02))\n",
    "plt.xticks(np.arange(0, 1.1, 0.1))\n",
    "plt.yticks(np.arange(0, 1.1, 0.1))\n",
    "plt.xlabel('False Positive Rate', fontsize=13)\n",
    "plt.ylabel('True Positive Rate', fontsize=13)\n",
    "plt.grid(b=True, ls=':')\n",
    "plt.legend(loc='lower right', fancybox=True, framealpha=0.8, fontsize=12)\n",
    "plt.title(u'mtj_june数据集分类后的ROC和AUC', fontsize=17)\n",
    "plt.show()"
   ]
  },
  {
   "cell_type": "code",
   "execution_count": 52,
   "id": "motivated-quest",
   "metadata": {},
   "outputs": [
    {
     "data": {
      "image/png": "[encoded data removed]",
      "text/plain": [
       "<Figure size 432x288 with 1 Axes>"
      ]
     },
     "metadata": {
      "needs_background": "light"
     },
     "output_type": "display_data"
    }
   ],
   "source": [
    "from itertools import cycle\n",
    "from sklearn import svm, datasets\n",
    "from sklearn.metrics import roc_curve, auc\n",
    "from sklearn.model_selection import train_test_split\n",
    "from sklearn.preprocessing import label_binarize\n",
    "from sklearn.multiclass import OneVsRestClassifier\n",
    "from scipy import interp\n",
    "# 计算每一类的ROC\n",
    "fpr = dict()\n",
    "tpr = dict()\n",
    "roc_auc = dict()\n",
    "n_classes=3\n",
    "for i in range(n_classes):\n",
    "    fpr[i], tpr[i], _ = roc_curve(y_test[:, i], y_score[:, i])\n",
    "    roc_auc[i] = auc(fpr[i], tpr[i])\n",
    "# Compute micro-average ROC curve and ROC area（方法二）\n",
    "fpr[\"micro\"], tpr[\"micro\"], _ = roc_curve(y_test.ravel(), y_score.ravel())\n",
    "roc_auc[\"micro\"] = auc(fpr[\"micro\"], tpr[\"micro\"])\n",
    "# Compute macro-average ROC curve and ROC area（方法一）\n",
    "# First aggregate all false positive rates\n",
    "all_fpr = np.unique(np.concatenate([fpr[i] for i in range(n_classes)]))\n",
    "# Then interpolate all ROC curves at this points\n",
    "mean_tpr = np.zeros_like(all_fpr)\n",
    "for i in range(n_classes):\n",
    "    mean_tpr += interp(all_fpr, fpr[i], tpr[i])\n",
    "# Finally average it and compute AUC\n",
    "mean_tpr /= n_classes\n",
    "fpr[\"macro\"] = all_fpr\n",
    "tpr[\"macro\"] = mean_tpr\n",
    "roc_auc[\"macro\"] = auc(fpr[\"macro\"], tpr[\"macro\"])\n",
    "\n",
    "# Plot all ROC curves\n",
    "lw=2\n",
    "plt.figure()\n",
    "plt.plot(fpr[\"micro\"], tpr[\"micro\"],\n",
    "         label='micro-average ROC curve (area = {0:0.2f})'\n",
    "               ''.format(roc_auc[\"micro\"]),\n",
    "         color='deeppink', linestyle=':', linewidth=4)\n",
    "\n",
    "plt.plot(fpr[\"macro\"], tpr[\"macro\"],\n",
    "         label='macro-average ROC curve (area = {0:0.2f})'\n",
    "               ''.format(roc_auc[\"macro\"]),\n",
    "         color='navy', linestyle=':', linewidth=4)\n",
    "\n",
    "colors = cycle(['aqua', 'darkorange', 'cornflowerblue'])\n",
    "for i, color in zip(range(n_classes), colors):\n",
    "    plt.plot(fpr[i], tpr[i], color=color, lw=lw,\n",
    "             label='ROC curve of class {0} (area = {1:0.2f})'\n",
    "             ''.format(i, roc_auc[i]))\n",
    "\n",
    "plt.plot([0, 1], [0, 1], 'k--', lw=lw)\n",
    "plt.xlim([0.0, 1.0])\n",
    "plt.ylim([0.0, 1.05])\n",
    "plt.xlabel('False Positive Rate')\n",
    "plt.ylabel('True Positive Rate')\n",
    "plt.title('Some extension of Receiver operating characteristic to multi-class')\n",
    "plt.legend(loc=\"lower right\")\n",
    "plt.show()"
   ]
  },
  {
   "cell_type": "code",
   "execution_count": 53,
   "id": "liked-injection",
   "metadata": {},
   "outputs": [],
   "source": [
    "import numpy\n",
    "data_x = numpy.random.random((5,3))\n",
    "data_y = numpy.random.randint(0,2,size=[5,1])\n"
   ]
  },
  {
   "cell_type": "code",
   "execution_count": 54,
   "id": "chief-comparative",
   "metadata": {},
   "outputs": [
    {
     "data": {
      "text/plain": [
       "array([[0.54624975, 0.31735519, 0.83912409],\n",
       "       [0.32531901, 0.38246311, 0.57467127],\n",
       "       [0.61928536, 0.97587693, 0.81000583],\n",
       "       [0.6988156 , 0.44651808, 0.08230305],\n",
       "       [0.42244766, 0.70344277, 0.64370699]])"
      ]
     },
     "execution_count": 54,
     "metadata": {},
     "output_type": "execute_result"
    }
   ],
   "source": [
    "data_x"
   ]
  },
  {
   "cell_type": "code",
   "execution_count": 34,
   "id": "designing-williams",
   "metadata": {},
   "outputs": [
    {
     "data": {
      "text/plain": [
       "array([[0],\n",
       "       [1],\n",
       "       [0],\n",
       "       [1],\n",
       "       [0]])"
      ]
     },
     "execution_count": 34,
     "metadata": {},
     "output_type": "execute_result"
    }
   ],
   "source": [
    "data_y"
   ]
  },
  {
   "cell_type": "code",
   "execution_count": 35,
   "id": "threaded-facility",
   "metadata": {},
   "outputs": [
    {
     "name": "stdout",
     "output_type": "stream",
     "text": [
      "[[0.0998891  0.07021195 0.74848094 0.        ]\n",
      " [0.37653808 0.67900457 0.41023906 1.        ]\n",
      " [0.81969477 0.06333698 0.7339704  0.        ]\n",
      " [0.79891187 0.81391302 0.84867722 1.        ]\n",
      " [0.18200808 0.5162494  0.27259723 0.        ]]\n"
     ]
    }
   ],
   "source": [
    "print(numpy.hstack((data_x, data_y)))"
   ]
  },
  {
   "cell_type": "code",
   "execution_count": 36,
   "id": "incident-cheat",
   "metadata": {},
   "outputs": [],
   "source": [
    "indices = numpy.random.permutation(data_x.shape[0])\n"
   ]
  },
  {
   "cell_type": "code",
   "execution_count": 37,
   "id": "quantitative-manual",
   "metadata": {},
   "outputs": [
    {
     "data": {
      "text/plain": [
       "array([1, 3, 0, 2, 4])"
      ]
     },
     "execution_count": 37,
     "metadata": {},
     "output_type": "execute_result"
    }
   ],
   "source": [
    "indices"
   ]
  },
  {
   "cell_type": "code",
   "execution_count": 38,
   "id": "numeric-sessions",
   "metadata": {},
   "outputs": [],
   "source": [
    "# indices = numpy.random.permutation(len(data_x))\n",
    "rand_data_x = data_x[indices]"
   ]
  },
  {
   "cell_type": "code",
   "execution_count": 39,
   "id": "enabling-event",
   "metadata": {},
   "outputs": [
    {
     "data": {
      "text/plain": [
       "array([[0.37653808, 0.67900457, 0.41023906],\n",
       "       [0.79891187, 0.81391302, 0.84867722],\n",
       "       [0.0998891 , 0.07021195, 0.74848094],\n",
       "       [0.81969477, 0.06333698, 0.7339704 ],\n",
       "       [0.18200808, 0.5162494 , 0.27259723]])"
      ]
     },
     "execution_count": 39,
     "metadata": {},
     "output_type": "execute_result"
    }
   ],
   "source": [
    "rand_data_x"
   ]
  },
  {
   "cell_type": "code",
   "execution_count": 86,
   "id": "clean-application",
   "metadata": {},
   "outputs": [],
   "source": [
    "rand_data_y = data_y[indices]"
   ]
  },
  {
   "cell_type": "code",
   "execution_count": 87,
   "id": "oriented-partnership",
   "metadata": {},
   "outputs": [
    {
     "data": {
      "text/plain": [
       "array([[0],\n",
       "       [0],\n",
       "       [1],\n",
       "       [1],\n",
       "       [0]])"
      ]
     },
     "execution_count": 87,
     "metadata": {},
     "output_type": "execute_result"
    }
   ],
   "source": [
    "rand_data_y"
   ]
  },
  {
   "cell_type": "code",
   "execution_count": null,
   "id": "square-campaign",
   "metadata": {},
   "outputs": [],
   "source": []
  },
  {
   "cell_type": "code",
   "execution_count": 88,
   "id": "forty-chester",
   "metadata": {},
   "outputs": [
    {
     "name": "stdout",
     "output_type": "stream",
     "text": [
      "[[0.08893858 0.15690597 0.56254716 0.        ]\n",
      " [0.64190412 0.3563847  0.0901343  0.        ]\n",
      " [0.35677336 0.9858885  0.50666205 1.        ]\n",
      " [0.32643577 0.27396293 0.27385606 1.        ]\n",
      " [0.20656237 0.90162999 0.74541084 0.        ]]\n"
     ]
    }
   ],
   "source": [
    "\n",
    "\n",
    "print(numpy.hstack((rand_data_x, rand_data_y)))\n"
   ]
  },
  {
   "cell_type": "code",
   "execution_count": null,
   "id": "global-swing",
   "metadata": {},
   "outputs": [],
   "source": []
  },
  {
   "cell_type": "code",
   "execution_count": null,
   "id": "protected-thermal",
   "metadata": {},
   "outputs": [],
   "source": []
  },
  {
   "cell_type": "markdown",
   "id": "fitted-medicare",
   "metadata": {},
   "source": [
    "# 至此，GAN模型训练完毕，训练好的模型保存在 /savemodel/gen_model_*_.h5\n",
    "# 在测试集上进行测试，请转至第四部分"
   ]
  },
  {
   "cell_type": "code",
   "execution_count": null,
   "id": "preceding-munich",
   "metadata": {},
   "outputs": [],
   "source": []
  }
 ],
 "metadata": {
  "kernelspec": {
   "display_name": "Python 3",
   "language": "python",
   "name": "python3"
  },
  "language_info": {
   "codemirror_mode": {
    "name": "ipython",
    "version": 3
   },
   "file_extension": ".py",
   "mimetype": "text/x-python",
   "name": "python",
   "nbconvert_exporter": "python",
   "pygments_lexer": "ipython3",
   "version": "3.8.8"
  }
 },
 "nbformat": 4,
 "nbformat_minor": 5
}
